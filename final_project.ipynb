{
 "cells": [
  {
   "cell_type": "markdown",
   "metadata": {},
   "source": [
    "# Прогнозирование оттока клиентов"
   ]
  },
  {
   "cell_type": "markdown",
   "metadata": {},
   "source": [
    "## Описание проекта"
   ]
  },
  {
   "cell_type": "markdown",
   "metadata": {},
   "source": [
    "Оператор связи «Ниединогоразрыва.ком» хочет научиться прогнозировать отток клиентов. Если выяснится, что пользователь планирует уйти, ему будут предложены промокоды и специальные условия. Команда оператора собрала персональные данные о некоторых клиентах, информацию об их тарифах и договорах.\n",
    "\n",
    "Информация о договорах актуальна на *1 февраля 2020*.    \n",
    "- Основная метрика для проверки качества модели: `roc_auc`  \n",
    "- Дополнительная метрика: `accuracy`  \n",
    "  \n",
    "### Описание Услуг\n",
    "1) Стационарная телефонная связь. Возможно подключение телефонного аппарата к нескольким линиям одновременно.  \n",
    "2) Интернет. Подключение может быть двух типов: через телефонную линию DSL или оптоволоконный кабель Fiber optic.  \n",
    "\n",
    "**Дополнительные услуги:**  \n",
    "- Интернет-безопасность: антивирус (*DeviceProtection*) и блокировка небезопасных сайтов (*OnlineSecurity*);\n",
    "- Выделенная линия технической поддержки (*TechSupport*);\n",
    "- Облачное хранилище файлов для резервного копирования данных (*OnlineBackup*);\n",
    "- Стриминговое телевидение (*StreamingTV*) и каталог фильмов (*StreamingMovies*)."
   ]
  },
  {
   "cell_type": "markdown",
   "metadata": {},
   "source": [
    "### Описание данных\n",
    "Данные состоят из файлов, полученных из разных источников:\n",
    "- `contract.csv` — информация о договоре;\n",
    "- `personal.csv` — персональные данные клиента;\n",
    "- `internet.csv` — информация об интернет-услугах;\n",
    "- `phone.csv` — информация об услугах телефонии."
   ]
  },
  {
   "cell_type": "markdown",
   "metadata": {},
   "source": [
    "###  исследовательский анализ данных"
   ]
  },
  {
   "cell_type": "code",
   "execution_count": 1,
   "metadata": {},
   "outputs": [
    {
     "name": "stdout",
     "output_type": "stream",
     "text": [
      "Note: you may need to restart the kernel to use updated packages.\n"
     ]
    }
   ],
   "source": [
    "pip install phik -q\n"
   ]
  },
  {
   "cell_type": "code",
   "execution_count": 2,
   "metadata": {},
   "outputs": [
    {
     "name": "stdout",
     "output_type": "stream",
     "text": [
      "Note: you may need to restart the kernel to use updated packages.\n"
     ]
    }
   ],
   "source": [
    "pip install optuna -q"
   ]
  },
  {
   "cell_type": "code",
   "execution_count": 3,
   "metadata": {},
   "outputs": [],
   "source": [
    "import pandas as pd \n",
    "import numpy as np\n",
    "\n",
    "import datetime\n",
    "from sklearn.model_selection import (train_test_split,\n",
    "                                     GridSearchCV,\n",
    "                                     cross_val_score,\n",
    "                                     cross_validate,\n",
    "                                     RandomizedSearchCV,\n",
    "                                     StratifiedKFold\n",
    "                                    )\n",
    "import seaborn as sns\n",
    "\n",
    "import phik\n",
    "\n",
    "from phik import resources, report\n",
    "from phik.binning import bin_data\n",
    "from phik.report import plot_correlation_matrix\n",
    "\n",
    "import os\n",
    "import seaborn as sns\n",
    "import time\n",
    "import xgboost as xgb\n",
    "import catboost as cb\n",
    "import lightgbm as lgb\n",
    "import optuna\n",
    "from sklearn.dummy import DummyClassifier\n",
    "from catboost.utils import (get_roc_curve,\n",
    "                            get_confusion_matrix\n",
    "                           )\n",
    "from optuna.integration import (CatBoostPruningCallback,\n",
    "                                LightGBMPruningCallback\n",
    "                                )\n",
    "\n",
    "from sklearn.model_selection import StratifiedKFold\n",
    "from sklearn.preprocessing import OneHotEncoder\n",
    "from sklearn.ensemble import RandomForestClassifier\n",
    "from sklearn.metrics import roc_auc_score, accuracy_score, make_scorer, auc\n",
    "\n",
    "\n",
    "\n",
    "\n",
    "import warnings \n",
    "warnings.simplefilter(action='ignore', category=FutureWarning)\n",
    "\n",
    "import matplotlib.pyplot as plt\n",
    "import math\n",
    "from sklearn.pipeline import Pipeline\n",
    "\n",
    "from sklearn.tree import DecisionTreeClassifier\n",
    "from sklearn.dummy import DummyClassifier\n",
    "from sklearn.metrics import roc_curve #график auc_roc\n",
    "from sklearn.utils import shuffle #перемешивание при семплировании \n",
    "\n",
    "from sklearn.preprocessing import StandardScaler #масштабирование количественных признаков\n",
    "pd.options.mode.chained_assignment = None\n",
    "\n",
    "from sklearn.tree import DecisionTreeClassifier #дерево решений \n",
    "from sklearn.ensemble import RandomForestClassifier #случайный лес\n",
    "from sklearn.metrics import confusion_matrix\n",
    "from catboost import CatBoostClassifier\n",
    "\n",
    "import optuna\n",
    "from optuna.integration import OptunaSearchCV\n",
    "\n",
    "from sklearn.metrics import (\n",
    "    accuracy_score,\n",
    "    roc_auc_score,\n",
    "    f1_score,\n",
    "    precision_score,\n",
    "    recall_score,\n",
    "    RocCurveDisplay,\n",
    "    ConfusionMatrixDisplay,\n",
    ")"
   ]
  },
  {
   "cell_type": "code",
   "execution_count": 4,
   "metadata": {},
   "outputs": [],
   "source": [
    "RANDOM_STATE = 170723"
   ]
  },
  {
   "cell_type": "markdown",
   "metadata": {},
   "source": [
    "#### Загружаем данные"
   ]
  },
  {
   "cell_type": "code",
   "execution_count": 5,
   "metadata": {},
   "outputs": [],
   "source": [
    "contract = pd.read_csv(\"/datasets/contract_new.csv\")\n",
    "client = pd.read_csv(\"/datasets/personal_new.csv\")\n",
    "internet = pd.read_csv(\"/datasets/internet_new.csv\")\n",
    "phone = pd.read_csv(\"/datasets/phone_new.csv\")"
   ]
  },
  {
   "cell_type": "markdown",
   "metadata": {},
   "source": [
    "#### Посмотрим что из себя представляют данные по контрактам"
   ]
  },
  {
   "cell_type": "code",
   "execution_count": 6,
   "metadata": {},
   "outputs": [
    {
     "data": {
      "text/html": [
       "<div>\n",
       "<style scoped>\n",
       "    .dataframe tbody tr th:only-of-type {\n",
       "        vertical-align: middle;\n",
       "    }\n",
       "\n",
       "    .dataframe tbody tr th {\n",
       "        vertical-align: top;\n",
       "    }\n",
       "\n",
       "    .dataframe thead th {\n",
       "        text-align: right;\n",
       "    }\n",
       "</style>\n",
       "<table border=\"1\" class=\"dataframe\">\n",
       "  <thead>\n",
       "    <tr style=\"text-align: right;\">\n",
       "      <th></th>\n",
       "      <th>customerID</th>\n",
       "      <th>BeginDate</th>\n",
       "      <th>EndDate</th>\n",
       "      <th>Type</th>\n",
       "      <th>PaperlessBilling</th>\n",
       "      <th>PaymentMethod</th>\n",
       "      <th>MonthlyCharges</th>\n",
       "      <th>TotalCharges</th>\n",
       "    </tr>\n",
       "  </thead>\n",
       "  <tbody>\n",
       "    <tr>\n",
       "      <th>0</th>\n",
       "      <td>7590-VHVEG</td>\n",
       "      <td>2020-01-01</td>\n",
       "      <td>No</td>\n",
       "      <td>Month-to-month</td>\n",
       "      <td>Yes</td>\n",
       "      <td>Electronic check</td>\n",
       "      <td>29.85</td>\n",
       "      <td>31.04</td>\n",
       "    </tr>\n",
       "    <tr>\n",
       "      <th>1</th>\n",
       "      <td>5575-GNVDE</td>\n",
       "      <td>2017-04-01</td>\n",
       "      <td>No</td>\n",
       "      <td>One year</td>\n",
       "      <td>No</td>\n",
       "      <td>Mailed check</td>\n",
       "      <td>56.95</td>\n",
       "      <td>2071.84</td>\n",
       "    </tr>\n",
       "    <tr>\n",
       "      <th>2</th>\n",
       "      <td>3668-QPYBK</td>\n",
       "      <td>2019-10-01</td>\n",
       "      <td>No</td>\n",
       "      <td>Month-to-month</td>\n",
       "      <td>Yes</td>\n",
       "      <td>Mailed check</td>\n",
       "      <td>53.85</td>\n",
       "      <td>226.17</td>\n",
       "    </tr>\n",
       "    <tr>\n",
       "      <th>3</th>\n",
       "      <td>7795-CFOCW</td>\n",
       "      <td>2016-05-01</td>\n",
       "      <td>No</td>\n",
       "      <td>One year</td>\n",
       "      <td>No</td>\n",
       "      <td>Bank transfer (automatic)</td>\n",
       "      <td>42.30</td>\n",
       "      <td>1960.6</td>\n",
       "    </tr>\n",
       "    <tr>\n",
       "      <th>4</th>\n",
       "      <td>9237-HQITU</td>\n",
       "      <td>2019-09-01</td>\n",
       "      <td>No</td>\n",
       "      <td>Month-to-month</td>\n",
       "      <td>Yes</td>\n",
       "      <td>Electronic check</td>\n",
       "      <td>70.70</td>\n",
       "      <td>353.5</td>\n",
       "    </tr>\n",
       "  </tbody>\n",
       "</table>\n",
       "</div>"
      ],
      "text/plain": [
       "   customerID   BeginDate EndDate            Type PaperlessBilling  \\\n",
       "0  7590-VHVEG  2020-01-01      No  Month-to-month              Yes   \n",
       "1  5575-GNVDE  2017-04-01      No        One year               No   \n",
       "2  3668-QPYBK  2019-10-01      No  Month-to-month              Yes   \n",
       "3  7795-CFOCW  2016-05-01      No        One year               No   \n",
       "4  9237-HQITU  2019-09-01      No  Month-to-month              Yes   \n",
       "\n",
       "               PaymentMethod  MonthlyCharges TotalCharges  \n",
       "0           Electronic check           29.85        31.04  \n",
       "1               Mailed check           56.95      2071.84  \n",
       "2               Mailed check           53.85       226.17  \n",
       "3  Bank transfer (automatic)           42.30       1960.6  \n",
       "4           Electronic check           70.70        353.5  "
      ]
     },
     "execution_count": 6,
     "metadata": {},
     "output_type": "execute_result"
    }
   ],
   "source": [
    "contract.head()\n"
   ]
  },
  {
   "cell_type": "code",
   "execution_count": 7,
   "metadata": {},
   "outputs": [
    {
     "data": {
      "text/html": [
       "<div>\n",
       "<style scoped>\n",
       "    .dataframe tbody tr th:only-of-type {\n",
       "        vertical-align: middle;\n",
       "    }\n",
       "\n",
       "    .dataframe tbody tr th {\n",
       "        vertical-align: top;\n",
       "    }\n",
       "\n",
       "    .dataframe thead th {\n",
       "        text-align: right;\n",
       "    }\n",
       "</style>\n",
       "<table border=\"1\" class=\"dataframe\">\n",
       "  <thead>\n",
       "    <tr style=\"text-align: right;\">\n",
       "      <th></th>\n",
       "      <th>MonthlyCharges</th>\n",
       "    </tr>\n",
       "  </thead>\n",
       "  <tbody>\n",
       "    <tr>\n",
       "      <th>count</th>\n",
       "      <td>7043.000000</td>\n",
       "    </tr>\n",
       "    <tr>\n",
       "      <th>mean</th>\n",
       "      <td>64.761692</td>\n",
       "    </tr>\n",
       "    <tr>\n",
       "      <th>std</th>\n",
       "      <td>30.090047</td>\n",
       "    </tr>\n",
       "    <tr>\n",
       "      <th>min</th>\n",
       "      <td>18.250000</td>\n",
       "    </tr>\n",
       "    <tr>\n",
       "      <th>25%</th>\n",
       "      <td>35.500000</td>\n",
       "    </tr>\n",
       "    <tr>\n",
       "      <th>50%</th>\n",
       "      <td>70.350000</td>\n",
       "    </tr>\n",
       "    <tr>\n",
       "      <th>75%</th>\n",
       "      <td>89.850000</td>\n",
       "    </tr>\n",
       "    <tr>\n",
       "      <th>max</th>\n",
       "      <td>118.750000</td>\n",
       "    </tr>\n",
       "  </tbody>\n",
       "</table>\n",
       "</div>"
      ],
      "text/plain": [
       "       MonthlyCharges\n",
       "count     7043.000000\n",
       "mean        64.761692\n",
       "std         30.090047\n",
       "min         18.250000\n",
       "25%         35.500000\n",
       "50%         70.350000\n",
       "75%         89.850000\n",
       "max        118.750000"
      ]
     },
     "execution_count": 7,
     "metadata": {},
     "output_type": "execute_result"
    }
   ],
   "source": [
    "contract.describe()\n"
   ]
  },
  {
   "cell_type": "code",
   "execution_count": 8,
   "metadata": {},
   "outputs": [
    {
     "name": "stdout",
     "output_type": "stream",
     "text": [
      "<class 'pandas.core.frame.DataFrame'>\n",
      "RangeIndex: 7043 entries, 0 to 7042\n",
      "Data columns (total 8 columns):\n",
      " #   Column            Non-Null Count  Dtype  \n",
      "---  ------            --------------  -----  \n",
      " 0   customerID        7043 non-null   object \n",
      " 1   BeginDate         7043 non-null   object \n",
      " 2   EndDate           7043 non-null   object \n",
      " 3   Type              7043 non-null   object \n",
      " 4   PaperlessBilling  7043 non-null   object \n",
      " 5   PaymentMethod     7043 non-null   object \n",
      " 6   MonthlyCharges    7043 non-null   float64\n",
      " 7   TotalCharges      7043 non-null   object \n",
      "dtypes: float64(1), object(7)\n",
      "memory usage: 440.3+ KB\n",
      "None\n"
     ]
    },
    {
     "data": {
      "text/plain": [
       "customerID          0\n",
       "BeginDate           0\n",
       "EndDate             0\n",
       "Type                0\n",
       "PaperlessBilling    0\n",
       "PaymentMethod       0\n",
       "MonthlyCharges      0\n",
       "TotalCharges        0\n",
       "dtype: int64"
      ]
     },
     "execution_count": 8,
     "metadata": {},
     "output_type": "execute_result"
    }
   ],
   "source": [
    "print(contract.info())\n",
    "contract.duplicated().sum()\n",
    "pd.isnull(contract).sum()"
   ]
  },
  {
   "cell_type": "markdown",
   "metadata": {},
   "source": [
    "Среди данных дата начала и окончания действия контракта, тип контракта, \"безбумажное\" выставление счетов, способ платежа, ежемесячный платеж и общий платеж. Нет дубликатов и нет пропусков"
   ]
  },
  {
   "cell_type": "code",
   "execution_count": 9,
   "metadata": {
    "scrolled": true
   },
   "outputs": [
    {
     "data": {
      "image/png": "[encoded data removed]",
      "text/plain": [
       "<Figure size 432x288 with 1 Axes>"
      ]
     },
     "metadata": {
      "needs_background": "light"
     },
     "output_type": "display_data"
    }
   ],
   "source": [
    "# Гистограмма для MonthlyCharges\n",
    "plt.hist(contract['MonthlyCharges'], bins=40)\n",
    "plt.xlabel('Ежемесячные расходы')\n",
    "plt.ylabel('Количество')\n",
    "plt.title('Ежемесячные расходы по пользователям')\n",
    "\n",
    "plt.show()\n",
    "\n",
    "\n"
   ]
  },
  {
   "cell_type": "markdown",
   "metadata": {},
   "source": [
    "Абонентская плата большинства пользователей - минимальная - 20$. Шанс, что они откажутся от услуг выше. "
   ]
  },
  {
   "cell_type": "code",
   "execution_count": 10,
   "metadata": {},
   "outputs": [
    {
     "data": {
      "image/png": "[encoded data removed]",
      "text/plain": [
       "<Figure size 432x288 with 1 Axes>"
      ]
     },
     "metadata": {
      "needs_background": "light"
     },
     "output_type": "display_data"
    }
   ],
   "source": [
    "#Избавляемся пользователей, которые были подключены в день выгрузки базы и не сделали оплаты - по ним модель едва ли чему-то научится\n",
    "contract = contract.loc[contract['TotalCharges'] != ' ']\n",
    "contract['TotalCharges'] = contract['TotalCharges'].astype('float64')\n",
    "\n",
    "\n",
    "# Гистограмма для TotalCharges\n",
    "plt.hist(contract['TotalCharges'], bins=20)\n",
    "plt.xlabel('Совокупные расходы')\n",
    "plt.ylabel('Количество')\n",
    "plt.title('Сововокупные расходы по пользователям')\n",
    "plt.show()"
   ]
  },
  {
   "cell_type": "markdown",
   "metadata": {},
   "source": [
    "<div class=\"alert alert-warning\">\n",
    "<h3> Комментарий тимлида (план)<a class=\"tocSkip\"> </h3>\n",
    "    \n",
    "<b>Некоторые замечания и рекомендации💡:</b> EndDate и TotalCharges находятся в ненадлежащем формате данных, что делает подписи значений на графиках нечитаемымы. Прежде чем строить графики, необходимо разобраться с типами данных."
   ]
  },
  {
   "cell_type": "markdown",
   "metadata": {},
   "source": [
    "<div class=\"alert alert-success\">\n",
    "<h3> Комментарий тимлида (план) 2<a class=\"tocSkip\"> </h3>\n",
    "\n",
    "<b>Отличная работа!👍:</b> 😉"
   ]
  },
  {
   "cell_type": "code",
   "execution_count": 11,
   "metadata": {},
   "outputs": [],
   "source": [
    "# Гистограмма для End Date\n",
    "\n",
    "#plt.hist(contract['EndDate'], bins=20)\n",
    "#plt.xlabel('Совокупные расходы')\n",
    "#plt.ylabel('Количество')\n",
    "#plt.show()"
   ]
  },
  {
   "cell_type": "code",
   "execution_count": 12,
   "metadata": {},
   "outputs": [
    {
     "data": {
      "image/png": "[encoded data removed]",
      "text/plain": [
       "<Figure size 432x288 with 1 Axes>"
      ]
     },
     "metadata": {
      "needs_background": "light"
     },
     "output_type": "display_data"
    }
   ],
   "source": [
    "# Столбчатая диаграмма для Type с числовыми показателями\n",
    "ax = contract['Type'].value_counts().plot(kind='bar')\n",
    "plt.xlabel('Тип контракта')\n",
    "plt.ylabel('Количество')\n",
    "plt.title('Тип контракта по пользователям')\n",
    "\n",
    "\n",
    "# Добавляем числовые показатели над каждым столбцом\n",
    "for i in ax.patches:\n",
    "    ax.text(i.get_x()+0.2, i.get_height()+10, str(round(i.get_height(), 2)), fontsize=10)\n",
    "\n",
    "plt.show()"
   ]
  },
  {
   "cell_type": "markdown",
   "metadata": {},
   "source": [
    "Почти 4 тысячи клиентов предпочитают ежемесячную оплату счетов. Более 1600 клиентов имеют двухлетний контракт и почти 1500 - однолетний. Шанс того, что люди на долгосрочном контракте уйдут - меньше, что стоит учитывать."
   ]
  },
  {
   "cell_type": "code",
   "execution_count": 13,
   "metadata": {},
   "outputs": [
    {
     "data": {
      "image/png": "[encoded data removed]",
      "text/plain": [
       "<Figure size 432x288 with 1 Axes>"
      ]
     },
     "metadata": {
      "needs_background": "light"
     },
     "output_type": "display_data"
    },
    {
     "data": {
      "image/png": "[encoded data removed]",
      "text/plain": [
       "<Figure size 432x288 with 1 Axes>"
      ]
     },
     "metadata": {
      "needs_background": "light"
     },
     "output_type": "display_data"
    }
   ],
   "source": [
    "# Столбчатая диаграмма для PaperlessBilling\n",
    "contract['PaperlessBilling'].value_counts().plot(kind='bar')\n",
    "plt.xlabel('Безбумажное выставление счетов')\n",
    "plt.ylabel('Количество')\n",
    "plt.title('Выставлять ли счет онлайн?')\n",
    "\n",
    "plt.show()\n",
    "\n",
    "# Столбчатая диаграмма для PaymentMethod\n",
    "contract['PaymentMethod'].value_counts().plot(kind='bar')\n",
    "plt.xlabel('Способ оплаты')\n",
    "plt.ylabel('Количество')\n",
    "plt.title('Способ оплаты')\n",
    "\n",
    "plt.show()"
   ]
  },
  {
   "cell_type": "markdown",
   "metadata": {},
   "source": [
    "Большинство пользователей предпочитает безбумажный счет и оплату электронным чеком. остальные средства оплаты распределены равномерно. Нам важно, чтобы автоматические способы оплаты были более распространены."
   ]
  },
  {
   "cell_type": "markdown",
   "metadata": {},
   "source": [
    "#### Посмотрим что из себя представляют данные по клиентам"
   ]
  },
  {
   "cell_type": "code",
   "execution_count": 14,
   "metadata": {},
   "outputs": [
    {
     "data": {
      "text/html": [
       "<div>\n",
       "<style scoped>\n",
       "    .dataframe tbody tr th:only-of-type {\n",
       "        vertical-align: middle;\n",
       "    }\n",
       "\n",
       "    .dataframe tbody tr th {\n",
       "        vertical-align: top;\n",
       "    }\n",
       "\n",
       "    .dataframe thead th {\n",
       "        text-align: right;\n",
       "    }\n",
       "</style>\n",
       "<table border=\"1\" class=\"dataframe\">\n",
       "  <thead>\n",
       "    <tr style=\"text-align: right;\">\n",
       "      <th></th>\n",
       "      <th>customerID</th>\n",
       "      <th>gender</th>\n",
       "      <th>SeniorCitizen</th>\n",
       "      <th>Partner</th>\n",
       "      <th>Dependents</th>\n",
       "    </tr>\n",
       "  </thead>\n",
       "  <tbody>\n",
       "    <tr>\n",
       "      <th>0</th>\n",
       "      <td>7590-VHVEG</td>\n",
       "      <td>Female</td>\n",
       "      <td>0</td>\n",
       "      <td>Yes</td>\n",
       "      <td>No</td>\n",
       "    </tr>\n",
       "    <tr>\n",
       "      <th>1</th>\n",
       "      <td>5575-GNVDE</td>\n",
       "      <td>Male</td>\n",
       "      <td>0</td>\n",
       "      <td>No</td>\n",
       "      <td>No</td>\n",
       "    </tr>\n",
       "    <tr>\n",
       "      <th>2</th>\n",
       "      <td>3668-QPYBK</td>\n",
       "      <td>Male</td>\n",
       "      <td>0</td>\n",
       "      <td>No</td>\n",
       "      <td>No</td>\n",
       "    </tr>\n",
       "    <tr>\n",
       "      <th>3</th>\n",
       "      <td>7795-CFOCW</td>\n",
       "      <td>Male</td>\n",
       "      <td>0</td>\n",
       "      <td>No</td>\n",
       "      <td>No</td>\n",
       "    </tr>\n",
       "    <tr>\n",
       "      <th>4</th>\n",
       "      <td>9237-HQITU</td>\n",
       "      <td>Female</td>\n",
       "      <td>0</td>\n",
       "      <td>No</td>\n",
       "      <td>No</td>\n",
       "    </tr>\n",
       "  </tbody>\n",
       "</table>\n",
       "</div>"
      ],
      "text/plain": [
       "   customerID  gender  SeniorCitizen Partner Dependents\n",
       "0  7590-VHVEG  Female              0     Yes         No\n",
       "1  5575-GNVDE    Male              0      No         No\n",
       "2  3668-QPYBK    Male              0      No         No\n",
       "3  7795-CFOCW    Male              0      No         No\n",
       "4  9237-HQITU  Female              0      No         No"
      ]
     },
     "execution_count": 14,
     "metadata": {},
     "output_type": "execute_result"
    }
   ],
   "source": [
    "client.head()"
   ]
  },
  {
   "cell_type": "code",
   "execution_count": 15,
   "metadata": {},
   "outputs": [
    {
     "data": {
      "text/html": [
       "<div>\n",
       "<style scoped>\n",
       "    .dataframe tbody tr th:only-of-type {\n",
       "        vertical-align: middle;\n",
       "    }\n",
       "\n",
       "    .dataframe tbody tr th {\n",
       "        vertical-align: top;\n",
       "    }\n",
       "\n",
       "    .dataframe thead th {\n",
       "        text-align: right;\n",
       "    }\n",
       "</style>\n",
       "<table border=\"1\" class=\"dataframe\">\n",
       "  <thead>\n",
       "    <tr style=\"text-align: right;\">\n",
       "      <th></th>\n",
       "      <th>SeniorCitizen</th>\n",
       "    </tr>\n",
       "  </thead>\n",
       "  <tbody>\n",
       "    <tr>\n",
       "      <th>count</th>\n",
       "      <td>7043.000000</td>\n",
       "    </tr>\n",
       "    <tr>\n",
       "      <th>mean</th>\n",
       "      <td>0.162147</td>\n",
       "    </tr>\n",
       "    <tr>\n",
       "      <th>std</th>\n",
       "      <td>0.368612</td>\n",
       "    </tr>\n",
       "    <tr>\n",
       "      <th>min</th>\n",
       "      <td>0.000000</td>\n",
       "    </tr>\n",
       "    <tr>\n",
       "      <th>25%</th>\n",
       "      <td>0.000000</td>\n",
       "    </tr>\n",
       "    <tr>\n",
       "      <th>50%</th>\n",
       "      <td>0.000000</td>\n",
       "    </tr>\n",
       "    <tr>\n",
       "      <th>75%</th>\n",
       "      <td>0.000000</td>\n",
       "    </tr>\n",
       "    <tr>\n",
       "      <th>max</th>\n",
       "      <td>1.000000</td>\n",
       "    </tr>\n",
       "  </tbody>\n",
       "</table>\n",
       "</div>"
      ],
      "text/plain": [
       "       SeniorCitizen\n",
       "count    7043.000000\n",
       "mean        0.162147\n",
       "std         0.368612\n",
       "min         0.000000\n",
       "25%         0.000000\n",
       "50%         0.000000\n",
       "75%         0.000000\n",
       "max         1.000000"
      ]
     },
     "execution_count": 15,
     "metadata": {},
     "output_type": "execute_result"
    }
   ],
   "source": [
    "client.describe()"
   ]
  },
  {
   "cell_type": "code",
   "execution_count": 16,
   "metadata": {},
   "outputs": [
    {
     "name": "stdout",
     "output_type": "stream",
     "text": [
      "<class 'pandas.core.frame.DataFrame'>\n",
      "RangeIndex: 7043 entries, 0 to 7042\n",
      "Data columns (total 5 columns):\n",
      " #   Column         Non-Null Count  Dtype \n",
      "---  ------         --------------  ----- \n",
      " 0   customerID     7043 non-null   object\n",
      " 1   gender         7043 non-null   object\n",
      " 2   SeniorCitizen  7043 non-null   int64 \n",
      " 3   Partner        7043 non-null   object\n",
      " 4   Dependents     7043 non-null   object\n",
      "dtypes: int64(1), object(4)\n",
      "memory usage: 275.2+ KB\n",
      "None\n"
     ]
    },
    {
     "data": {
      "text/plain": [
       "0"
      ]
     },
     "execution_count": 16,
     "metadata": {},
     "output_type": "execute_result"
    }
   ],
   "source": [
    "print(client.info())\n",
    "client.duplicated().sum()"
   ]
  },
  {
   "cell_type": "markdown",
   "metadata": {},
   "source": [
    "В таблице у нас есть пол, является ли пользователь пожилым, есть ли супруг и зависимые субъекты (дети, вероятно). Дубликатов нет."
   ]
  },
  {
   "cell_type": "code",
   "execution_count": 17,
   "metadata": {
    "scrolled": true
   },
   "outputs": [
    {
     "data": {
      "image/png": "[encoded data removed]",
      "text/plain": [
       "<Figure size 720x360 with 2 Axes>"
      ]
     },
     "metadata": {},
     "output_type": "display_data"
    },
    {
     "data": {
      "image/png": "[encoded data removed]",
      "text/plain": [
       "<Figure size 720x360 with 2 Axes>"
      ]
     },
     "metadata": {},
     "output_type": "display_data"
    }
   ],
   "source": [
    "# Создаем два столбца и располагаем в них круговые диаграммы\n",
    "fig, axs = plt.subplots(nrows=1, ncols=2, figsize=(10, 5))\n",
    "\n",
    "#Круговая диаграмма для gender\n",
    "client['gender'].value_counts().plot(kind='pie', autopct='%1.1f%%', ax=axs[0])\n",
    "axs[0].axis('equal')\n",
    "axs[0].set_title('Gender')\n",
    "\n",
    "#Круговая диаграмма для SeniorCitizen\n",
    "client['SeniorCitizen'].value_counts().plot(kind='pie', autopct='%1.1f%%', ax=axs[1])\n",
    "axs[1].axis('equal')\n",
    "axs[1].set_title('Senior Citizen')\n",
    "\n",
    "plt.show()\n",
    "\n",
    "#Создаем два столбца и располагаем в них круговые диаграммы\n",
    "fig, axs = plt.subplots(nrows=1, ncols=2, figsize=(10, 5))\n",
    "\n",
    "# Круговая диаграмма для Partner\n",
    "client['Partner'].value_counts().plot(kind='pie', autopct='%1.1f%%', ax=axs[0])\n",
    "axs[0].axis('equal')\n",
    "axs[0].set_title('Partner')\n",
    "\n",
    "# Круговая диаграмма для Dependents\n",
    "client['Dependents'].value_counts().plot(kind='pie', autopct='%1.1f%%', ax=axs[1])\n",
    "axs[1].axis('equal')\n",
    "axs[1].set_title('Dependents')\n",
    "\n",
    "plt.show()"
   ]
  },
  {
   "cell_type": "markdown",
   "metadata": {},
   "source": [
    "Распределение пола почти равномерное. Среди возрастных пользователей, 1, вероятно, значит, что пользователь относится к этой группе и таких пользователей чуть больше 16%.\n",
    "Женатых чуть больше, не имеющих зависимых - 70%"
   ]
  },
  {
   "cell_type": "markdown",
   "metadata": {},
   "source": [
    "#### Посмотрим что из себя представляют данные по использованию интернета"
   ]
  },
  {
   "cell_type": "code",
   "execution_count": 18,
   "metadata": {},
   "outputs": [
    {
     "data": {
      "text/html": [
       "<div>\n",
       "<style scoped>\n",
       "    .dataframe tbody tr th:only-of-type {\n",
       "        vertical-align: middle;\n",
       "    }\n",
       "\n",
       "    .dataframe tbody tr th {\n",
       "        vertical-align: top;\n",
       "    }\n",
       "\n",
       "    .dataframe thead th {\n",
       "        text-align: right;\n",
       "    }\n",
       "</style>\n",
       "<table border=\"1\" class=\"dataframe\">\n",
       "  <thead>\n",
       "    <tr style=\"text-align: right;\">\n",
       "      <th></th>\n",
       "      <th>customerID</th>\n",
       "      <th>InternetService</th>\n",
       "      <th>OnlineSecurity</th>\n",
       "      <th>OnlineBackup</th>\n",
       "      <th>DeviceProtection</th>\n",
       "      <th>TechSupport</th>\n",
       "      <th>StreamingTV</th>\n",
       "      <th>StreamingMovies</th>\n",
       "    </tr>\n",
       "  </thead>\n",
       "  <tbody>\n",
       "    <tr>\n",
       "      <th>0</th>\n",
       "      <td>7590-VHVEG</td>\n",
       "      <td>DSL</td>\n",
       "      <td>No</td>\n",
       "      <td>Yes</td>\n",
       "      <td>No</td>\n",
       "      <td>No</td>\n",
       "      <td>No</td>\n",
       "      <td>No</td>\n",
       "    </tr>\n",
       "    <tr>\n",
       "      <th>1</th>\n",
       "      <td>5575-GNVDE</td>\n",
       "      <td>DSL</td>\n",
       "      <td>Yes</td>\n",
       "      <td>No</td>\n",
       "      <td>Yes</td>\n",
       "      <td>No</td>\n",
       "      <td>No</td>\n",
       "      <td>No</td>\n",
       "    </tr>\n",
       "    <tr>\n",
       "      <th>2</th>\n",
       "      <td>3668-QPYBK</td>\n",
       "      <td>DSL</td>\n",
       "      <td>Yes</td>\n",
       "      <td>Yes</td>\n",
       "      <td>No</td>\n",
       "      <td>No</td>\n",
       "      <td>No</td>\n",
       "      <td>No</td>\n",
       "    </tr>\n",
       "    <tr>\n",
       "      <th>3</th>\n",
       "      <td>7795-CFOCW</td>\n",
       "      <td>DSL</td>\n",
       "      <td>Yes</td>\n",
       "      <td>No</td>\n",
       "      <td>Yes</td>\n",
       "      <td>Yes</td>\n",
       "      <td>No</td>\n",
       "      <td>No</td>\n",
       "    </tr>\n",
       "    <tr>\n",
       "      <th>4</th>\n",
       "      <td>9237-HQITU</td>\n",
       "      <td>Fiber optic</td>\n",
       "      <td>No</td>\n",
       "      <td>No</td>\n",
       "      <td>No</td>\n",
       "      <td>No</td>\n",
       "      <td>No</td>\n",
       "      <td>No</td>\n",
       "    </tr>\n",
       "  </tbody>\n",
       "</table>\n",
       "</div>"
      ],
      "text/plain": [
       "   customerID InternetService OnlineSecurity OnlineBackup DeviceProtection  \\\n",
       "0  7590-VHVEG             DSL             No          Yes               No   \n",
       "1  5575-GNVDE             DSL            Yes           No              Yes   \n",
       "2  3668-QPYBK             DSL            Yes          Yes               No   \n",
       "3  7795-CFOCW             DSL            Yes           No              Yes   \n",
       "4  9237-HQITU     Fiber optic             No           No               No   \n",
       "\n",
       "  TechSupport StreamingTV StreamingMovies  \n",
       "0          No          No              No  \n",
       "1          No          No              No  \n",
       "2          No          No              No  \n",
       "3         Yes          No              No  \n",
       "4          No          No              No  "
      ]
     },
     "execution_count": 18,
     "metadata": {},
     "output_type": "execute_result"
    }
   ],
   "source": [
    "internet.head()"
   ]
  },
  {
   "cell_type": "code",
   "execution_count": 19,
   "metadata": {
    "scrolled": true
   },
   "outputs": [
    {
     "name": "stdout",
     "output_type": "stream",
     "text": [
      "<class 'pandas.core.frame.DataFrame'>\n",
      "RangeIndex: 5517 entries, 0 to 5516\n",
      "Data columns (total 8 columns):\n",
      " #   Column            Non-Null Count  Dtype \n",
      "---  ------            --------------  ----- \n",
      " 0   customerID        5517 non-null   object\n",
      " 1   InternetService   5517 non-null   object\n",
      " 2   OnlineSecurity    5517 non-null   object\n",
      " 3   OnlineBackup      5517 non-null   object\n",
      " 4   DeviceProtection  5517 non-null   object\n",
      " 5   TechSupport       5517 non-null   object\n",
      " 6   StreamingTV       5517 non-null   object\n",
      " 7   StreamingMovies   5517 non-null   object\n",
      "dtypes: object(8)\n",
      "memory usage: 344.9+ KB\n",
      "None\n"
     ]
    },
    {
     "data": {
      "text/plain": [
       "0"
      ]
     },
     "execution_count": 19,
     "metadata": {},
     "output_type": "execute_result"
    }
   ],
   "source": [
    "print(internet.info())\n",
    "internet.duplicated().sum()"
   ]
  },
  {
   "cell_type": "markdown",
   "metadata": {},
   "source": [
    "Из услуг - доступ к интернету, онлайн-безопасность, бекап, защита устрйоства, техподдержка, стриминговое телевидение и фильмы.\n",
    "Дубликатов нет"
   ]
  },
  {
   "cell_type": "code",
   "execution_count": 20,
   "metadata": {},
   "outputs": [
    {
     "data": {
      "image/png": "[encoded data removed]",
      "text/plain": [
       "<Figure size 432x288 with 1 Axes>"
      ]
     },
     "metadata": {
      "needs_background": "light"
     },
     "output_type": "display_data"
    },
    {
     "data": {
      "image/png": "[encoded data removed]",
      "text/plain": [
       "<Figure size 432x288 with 1 Axes>"
      ]
     },
     "metadata": {
      "needs_background": "light"
     },
     "output_type": "display_data"
    }
   ],
   "source": [
    "plt.bar(internet['InternetService'].unique(), internet['InternetService'].value_counts())\n",
    "plt.xlabel('Тип интернет-сервиса')\n",
    "plt.ylabel('Количество')\n",
    "plt.title('Какой тип подключения используется?')\n",
    "\n",
    "plt.show()\n",
    "\n",
    "plt.bar(internet['OnlineSecurity'].unique(), internet['OnlineSecurity'].value_counts())\n",
    "plt.xlabel('Онлайн безопасность')\n",
    "plt.ylabel('Количество')\n",
    "plt.title('Подключена ли услга OnlineSecurity')\n",
    "\n",
    "plt.show()"
   ]
  },
  {
   "cell_type": "markdown",
   "metadata": {},
   "source": [
    "Около трех тысяч пользователей находятся на DSL, остальные на оптике. Около 3,5 тыс человек не используют сервис онлайн-безопасности"
   ]
  },
  {
   "cell_type": "code",
   "execution_count": 21,
   "metadata": {},
   "outputs": [
    {
     "data": {
      "image/png": "[encoded data removed]",
      "text/plain": [
       "<Figure size 432x288 with 1 Axes>"
      ]
     },
     "metadata": {
      "needs_background": "light"
     },
     "output_type": "display_data"
    },
    {
     "data": {
      "image/png": "[encoded data removed]",
      "text/plain": [
       "<Figure size 432x288 with 1 Axes>"
      ]
     },
     "metadata": {
      "needs_background": "light"
     },
     "output_type": "display_data"
    }
   ],
   "source": [
    "plt.bar(internet['OnlineBackup'].unique(), internet['OnlineBackup'].value_counts())\n",
    "plt.xlabel('Онлайн бэкап')\n",
    "plt.ylabel('Количество')\n",
    "plt.title('Подключена ли услга OnlineBackup')\n",
    "plt.show()\n",
    "\n",
    "plt.bar(internet['DeviceProtection'].unique(), internet['DeviceProtection'].value_counts())\n",
    "plt.xlabel('Защита устрйоства')\n",
    "plt.title('Подключена ли услга Device Protection')\n",
    "plt.ylabel('Количество')\n",
    "plt.show()"
   ]
  },
  {
   "cell_type": "markdown",
   "metadata": {},
   "source": [
    "А вот бекапы людям заходят. Большинство используют опцию. Защиту устрйоств используют меньшинство. Причем, выглядит, будто в данном случае услуги обратнопропорциональны."
   ]
  },
  {
   "cell_type": "code",
   "execution_count": 22,
   "metadata": {},
   "outputs": [
    {
     "data": {
      "image/png": "[encoded data removed]",
      "text/plain": [
       "<Figure size 432x288 with 1 Axes>"
      ]
     },
     "metadata": {
      "needs_background": "light"
     },
     "output_type": "display_data"
    },
    {
     "data": {
      "image/png": "[encoded data removed]",
      "text/plain": [
       "<Figure size 432x288 with 1 Axes>"
      ]
     },
     "metadata": {
      "needs_background": "light"
     },
     "output_type": "display_data"
    },
    {
     "data": {
      "image/png": "[encoded data removed]",
      "text/plain": [
       "<Figure size 432x288 with 1 Axes>"
      ]
     },
     "metadata": {
      "needs_background": "light"
     },
     "output_type": "display_data"
    }
   ],
   "source": [
    "plt.bar(internet['TechSupport'].unique(), internet['TechSupport'].value_counts())\n",
    "plt.xlabel('Техподдержка')\n",
    "plt.ylabel('Количество')\n",
    "plt.title('Подключена ли услга техподдержки')\n",
    "plt.show()\n",
    "\n",
    "plt.bar(internet['StreamingTV'].unique(), internet['StreamingTV'].value_counts())\n",
    "plt.xlabel('Стриминговое телевидение')\n",
    "plt.title('Подключена ли услга Стримингово ТВ')\n",
    "plt.ylabel('Количество')\n",
    "plt.show()\n",
    "\n",
    "plt.bar(internet['StreamingMovies'].unique(), internet['StreamingMovies'].value_counts())\n",
    "plt.xlabel('Стриминговые фильмы')\n",
    "plt.title('Подключена ли услга Стриминговых фильмов')\n",
    "plt.ylabel('Количество')\n",
    "plt.show()"
   ]
  },
  {
   "cell_type": "markdown",
   "metadata": {},
   "source": [
    "Стриминг разделися примерно на половину, а вот техподдержку люди реже подключают."
   ]
  },
  {
   "cell_type": "markdown",
   "metadata": {},
   "source": [
    "#### Посмотрим что из себя представляют данные по использованию телефонии"
   ]
  },
  {
   "cell_type": "code",
   "execution_count": 23,
   "metadata": {},
   "outputs": [
    {
     "data": {
      "text/html": [
       "<div>\n",
       "<style scoped>\n",
       "    .dataframe tbody tr th:only-of-type {\n",
       "        vertical-align: middle;\n",
       "    }\n",
       "\n",
       "    .dataframe tbody tr th {\n",
       "        vertical-align: top;\n",
       "    }\n",
       "\n",
       "    .dataframe thead th {\n",
       "        text-align: right;\n",
       "    }\n",
       "</style>\n",
       "<table border=\"1\" class=\"dataframe\">\n",
       "  <thead>\n",
       "    <tr style=\"text-align: right;\">\n",
       "      <th></th>\n",
       "      <th>customerID</th>\n",
       "      <th>MultipleLines</th>\n",
       "    </tr>\n",
       "  </thead>\n",
       "  <tbody>\n",
       "    <tr>\n",
       "      <th>0</th>\n",
       "      <td>5575-GNVDE</td>\n",
       "      <td>No</td>\n",
       "    </tr>\n",
       "    <tr>\n",
       "      <th>1</th>\n",
       "      <td>3668-QPYBK</td>\n",
       "      <td>No</td>\n",
       "    </tr>\n",
       "    <tr>\n",
       "      <th>2</th>\n",
       "      <td>9237-HQITU</td>\n",
       "      <td>No</td>\n",
       "    </tr>\n",
       "    <tr>\n",
       "      <th>3</th>\n",
       "      <td>9305-CDSKC</td>\n",
       "      <td>Yes</td>\n",
       "    </tr>\n",
       "    <tr>\n",
       "      <th>4</th>\n",
       "      <td>1452-KIOVK</td>\n",
       "      <td>Yes</td>\n",
       "    </tr>\n",
       "  </tbody>\n",
       "</table>\n",
       "</div>"
      ],
      "text/plain": [
       "   customerID MultipleLines\n",
       "0  5575-GNVDE            No\n",
       "1  3668-QPYBK            No\n",
       "2  9237-HQITU            No\n",
       "3  9305-CDSKC           Yes\n",
       "4  1452-KIOVK           Yes"
      ]
     },
     "execution_count": 23,
     "metadata": {},
     "output_type": "execute_result"
    }
   ],
   "source": [
    "phone.head()"
   ]
  },
  {
   "cell_type": "code",
   "execution_count": 24,
   "metadata": {},
   "outputs": [
    {
     "name": "stdout",
     "output_type": "stream",
     "text": [
      "<class 'pandas.core.frame.DataFrame'>\n",
      "RangeIndex: 6361 entries, 0 to 6360\n",
      "Data columns (total 2 columns):\n",
      " #   Column         Non-Null Count  Dtype \n",
      "---  ------         --------------  ----- \n",
      " 0   customerID     6361 non-null   object\n",
      " 1   MultipleLines  6361 non-null   object\n",
      "dtypes: object(2)\n",
      "memory usage: 99.5+ KB\n",
      "None\n"
     ]
    },
    {
     "data": {
      "text/plain": [
       "0"
      ]
     },
     "execution_count": 24,
     "metadata": {},
     "output_type": "execute_result"
    }
   ],
   "source": [
    "print(phone.info())\n",
    "phone.duplicated().sum()"
   ]
  },
  {
   "cell_type": "markdown",
   "metadata": {},
   "source": [
    "В телефонии у нас только один показатель - использование нескольких линий"
   ]
  },
  {
   "cell_type": "code",
   "execution_count": 25,
   "metadata": {},
   "outputs": [
    {
     "data": {
      "image/png": "[encoded data removed]",
      "text/plain": [
       "<Figure size 432x288 with 1 Axes>"
      ]
     },
     "metadata": {
      "needs_background": "light"
     },
     "output_type": "display_data"
    }
   ],
   "source": [
    "plt.bar(phone['MultipleLines'].unique(), phone['MultipleLines'].value_counts())\n",
    "plt.xlabel('MultipleLines')\n",
    "plt.ylabel('Количество')\n",
    "plt.show()"
   ]
  },
  {
   "cell_type": "markdown",
   "metadata": {},
   "source": [
    "Чуть меньше половины использует несколько линий."
   ]
  },
  {
   "cell_type": "markdown",
   "metadata": {},
   "source": [
    "### Для дальнейшей работы соберем все данные в одну таблицу, объединив их по customerID"
   ]
  },
  {
   "cell_type": "code",
   "execution_count": 26,
   "metadata": {},
   "outputs": [],
   "source": [
    "data_all = contract.merge(right=client, how='left', on='customerID')\n",
    "data_all = data_all.merge(right=internet, how='left', on='customerID')\n",
    "data_all = data_all.merge(right=phone, how='left', on='customerID')"
   ]
  },
  {
   "cell_type": "code",
   "execution_count": 27,
   "metadata": {},
   "outputs": [
    {
     "name": "stdout",
     "output_type": "stream",
     "text": [
      "<class 'pandas.core.frame.DataFrame'>\n",
      "Int64Index: 7032 entries, 0 to 7031\n",
      "Data columns (total 20 columns):\n",
      " #   Column            Non-Null Count  Dtype  \n",
      "---  ------            --------------  -----  \n",
      " 0   customerID        7032 non-null   object \n",
      " 1   BeginDate         7032 non-null   object \n",
      " 2   EndDate           7032 non-null   object \n",
      " 3   Type              7032 non-null   object \n",
      " 4   PaperlessBilling  7032 non-null   object \n",
      " 5   PaymentMethod     7032 non-null   object \n",
      " 6   MonthlyCharges    7032 non-null   float64\n",
      " 7   TotalCharges      7032 non-null   float64\n",
      " 8   gender            7032 non-null   object \n",
      " 9   SeniorCitizen     7032 non-null   int64  \n",
      " 10  Partner           7032 non-null   object \n",
      " 11  Dependents        7032 non-null   object \n",
      " 12  InternetService   5512 non-null   object \n",
      " 13  OnlineSecurity    5512 non-null   object \n",
      " 14  OnlineBackup      5512 non-null   object \n",
      " 15  DeviceProtection  5512 non-null   object \n",
      " 16  TechSupport       5512 non-null   object \n",
      " 17  StreamingTV       5512 non-null   object \n",
      " 18  StreamingMovies   5512 non-null   object \n",
      " 19  MultipleLines     6352 non-null   object \n",
      "dtypes: float64(2), int64(1), object(17)\n",
      "memory usage: 1.1+ MB\n"
     ]
    }
   ],
   "source": [
    "data_all.info()"
   ]
  },
  {
   "cell_type": "code",
   "execution_count": 28,
   "metadata": {},
   "outputs": [
    {
     "data": {
      "text/html": [
       "<div>\n",
       "<style scoped>\n",
       "    .dataframe tbody tr th:only-of-type {\n",
       "        vertical-align: middle;\n",
       "    }\n",
       "\n",
       "    .dataframe tbody tr th {\n",
       "        vertical-align: top;\n",
       "    }\n",
       "\n",
       "    .dataframe thead th {\n",
       "        text-align: right;\n",
       "    }\n",
       "</style>\n",
       "<table border=\"1\" class=\"dataframe\">\n",
       "  <thead>\n",
       "    <tr style=\"text-align: right;\">\n",
       "      <th></th>\n",
       "      <th>customerID</th>\n",
       "      <th>BeginDate</th>\n",
       "      <th>EndDate</th>\n",
       "      <th>Type</th>\n",
       "      <th>PaperlessBilling</th>\n",
       "      <th>PaymentMethod</th>\n",
       "      <th>MonthlyCharges</th>\n",
       "      <th>TotalCharges</th>\n",
       "      <th>gender</th>\n",
       "      <th>SeniorCitizen</th>\n",
       "      <th>Partner</th>\n",
       "      <th>Dependents</th>\n",
       "      <th>InternetService</th>\n",
       "      <th>OnlineSecurity</th>\n",
       "      <th>OnlineBackup</th>\n",
       "      <th>DeviceProtection</th>\n",
       "      <th>TechSupport</th>\n",
       "      <th>StreamingTV</th>\n",
       "      <th>StreamingMovies</th>\n",
       "      <th>MultipleLines</th>\n",
       "    </tr>\n",
       "  </thead>\n",
       "  <tbody>\n",
       "    <tr>\n",
       "      <th>0</th>\n",
       "      <td>7590-VHVEG</td>\n",
       "      <td>2020-01-01</td>\n",
       "      <td>No</td>\n",
       "      <td>Month-to-month</td>\n",
       "      <td>Yes</td>\n",
       "      <td>Electronic check</td>\n",
       "      <td>29.85</td>\n",
       "      <td>31.04</td>\n",
       "      <td>Female</td>\n",
       "      <td>0</td>\n",
       "      <td>Yes</td>\n",
       "      <td>No</td>\n",
       "      <td>DSL</td>\n",
       "      <td>No</td>\n",
       "      <td>Yes</td>\n",
       "      <td>No</td>\n",
       "      <td>No</td>\n",
       "      <td>No</td>\n",
       "      <td>No</td>\n",
       "      <td>NaN</td>\n",
       "    </tr>\n",
       "    <tr>\n",
       "      <th>1</th>\n",
       "      <td>5575-GNVDE</td>\n",
       "      <td>2017-04-01</td>\n",
       "      <td>No</td>\n",
       "      <td>One year</td>\n",
       "      <td>No</td>\n",
       "      <td>Mailed check</td>\n",
       "      <td>56.95</td>\n",
       "      <td>2071.84</td>\n",
       "      <td>Male</td>\n",
       "      <td>0</td>\n",
       "      <td>No</td>\n",
       "      <td>No</td>\n",
       "      <td>DSL</td>\n",
       "      <td>Yes</td>\n",
       "      <td>No</td>\n",
       "      <td>Yes</td>\n",
       "      <td>No</td>\n",
       "      <td>No</td>\n",
       "      <td>No</td>\n",
       "      <td>No</td>\n",
       "    </tr>\n",
       "    <tr>\n",
       "      <th>2</th>\n",
       "      <td>3668-QPYBK</td>\n",
       "      <td>2019-10-01</td>\n",
       "      <td>No</td>\n",
       "      <td>Month-to-month</td>\n",
       "      <td>Yes</td>\n",
       "      <td>Mailed check</td>\n",
       "      <td>53.85</td>\n",
       "      <td>226.17</td>\n",
       "      <td>Male</td>\n",
       "      <td>0</td>\n",
       "      <td>No</td>\n",
       "      <td>No</td>\n",
       "      <td>DSL</td>\n",
       "      <td>Yes</td>\n",
       "      <td>Yes</td>\n",
       "      <td>No</td>\n",
       "      <td>No</td>\n",
       "      <td>No</td>\n",
       "      <td>No</td>\n",
       "      <td>No</td>\n",
       "    </tr>\n",
       "    <tr>\n",
       "      <th>3</th>\n",
       "      <td>7795-CFOCW</td>\n",
       "      <td>2016-05-01</td>\n",
       "      <td>No</td>\n",
       "      <td>One year</td>\n",
       "      <td>No</td>\n",
       "      <td>Bank transfer (automatic)</td>\n",
       "      <td>42.30</td>\n",
       "      <td>1960.60</td>\n",
       "      <td>Male</td>\n",
       "      <td>0</td>\n",
       "      <td>No</td>\n",
       "      <td>No</td>\n",
       "      <td>DSL</td>\n",
       "      <td>Yes</td>\n",
       "      <td>No</td>\n",
       "      <td>Yes</td>\n",
       "      <td>Yes</td>\n",
       "      <td>No</td>\n",
       "      <td>No</td>\n",
       "      <td>NaN</td>\n",
       "    </tr>\n",
       "    <tr>\n",
       "      <th>4</th>\n",
       "      <td>9237-HQITU</td>\n",
       "      <td>2019-09-01</td>\n",
       "      <td>No</td>\n",
       "      <td>Month-to-month</td>\n",
       "      <td>Yes</td>\n",
       "      <td>Electronic check</td>\n",
       "      <td>70.70</td>\n",
       "      <td>353.50</td>\n",
       "      <td>Female</td>\n",
       "      <td>0</td>\n",
       "      <td>No</td>\n",
       "      <td>No</td>\n",
       "      <td>Fiber optic</td>\n",
       "      <td>No</td>\n",
       "      <td>No</td>\n",
       "      <td>No</td>\n",
       "      <td>No</td>\n",
       "      <td>No</td>\n",
       "      <td>No</td>\n",
       "      <td>No</td>\n",
       "    </tr>\n",
       "  </tbody>\n",
       "</table>\n",
       "</div>"
      ],
      "text/plain": [
       "   customerID   BeginDate EndDate            Type PaperlessBilling  \\\n",
       "0  7590-VHVEG  2020-01-01      No  Month-to-month              Yes   \n",
       "1  5575-GNVDE  2017-04-01      No        One year               No   \n",
       "2  3668-QPYBK  2019-10-01      No  Month-to-month              Yes   \n",
       "3  7795-CFOCW  2016-05-01      No        One year               No   \n",
       "4  9237-HQITU  2019-09-01      No  Month-to-month              Yes   \n",
       "\n",
       "               PaymentMethod  MonthlyCharges  TotalCharges  gender  \\\n",
       "0           Electronic check           29.85         31.04  Female   \n",
       "1               Mailed check           56.95       2071.84    Male   \n",
       "2               Mailed check           53.85        226.17    Male   \n",
       "3  Bank transfer (automatic)           42.30       1960.60    Male   \n",
       "4           Electronic check           70.70        353.50  Female   \n",
       "\n",
       "   SeniorCitizen Partner Dependents InternetService OnlineSecurity  \\\n",
       "0              0     Yes         No             DSL             No   \n",
       "1              0      No         No             DSL            Yes   \n",
       "2              0      No         No             DSL            Yes   \n",
       "3              0      No         No             DSL            Yes   \n",
       "4              0      No         No     Fiber optic             No   \n",
       "\n",
       "  OnlineBackup DeviceProtection TechSupport StreamingTV StreamingMovies  \\\n",
       "0          Yes               No          No          No              No   \n",
       "1           No              Yes          No          No              No   \n",
       "2          Yes               No          No          No              No   \n",
       "3           No              Yes         Yes          No              No   \n",
       "4           No               No          No          No              No   \n",
       "\n",
       "  MultipleLines  \n",
       "0           NaN  \n",
       "1            No  \n",
       "2            No  \n",
       "3           NaN  \n",
       "4            No  "
      ]
     },
     "execution_count": 28,
     "metadata": {},
     "output_type": "execute_result"
    }
   ],
   "source": [
    "data_all.head()"
   ]
  },
  {
   "cell_type": "markdown",
   "metadata": {},
   "source": [
    "Вопросы:\n",
    "1. Какие критерии определяют отток клиентов?\n",
    "2. Какие услуги наиболее часто используются клиентами?\n",
    "3. Какие факторы влияют на выбор определенного способа расчета за услуги?\n",
    "4. Какие промокоды и специальные условия могут быть предложены клиентам, которые планируют уйти?\n",
    "5. Как появляются и исчезают услуги и как они раскрыты в таблице? Есть ли в компании план на появление новых, исключение или обхединение сушествующих услуг? (хочу понять, какими из услуг можно пренебречь)\n",
    "6. Какая дата среза данных?"
   ]
  },
  {
   "cell_type": "markdown",
   "metadata": {},
   "source": [
    "Примерный план решения задачи:\n",
    "1. Изучение данных и их предобработка (загрузка данных, ознакомление с ними, преобразование данных, объединение таблиц).\n",
    "2. Выбор целевого показателя, анализ корреляции между признаками и оттоком клиентов, предотвращение мультиколлинеарности, отбор признаков.\n",
    "3. Разделение данных на обучающую и тестовую выборки, кодирование.\n",
    "4. Обучение моделей машинного обучения для прогнозирования оттока клиентов, подбор гиперпараметров (на кроссвалидации с GridSearchCV).\n",
    "5. Оценка качества моделей и выбор наилучшей, проверка по ROC_AUC, построение графика ROC, анализ accuracy, подготовка матрицы ошибок\n",
    "6. Подготовка отчета по проделанной работе, включая рекомендации на основе полученных данных.\n",
    "\n",
    "Цель проекта: разработать модель машинного обучения для прогнозирования оттока клиентов оператора связи и предложить им промокоды и специальные условия для удержания."
   ]
  },
  {
   "cell_type": "markdown",
   "metadata": {},
   "source": [
    "## Подготовка к обучению моделей"
   ]
  },
  {
   "cell_type": "code",
   "execution_count": 29,
   "metadata": {},
   "outputs": [
    {
     "name": "stdout",
     "output_type": "stream",
     "text": [
      "<class 'pandas.core.frame.DataFrame'>\n",
      "Int64Index: 7032 entries, 0 to 7031\n",
      "Data columns (total 20 columns):\n",
      " #   Column            Non-Null Count  Dtype  \n",
      "---  ------            --------------  -----  \n",
      " 0   customerID        7032 non-null   object \n",
      " 1   BeginDate         7032 non-null   object \n",
      " 2   EndDate           7032 non-null   object \n",
      " 3   Type              7032 non-null   object \n",
      " 4   PaperlessBilling  7032 non-null   object \n",
      " 5   PaymentMethod     7032 non-null   object \n",
      " 6   MonthlyCharges    7032 non-null   float64\n",
      " 7   TotalCharges      7032 non-null   float64\n",
      " 8   gender            7032 non-null   object \n",
      " 9   SeniorCitizen     7032 non-null   int64  \n",
      " 10  Partner           7032 non-null   object \n",
      " 11  Dependents        7032 non-null   object \n",
      " 12  InternetService   5512 non-null   object \n",
      " 13  OnlineSecurity    5512 non-null   object \n",
      " 14  OnlineBackup      5512 non-null   object \n",
      " 15  DeviceProtection  5512 non-null   object \n",
      " 16  TechSupport       5512 non-null   object \n",
      " 17  StreamingTV       5512 non-null   object \n",
      " 18  StreamingMovies   5512 non-null   object \n",
      " 19  MultipleLines     6352 non-null   object \n",
      "dtypes: float64(2), int64(1), object(17)\n",
      "memory usage: 1.1+ MB\n"
     ]
    }
   ],
   "source": [
    "data_all.info()"
   ]
  },
  {
   "cell_type": "markdown",
   "metadata": {},
   "source": [
    "### Преобразуем поле тип контракта"
   ]
  },
  {
   "cell_type": "code",
   "execution_count": 30,
   "metadata": {},
   "outputs": [],
   "source": [
    "data_all['BeginDate'] = pd.to_datetime(data_all['BeginDate'])"
   ]
  },
  {
   "cell_type": "code",
   "execution_count": 31,
   "metadata": {},
   "outputs": [],
   "source": [
    "# Замена значений NO из enddate на дату снятияя показаний -- 2020-02-01\n",
    "data_all.loc[data_all['EndDate'] == 'No', 'EndDate'] = pd.to_datetime('2020-02-01')\n",
    "data_all.EndDate = pd.to_datetime(data_all.EndDate)"
   ]
  },
  {
   "cell_type": "code",
   "execution_count": 32,
   "metadata": {},
   "outputs": [],
   "source": [
    "#Определеяем количество дней контракта пользователя\n",
    "data_all['total_days'] = (data_all['EndDate'] - data_all['BeginDate']).dt.days"
   ]
  },
  {
   "cell_type": "code",
   "execution_count": 33,
   "metadata": {},
   "outputs": [
    {
     "data": {
      "text/html": [
       "<div>\n",
       "<style scoped>\n",
       "    .dataframe tbody tr th:only-of-type {\n",
       "        vertical-align: middle;\n",
       "    }\n",
       "\n",
       "    .dataframe tbody tr th {\n",
       "        vertical-align: top;\n",
       "    }\n",
       "\n",
       "    .dataframe thead th {\n",
       "        text-align: right;\n",
       "    }\n",
       "</style>\n",
       "<table border=\"1\" class=\"dataframe\">\n",
       "  <thead>\n",
       "    <tr style=\"text-align: right;\">\n",
       "      <th></th>\n",
       "      <th>customerID</th>\n",
       "      <th>BeginDate</th>\n",
       "      <th>EndDate</th>\n",
       "      <th>Type</th>\n",
       "      <th>PaperlessBilling</th>\n",
       "      <th>PaymentMethod</th>\n",
       "      <th>MonthlyCharges</th>\n",
       "      <th>TotalCharges</th>\n",
       "      <th>gender</th>\n",
       "      <th>SeniorCitizen</th>\n",
       "      <th>...</th>\n",
       "      <th>Dependents</th>\n",
       "      <th>InternetService</th>\n",
       "      <th>OnlineSecurity</th>\n",
       "      <th>OnlineBackup</th>\n",
       "      <th>DeviceProtection</th>\n",
       "      <th>TechSupport</th>\n",
       "      <th>StreamingTV</th>\n",
       "      <th>StreamingMovies</th>\n",
       "      <th>MultipleLines</th>\n",
       "      <th>total_days</th>\n",
       "    </tr>\n",
       "  </thead>\n",
       "  <tbody>\n",
       "    <tr>\n",
       "      <th>0</th>\n",
       "      <td>7590-VHVEG</td>\n",
       "      <td>2020-01-01</td>\n",
       "      <td>2020-02-01</td>\n",
       "      <td>Month-to-month</td>\n",
       "      <td>Yes</td>\n",
       "      <td>Electronic check</td>\n",
       "      <td>29.85</td>\n",
       "      <td>31.04</td>\n",
       "      <td>Female</td>\n",
       "      <td>0</td>\n",
       "      <td>...</td>\n",
       "      <td>No</td>\n",
       "      <td>DSL</td>\n",
       "      <td>No</td>\n",
       "      <td>Yes</td>\n",
       "      <td>No</td>\n",
       "      <td>No</td>\n",
       "      <td>No</td>\n",
       "      <td>No</td>\n",
       "      <td>NaN</td>\n",
       "      <td>31</td>\n",
       "    </tr>\n",
       "    <tr>\n",
       "      <th>1</th>\n",
       "      <td>5575-GNVDE</td>\n",
       "      <td>2017-04-01</td>\n",
       "      <td>2020-02-01</td>\n",
       "      <td>One year</td>\n",
       "      <td>No</td>\n",
       "      <td>Mailed check</td>\n",
       "      <td>56.95</td>\n",
       "      <td>2071.84</td>\n",
       "      <td>Male</td>\n",
       "      <td>0</td>\n",
       "      <td>...</td>\n",
       "      <td>No</td>\n",
       "      <td>DSL</td>\n",
       "      <td>Yes</td>\n",
       "      <td>No</td>\n",
       "      <td>Yes</td>\n",
       "      <td>No</td>\n",
       "      <td>No</td>\n",
       "      <td>No</td>\n",
       "      <td>No</td>\n",
       "      <td>1036</td>\n",
       "    </tr>\n",
       "    <tr>\n",
       "      <th>2</th>\n",
       "      <td>3668-QPYBK</td>\n",
       "      <td>2019-10-01</td>\n",
       "      <td>2020-02-01</td>\n",
       "      <td>Month-to-month</td>\n",
       "      <td>Yes</td>\n",
       "      <td>Mailed check</td>\n",
       "      <td>53.85</td>\n",
       "      <td>226.17</td>\n",
       "      <td>Male</td>\n",
       "      <td>0</td>\n",
       "      <td>...</td>\n",
       "      <td>No</td>\n",
       "      <td>DSL</td>\n",
       "      <td>Yes</td>\n",
       "      <td>Yes</td>\n",
       "      <td>No</td>\n",
       "      <td>No</td>\n",
       "      <td>No</td>\n",
       "      <td>No</td>\n",
       "      <td>No</td>\n",
       "      <td>123</td>\n",
       "    </tr>\n",
       "    <tr>\n",
       "      <th>3</th>\n",
       "      <td>7795-CFOCW</td>\n",
       "      <td>2016-05-01</td>\n",
       "      <td>2020-02-01</td>\n",
       "      <td>One year</td>\n",
       "      <td>No</td>\n",
       "      <td>Bank transfer (automatic)</td>\n",
       "      <td>42.30</td>\n",
       "      <td>1960.60</td>\n",
       "      <td>Male</td>\n",
       "      <td>0</td>\n",
       "      <td>...</td>\n",
       "      <td>No</td>\n",
       "      <td>DSL</td>\n",
       "      <td>Yes</td>\n",
       "      <td>No</td>\n",
       "      <td>Yes</td>\n",
       "      <td>Yes</td>\n",
       "      <td>No</td>\n",
       "      <td>No</td>\n",
       "      <td>NaN</td>\n",
       "      <td>1371</td>\n",
       "    </tr>\n",
       "    <tr>\n",
       "      <th>4</th>\n",
       "      <td>9237-HQITU</td>\n",
       "      <td>2019-09-01</td>\n",
       "      <td>2020-02-01</td>\n",
       "      <td>Month-to-month</td>\n",
       "      <td>Yes</td>\n",
       "      <td>Electronic check</td>\n",
       "      <td>70.70</td>\n",
       "      <td>353.50</td>\n",
       "      <td>Female</td>\n",
       "      <td>0</td>\n",
       "      <td>...</td>\n",
       "      <td>No</td>\n",
       "      <td>Fiber optic</td>\n",
       "      <td>No</td>\n",
       "      <td>No</td>\n",
       "      <td>No</td>\n",
       "      <td>No</td>\n",
       "      <td>No</td>\n",
       "      <td>No</td>\n",
       "      <td>No</td>\n",
       "      <td>153</td>\n",
       "    </tr>\n",
       "  </tbody>\n",
       "</table>\n",
       "<p>5 rows × 21 columns</p>\n",
       "</div>"
      ],
      "text/plain": [
       "   customerID  BeginDate    EndDate            Type PaperlessBilling  \\\n",
       "0  7590-VHVEG 2020-01-01 2020-02-01  Month-to-month              Yes   \n",
       "1  5575-GNVDE 2017-04-01 2020-02-01        One year               No   \n",
       "2  3668-QPYBK 2019-10-01 2020-02-01  Month-to-month              Yes   \n",
       "3  7795-CFOCW 2016-05-01 2020-02-01        One year               No   \n",
       "4  9237-HQITU 2019-09-01 2020-02-01  Month-to-month              Yes   \n",
       "\n",
       "               PaymentMethod  MonthlyCharges  TotalCharges  gender  \\\n",
       "0           Electronic check           29.85         31.04  Female   \n",
       "1               Mailed check           56.95       2071.84    Male   \n",
       "2               Mailed check           53.85        226.17    Male   \n",
       "3  Bank transfer (automatic)           42.30       1960.60    Male   \n",
       "4           Electronic check           70.70        353.50  Female   \n",
       "\n",
       "   SeniorCitizen  ... Dependents InternetService OnlineSecurity OnlineBackup  \\\n",
       "0              0  ...         No             DSL             No          Yes   \n",
       "1              0  ...         No             DSL            Yes           No   \n",
       "2              0  ...         No             DSL            Yes          Yes   \n",
       "3              0  ...         No             DSL            Yes           No   \n",
       "4              0  ...         No     Fiber optic             No           No   \n",
       "\n",
       "  DeviceProtection TechSupport StreamingTV StreamingMovies MultipleLines  \\\n",
       "0               No          No          No              No           NaN   \n",
       "1              Yes          No          No              No            No   \n",
       "2               No          No          No              No            No   \n",
       "3              Yes         Yes          No              No           NaN   \n",
       "4               No          No          No              No            No   \n",
       "\n",
       "  total_days  \n",
       "0         31  \n",
       "1       1036  \n",
       "2        123  \n",
       "3       1371  \n",
       "4        153  \n",
       "\n",
       "[5 rows x 21 columns]"
      ]
     },
     "execution_count": 33,
     "metadata": {},
     "output_type": "execute_result"
    }
   ],
   "source": [
    "data_all.head()"
   ]
  },
  {
   "cell_type": "code",
   "execution_count": 34,
   "metadata": {},
   "outputs": [
    {
     "data": {
      "text/plain": [
       "customerID             0\n",
       "BeginDate              0\n",
       "EndDate                0\n",
       "Type                   0\n",
       "PaperlessBilling       0\n",
       "PaymentMethod          0\n",
       "MonthlyCharges         0\n",
       "TotalCharges           0\n",
       "gender                 0\n",
       "SeniorCitizen          0\n",
       "Partner                0\n",
       "Dependents             0\n",
       "InternetService     1520\n",
       "OnlineSecurity      1520\n",
       "OnlineBackup        1520\n",
       "DeviceProtection    1520\n",
       "TechSupport         1520\n",
       "StreamingTV         1520\n",
       "StreamingMovies     1520\n",
       "MultipleLines        680\n",
       "total_days             0\n",
       "dtype: int64"
      ]
     },
     "execution_count": 34,
     "metadata": {},
     "output_type": "execute_result"
    }
   ],
   "source": [
    "data_all.isna().sum()\n"
   ]
  },
  {
   "cell_type": "markdown",
   "metadata": {},
   "source": [
    "### Преобразуем данные"
   ]
  },
  {
   "cell_type": "code",
   "execution_count": 36,
   "metadata": {},
   "outputs": [],
   "source": [
    "# Список колонок для изменения\n",
    "\n",
    "bool_cols = ['PaperlessBilling', 'Partner', 'Dependents', 'OnlineSecurity', \\\n",
    "             'OnlineBackup', 'DeviceProtection', 'TechSupport', 'StreamingTV', \\\n",
    "            'StreamingMovies']\n",
    "internet_options = ['OnlineSecurity', 'OnlineBackup', 'DeviceProtection', \\\n",
    "                    'TechSupport', 'StreamingTV', 'StreamingMovies', 'InternetService']"
   ]
  },
  {
   "cell_type": "code",
   "execution_count": 37,
   "metadata": {},
   "outputs": [],
   "source": [
    "# Преобразуем колонки не в No, а подразделяем их - в данном случае \"без телефона\"\n",
    "data_all['MultipleLines'] = data_all['MultipleLines'].fillna('no_phone')\n",
    "data_all['SeniorCitizen'] = data_all['SeniorCitizen'].astype('int')\n"
   ]
  },
  {
   "cell_type": "code",
   "execution_count": 38,
   "metadata": {},
   "outputs": [],
   "source": [
    "#без интернета\n",
    "data_all[internet_options] = data_all[internet_options].fillna('no_internet')\n"
   ]
  },
  {
   "cell_type": "code",
   "execution_count": 39,
   "metadata": {},
   "outputs": [],
   "source": [
    "# Преобразуем тип данных колонки с итоговыми затратами\n",
    "data_all['TotalCharges'] = pd.to_numeric(data_all['TotalCharges'], errors='coerce').fillna(0)\n"
   ]
  },
  {
   "cell_type": "code",
   "execution_count": 40,
   "metadata": {},
   "outputs": [],
   "source": [
    "# Приравняем итоговые траты к месячным, если они меньше\n",
    "data_all['TotalCharges'] = data_all.apply(lambda row: row['MonthlyCharges'] if row['TotalCharges'] < row['MonthlyCharges'] \\\n",
    "                               else row['TotalCharges'], axis=1)"
   ]
  },
  {
   "cell_type": "code",
   "execution_count": 41,
   "metadata": {},
   "outputs": [
    {
     "data": {
      "text/plain": [
       "customerID          0\n",
       "BeginDate           0\n",
       "EndDate             0\n",
       "Type                0\n",
       "PaperlessBilling    0\n",
       "PaymentMethod       0\n",
       "MonthlyCharges      0\n",
       "TotalCharges        0\n",
       "gender              0\n",
       "SeniorCitizen       0\n",
       "Partner             0\n",
       "Dependents          0\n",
       "InternetService     0\n",
       "OnlineSecurity      0\n",
       "OnlineBackup        0\n",
       "DeviceProtection    0\n",
       "TechSupport         0\n",
       "StreamingTV         0\n",
       "StreamingMovies     0\n",
       "MultipleLines       0\n",
       "total_days          0\n",
       "dtype: int64"
      ]
     },
     "execution_count": 41,
     "metadata": {},
     "output_type": "execute_result"
    }
   ],
   "source": [
    "data_all.isna().sum()\n"
   ]
  },
  {
   "cell_type": "markdown",
   "metadata": {},
   "source": [
    "### Объявляем целевой признак - ушел ли клиент"
   ]
  },
  {
   "cell_type": "code",
   "execution_count": 42,
   "metadata": {},
   "outputs": [],
   "source": [
    "\n",
    "data_all['out'] = (data_all['EndDate'] != datetime.datetime(2020,2,1)).astype(int)\n"
   ]
  },
  {
   "cell_type": "markdown",
   "metadata": {},
   "source": [
    "Выводы: данные успешно загружены, создан целевой признак, удалены признаки начала и конца действия договора для устранения утечки данных. Преобразованы типы данных для булевых признаков, устранены пропуски."
   ]
  },
  {
   "cell_type": "markdown",
   "metadata": {},
   "source": [
    "### Оценка баланса классов"
   ]
  },
  {
   "cell_type": "code",
   "execution_count": 43,
   "metadata": {},
   "outputs": [
    {
     "data": {
      "text/plain": [
       "0    0.84343\n",
       "1    0.15657\n",
       "Name: out, dtype: float64"
      ]
     },
     "execution_count": 43,
     "metadata": {},
     "output_type": "execute_result"
    }
   ],
   "source": [
    "#Оценим баланс классов\n",
    "data_all['out'].value_counts(normalize=True)\n"
   ]
  },
  {
   "cell_type": "markdown",
   "metadata": {},
   "source": [
    "По целевому признаку заметен сильный дисбаланс классов, однако, в предполагаемых моделях МО есть встроенные алгоритмы для борьбы с этим явлением. Масштабирование признаков не проводилось, так как деревянные модели и бустинги не имеют проблем с работой на немастабированных данных."
   ]
  },
  {
   "cell_type": "markdown",
   "metadata": {},
   "source": [
    "### Дополнительный анализ соотношения признаков и ухода клиента"
   ]
  },
  {
   "cell_type": "code",
   "execution_count": 48,
   "metadata": {},
   "outputs": [
    {
     "data": {
      "text/plain": [
       "<AxesSubplot:xlabel='out', ylabel='MonthlyCharges'>"
      ]
     },
     "execution_count": 48,
     "metadata": {},
     "output_type": "execute_result"
    },
    {
     "data": {
      "image/png": "[encoded data removed]",
      "text/plain": [
       "<Figure size 432x288 with 1 Axes>"
      ]
     },
     "metadata": {
      "needs_background": "light"
     },
     "output_type": "display_data"
    }
   ],
   "source": [
    "sns.violinplot(x='out', y='MonthlyCharges', data=data_all)\n"
   ]
  },
  {
   "cell_type": "markdown",
   "metadata": {},
   "source": [
    "Видим, как есть всплеск ухода на ~20 и  на 100 у.e."
   ]
  },
  {
   "cell_type": "code",
   "execution_count": 49,
   "metadata": {},
   "outputs": [
    {
     "data": {
      "text/plain": [
       "<AxesSubplot:xlabel='PaymentMethod', ylabel='count'>"
      ]
     },
     "execution_count": 49,
     "metadata": {},
     "output_type": "execute_result"
    },
    {
     "data": {
      "image/png": "[encoded data removed]",
      "text/plain": [
       "<Figure size 432x288 with 1 Axes>"
      ]
     },
     "metadata": {
      "needs_background": "light"
     },
     "output_type": "display_data"
    }
   ],
   "source": [
    "sns.countplot(x='PaymentMethod', hue='out', data=data_all)\n"
   ]
  },
  {
   "cell_type": "markdown",
   "metadata": {},
   "source": [
    "Доля ушедших в абсолютных значениях оказалась наименьшей при отправляемом чеке. Интересно, почему так. В относительных - при электронной оплате. "
   ]
  },
  {
   "cell_type": "code",
   "execution_count": 50,
   "metadata": {},
   "outputs": [
    {
     "data": {
      "text/plain": [
       "<AxesSubplot:xlabel='Type', ylabel='count'>"
      ]
     },
     "execution_count": 50,
     "metadata": {},
     "output_type": "execute_result"
    },
    {
     "data": {
      "image/png": "[encoded data removed]",
      "text/plain": [
       "<Figure size 432x288 with 1 Axes>"
      ]
     },
     "metadata": {
      "needs_background": "light"
     },
     "output_type": "display_data"
    }
   ],
   "source": [
    "sns.countplot(x='Type', hue='out', data=data_all)\n"
   ]
  },
  {
   "cell_type": "markdown",
   "metadata": {},
   "source": [
    "Доля ушедших при ежемесячной оплате ниже, чем при других типах."
   ]
  },
  {
   "cell_type": "code",
   "execution_count": 51,
   "metadata": {},
   "outputs": [
    {
     "data": {
      "text/plain": [
       "<AxesSubplot:xlabel='InternetService', ylabel='count'>"
      ]
     },
     "execution_count": 51,
     "metadata": {},
     "output_type": "execute_result"
    },
    {
     "data": {
      "image/png": "[encoded data removed]",
      "text/plain": [
       "<Figure size 432x288 with 1 Axes>"
      ]
     },
     "metadata": {
      "needs_background": "light"
     },
     "output_type": "display_data"
    }
   ],
   "source": [
    "sns.countplot(x='InternetService', hue='out', data=data_all)"
   ]
  },
  {
   "cell_type": "markdown",
   "metadata": {},
   "source": [
    "Число ушедших больше при использовании оптики."
   ]
  },
  {
   "cell_type": "markdown",
   "metadata": {},
   "source": [
    "### Корреляция"
   ]
  },
  {
   "cell_type": "code",
   "execution_count": 52,
   "metadata": {},
   "outputs": [
    {
     "name": "stdout",
     "output_type": "stream",
     "text": [
      "interval columns not set, guessing: ['MonthlyCharges', 'TotalCharges', 'SeniorCitizen', 'total_days', 'out']\n"
     ]
    },
    {
     "data": {
      "text/plain": [
       "<AxesSubplot:>"
      ]
     },
     "execution_count": 52,
     "metadata": {},
     "output_type": "execute_result"
    },
    {
     "data": {
      "image/png": "[encoded data removed]",
      "text/plain": [
       "<Figure size 1008x1008 with 2 Axes>"
      ]
     },
     "metadata": {},
     "output_type": "display_data"
    }
   ],
   "source": [
    "phik = data_all.drop(['customerID', 'BeginDate', 'EndDate'], axis=1).phik_matrix()\n",
    "sns.set(rc={'figure.figsize':(14,14)})\n",
    "sns.heatmap(phik, annot=True, cmap='coolwarm')"
   ]
  },
  {
   "cell_type": "code",
   "execution_count": 53,
   "metadata": {},
   "outputs": [
    {
     "data": {
      "image/png": "[encoded data removed]",
      "text/plain": [
       "<Figure size 1008x1008 with 2 Axes>"
      ]
     },
     "metadata": {},
     "output_type": "display_data"
    }
   ],
   "source": [
    "numeric_features = ['MonthlyCharges','TotalCharges','total_days']\n",
    "sns.heatmap(data_all[numeric_features].corr(),\n",
    "            annot=True, cmap='coolwarm', vmin=-1, vmax=1)\n",
    "plt.title('Correlation Matrix')\n",
    "plt.show()"
   ]
  },
  {
   "cell_type": "markdown",
   "metadata": {},
   "source": [
    "Изучение матрицы корреляции признаков показало наличие мультиколлинеарности (например, TotalCharges - мультиколлинеарный по отношению к total_days - суммарные траты клиентов сильно зависят от времени подключения к провайдеру, что логично.\n",
    "), но используемые в проекте модели отлично справляются с этим явлением, что позволяет нам не избавляться от таких признаков. Также, в дальнейшем мы могли бы отбросить признаки пола и наличия иждивенцев, так как они не имеют корреляции с другими признаками."
   ]
  },
  {
   "cell_type": "markdown",
   "metadata": {},
   "source": [
    "### Удаление столбцов"
   ]
  },
  {
   "cell_type": "code",
   "execution_count": 54,
   "metadata": {},
   "outputs": [],
   "source": [
    "#удаляем лишние столбцы\n",
    "data_all = data_all.drop(('customerID'), axis=1)\n",
    "data_all = data_all.drop(('BeginDate'), axis=1)\n",
    "data_all = data_all.drop(('EndDate'), axis=1)\n"
   ]
  },
  {
   "cell_type": "markdown",
   "metadata": {},
   "source": [
    "## Обучение"
   ]
  },
  {
   "cell_type": "markdown",
   "metadata": {},
   "source": [
    "Посмотрим на трех моделях: Случайный Лес и LGBM"
   ]
  },
  {
   "cell_type": "markdown",
   "metadata": {},
   "source": [
    "### Разбиение на выборки"
   ]
  },
  {
   "cell_type": "code",
   "execution_count": 55,
   "metadata": {},
   "outputs": [],
   "source": [
    "# Разобьём данные на тренировочные и тестовые\n",
    "features_train, features_test, target_train, target_test = train_test_split(data_all.drop('out', axis=1), \n",
    "                                                                            data_all['out'], test_size=0.25, \n",
    "                                                                            stratify=data_all['out'], \n",
    "                                                                            random_state=RANDOM_STATE)\n"
   ]
  },
  {
   "cell_type": "code",
   "execution_count": 56,
   "metadata": {},
   "outputs": [],
   "source": [
    "# Сбросим индексы\n",
    "features_train.reset_index(drop=True, inplace=True)\n",
    "features_test.reset_index(drop=True, inplace=True)\n",
    "target_train.reset_index(drop=True, inplace=True)\n",
    "target_test.reset_index(drop=True, inplace=True)\n"
   ]
  },
  {
   "cell_type": "code",
   "execution_count": 57,
   "metadata": {},
   "outputs": [],
   "source": [
    "# Удаление неинформативных признаков\n",
    "drop_cols = ['Dependents', 'gender']\n",
    "features_train.drop(drop_cols, axis=1, inplace=True)\n",
    "features_test.drop(drop_cols, axis=1, inplace=True)"
   ]
  },
  {
   "cell_type": "markdown",
   "metadata": {},
   "source": [
    "### кодирование признаков"
   ]
  },
  {
   "cell_type": "code",
   "execution_count": 58,
   "metadata": {},
   "outputs": [],
   "source": [
    "# Сохраним список категориальных числовых признаков\n",
    "NUM_FEATURES = ['MonthlyCharges', 'total_days', 'TotalCharges']\n",
    "CAT_FEATURES = list(features_train.columns)\n",
    "\n",
    "for feature in NUM_FEATURES:\n",
    "    CAT_FEATURES.remove(feature)\n",
    "\n",
    "for col in CAT_FEATURES:\n",
    "    features_train[col] = features_train[col].astype('category')\n",
    "    features_test[col] = features_test[col].astype('category')"
   ]
  },
  {
   "cell_type": "code",
   "execution_count": 59,
   "metadata": {},
   "outputs": [],
   "source": [
    "# Сделаем кодирование категориальных признаков\n",
    "encoder = OneHotEncoder(drop='first', handle_unknown='error', sparse=False)"
   ]
  },
  {
   "cell_type": "code",
   "execution_count": 60,
   "metadata": {},
   "outputs": [],
   "source": [
    "# Создадим копии датафреймов\n",
    "features_train_coded = encoder.fit_transform(features_train[CAT_FEATURES].copy())\n",
    "features_test_coded = encoder.transform(features_test[CAT_FEATURES].copy())"
   ]
  },
  {
   "cell_type": "code",
   "execution_count": 61,
   "metadata": {},
   "outputs": [],
   "source": [
    "#Создание нового датафрейма с помощью pandas\n",
    "features_train_encoded = pd.DataFrame(features_train_coded, columns=encoder.get_feature_names())\n",
    "features_test_encoded = pd.DataFrame(features_test_coded, columns=encoder.get_feature_names())"
   ]
  },
  {
   "cell_type": "code",
   "execution_count": 62,
   "metadata": {},
   "outputs": [],
   "source": [
    "#добавляем числовые признаки\n",
    "for feature in NUM_FEATURES:\n",
    "    features_train_encoded[feature] = features_train[feature]\n",
    "    features_test_encoded[feature] = features_test[feature]"
   ]
  },
  {
   "cell_type": "code",
   "execution_count": 63,
   "metadata": {},
   "outputs": [
    {
     "name": "stdout",
     "output_type": "stream",
     "text": [
      "Тренировочная выборка:\n",
      "(5274, 16)\n",
      "(5274, 27)\n",
      "(5274,)\n",
      "Тестовая выборка:\n",
      "(1758, 16)\n",
      "(1758, 27)\n",
      "(1758,)\n"
     ]
    }
   ],
   "source": [
    "#Проверим размерности выборок\n",
    "print('Тренировочная выборка:')\n",
    "print(features_train.shape)\n",
    "print(features_train_encoded.shape)\n",
    "print(target_train.shape)\n",
    "print('Тестовая выборка:')\n",
    "print(features_test.shape)\n",
    "print(features_test_encoded.shape)\n",
    "print(target_test.shape)"
   ]
  },
  {
   "cell_type": "code",
   "execution_count": 64,
   "metadata": {},
   "outputs": [],
   "source": [
    "# Список для результатов проверки моделей на CV\n",
    "results = {}"
   ]
  },
  {
   "cell_type": "markdown",
   "metadata": {},
   "source": [
    "### случайный лес"
   ]
  },
  {
   "cell_type": "code",
   "execution_count": 65,
   "metadata": {},
   "outputs": [
    {
     "name": "stdout",
     "output_type": "stream",
     "text": [
      "Fitting 3 folds for each of 10 candidates, totalling 30 fits\n",
      "[CV 1/3; 1/10] START max_depth=10, n_estimators=100.............................\n",
      "[CV 1/3; 1/10] END max_depth=10, n_estimators=100; accuracy: (test=0.859) roc_auc: (test=0.820) total time=   0.4s\n",
      "[CV 2/3; 1/10] START max_depth=10, n_estimators=100.............................\n",
      "[CV 2/3; 1/10] END max_depth=10, n_estimators=100; accuracy: (test=0.854) roc_auc: (test=0.811) total time=   0.3s\n",
      "[CV 3/3; 1/10] START max_depth=10, n_estimators=100.............................\n",
      "[CV 3/3; 1/10] END max_depth=10, n_estimators=100; accuracy: (test=0.865) roc_auc: (test=0.808) total time=   0.3s\n",
      "[CV 1/3; 2/10] START max_depth=12, n_estimators=1000............................\n",
      "[CV 1/3; 2/10] END max_depth=12, n_estimators=1000; accuracy: (test=0.861) roc_auc: (test=0.819) total time=   3.6s\n",
      "[CV 2/3; 2/10] START max_depth=12, n_estimators=1000............................\n",
      "[CV 2/3; 2/10] END max_depth=12, n_estimators=1000; accuracy: (test=0.854) roc_auc: (test=0.813) total time=   3.6s\n",
      "[CV 3/3; 2/10] START max_depth=12, n_estimators=1000............................\n",
      "[CV 3/3; 2/10] END max_depth=12, n_estimators=1000; accuracy: (test=0.858) roc_auc: (test=0.802) total time=   3.5s\n",
      "[CV 1/3; 3/10] START max_depth=4, n_estimators=500..............................\n",
      "[CV 1/3; 3/10] END max_depth=4, n_estimators=500; accuracy: (test=0.844) roc_auc: (test=0.816) total time=   1.1s\n",
      "[CV 2/3; 3/10] START max_depth=4, n_estimators=500..............................\n",
      "[CV 2/3; 3/10] END max_depth=4, n_estimators=500; accuracy: (test=0.844) roc_auc: (test=0.797) total time=   1.1s\n",
      "[CV 3/3; 3/10] START max_depth=4, n_estimators=500..............................\n",
      "[CV 3/3; 3/10] END max_depth=4, n_estimators=500; accuracy: (test=0.843) roc_auc: (test=0.804) total time=   1.1s\n",
      "[CV 1/3; 4/10] START max_depth=10, n_estimators=1000............................\n",
      "[CV 1/3; 4/10] END max_depth=10, n_estimators=1000; accuracy: (test=0.862) roc_auc: (test=0.826) total time=   3.3s\n",
      "[CV 2/3; 4/10] START max_depth=10, n_estimators=1000............................\n",
      "[CV 2/3; 4/10] END max_depth=10, n_estimators=1000; accuracy: (test=0.852) roc_auc: (test=0.817) total time=   3.4s\n",
      "[CV 3/3; 4/10] START max_depth=10, n_estimators=1000............................\n",
      "[CV 3/3; 4/10] END max_depth=10, n_estimators=1000; accuracy: (test=0.861) roc_auc: (test=0.808) total time=   3.5s\n",
      "[CV 1/3; 5/10] START max_depth=8, n_estimators=500..............................\n",
      "[CV 1/3; 5/10] END max_depth=8, n_estimators=500; accuracy: (test=0.857) roc_auc: (test=0.830) total time=   1.6s\n",
      "[CV 2/3; 5/10] START max_depth=8, n_estimators=500..............................\n",
      "[CV 2/3; 5/10] END max_depth=8, n_estimators=500; accuracy: (test=0.852) roc_auc: (test=0.817) total time=   1.7s\n",
      "[CV 3/3; 5/10] START max_depth=8, n_estimators=500..............................\n",
      "[CV 3/3; 5/10] END max_depth=8, n_estimators=500; accuracy: (test=0.859) roc_auc: (test=0.812) total time=   1.6s\n",
      "[CV 1/3; 6/10] START max_depth=6, n_estimators=1000.............................\n",
      "[CV 1/3; 6/10] END max_depth=6, n_estimators=1000; accuracy: (test=0.848) roc_auc: (test=0.828) total time=   2.9s\n",
      "[CV 2/3; 6/10] START max_depth=6, n_estimators=1000.............................\n",
      "[CV 2/3; 6/10] END max_depth=6, n_estimators=1000; accuracy: (test=0.848) roc_auc: (test=0.812) total time=   2.7s\n",
      "[CV 3/3; 6/10] START max_depth=6, n_estimators=1000.............................\n",
      "[CV 3/3; 6/10] END max_depth=6, n_estimators=1000; accuracy: (test=0.849) roc_auc: (test=0.810) total time=   2.9s\n",
      "[CV 1/3; 7/10] START max_depth=4, n_estimators=100..............................\n",
      "[CV 1/3; 7/10] END max_depth=4, n_estimators=100; accuracy: (test=0.844) roc_auc: (test=0.814) total time=   0.2s\n",
      "[CV 2/3; 7/10] START max_depth=4, n_estimators=100..............................\n",
      "[CV 2/3; 7/10] END max_depth=4, n_estimators=100; accuracy: (test=0.844) roc_auc: (test=0.797) total time=   0.2s\n",
      "[CV 3/3; 7/10] START max_depth=4, n_estimators=100..............................\n",
      "[CV 3/3; 7/10] END max_depth=4, n_estimators=100; accuracy: (test=0.843) roc_auc: (test=0.801) total time=   0.3s\n",
      "[CV 1/3; 8/10] START max_depth=6, n_estimators=500..............................\n",
      "[CV 1/3; 8/10] END max_depth=6, n_estimators=500; accuracy: (test=0.848) roc_auc: (test=0.828) total time=   1.4s\n",
      "[CV 2/3; 8/10] START max_depth=6, n_estimators=500..............................\n",
      "[CV 2/3; 8/10] END max_depth=6, n_estimators=500; accuracy: (test=0.849) roc_auc: (test=0.812) total time=   1.4s\n",
      "[CV 3/3; 8/10] START max_depth=6, n_estimators=500..............................\n",
      "[CV 3/3; 8/10] END max_depth=6, n_estimators=500; accuracy: (test=0.850) roc_auc: (test=0.811) total time=   1.4s\n",
      "[CV 1/3; 9/10] START max_depth=8, n_estimators=1000.............................\n",
      "[CV 1/3; 9/10] END max_depth=8, n_estimators=1000; accuracy: (test=0.858) roc_auc: (test=0.831) total time=   3.0s\n",
      "[CV 2/3; 9/10] START max_depth=8, n_estimators=1000.............................\n",
      "[CV 2/3; 9/10] END max_depth=8, n_estimators=1000; accuracy: (test=0.852) roc_auc: (test=0.816) total time=   3.0s\n",
      "[CV 3/3; 9/10] START max_depth=8, n_estimators=1000.............................\n",
      "[CV 3/3; 9/10] END max_depth=8, n_estimators=1000; accuracy: (test=0.858) roc_auc: (test=0.812) total time=   3.2s\n",
      "[CV 1/3; 10/10] START max_depth=8, n_estimators=100.............................\n",
      "[CV 1/3; 10/10] END max_depth=8, n_estimators=100; accuracy: (test=0.858) roc_auc: (test=0.830) total time=   0.3s\n",
      "[CV 2/3; 10/10] START max_depth=8, n_estimators=100.............................\n",
      "[CV 2/3; 10/10] END max_depth=8, n_estimators=100; accuracy: (test=0.853) roc_auc: (test=0.814) total time=   0.3s\n",
      "[CV 3/3; 10/10] START max_depth=8, n_estimators=100.............................\n",
      "[CV 3/3; 10/10] END max_depth=8, n_estimators=100; accuracy: (test=0.858) roc_auc: (test=0.811) total time=   0.3s\n"
     ]
    },
    {
     "data": {
      "text/plain": [
       "RandomizedSearchCV(cv=3, estimator=RandomForestClassifier(random_state=170723),\n",
       "                   n_jobs=-1,\n",
       "                   param_distributions={'max_depth': [4, 6, 8, 10, 12],\n",
       "                                        'n_estimators': [100, 500, 1000]},\n",
       "                   refit='roc_auc', scoring=['roc_auc', 'accuracy'],\n",
       "                   verbose=10)"
      ]
     },
     "execution_count": 65,
     "metadata": {},
     "output_type": "execute_result"
    }
   ],
   "source": [
    "# GridSearchCV\n",
    "parameters = {'max_depth': [4,6,8,10,12],\n",
    "               'n_estimators': [100,500,1000],\n",
    "              }\n",
    "\n",
    "# Осуществим подбор гиперпараметров по сетке в кросс-валидации для первой модели\n",
    "rfc_tuner = RandomizedSearchCV(RandomForestClassifier(random_state=RANDOM_STATE),param_distributions=parameters,scoring=['roc_auc', 'accuracy'],cv=3,verbose=10, n_jobs=-1,  refit='roc_auc')\n",
    "rfc_tuner.fit(features_train_encoded, target_train)"
   ]
  },
  {
   "cell_type": "code",
   "execution_count": 66,
   "metadata": {},
   "outputs": [],
   "source": [
    "rfc_params = {\n",
    "    'n_estimators': 100,\n",
    "    'max_depth': 8,\n",
    "    'random_state': 180723\n",
    "}"
   ]
  },
  {
   "cell_type": "code",
   "execution_count": 67,
   "metadata": {},
   "outputs": [
    {
     "name": "stderr",
     "output_type": "stream",
     "text": [
      "[Parallel(n_jobs=-1)]: Using backend SequentialBackend with 1 concurrent workers.\n"
     ]
    },
    {
     "name": "stdout",
     "output_type": "stream",
     "text": [
      "[CV] START .....................................................................\n",
      "[CV] END ....... accuracy: (test=0.856) roc_auc: (test=0.811) total time=   0.3s\n",
      "[CV] START .....................................................................\n"
     ]
    },
    {
     "name": "stderr",
     "output_type": "stream",
     "text": [
      "[Parallel(n_jobs=-1)]: Done   1 out of   1 | elapsed:    0.3s remaining:    0.0s\n"
     ]
    },
    {
     "name": "stdout",
     "output_type": "stream",
     "text": [
      "[CV] END ....... accuracy: (test=0.862) roc_auc: (test=0.833) total time=   0.3s\n",
      "[CV] START .....................................................................\n"
     ]
    },
    {
     "name": "stderr",
     "output_type": "stream",
     "text": [
      "[Parallel(n_jobs=-1)]: Done   2 out of   2 | elapsed:    0.7s remaining:    0.0s\n"
     ]
    },
    {
     "name": "stdout",
     "output_type": "stream",
     "text": [
      "[CV] END ....... accuracy: (test=0.860) roc_auc: (test=0.807) total time=   0.3s\n",
      "[CV] START .....................................................................\n"
     ]
    },
    {
     "name": "stderr",
     "output_type": "stream",
     "text": [
      "[Parallel(n_jobs=-1)]: Done   3 out of   3 | elapsed:    1.0s remaining:    0.0s\n"
     ]
    },
    {
     "name": "stdout",
     "output_type": "stream",
     "text": [
      "[CV] END ....... accuracy: (test=0.854) roc_auc: (test=0.836) total time=   0.3s\n",
      "[CV] START .....................................................................\n"
     ]
    },
    {
     "name": "stderr",
     "output_type": "stream",
     "text": [
      "[Parallel(n_jobs=-1)]: Done   4 out of   4 | elapsed:    1.4s remaining:    0.0s\n"
     ]
    },
    {
     "name": "stdout",
     "output_type": "stream",
     "text": [
      "[CV] END ....... accuracy: (test=0.855) roc_auc: (test=0.821) total time=   0.3s\n"
     ]
    },
    {
     "name": "stderr",
     "output_type": "stream",
     "text": [
      "[Parallel(n_jobs=-1)]: Done   5 out of   5 | elapsed:    1.7s remaining:    0.0s\n",
      "[Parallel(n_jobs=-1)]: Done   5 out of   5 | elapsed:    1.7s finished\n"
     ]
    }
   ],
   "source": [
    "# Создание модели RandomForest\n",
    "rfc_model = RandomForestClassifier(**rfc_params)\n",
    "\n",
    "# Определение функций оценки для ROC-AUC и Accuracy\n",
    "scoring = ['roc_auc','accuracy']\n",
    "\n",
    "# Создание экземпляра StratifiedKFold с параметром shuffle\n",
    "cv = StratifiedKFold(n_splits=5, shuffle=True, random_state=RANDOM_STATE)\n",
    "\n",
    "# Вычисление ROC AUC и accuracy с использованием cross_validate и заданными параметрами cv\n",
    "rfc_cv_scores = pd.DataFrame(cross_validate(rfc_model, features_train_encoded, target_train, cv=cv, scoring=scoring, verbose=10, n_jobs=-1))\n"
   ]
  },
  {
   "cell_type": "code",
   "execution_count": 68,
   "metadata": {},
   "outputs": [],
   "source": [
    "results['RandomForest'] = [rfc_cv_scores['test_roc_auc'].mean(),rfc_cv_scores['test_accuracy'].mean(),(rfc_cv_scores['fit_time'] + rfc_cv_scores['score_time']).mean()]"
   ]
  },
  {
   "cell_type": "markdown",
   "metadata": {},
   "source": [
    "### LightGBM"
   ]
  },
  {
   "cell_type": "code",
   "execution_count": 68,
   "metadata": {},
   "outputs": [
    {
     "name": "stderr",
     "output_type": "stream",
     "text": [
      "[I 2023-07-28 02:32:28,599] A new study created in memory with name: no-name-b0787990-a568-4e34-96b0-08e5fd666ea8\n"
     ]
    },
    {
     "name": "stdout",
     "output_type": "stream",
     "text": [
      "[LightGBM] [Warning] bagging_freq is set=1, subsample_freq=0 will be ignored. Current value: bagging_freq=1\n",
      "[LightGBM] [Warning] min_data_in_leaf is set=16, min_child_samples=20 will be ignored. Current value: min_data_in_leaf=16\n"
     ]
    },
    {
     "name": "stderr",
     "output_type": "stream",
     "text": [
      "[W 2023-07-28 02:32:34,677] Trial 0 failed with parameters: {'n_estimators': 900, 'learning_rate': 0.36808608148776095, 'num_leaves': 750, 'subsample': 0.6187255599871848, 'colsample_bytree': 0.19821770842031466, 'min_data_in_leaf': 16} because of the following error: KeyboardInterrupt().\n",
      "Traceback (most recent call last):\n",
      "  File \"/opt/conda/lib/python3.9/site-packages/optuna/study/_optimize.py\", line 200, in _run_trial\n",
      "    value_or_values = func(trial)\n",
      "  File \"/tmp/ipykernel_31/3984962666.py\", line 23, in objective\n",
      "    cv_results = cross_val_score(gbm, data, target, cv=5, scoring='roc_auc')\n",
      "  File \"/opt/conda/lib/python3.9/site-packages/sklearn/utils/validation.py\", line 63, in inner_f\n",
      "    return f(*args, **kwargs)\n",
      "  File \"/opt/conda/lib/python3.9/site-packages/sklearn/model_selection/_validation.py\", line 440, in cross_val_score\n",
      "    cv_results = cross_validate(estimator=estimator, X=X, y=y, groups=groups,\n",
      "  File \"/opt/conda/lib/python3.9/site-packages/sklearn/utils/validation.py\", line 63, in inner_f\n",
      "    return f(*args, **kwargs)\n",
      "  File \"/opt/conda/lib/python3.9/site-packages/sklearn/model_selection/_validation.py\", line 246, in cross_validate\n",
      "    results = parallel(\n",
      "  File \"/opt/conda/lib/python3.9/site-packages/joblib/parallel.py\", line 1043, in __call__\n",
      "    if self.dispatch_one_batch(iterator):\n",
      "  File \"/opt/conda/lib/python3.9/site-packages/joblib/parallel.py\", line 861, in dispatch_one_batch\n",
      "    self._dispatch(tasks)\n",
      "  File \"/opt/conda/lib/python3.9/site-packages/joblib/parallel.py\", line 779, in _dispatch\n",
      "    job = self._backend.apply_async(batch, callback=cb)\n",
      "  File \"/opt/conda/lib/python3.9/site-packages/joblib/_parallel_backends.py\", line 208, in apply_async\n",
      "    result = ImmediateResult(func)\n",
      "  File \"/opt/conda/lib/python3.9/site-packages/joblib/_parallel_backends.py\", line 572, in __init__\n",
      "    self.results = batch()\n",
      "  File \"/opt/conda/lib/python3.9/site-packages/joblib/parallel.py\", line 262, in __call__\n",
      "    return [func(*args, **kwargs)\n",
      "  File \"/opt/conda/lib/python3.9/site-packages/joblib/parallel.py\", line 262, in <listcomp>\n",
      "    return [func(*args, **kwargs)\n",
      "  File \"/opt/conda/lib/python3.9/site-packages/sklearn/utils/fixes.py\", line 222, in __call__\n",
      "    return self.function(*args, **kwargs)\n",
      "  File \"/opt/conda/lib/python3.9/site-packages/sklearn/model_selection/_validation.py\", line 593, in _fit_and_score\n",
      "    estimator.fit(X_train, y_train, **fit_params)\n",
      "  File \"/opt/conda/lib/python3.9/site-packages/lightgbm/sklearn.py\", line 967, in fit\n",
      "    super().fit(X, _y, sample_weight=sample_weight, init_score=init_score, eval_set=valid_sets,\n",
      "  File \"/opt/conda/lib/python3.9/site-packages/lightgbm/sklearn.py\", line 748, in fit\n",
      "    self._Booster = train(\n",
      "  File \"/opt/conda/lib/python3.9/site-packages/lightgbm/engine.py\", line 292, in train\n",
      "    booster.update(fobj=fobj)\n",
      "  File \"/opt/conda/lib/python3.9/site-packages/lightgbm/basic.py\", line 3021, in update\n",
      "    _safe_call(_LIB.LGBM_BoosterUpdateOneIter(\n",
      "KeyboardInterrupt\n",
      "[W 2023-07-28 02:32:34,681] Trial 0 failed with value None.\n"
     ]
    },
    {
     "ename": "KeyboardInterrupt",
     "evalue": "",
     "output_type": "error",
     "traceback": [
      "\u001b[0;31m---------------------------------------------------------------------------\u001b[0m",
      "\u001b[0;31mKeyboardInterrupt\u001b[0m                         Traceback (most recent call last)",
      "\u001b[0;32m/tmp/ipykernel_31/3984962666.py\u001b[0m in \u001b[0;36m<module>\u001b[0;34m\u001b[0m\n\u001b[1;32m     45\u001b[0m         \u001b[0mpruner\u001b[0m\u001b[0;34m=\u001b[0m\u001b[0moptuna\u001b[0m\u001b[0;34m.\u001b[0m\u001b[0mpruners\u001b[0m\u001b[0;34m.\u001b[0m\u001b[0mHyperbandPruner\u001b[0m\u001b[0;34m(\u001b[0m\u001b[0mmin_resource\u001b[0m\u001b[0;34m=\u001b[0m\u001b[0;36m25\u001b[0m\u001b[0;34m)\u001b[0m\u001b[0;34m,\u001b[0m \u001b[0mdirection\u001b[0m\u001b[0;34m=\u001b[0m\u001b[0;34m\"maximize\"\u001b[0m\u001b[0;34m,\u001b[0m \u001b[0msampler\u001b[0m \u001b[0;34m=\u001b[0m \u001b[0msampler\u001b[0m\u001b[0;34m\u001b[0m\u001b[0;34m\u001b[0m\u001b[0m\n\u001b[1;32m     46\u001b[0m     )\n\u001b[0;32m---> 47\u001b[0;31m     \u001b[0mstudy\u001b[0m\u001b[0;34m.\u001b[0m\u001b[0moptimize\u001b[0m\u001b[0;34m(\u001b[0m\u001b[0mobjective\u001b[0m\u001b[0;34m,\u001b[0m \u001b[0mn_trials\u001b[0m\u001b[0;34m=\u001b[0m\u001b[0;36m50\u001b[0m\u001b[0;34m,\u001b[0m \u001b[0mtimeout\u001b[0m\u001b[0;34m=\u001b[0m\u001b[0;36m600\u001b[0m\u001b[0;34m)\u001b[0m\u001b[0;34m\u001b[0m\u001b[0;34m\u001b[0m\u001b[0m\n\u001b[0m\u001b[1;32m     48\u001b[0m \u001b[0;34m\u001b[0m\u001b[0m\n\u001b[1;32m     49\u001b[0m     \u001b[0mprint\u001b[0m\u001b[0;34m(\u001b[0m\u001b[0;34m\"Number of finished trials: {}\"\u001b[0m\u001b[0;34m.\u001b[0m\u001b[0mformat\u001b[0m\u001b[0;34m(\u001b[0m\u001b[0mlen\u001b[0m\u001b[0;34m(\u001b[0m\u001b[0mstudy\u001b[0m\u001b[0;34m.\u001b[0m\u001b[0mtrials\u001b[0m\u001b[0;34m)\u001b[0m\u001b[0;34m)\u001b[0m\u001b[0;34m)\u001b[0m\u001b[0;34m\u001b[0m\u001b[0;34m\u001b[0m\u001b[0m\n",
      "\u001b[0;32m/opt/conda/lib/python3.9/site-packages/optuna/study/study.py\u001b[0m in \u001b[0;36moptimize\u001b[0;34m(self, func, n_trials, timeout, n_jobs, catch, callbacks, gc_after_trial, show_progress_bar)\u001b[0m\n\u001b[1;32m    441\u001b[0m         \"\"\"\n\u001b[1;32m    442\u001b[0m \u001b[0;34m\u001b[0m\u001b[0m\n\u001b[0;32m--> 443\u001b[0;31m         _optimize(\n\u001b[0m\u001b[1;32m    444\u001b[0m             \u001b[0mstudy\u001b[0m\u001b[0;34m=\u001b[0m\u001b[0mself\u001b[0m\u001b[0;34m,\u001b[0m\u001b[0;34m\u001b[0m\u001b[0;34m\u001b[0m\u001b[0m\n\u001b[1;32m    445\u001b[0m             \u001b[0mfunc\u001b[0m\u001b[0;34m=\u001b[0m\u001b[0mfunc\u001b[0m\u001b[0;34m,\u001b[0m\u001b[0;34m\u001b[0m\u001b[0;34m\u001b[0m\u001b[0m\n",
      "\u001b[0;32m/opt/conda/lib/python3.9/site-packages/optuna/study/_optimize.py\u001b[0m in \u001b[0;36m_optimize\u001b[0;34m(study, func, n_trials, timeout, n_jobs, catch, callbacks, gc_after_trial, show_progress_bar)\u001b[0m\n\u001b[1;32m     64\u001b[0m     \u001b[0;32mtry\u001b[0m\u001b[0;34m:\u001b[0m\u001b[0;34m\u001b[0m\u001b[0;34m\u001b[0m\u001b[0m\n\u001b[1;32m     65\u001b[0m         \u001b[0;32mif\u001b[0m \u001b[0mn_jobs\u001b[0m \u001b[0;34m==\u001b[0m \u001b[0;36m1\u001b[0m\u001b[0;34m:\u001b[0m\u001b[0;34m\u001b[0m\u001b[0;34m\u001b[0m\u001b[0m\n\u001b[0;32m---> 66\u001b[0;31m             _optimize_sequential(\n\u001b[0m\u001b[1;32m     67\u001b[0m                 \u001b[0mstudy\u001b[0m\u001b[0;34m,\u001b[0m\u001b[0;34m\u001b[0m\u001b[0;34m\u001b[0m\u001b[0m\n\u001b[1;32m     68\u001b[0m                 \u001b[0mfunc\u001b[0m\u001b[0;34m,\u001b[0m\u001b[0;34m\u001b[0m\u001b[0;34m\u001b[0m\u001b[0m\n",
      "\u001b[0;32m/opt/conda/lib/python3.9/site-packages/optuna/study/_optimize.py\u001b[0m in \u001b[0;36m_optimize_sequential\u001b[0;34m(study, func, n_trials, timeout, catch, callbacks, gc_after_trial, reseed_sampler_rng, time_start, progress_bar)\u001b[0m\n\u001b[1;32m    161\u001b[0m \u001b[0;34m\u001b[0m\u001b[0m\n\u001b[1;32m    162\u001b[0m         \u001b[0;32mtry\u001b[0m\u001b[0;34m:\u001b[0m\u001b[0;34m\u001b[0m\u001b[0;34m\u001b[0m\u001b[0m\n\u001b[0;32m--> 163\u001b[0;31m             \u001b[0mfrozen_trial\u001b[0m \u001b[0;34m=\u001b[0m \u001b[0m_run_trial\u001b[0m\u001b[0;34m(\u001b[0m\u001b[0mstudy\u001b[0m\u001b[0;34m,\u001b[0m \u001b[0mfunc\u001b[0m\u001b[0;34m,\u001b[0m \u001b[0mcatch\u001b[0m\u001b[0;34m)\u001b[0m\u001b[0;34m\u001b[0m\u001b[0;34m\u001b[0m\u001b[0m\n\u001b[0m\u001b[1;32m    164\u001b[0m         \u001b[0;32mfinally\u001b[0m\u001b[0;34m:\u001b[0m\u001b[0;34m\u001b[0m\u001b[0;34m\u001b[0m\u001b[0m\n\u001b[1;32m    165\u001b[0m             \u001b[0;31m# The following line mitigates memory problems that can be occurred in some\u001b[0m\u001b[0;34m\u001b[0m\u001b[0;34m\u001b[0m\u001b[0;34m\u001b[0m\u001b[0m\n",
      "\u001b[0;32m/opt/conda/lib/python3.9/site-packages/optuna/study/_optimize.py\u001b[0m in \u001b[0;36m_run_trial\u001b[0;34m(study, func, catch)\u001b[0m\n\u001b[1;32m    249\u001b[0m         \u001b[0;32mand\u001b[0m \u001b[0;32mnot\u001b[0m \u001b[0misinstance\u001b[0m\u001b[0;34m(\u001b[0m\u001b[0mfunc_err\u001b[0m\u001b[0;34m,\u001b[0m \u001b[0mcatch\u001b[0m\u001b[0;34m)\u001b[0m\u001b[0;34m\u001b[0m\u001b[0;34m\u001b[0m\u001b[0m\n\u001b[1;32m    250\u001b[0m     ):\n\u001b[0;32m--> 251\u001b[0;31m         \u001b[0;32mraise\u001b[0m \u001b[0mfunc_err\u001b[0m\u001b[0;34m\u001b[0m\u001b[0;34m\u001b[0m\u001b[0m\n\u001b[0m\u001b[1;32m    252\u001b[0m     \u001b[0;32mreturn\u001b[0m \u001b[0mfrozen_trial\u001b[0m\u001b[0;34m\u001b[0m\u001b[0;34m\u001b[0m\u001b[0m\n\u001b[1;32m    253\u001b[0m \u001b[0;34m\u001b[0m\u001b[0m\n",
      "\u001b[0;32m/opt/conda/lib/python3.9/site-packages/optuna/study/_optimize.py\u001b[0m in \u001b[0;36m_run_trial\u001b[0;34m(study, func, catch)\u001b[0m\n\u001b[1;32m    198\u001b[0m     \u001b[0;32mwith\u001b[0m \u001b[0mget_heartbeat_thread\u001b[0m\u001b[0;34m(\u001b[0m\u001b[0mtrial\u001b[0m\u001b[0;34m.\u001b[0m\u001b[0m_trial_id\u001b[0m\u001b[0;34m,\u001b[0m \u001b[0mstudy\u001b[0m\u001b[0;34m.\u001b[0m\u001b[0m_storage\u001b[0m\u001b[0;34m)\u001b[0m\u001b[0;34m:\u001b[0m\u001b[0;34m\u001b[0m\u001b[0;34m\u001b[0m\u001b[0m\n\u001b[1;32m    199\u001b[0m         \u001b[0;32mtry\u001b[0m\u001b[0;34m:\u001b[0m\u001b[0;34m\u001b[0m\u001b[0;34m\u001b[0m\u001b[0m\n\u001b[0;32m--> 200\u001b[0;31m             \u001b[0mvalue_or_values\u001b[0m \u001b[0;34m=\u001b[0m \u001b[0mfunc\u001b[0m\u001b[0;34m(\u001b[0m\u001b[0mtrial\u001b[0m\u001b[0;34m)\u001b[0m\u001b[0;34m\u001b[0m\u001b[0;34m\u001b[0m\u001b[0m\n\u001b[0m\u001b[1;32m    201\u001b[0m         \u001b[0;32mexcept\u001b[0m \u001b[0mexceptions\u001b[0m\u001b[0;34m.\u001b[0m\u001b[0mTrialPruned\u001b[0m \u001b[0;32mas\u001b[0m \u001b[0me\u001b[0m\u001b[0;34m:\u001b[0m\u001b[0;34m\u001b[0m\u001b[0;34m\u001b[0m\u001b[0m\n\u001b[1;32m    202\u001b[0m             \u001b[0;31m# TODO(mamu): Handle multi-objective cases.\u001b[0m\u001b[0;34m\u001b[0m\u001b[0;34m\u001b[0m\u001b[0;34m\u001b[0m\u001b[0m\n",
      "\u001b[0;32m/tmp/ipykernel_31/3984962666.py\u001b[0m in \u001b[0;36mobjective\u001b[0;34m(trial)\u001b[0m\n\u001b[1;32m     21\u001b[0m \u001b[0;34m\u001b[0m\u001b[0m\n\u001b[1;32m     22\u001b[0m     \u001b[0mgbm\u001b[0m \u001b[0;34m=\u001b[0m \u001b[0mlgb\u001b[0m\u001b[0;34m.\u001b[0m\u001b[0mLGBMClassifier\u001b[0m\u001b[0;34m(\u001b[0m\u001b[0;34m**\u001b[0m\u001b[0mparam\u001b[0m\u001b[0;34m)\u001b[0m\u001b[0;34m\u001b[0m\u001b[0;34m\u001b[0m\u001b[0m\n\u001b[0;32m---> 23\u001b[0;31m     \u001b[0mcv_results\u001b[0m \u001b[0;34m=\u001b[0m \u001b[0mcross_val_score\u001b[0m\u001b[0;34m(\u001b[0m\u001b[0mgbm\u001b[0m\u001b[0;34m,\u001b[0m \u001b[0mdata\u001b[0m\u001b[0;34m,\u001b[0m \u001b[0mtarget\u001b[0m\u001b[0;34m,\u001b[0m \u001b[0mcv\u001b[0m\u001b[0;34m=\u001b[0m\u001b[0;36m5\u001b[0m\u001b[0;34m,\u001b[0m \u001b[0mscoring\u001b[0m\u001b[0;34m=\u001b[0m\u001b[0;34m'roc_auc'\u001b[0m\u001b[0;34m)\u001b[0m\u001b[0;34m\u001b[0m\u001b[0;34m\u001b[0m\u001b[0m\n\u001b[0m\u001b[1;32m     24\u001b[0m     \u001b[0mscore\u001b[0m \u001b[0;34m=\u001b[0m \u001b[0mcv_results\u001b[0m\u001b[0;34m.\u001b[0m\u001b[0mmean\u001b[0m\u001b[0;34m(\u001b[0m\u001b[0;34m)\u001b[0m\u001b[0;34m\u001b[0m\u001b[0;34m\u001b[0m\u001b[0m\n\u001b[1;32m     25\u001b[0m \u001b[0;34m\u001b[0m\u001b[0m\n",
      "\u001b[0;32m/opt/conda/lib/python3.9/site-packages/sklearn/utils/validation.py\u001b[0m in \u001b[0;36minner_f\u001b[0;34m(*args, **kwargs)\u001b[0m\n\u001b[1;32m     61\u001b[0m             \u001b[0mextra_args\u001b[0m \u001b[0;34m=\u001b[0m \u001b[0mlen\u001b[0m\u001b[0;34m(\u001b[0m\u001b[0margs\u001b[0m\u001b[0;34m)\u001b[0m \u001b[0;34m-\u001b[0m \u001b[0mlen\u001b[0m\u001b[0;34m(\u001b[0m\u001b[0mall_args\u001b[0m\u001b[0;34m)\u001b[0m\u001b[0;34m\u001b[0m\u001b[0;34m\u001b[0m\u001b[0m\n\u001b[1;32m     62\u001b[0m             \u001b[0;32mif\u001b[0m \u001b[0mextra_args\u001b[0m \u001b[0;34m<=\u001b[0m \u001b[0;36m0\u001b[0m\u001b[0;34m:\u001b[0m\u001b[0;34m\u001b[0m\u001b[0;34m\u001b[0m\u001b[0m\n\u001b[0;32m---> 63\u001b[0;31m                 \u001b[0;32mreturn\u001b[0m \u001b[0mf\u001b[0m\u001b[0;34m(\u001b[0m\u001b[0;34m*\u001b[0m\u001b[0margs\u001b[0m\u001b[0;34m,\u001b[0m \u001b[0;34m**\u001b[0m\u001b[0mkwargs\u001b[0m\u001b[0;34m)\u001b[0m\u001b[0;34m\u001b[0m\u001b[0;34m\u001b[0m\u001b[0m\n\u001b[0m\u001b[1;32m     64\u001b[0m \u001b[0;34m\u001b[0m\u001b[0m\n\u001b[1;32m     65\u001b[0m             \u001b[0;31m# extra_args > 0\u001b[0m\u001b[0;34m\u001b[0m\u001b[0;34m\u001b[0m\u001b[0;34m\u001b[0m\u001b[0m\n",
      "\u001b[0;32m/opt/conda/lib/python3.9/site-packages/sklearn/model_selection/_validation.py\u001b[0m in \u001b[0;36mcross_val_score\u001b[0;34m(estimator, X, y, groups, scoring, cv, n_jobs, verbose, fit_params, pre_dispatch, error_score)\u001b[0m\n\u001b[1;32m    438\u001b[0m     \u001b[0mscorer\u001b[0m \u001b[0;34m=\u001b[0m \u001b[0mcheck_scoring\u001b[0m\u001b[0;34m(\u001b[0m\u001b[0mestimator\u001b[0m\u001b[0;34m,\u001b[0m \u001b[0mscoring\u001b[0m\u001b[0;34m=\u001b[0m\u001b[0mscoring\u001b[0m\u001b[0;34m)\u001b[0m\u001b[0;34m\u001b[0m\u001b[0;34m\u001b[0m\u001b[0m\n\u001b[1;32m    439\u001b[0m \u001b[0;34m\u001b[0m\u001b[0m\n\u001b[0;32m--> 440\u001b[0;31m     cv_results = cross_validate(estimator=estimator, X=X, y=y, groups=groups,\n\u001b[0m\u001b[1;32m    441\u001b[0m                                 \u001b[0mscoring\u001b[0m\u001b[0;34m=\u001b[0m\u001b[0;34m{\u001b[0m\u001b[0;34m'score'\u001b[0m\u001b[0;34m:\u001b[0m \u001b[0mscorer\u001b[0m\u001b[0;34m}\u001b[0m\u001b[0;34m,\u001b[0m \u001b[0mcv\u001b[0m\u001b[0;34m=\u001b[0m\u001b[0mcv\u001b[0m\u001b[0;34m,\u001b[0m\u001b[0;34m\u001b[0m\u001b[0;34m\u001b[0m\u001b[0m\n\u001b[1;32m    442\u001b[0m                                 \u001b[0mn_jobs\u001b[0m\u001b[0;34m=\u001b[0m\u001b[0mn_jobs\u001b[0m\u001b[0;34m,\u001b[0m \u001b[0mverbose\u001b[0m\u001b[0;34m=\u001b[0m\u001b[0mverbose\u001b[0m\u001b[0;34m,\u001b[0m\u001b[0;34m\u001b[0m\u001b[0;34m\u001b[0m\u001b[0m\n",
      "\u001b[0;32m/opt/conda/lib/python3.9/site-packages/sklearn/utils/validation.py\u001b[0m in \u001b[0;36minner_f\u001b[0;34m(*args, **kwargs)\u001b[0m\n\u001b[1;32m     61\u001b[0m             \u001b[0mextra_args\u001b[0m \u001b[0;34m=\u001b[0m \u001b[0mlen\u001b[0m\u001b[0;34m(\u001b[0m\u001b[0margs\u001b[0m\u001b[0;34m)\u001b[0m \u001b[0;34m-\u001b[0m \u001b[0mlen\u001b[0m\u001b[0;34m(\u001b[0m\u001b[0mall_args\u001b[0m\u001b[0;34m)\u001b[0m\u001b[0;34m\u001b[0m\u001b[0;34m\u001b[0m\u001b[0m\n\u001b[1;32m     62\u001b[0m             \u001b[0;32mif\u001b[0m \u001b[0mextra_args\u001b[0m \u001b[0;34m<=\u001b[0m \u001b[0;36m0\u001b[0m\u001b[0;34m:\u001b[0m\u001b[0;34m\u001b[0m\u001b[0;34m\u001b[0m\u001b[0m\n\u001b[0;32m---> 63\u001b[0;31m                 \u001b[0;32mreturn\u001b[0m \u001b[0mf\u001b[0m\u001b[0;34m(\u001b[0m\u001b[0;34m*\u001b[0m\u001b[0margs\u001b[0m\u001b[0;34m,\u001b[0m \u001b[0;34m**\u001b[0m\u001b[0mkwargs\u001b[0m\u001b[0;34m)\u001b[0m\u001b[0;34m\u001b[0m\u001b[0;34m\u001b[0m\u001b[0m\n\u001b[0m\u001b[1;32m     64\u001b[0m \u001b[0;34m\u001b[0m\u001b[0m\n\u001b[1;32m     65\u001b[0m             \u001b[0;31m# extra_args > 0\u001b[0m\u001b[0;34m\u001b[0m\u001b[0;34m\u001b[0m\u001b[0;34m\u001b[0m\u001b[0m\n",
      "\u001b[0;32m/opt/conda/lib/python3.9/site-packages/sklearn/model_selection/_validation.py\u001b[0m in \u001b[0;36mcross_validate\u001b[0;34m(estimator, X, y, groups, scoring, cv, n_jobs, verbose, fit_params, pre_dispatch, return_train_score, return_estimator, error_score)\u001b[0m\n\u001b[1;32m    244\u001b[0m     parallel = Parallel(n_jobs=n_jobs, verbose=verbose,\n\u001b[1;32m    245\u001b[0m                         pre_dispatch=pre_dispatch)\n\u001b[0;32m--> 246\u001b[0;31m     results = parallel(\n\u001b[0m\u001b[1;32m    247\u001b[0m         delayed(_fit_and_score)(\n\u001b[1;32m    248\u001b[0m             \u001b[0mclone\u001b[0m\u001b[0;34m(\u001b[0m\u001b[0mestimator\u001b[0m\u001b[0;34m)\u001b[0m\u001b[0;34m,\u001b[0m \u001b[0mX\u001b[0m\u001b[0;34m,\u001b[0m \u001b[0my\u001b[0m\u001b[0;34m,\u001b[0m \u001b[0mscorers\u001b[0m\u001b[0;34m,\u001b[0m \u001b[0mtrain\u001b[0m\u001b[0;34m,\u001b[0m \u001b[0mtest\u001b[0m\u001b[0;34m,\u001b[0m \u001b[0mverbose\u001b[0m\u001b[0;34m,\u001b[0m \u001b[0;32mNone\u001b[0m\u001b[0;34m,\u001b[0m\u001b[0;34m\u001b[0m\u001b[0;34m\u001b[0m\u001b[0m\n",
      "\u001b[0;32m/opt/conda/lib/python3.9/site-packages/joblib/parallel.py\u001b[0m in \u001b[0;36m__call__\u001b[0;34m(self, iterable)\u001b[0m\n\u001b[1;32m   1041\u001b[0m             \u001b[0;31m# remaining jobs.\u001b[0m\u001b[0;34m\u001b[0m\u001b[0;34m\u001b[0m\u001b[0;34m\u001b[0m\u001b[0m\n\u001b[1;32m   1042\u001b[0m             \u001b[0mself\u001b[0m\u001b[0;34m.\u001b[0m\u001b[0m_iterating\u001b[0m \u001b[0;34m=\u001b[0m \u001b[0;32mFalse\u001b[0m\u001b[0;34m\u001b[0m\u001b[0;34m\u001b[0m\u001b[0m\n\u001b[0;32m-> 1043\u001b[0;31m             \u001b[0;32mif\u001b[0m \u001b[0mself\u001b[0m\u001b[0;34m.\u001b[0m\u001b[0mdispatch_one_batch\u001b[0m\u001b[0;34m(\u001b[0m\u001b[0miterator\u001b[0m\u001b[0;34m)\u001b[0m\u001b[0;34m:\u001b[0m\u001b[0;34m\u001b[0m\u001b[0;34m\u001b[0m\u001b[0m\n\u001b[0m\u001b[1;32m   1044\u001b[0m                 \u001b[0mself\u001b[0m\u001b[0;34m.\u001b[0m\u001b[0m_iterating\u001b[0m \u001b[0;34m=\u001b[0m \u001b[0mself\u001b[0m\u001b[0;34m.\u001b[0m\u001b[0m_original_iterator\u001b[0m \u001b[0;32mis\u001b[0m \u001b[0;32mnot\u001b[0m \u001b[0;32mNone\u001b[0m\u001b[0;34m\u001b[0m\u001b[0;34m\u001b[0m\u001b[0m\n\u001b[1;32m   1045\u001b[0m \u001b[0;34m\u001b[0m\u001b[0m\n",
      "\u001b[0;32m/opt/conda/lib/python3.9/site-packages/joblib/parallel.py\u001b[0m in \u001b[0;36mdispatch_one_batch\u001b[0;34m(self, iterator)\u001b[0m\n\u001b[1;32m    859\u001b[0m                 \u001b[0;32mreturn\u001b[0m \u001b[0;32mFalse\u001b[0m\u001b[0;34m\u001b[0m\u001b[0;34m\u001b[0m\u001b[0m\n\u001b[1;32m    860\u001b[0m             \u001b[0;32melse\u001b[0m\u001b[0;34m:\u001b[0m\u001b[0;34m\u001b[0m\u001b[0;34m\u001b[0m\u001b[0m\n\u001b[0;32m--> 861\u001b[0;31m                 \u001b[0mself\u001b[0m\u001b[0;34m.\u001b[0m\u001b[0m_dispatch\u001b[0m\u001b[0;34m(\u001b[0m\u001b[0mtasks\u001b[0m\u001b[0;34m)\u001b[0m\u001b[0;34m\u001b[0m\u001b[0;34m\u001b[0m\u001b[0m\n\u001b[0m\u001b[1;32m    862\u001b[0m                 \u001b[0;32mreturn\u001b[0m \u001b[0;32mTrue\u001b[0m\u001b[0;34m\u001b[0m\u001b[0;34m\u001b[0m\u001b[0m\n\u001b[1;32m    863\u001b[0m \u001b[0;34m\u001b[0m\u001b[0m\n",
      "\u001b[0;32m/opt/conda/lib/python3.9/site-packages/joblib/parallel.py\u001b[0m in \u001b[0;36m_dispatch\u001b[0;34m(self, batch)\u001b[0m\n\u001b[1;32m    777\u001b[0m         \u001b[0;32mwith\u001b[0m \u001b[0mself\u001b[0m\u001b[0;34m.\u001b[0m\u001b[0m_lock\u001b[0m\u001b[0;34m:\u001b[0m\u001b[0;34m\u001b[0m\u001b[0;34m\u001b[0m\u001b[0m\n\u001b[1;32m    778\u001b[0m             \u001b[0mjob_idx\u001b[0m \u001b[0;34m=\u001b[0m \u001b[0mlen\u001b[0m\u001b[0;34m(\u001b[0m\u001b[0mself\u001b[0m\u001b[0;34m.\u001b[0m\u001b[0m_jobs\u001b[0m\u001b[0;34m)\u001b[0m\u001b[0;34m\u001b[0m\u001b[0;34m\u001b[0m\u001b[0m\n\u001b[0;32m--> 779\u001b[0;31m             \u001b[0mjob\u001b[0m \u001b[0;34m=\u001b[0m \u001b[0mself\u001b[0m\u001b[0;34m.\u001b[0m\u001b[0m_backend\u001b[0m\u001b[0;34m.\u001b[0m\u001b[0mapply_async\u001b[0m\u001b[0;34m(\u001b[0m\u001b[0mbatch\u001b[0m\u001b[0;34m,\u001b[0m \u001b[0mcallback\u001b[0m\u001b[0;34m=\u001b[0m\u001b[0mcb\u001b[0m\u001b[0;34m)\u001b[0m\u001b[0;34m\u001b[0m\u001b[0;34m\u001b[0m\u001b[0m\n\u001b[0m\u001b[1;32m    780\u001b[0m             \u001b[0;31m# A job can complete so quickly than its callback is\u001b[0m\u001b[0;34m\u001b[0m\u001b[0;34m\u001b[0m\u001b[0;34m\u001b[0m\u001b[0m\n\u001b[1;32m    781\u001b[0m             \u001b[0;31m# called before we get here, causing self._jobs to\u001b[0m\u001b[0;34m\u001b[0m\u001b[0;34m\u001b[0m\u001b[0;34m\u001b[0m\u001b[0m\n",
      "\u001b[0;32m/opt/conda/lib/python3.9/site-packages/joblib/_parallel_backends.py\u001b[0m in \u001b[0;36mapply_async\u001b[0;34m(self, func, callback)\u001b[0m\n\u001b[1;32m    206\u001b[0m     \u001b[0;32mdef\u001b[0m \u001b[0mapply_async\u001b[0m\u001b[0;34m(\u001b[0m\u001b[0mself\u001b[0m\u001b[0;34m,\u001b[0m \u001b[0mfunc\u001b[0m\u001b[0;34m,\u001b[0m \u001b[0mcallback\u001b[0m\u001b[0;34m=\u001b[0m\u001b[0;32mNone\u001b[0m\u001b[0;34m)\u001b[0m\u001b[0;34m:\u001b[0m\u001b[0;34m\u001b[0m\u001b[0;34m\u001b[0m\u001b[0m\n\u001b[1;32m    207\u001b[0m         \u001b[0;34m\"\"\"Schedule a func to be run\"\"\"\u001b[0m\u001b[0;34m\u001b[0m\u001b[0;34m\u001b[0m\u001b[0m\n\u001b[0;32m--> 208\u001b[0;31m         \u001b[0mresult\u001b[0m \u001b[0;34m=\u001b[0m \u001b[0mImmediateResult\u001b[0m\u001b[0;34m(\u001b[0m\u001b[0mfunc\u001b[0m\u001b[0;34m)\u001b[0m\u001b[0;34m\u001b[0m\u001b[0;34m\u001b[0m\u001b[0m\n\u001b[0m\u001b[1;32m    209\u001b[0m         \u001b[0;32mif\u001b[0m \u001b[0mcallback\u001b[0m\u001b[0;34m:\u001b[0m\u001b[0;34m\u001b[0m\u001b[0;34m\u001b[0m\u001b[0m\n\u001b[1;32m    210\u001b[0m             \u001b[0mcallback\u001b[0m\u001b[0;34m(\u001b[0m\u001b[0mresult\u001b[0m\u001b[0;34m)\u001b[0m\u001b[0;34m\u001b[0m\u001b[0;34m\u001b[0m\u001b[0m\n",
      "\u001b[0;32m/opt/conda/lib/python3.9/site-packages/joblib/_parallel_backends.py\u001b[0m in \u001b[0;36m__init__\u001b[0;34m(self, batch)\u001b[0m\n\u001b[1;32m    570\u001b[0m         \u001b[0;31m# Don't delay the application, to avoid keeping the input\u001b[0m\u001b[0;34m\u001b[0m\u001b[0;34m\u001b[0m\u001b[0;34m\u001b[0m\u001b[0m\n\u001b[1;32m    571\u001b[0m         \u001b[0;31m# arguments in memory\u001b[0m\u001b[0;34m\u001b[0m\u001b[0;34m\u001b[0m\u001b[0;34m\u001b[0m\u001b[0m\n\u001b[0;32m--> 572\u001b[0;31m         \u001b[0mself\u001b[0m\u001b[0;34m.\u001b[0m\u001b[0mresults\u001b[0m \u001b[0;34m=\u001b[0m \u001b[0mbatch\u001b[0m\u001b[0;34m(\u001b[0m\u001b[0;34m)\u001b[0m\u001b[0;34m\u001b[0m\u001b[0;34m\u001b[0m\u001b[0m\n\u001b[0m\u001b[1;32m    573\u001b[0m \u001b[0;34m\u001b[0m\u001b[0m\n\u001b[1;32m    574\u001b[0m     \u001b[0;32mdef\u001b[0m \u001b[0mget\u001b[0m\u001b[0;34m(\u001b[0m\u001b[0mself\u001b[0m\u001b[0;34m)\u001b[0m\u001b[0;34m:\u001b[0m\u001b[0;34m\u001b[0m\u001b[0;34m\u001b[0m\u001b[0m\n",
      "\u001b[0;32m/opt/conda/lib/python3.9/site-packages/joblib/parallel.py\u001b[0m in \u001b[0;36m__call__\u001b[0;34m(self)\u001b[0m\n\u001b[1;32m    260\u001b[0m         \u001b[0;31m# change the default number of processes to -1\u001b[0m\u001b[0;34m\u001b[0m\u001b[0;34m\u001b[0m\u001b[0;34m\u001b[0m\u001b[0m\n\u001b[1;32m    261\u001b[0m         \u001b[0;32mwith\u001b[0m \u001b[0mparallel_backend\u001b[0m\u001b[0;34m(\u001b[0m\u001b[0mself\u001b[0m\u001b[0;34m.\u001b[0m\u001b[0m_backend\u001b[0m\u001b[0;34m,\u001b[0m \u001b[0mn_jobs\u001b[0m\u001b[0;34m=\u001b[0m\u001b[0mself\u001b[0m\u001b[0;34m.\u001b[0m\u001b[0m_n_jobs\u001b[0m\u001b[0;34m)\u001b[0m\u001b[0;34m:\u001b[0m\u001b[0;34m\u001b[0m\u001b[0;34m\u001b[0m\u001b[0m\n\u001b[0;32m--> 262\u001b[0;31m             return [func(*args, **kwargs)\n\u001b[0m\u001b[1;32m    263\u001b[0m                     for func, args, kwargs in self.items]\n\u001b[1;32m    264\u001b[0m \u001b[0;34m\u001b[0m\u001b[0m\n",
      "\u001b[0;32m/opt/conda/lib/python3.9/site-packages/joblib/parallel.py\u001b[0m in \u001b[0;36m<listcomp>\u001b[0;34m(.0)\u001b[0m\n\u001b[1;32m    260\u001b[0m         \u001b[0;31m# change the default number of processes to -1\u001b[0m\u001b[0;34m\u001b[0m\u001b[0;34m\u001b[0m\u001b[0;34m\u001b[0m\u001b[0m\n\u001b[1;32m    261\u001b[0m         \u001b[0;32mwith\u001b[0m \u001b[0mparallel_backend\u001b[0m\u001b[0;34m(\u001b[0m\u001b[0mself\u001b[0m\u001b[0;34m.\u001b[0m\u001b[0m_backend\u001b[0m\u001b[0;34m,\u001b[0m \u001b[0mn_jobs\u001b[0m\u001b[0;34m=\u001b[0m\u001b[0mself\u001b[0m\u001b[0;34m.\u001b[0m\u001b[0m_n_jobs\u001b[0m\u001b[0;34m)\u001b[0m\u001b[0;34m:\u001b[0m\u001b[0;34m\u001b[0m\u001b[0;34m\u001b[0m\u001b[0m\n\u001b[0;32m--> 262\u001b[0;31m             return [func(*args, **kwargs)\n\u001b[0m\u001b[1;32m    263\u001b[0m                     for func, args, kwargs in self.items]\n\u001b[1;32m    264\u001b[0m \u001b[0;34m\u001b[0m\u001b[0m\n",
      "\u001b[0;32m/opt/conda/lib/python3.9/site-packages/sklearn/utils/fixes.py\u001b[0m in \u001b[0;36m__call__\u001b[0;34m(self, *args, **kwargs)\u001b[0m\n\u001b[1;32m    220\u001b[0m     \u001b[0;32mdef\u001b[0m \u001b[0m__call__\u001b[0m\u001b[0;34m(\u001b[0m\u001b[0mself\u001b[0m\u001b[0;34m,\u001b[0m \u001b[0;34m*\u001b[0m\u001b[0margs\u001b[0m\u001b[0;34m,\u001b[0m \u001b[0;34m**\u001b[0m\u001b[0mkwargs\u001b[0m\u001b[0;34m)\u001b[0m\u001b[0;34m:\u001b[0m\u001b[0;34m\u001b[0m\u001b[0;34m\u001b[0m\u001b[0m\n\u001b[1;32m    221\u001b[0m         \u001b[0;32mwith\u001b[0m \u001b[0mconfig_context\u001b[0m\u001b[0;34m(\u001b[0m\u001b[0;34m**\u001b[0m\u001b[0mself\u001b[0m\u001b[0;34m.\u001b[0m\u001b[0mconfig\u001b[0m\u001b[0;34m)\u001b[0m\u001b[0;34m:\u001b[0m\u001b[0;34m\u001b[0m\u001b[0;34m\u001b[0m\u001b[0m\n\u001b[0;32m--> 222\u001b[0;31m             \u001b[0;32mreturn\u001b[0m \u001b[0mself\u001b[0m\u001b[0;34m.\u001b[0m\u001b[0mfunction\u001b[0m\u001b[0;34m(\u001b[0m\u001b[0;34m*\u001b[0m\u001b[0margs\u001b[0m\u001b[0;34m,\u001b[0m \u001b[0;34m**\u001b[0m\u001b[0mkwargs\u001b[0m\u001b[0;34m)\u001b[0m\u001b[0;34m\u001b[0m\u001b[0;34m\u001b[0m\u001b[0m\n\u001b[0m",
      "\u001b[0;32m/opt/conda/lib/python3.9/site-packages/sklearn/model_selection/_validation.py\u001b[0m in \u001b[0;36m_fit_and_score\u001b[0;34m(estimator, X, y, scorer, train, test, verbose, parameters, fit_params, return_train_score, return_parameters, return_n_test_samples, return_times, return_estimator, split_progress, candidate_progress, error_score)\u001b[0m\n\u001b[1;32m    591\u001b[0m             \u001b[0mestimator\u001b[0m\u001b[0;34m.\u001b[0m\u001b[0mfit\u001b[0m\u001b[0;34m(\u001b[0m\u001b[0mX_train\u001b[0m\u001b[0;34m,\u001b[0m \u001b[0;34m**\u001b[0m\u001b[0mfit_params\u001b[0m\u001b[0;34m)\u001b[0m\u001b[0;34m\u001b[0m\u001b[0;34m\u001b[0m\u001b[0m\n\u001b[1;32m    592\u001b[0m         \u001b[0;32melse\u001b[0m\u001b[0;34m:\u001b[0m\u001b[0;34m\u001b[0m\u001b[0;34m\u001b[0m\u001b[0m\n\u001b[0;32m--> 593\u001b[0;31m             \u001b[0mestimator\u001b[0m\u001b[0;34m.\u001b[0m\u001b[0mfit\u001b[0m\u001b[0;34m(\u001b[0m\u001b[0mX_train\u001b[0m\u001b[0;34m,\u001b[0m \u001b[0my_train\u001b[0m\u001b[0;34m,\u001b[0m \u001b[0;34m**\u001b[0m\u001b[0mfit_params\u001b[0m\u001b[0;34m)\u001b[0m\u001b[0;34m\u001b[0m\u001b[0;34m\u001b[0m\u001b[0m\n\u001b[0m\u001b[1;32m    594\u001b[0m \u001b[0;34m\u001b[0m\u001b[0m\n\u001b[1;32m    595\u001b[0m     \u001b[0;32mexcept\u001b[0m \u001b[0mException\u001b[0m \u001b[0;32mas\u001b[0m \u001b[0me\u001b[0m\u001b[0;34m:\u001b[0m\u001b[0;34m\u001b[0m\u001b[0;34m\u001b[0m\u001b[0m\n",
      "\u001b[0;32m/opt/conda/lib/python3.9/site-packages/lightgbm/sklearn.py\u001b[0m in \u001b[0;36mfit\u001b[0;34m(self, X, y, sample_weight, init_score, eval_set, eval_names, eval_sample_weight, eval_class_weight, eval_init_score, eval_metric, early_stopping_rounds, verbose, feature_name, categorical_feature, callbacks, init_model)\u001b[0m\n\u001b[1;32m    965\u001b[0m                     \u001b[0mvalid_sets\u001b[0m\u001b[0;34m[\u001b[0m\u001b[0mi\u001b[0m\u001b[0;34m]\u001b[0m \u001b[0;34m=\u001b[0m \u001b[0;34m(\u001b[0m\u001b[0mvalid_x\u001b[0m\u001b[0;34m,\u001b[0m \u001b[0mself\u001b[0m\u001b[0;34m.\u001b[0m\u001b[0m_le\u001b[0m\u001b[0;34m.\u001b[0m\u001b[0mtransform\u001b[0m\u001b[0;34m(\u001b[0m\u001b[0mvalid_y\u001b[0m\u001b[0;34m)\u001b[0m\u001b[0;34m)\u001b[0m\u001b[0;34m\u001b[0m\u001b[0;34m\u001b[0m\u001b[0m\n\u001b[1;32m    966\u001b[0m \u001b[0;34m\u001b[0m\u001b[0m\n\u001b[0;32m--> 967\u001b[0;31m         super().fit(X, _y, sample_weight=sample_weight, init_score=init_score, eval_set=valid_sets,\n\u001b[0m\u001b[1;32m    968\u001b[0m                     \u001b[0meval_names\u001b[0m\u001b[0;34m=\u001b[0m\u001b[0meval_names\u001b[0m\u001b[0;34m,\u001b[0m \u001b[0meval_sample_weight\u001b[0m\u001b[0;34m=\u001b[0m\u001b[0meval_sample_weight\u001b[0m\u001b[0;34m,\u001b[0m\u001b[0;34m\u001b[0m\u001b[0;34m\u001b[0m\u001b[0m\n\u001b[1;32m    969\u001b[0m                     \u001b[0meval_class_weight\u001b[0m\u001b[0;34m=\u001b[0m\u001b[0meval_class_weight\u001b[0m\u001b[0;34m,\u001b[0m \u001b[0meval_init_score\u001b[0m\u001b[0;34m=\u001b[0m\u001b[0meval_init_score\u001b[0m\u001b[0;34m,\u001b[0m\u001b[0;34m\u001b[0m\u001b[0;34m\u001b[0m\u001b[0m\n",
      "\u001b[0;32m/opt/conda/lib/python3.9/site-packages/lightgbm/sklearn.py\u001b[0m in \u001b[0;36mfit\u001b[0;34m(self, X, y, sample_weight, init_score, group, eval_set, eval_names, eval_sample_weight, eval_class_weight, eval_init_score, eval_group, eval_metric, early_stopping_rounds, verbose, feature_name, categorical_feature, callbacks, init_model)\u001b[0m\n\u001b[1;32m    746\u001b[0m         \u001b[0mcallbacks\u001b[0m\u001b[0;34m.\u001b[0m\u001b[0mappend\u001b[0m\u001b[0;34m(\u001b[0m\u001b[0mrecord_evaluation\u001b[0m\u001b[0;34m(\u001b[0m\u001b[0mevals_result\u001b[0m\u001b[0;34m)\u001b[0m\u001b[0;34m)\u001b[0m\u001b[0;34m\u001b[0m\u001b[0;34m\u001b[0m\u001b[0m\n\u001b[1;32m    747\u001b[0m \u001b[0;34m\u001b[0m\u001b[0m\n\u001b[0;32m--> 748\u001b[0;31m         self._Booster = train(\n\u001b[0m\u001b[1;32m    749\u001b[0m             \u001b[0mparams\u001b[0m\u001b[0;34m=\u001b[0m\u001b[0mparams\u001b[0m\u001b[0;34m,\u001b[0m\u001b[0;34m\u001b[0m\u001b[0;34m\u001b[0m\u001b[0m\n\u001b[1;32m    750\u001b[0m             \u001b[0mtrain_set\u001b[0m\u001b[0;34m=\u001b[0m\u001b[0mtrain_set\u001b[0m\u001b[0;34m,\u001b[0m\u001b[0;34m\u001b[0m\u001b[0;34m\u001b[0m\u001b[0m\n",
      "\u001b[0;32m/opt/conda/lib/python3.9/site-packages/lightgbm/engine.py\u001b[0m in \u001b[0;36mtrain\u001b[0;34m(params, train_set, num_boost_round, valid_sets, valid_names, fobj, feval, init_model, feature_name, categorical_feature, early_stopping_rounds, evals_result, verbose_eval, learning_rates, keep_training_booster, callbacks)\u001b[0m\n\u001b[1;32m    290\u001b[0m                                     evaluation_result_list=None))\n\u001b[1;32m    291\u001b[0m \u001b[0;34m\u001b[0m\u001b[0m\n\u001b[0;32m--> 292\u001b[0;31m         \u001b[0mbooster\u001b[0m\u001b[0;34m.\u001b[0m\u001b[0mupdate\u001b[0m\u001b[0;34m(\u001b[0m\u001b[0mfobj\u001b[0m\u001b[0;34m=\u001b[0m\u001b[0mfobj\u001b[0m\u001b[0;34m)\u001b[0m\u001b[0;34m\u001b[0m\u001b[0;34m\u001b[0m\u001b[0m\n\u001b[0m\u001b[1;32m    293\u001b[0m \u001b[0;34m\u001b[0m\u001b[0m\n\u001b[1;32m    294\u001b[0m         \u001b[0mevaluation_result_list\u001b[0m \u001b[0;34m=\u001b[0m \u001b[0;34m[\u001b[0m\u001b[0;34m]\u001b[0m\u001b[0;34m\u001b[0m\u001b[0;34m\u001b[0m\u001b[0m\n",
      "\u001b[0;32m/opt/conda/lib/python3.9/site-packages/lightgbm/basic.py\u001b[0m in \u001b[0;36mupdate\u001b[0;34m(self, train_set, fobj)\u001b[0m\n\u001b[1;32m   3019\u001b[0m             \u001b[0;32mif\u001b[0m \u001b[0mself\u001b[0m\u001b[0;34m.\u001b[0m\u001b[0m__set_objective_to_none\u001b[0m\u001b[0;34m:\u001b[0m\u001b[0;34m\u001b[0m\u001b[0;34m\u001b[0m\u001b[0m\n\u001b[1;32m   3020\u001b[0m                 \u001b[0;32mraise\u001b[0m \u001b[0mLightGBMError\u001b[0m\u001b[0;34m(\u001b[0m\u001b[0;34m'Cannot update due to null objective function.'\u001b[0m\u001b[0;34m)\u001b[0m\u001b[0;34m\u001b[0m\u001b[0;34m\u001b[0m\u001b[0m\n\u001b[0;32m-> 3021\u001b[0;31m             _safe_call(_LIB.LGBM_BoosterUpdateOneIter(\n\u001b[0m\u001b[1;32m   3022\u001b[0m                 \u001b[0mself\u001b[0m\u001b[0;34m.\u001b[0m\u001b[0mhandle\u001b[0m\u001b[0;34m,\u001b[0m\u001b[0;34m\u001b[0m\u001b[0;34m\u001b[0m\u001b[0m\n\u001b[1;32m   3023\u001b[0m                 ctypes.byref(is_finished)))\n",
      "\u001b[0;31mKeyboardInterrupt\u001b[0m: "
     ]
    }
   ],
   "source": [
    "# Подбор гиперпараметров с OPTUNA\n",
    "def objective(trial: optuna.Trial) -> float:\n",
    "    data, target = features_train_encoded, target_train\n",
    "    train_x, valid_x, train_y, valid_y = train_test_split(data, target, test_size=0.2)\n",
    "\n",
    "    param = {\n",
    "        \"objective\": \"binary\",\n",
    "        \"metric\": \"auc\",\n",
    "        \"verbosity\": -1,\n",
    "        \"bagging_freq\": 1,\n",
    "        \"n_estimators\": trial.suggest_int(\"n_estimators\", 400, 1900, step=100),\n",
    "        \"learning_rate\": trial.suggest_float(\"learning_rate\", 0.001, 0.5, log=True),\n",
    "        \"num_leaves\": trial.suggest_int(\"num_leaves\", 2, 2**10),\n",
    "        \"subsample\": trial.suggest_float(\"subsample\", 0.05, 1.0),\n",
    "        \"colsample_bytree\": trial.suggest_float(\"colsample_bytree\", 0.05, 1.0),\n",
    "        \"min_data_in_leaf\": trial.suggest_int(\"min_data_in_leaf\", 1, 100),\n",
    "        \"random_state\": RANDOM_STATE\n",
    "  #      \"categorical_feature\": \"name:\"+CAT_FEATURES\n",
    "     }\n",
    "\n",
    "\n",
    "    gbm = lgb.LGBMClassifier(**param)\n",
    "    cv_results = cross_val_score(gbm, data, target, cv=5, scoring='roc_auc')\n",
    "    score = cv_results.mean()\n",
    "\n",
    "    return score\n",
    "\n",
    "    pruning_callback = LightGBMPruningCallback(trial, \"auc\")\n",
    "    gbm.fit(\n",
    "        train_x,\n",
    "        train_y,\n",
    "        eval_set=[(valid_x, valid_y)],\n",
    "        verbose=0,\n",
    "        early_stopping_rounds=100,\n",
    "        callbacks=[pruning_callback],\n",
    "    )\n",
    "\n",
    "    \n",
    "\n",
    "\n",
    "if __name__ == \"__main__\":\n",
    "    sampler = optuna.samplers.TPESampler(seed=42)\n",
    "\n",
    "    study = optuna.create_study(\n",
    "        pruner=optuna.pruners.HyperbandPruner(min_resource=25), direction=\"maximize\", sampler = sampler\n",
    "    )\n",
    "    study.optimize(objective, n_trials=50, timeout=600)\n",
    "\n",
    "    print(\"Number of finished trials: {}\".format(len(study.trials)))\n",
    "\n",
    "    print(\"Best trial:\")\n",
    "    trial = study.best_trial\n",
    "\n",
    "    print(\"  Value: {}\".format(trial.value))\n",
    "\n",
    "    print(\"  Params: \")\n",
    "    for key, value in trial.params.items():\n",
    "        print(\"    {}: {}\".format(key, value))"
   ]
  },
  {
   "cell_type": "code",
   "execution_count": 73,
   "metadata": {},
   "outputs": [],
   "source": [
    "# Параметры, подобранные с Optuna\n",
    "lgb_params = {\n",
    "    \"objective\": \"binary\",\n",
    "    \"metric\": \"auc\",\n",
    "    \"verbosity\": -1,\n",
    "    \"bagging_freq\": 1,\n",
    "    \"n_estimators\": 400,\n",
    "    \"learning_rate\": 0.21766241123453672,\n",
    "    \"num_leaves\": 616,\n",
    "    \"subsample\": 0.7226689489062432,\n",
    "    \"colsample_bytree\": 0.06955526958101232,\n",
    "    \"min_data_in_leaf\": 97,\n",
    "    \"random_state\": RANDOM_STATE\n",
    "}"
   ]
  },
  {
   "cell_type": "code",
   "execution_count": 74,
   "metadata": {},
   "outputs": [
    {
     "name": "stderr",
     "output_type": "stream",
     "text": [
      "[Parallel(n_jobs=-1)]: Using backend SequentialBackend with 1 concurrent workers.\n"
     ]
    },
    {
     "name": "stdout",
     "output_type": "stream",
     "text": [
      "[CV] START .....................................................................\n",
      "[LightGBM] [Warning] bagging_freq is set=1, subsample_freq=0 will be ignored. Current value: bagging_freq=1\n",
      "[LightGBM] [Warning] min_data_in_leaf is set=97, min_child_samples=20 will be ignored. Current value: min_data_in_leaf=97\n",
      "[CV] END ....... accuracy: (test=0.887) roc_auc: (test=0.882) total time= 1.2min\n",
      "[CV] START .....................................................................\n",
      "[LightGBM] [Warning] bagging_freq is set=1, subsample_freq=0 will be ignored. Current value: bagging_freq=1\n",
      "[LightGBM] [Warning] min_data_in_leaf is set=97, min_child_samples=20 will be ignored. Current value: min_data_in_leaf=97\n"
     ]
    },
    {
     "name": "stderr",
     "output_type": "stream",
     "text": [
      "[Parallel(n_jobs=-1)]: Done   1 out of   1 | elapsed:  1.2min remaining:    0.0s\n"
     ]
    },
    {
     "name": "stdout",
     "output_type": "stream",
     "text": [
      "[CV] END ....... accuracy: (test=0.891) roc_auc: (test=0.887) total time=  16.2s\n",
      "[CV] START .....................................................................\n",
      "[LightGBM] [Warning] bagging_freq is set=1, subsample_freq=0 will be ignored. Current value: bagging_freq=1\n",
      "[LightGBM] [Warning] min_data_in_leaf is set=97, min_child_samples=20 will be ignored. Current value: min_data_in_leaf=97\n"
     ]
    },
    {
     "name": "stderr",
     "output_type": "stream",
     "text": [
      "[Parallel(n_jobs=-1)]: Done   2 out of   2 | elapsed:  1.5min remaining:    0.0s\n"
     ]
    },
    {
     "name": "stdout",
     "output_type": "stream",
     "text": [
      "[CV] END ....... accuracy: (test=0.890) roc_auc: (test=0.872) total time=  22.5s\n",
      "[CV] START .....................................................................\n",
      "[LightGBM] [Warning] bagging_freq is set=1, subsample_freq=0 will be ignored. Current value: bagging_freq=1\n",
      "[LightGBM] [Warning] min_data_in_leaf is set=97, min_child_samples=20 will be ignored. Current value: min_data_in_leaf=97\n"
     ]
    },
    {
     "name": "stderr",
     "output_type": "stream",
     "text": [
      "[Parallel(n_jobs=-1)]: Done   3 out of   3 | elapsed:  1.8min remaining:    0.0s\n"
     ]
    },
    {
     "name": "stdout",
     "output_type": "stream",
     "text": [
      "[CV] END ....... accuracy: (test=0.899) roc_auc: (test=0.896) total time=  17.0s\n",
      "[CV] START .....................................................................\n",
      "[LightGBM] [Warning] bagging_freq is set=1, subsample_freq=0 will be ignored. Current value: bagging_freq=1\n",
      "[LightGBM] [Warning] min_data_in_leaf is set=97, min_child_samples=20 will be ignored. Current value: min_data_in_leaf=97\n"
     ]
    },
    {
     "name": "stderr",
     "output_type": "stream",
     "text": [
      "[Parallel(n_jobs=-1)]: Done   4 out of   4 | elapsed:  2.1min remaining:    0.0s\n"
     ]
    },
    {
     "name": "stdout",
     "output_type": "stream",
     "text": [
      "[CV] END ....... accuracy: (test=0.885) roc_auc: (test=0.881) total time=  35.2s\n"
     ]
    },
    {
     "name": "stderr",
     "output_type": "stream",
     "text": [
      "[Parallel(n_jobs=-1)]: Done   5 out of   5 | elapsed:  2.7min remaining:    0.0s\n",
      "[Parallel(n_jobs=-1)]: Done   5 out of   5 | elapsed:  2.7min finished\n"
     ]
    }
   ],
   "source": [
    "#Создание модели LightGBM\n",
    "lgb_model = lgb.LGBMClassifier(**lgb_params)\n",
    "\n",
    "#Определение функций оценки для ROC-AUC и Accuracy\n",
    "scoring = ['roc_auc','accuracy']\n",
    "\n",
    "#Создание экземпляра StratifiedKFold с параметрами shuffle и stratify\n",
    "cv = StratifiedKFold(n_splits=5, shuffle=True, random_state=RANDOM_STATE)\n",
    "\n",
    "#Вычисление ROC AUC и accuracy с использованием cross_val_score и заданными параметрами cv\n",
    "lgb_cv_scores = pd.DataFrame(cross_validate(lgb_model, features_train_encoded, target_train, cv=cv, scoring=scoring, verbose=10, n_jobs=-1))"
   ]
  },
  {
   "cell_type": "code",
   "execution_count": 75,
   "metadata": {},
   "outputs": [],
   "source": [
    "results['LightGBM'] = [lgb_cv_scores['test_roc_auc'].mean(),lgb_cv_scores['test_accuracy'].mean(),(lgb_cv_scores['fit_time'] + lgb_cv_scores['score_time']).mean()]"
   ]
  },
  {
   "cell_type": "code",
   "execution_count": 76,
   "metadata": {},
   "outputs": [
    {
     "name": "stdout",
     "output_type": "stream",
     "text": [
      "RandomForest ROC-AUC: 0.8216722852971337\n",
      "RandomForest Accuracy: 0.8572236661061\n",
      "RandomForest Fitting time: 0.33800902366638186\n",
      "- - - - - - - - - - - - - - - - - - - - \n",
      "LightGBM ROC-AUC: 0.8833869898706637\n",
      "LightGBM Accuracy: 0.890404777107296\n",
      "LightGBM Fitting time: 32.553661298751834\n",
      "- - - - - - - - - - - - - - - - - - - - \n"
     ]
    }
   ],
   "source": [
    "for elem in results:\n",
    "    print(elem, 'ROC-AUC:', results[elem][0])\n",
    "    print(elem, 'Accuracy:', results[elem][1])\n",
    "    print(elem, 'Fitting time:', results[elem][2])\n",
    "    print('- ' * 20)"
   ]
  },
  {
   "cell_type": "markdown",
   "metadata": {},
   "source": [
    "Вернулся LGBM с результатом в 0,88\n"
   ]
  },
  {
   "cell_type": "markdown",
   "metadata": {},
   "source": [
    "### Тестирование модели"
   ]
  },
  {
   "cell_type": "code",
   "execution_count": 77,
   "metadata": {},
   "outputs": [
    {
     "name": "stdout",
     "output_type": "stream",
     "text": [
      "[LightGBM] [Warning] bagging_freq is set=1, subsample_freq=0 will be ignored. Current value: bagging_freq=1\n",
      "[LightGBM] [Warning] min_data_in_leaf is set=97, min_child_samples=20 will be ignored. Current value: min_data_in_leaf=97\n"
     ]
    }
   ],
   "source": [
    "lgb_model.fit(features_train, target_train)\n",
    "\n",
    "\n",
    "# Получение предсказаний модели\n",
    "lgb_predictions_proba = lgb_model.predict_proba(features_test)[:, 1]\n",
    "\n"
   ]
  },
  {
   "cell_type": "markdown",
   "metadata": {},
   "source": [
    "### График ROC-AUC"
   ]
  },
  {
   "cell_type": "code",
   "execution_count": 78,
   "metadata": {},
   "outputs": [
    {
     "data": {
      "image/png": "[encoded data removed]",
      "text/plain": [
       "<Figure size 1008x1008 with 1 Axes>"
      ]
     },
     "metadata": {},
     "output_type": "display_data"
    },
    {
     "name": "stdout",
     "output_type": "stream",
     "text": [
      "ROC-AUC на тестовой выборке: 0.8771507386746766\n"
     ]
    }
   ],
   "source": [
    "# Вычисление значений false positive rate (fpr) и true positive rate (tpr)\n",
    "fpr, tpr, thresholds = roc_curve(target_test, lgb_predictions_proba)\n",
    "\n",
    "# Вычисление значения площади под ROC-кривой (AUC)\n",
    "auc = roc_auc_score(target_test, lgb_predictions_proba)\n",
    "\n",
    "# Построение ROC-кривой\n",
    "plt.plot(fpr, tpr, label='LGBM (AUC = {:.2f})'.format(auc))\n",
    "plt.plot([0, 1], [0, 1], 'k--', label='Diagonal')\n",
    "\n",
    "# Настройка графика\n",
    "plt.xlim([0.0, 1.0])\n",
    "plt.ylim([0.0, 1.05])\n",
    "plt.xlabel('False Positive Rate')\n",
    "plt.ylabel('True Positive Rate')\n",
    "plt.title('Receiver Operating Characteristic (ROC) Curve')\n",
    "plt.legend(loc='lower right')\n",
    "\n",
    "# Отображение графика\n",
    "plt.show()\n",
    "\n",
    "print(\"ROC-AUC на тестовой выборке:\", auc)"
   ]
  },
  {
   "cell_type": "code",
   "execution_count": 79,
   "metadata": {},
   "outputs": [
    {
     "name": "stdout",
     "output_type": "stream",
     "text": [
      "Accuracy на тестовой выборке: 0.8782707622298066\n"
     ]
    }
   ],
   "source": [
    "lgb_predictions = lgb_model.predict(features_test)\n",
    "\n",
    "accuracy = accuracy_score(target_test, lgb_predictions)\n",
    "print(\"Accuracy на тестовой выборке:\", accuracy)"
   ]
  },
  {
   "cell_type": "markdown",
   "metadata": {},
   "source": [
    "В этом коде мы используем функцию predict_proba для получения предсказанных вероятностей класса 1 (lgbm_predictions_proba) с помощью модели LGBMClassifier и метода predict_proba. Затем мы используем функцию roc_auc_score для расчета ROC-AUC метрики, передавая истинные метки (target_test) и предсказанные вероятности класса 1 (lgbm_predictions_proba)."
   ]
  },
  {
   "cell_type": "markdown",
   "metadata": {},
   "source": [
    "### Матрица ошибок"
   ]
  },
  {
   "cell_type": "code",
   "execution_count": 80,
   "metadata": {},
   "outputs": [
    {
     "data": {
      "image/png": "[encoded data removed]",
      "text/plain": [
       "<Figure size 1008x1008 with 2 Axes>"
      ]
     },
     "metadata": {},
     "output_type": "display_data"
    }
   ],
   "source": [
    "threshold = 0.5\n",
    "binary_predictions = (lgb_predictions_proba >= threshold).astype(int)\n",
    "\n",
    "# Создание матрицы ошибок\n",
    "lgb_cm = confusion_matrix(target_test, binary_predictions)\n",
    "\n",
    "\n",
    "# Создание тепловой карты для матрицы ошибок\n",
    "sns.heatmap(lgb_cm, annot=True, fmt='g', cmap='Reds')\n",
    "\n",
    "# Настройка осей и добавление меток классов\n",
    "plt.xlabel('True labels')\n",
    "plt.ylabel('Predicted labels')\n",
    "plt.xticks(np.arange(2), ['Class 0', 'Class 1'])\n",
    "plt.yticks(np.arange(2), ['Class 0', 'Class 1'])\n",
    "\n",
    "# Отображение графика\n",
    "plt.show()"
   ]
  },
  {
   "cell_type": "markdown",
   "metadata": {},
   "source": [
    "### Важность признаков"
   ]
  },
  {
   "cell_type": "code",
   "execution_count": 81,
   "metadata": {},
   "outputs": [
    {
     "data": {
      "image/png": "[encoded data removed]",
      "text/plain": [
       "<Figure size 864x360 with 1 Axes>"
      ]
     },
     "metadata": {},
     "output_type": "display_data"
    }
   ],
   "source": [
    "feature_importance_lgb = lgb_model.feature_importances_\n",
    "feature_importance = pd.Series(feature_importance_lgb, index=features_test.columns)\n",
    "\n",
    "fig, ax = plt.subplots(figsize=(12, 5))\n",
    "feature_importance.plot.bar(ax=ax, color='red', grid=True)\n",
    "ax.set_title(\"Важность признаков для LGBM\")\n",
    "ax.set_ylabel('Важность признака')\n",
    "fig.tight_layout()\n",
    "\n",
    "plt.show()"
   ]
  },
  {
   "cell_type": "markdown",
   "metadata": {},
   "source": [
    "Поставленная цель по потроению модели машинного обучени модели LGBMClassifier выполнена. Модель показала требуемую метрику на тестовых данных. Метрика ROC-AUC: 0.88, Accuracy: 0.89.\n",
    "Модель сделала:\n",
    "172 ложно-негативных предсказаний - количество неправильно предсказанных неоттоков клиентов (когда модель предсказала, что клиент останется, но он ушел - самый негативный сценарий - в процентном соотношении таких ошибок мало)  \n",
    "42 ложно-положительных - количество неправильно предсказанных оттоков клиентов (когда модель предсказала отток, но клиент остался - дали ему промокод - ничего страшного - повысили лояльность).\n",
    "\n",
    "1441 - правильных позитивных предсказаний - количество правильно предсказанных оттоков клиентов, \n",
    "103 - правильно негативных - количество правильно предсказанных неоттоков клиентов.\n",
    "\n",
    "\n",
    "Важность признаков для модели. Наиболее важными признаками являются длительность договора, суммарные траты, ежемесячные траты, тип договора по сроку.\n",
    "\n",
    "На основе рпо данной модели можно выбирать наиболее правильные промоакции для удержания клиентов. В модель на регулярной основе можно добавлять данные и проверять ее работу на обновленных датасетах, а также, ввести новые признаки - выдан ли промокод и смотреть, насколько и для каких категорий \"плюшки\" работают.\n"
   ]
  },
  {
   "cell_type": "markdown",
   "metadata": {},
   "source": [
    "## Обший вывод"
   ]
  },
  {
   "cell_type": "markdown",
   "metadata": {},
   "source": [
    "\n",
    "В ходе работы успешно загружены данные из нескольких таблиц, таблицы объединены в один датасет.\n",
    "Произведена работа над пропусками, приведение данных к нужному типу.\n",
    "\n",
    "Произведен анализ данных.\n",
    "Распределение пола почти равномерное. Среди возрастных пользователей, 1, вероятно, значит, что пользователь относится к этой группе и таких пользователей чуть больше 16%.\n",
    "Женатых чуть больше, не имеющих зависимых - 70%\n",
    "\n",
    "\n",
    "Почти 4 тысячи клиентов предпочитают ежемесячную оплату счетов. Более 1600 клиентов имеют двухлетний контракт и почти 1500 - однолетний. Шанс того, что люди на долгосрочном контракте уйдут - меньше, что стоит учитывать.\n",
    "\n",
    "Большинство пользователей предпочитает безбумажный счет и оплату электронным чеком. остальные средства оплаты распределены равномерно. Для целей удержания клиентов косвенно важно, чтобы автоматические способы оплаты были более распространены.\n",
    "\n",
    "\n",
    "Изучение матрицы корреляции признаков показало наличие мультиколлинеарности, однако используемые в проекте модели справляются с этим явлением, что позволяет нам не избавляться от таких признаков. Мы можем отбросить признаки пола(gender) и наличия иждивенцев(dependents), так как они не имеют корреляции с другими признаками.\n",
    "\n",
    "По целевому признаку заметен сильный дисбаланс классов, однако, в предполагаемых моделях машинного обучения есть встроенные алгоритмы для борьбы с этим явлением. Масштабирование признаков не проводилось, так как деревянные модели и бустинги не имеют проблем с работой на немасштабированных данных.\n",
    "\n",
    "Подготовлены выборки для обучения моделей, в том числе, выделены категориальные признаки и их кодирование методом OHE. Осуществлен подбор гиперпараметры и обучены на кросс-валидации две модели: RandomForest и LightGBM.\n",
    "\n",
    "Модель RandomForest не смогла достичь целевого значения метрики AUC-ROC в 0.85. Все остальные модели справились с требуемой задачи. В плане метрик, LightGBM оказался  более результативным, его метрика AUC-ROC составила 0.88 на кросс-валидации.\n",
    "\n",
    "Оценка матрицы ошибок:\n",
    "\n",
    "Модель сделала 172 ложно-негативных - количество неправильно предсказанных неоттоков клиентов (когда модель предсказала, что клиент останется, но он ушел - самый негативный сценарий - в процентном соотношении таких ошибок мало) предсказаний и 42 ложно-положительных - количество неправильно предсказанных оттоков клиентов (когда модель предсказала отток, но клиент остался - дали ему промокод - ничего страшного - повысили лояльность).\n",
    "\n",
    "В целях данной работы для нас наиболее важны позитивные предсказания модели, чтобы компания могла осуществлять действия для удержания клиентов. Правильных позитивных предсказаний модель сделала 1441 - количество правильно предсказанных оттоков клиентов, правильно негативных - 103 - количество правильно предсказанных неоттоков клиентов.\n",
    "\n",
    "Оценка важности признаков:\n",
    "Наиболее важными признаками являются длительность договора, суммарные траты, ежемесячные траты, тип договора по сроку, методы оплаты.\n",
    "\n",
    "По итогам работы, можно рекомендовать модель к использованию, её применение поможет сохранять лояльных клиентов компании. В дальнейшем следует проводить исследования с целью дальнейшей минимизации ложно негативных предсказаний модели."
   ]
  },
  {
   "cell_type": "markdown",
   "metadata": {},
   "source": [
    "\n",
    "\n"
   ]
  },
  {
   "cell_type": "markdown",
   "metadata": {},
   "source": [
    "## Отчёт по решению\n"
   ]
  },
  {
   "cell_type": "markdown",
   "metadata": {},
   "source": [
    "### Какие пункты плана были выполнены, а какие — нет. Почему?\n",
    "\n",
    "Цель проекта: разработать модель машинного обучения для прогнозирования оттока клиентов оператора связи и предложить им промокоды и специальные условия для удержания - достигнута.\n",
    "\n",
    "Были изучены данные и проведена их предобработка (загрузка данных, ознакомление с ними, преобразование данных, объединение таблиц). Затем я выбрал целевой показатель, провел анализ корреляции между признаками, описал особенности мультиколлинеарности в данном случае.\n",
    "Проведено разделение данных на обучающую и тестовую выборки, кодирование OHE.\n",
    "Обучение моделей машинного обучения для прогнозирования оттока клиентов, подбор гиперпараметров (на кроссвалидации с GridSearchCV). Подбор гиперпараметров прошел на Optuna, а не на GridSearch по рекомендации Тимлида.\n",
    "Была проведена оценка качества моделей и выбор наилучшей из двух использованных, проверка по ROC_AUC, построение графика ROC, анализ accuracy (хоть и из-за дисбаланса мы не можем полагаться на неею), подготовка матрицы ошибок\n",
    "Подготовка отчета по проделанной работе, включая рекомендации на основе полученных данных.\n",
    "\n",
    "В общем, все пункты плана были выполнены, часть из них видоизменилась в процессе."
   ]
  },
  {
   "cell_type": "markdown",
   "metadata": {},
   "source": [
    "### Какие трудности возникли и как вы их преодолели?\n",
    "Трудности возникли как организационного плана, так и в процессе фактического выполнения.\n",
    "\n",
    "Из организационных - накладки по таймингу обучения и внеучебной активности.\n",
    "По фактическим:\n",
    "1) ошибка с объединением таблиц - inner/outer.\n",
    "2) ошибка в матрице корреляций и изначальном отсутствии хитмэп по отдельным признакам\n",
    "3) ошибка с кроссвалидацией, проводимой после уже подобранных гиперпараметров, \n",
    "4) ошибка с моделью CatBoost, с которой еще нужно будет разбираться.\n",
    "5) изначально незафиксированный random_state.\n",
    "6) ошибка с расчетом метрик и построением графика ROC_AUC.\n",
    "7) и ряд других недоработок по коду, которые были устранены с помощью наводящих установок Тимлидера или поиском подходящих вариантов в документации. \n",
    "\n",
    "Из трудностей по самой задачи:\n",
    "На мой взгляд данных для модели маловато, нет информации о динамике тарифов и услуг (появления новых и отключения старых и изменения цен по тарифам) - телеком компании не живут в стабильных тарифных планах."
   ]
  },
  {
   "cell_type": "markdown",
   "metadata": {},
   "source": [
    "### Какие ключевые шаги в решении задачи вы выделили?\n",
    "\n",
    "- Exploratory data analysis (EDA);\n",
    "- Feature engineering;\n",
    "- Извлечение ключевого признака;\n",
    "- Уточнение задачи;\n",
    "- Составление плана решения задачи;\n",
    "- Разделение на выборки и кодирование данных;\n",
    "- Оптимизация гиперпараметров моделей;\n",
    "- Оценка моделей и тестирование лучшей модели;\n",
    "- Написание вывода по работе."
   ]
  },
  {
   "cell_type": "markdown",
   "metadata": {},
   "source": [
    "### Какие признаки использовали для обучения модели и какая предобработка этих признаков была выполнена?\n",
    "\n",
    "Я использовал все признаки, кроме ID пользователя, начальной и заключительной даты (так как у нас появилась длительность договора), а также исключил пол и наличие иждевенцев. \n",
    "\n",
    "Плюс был добавлен целевой признак - завершился контракт или нет.\n",
    "Также проведено кодирование данных.\n",
    "\n",
    "В данной работе вообще можно было не отказываться от признаков, так как их общее количество не велико."
   ]
  },
  {
   "cell_type": "markdown",
   "metadata": {},
   "source": [
    "### Какая ваша итоговая модель, какие у неё гиперпараметы и какое качество?\n",
    "\n",
    "Итоговая модель LGBMClassifier.\n",
    "\n",
    "Параметры, подобранные с Optuna\n",
    "```lgb_params = {\n",
    "    \"objective\": \"binary\",\n",
    "    \"metric\": \"auc\",\n",
    "    \"verbosity\": -1,\n",
    "    \"bagging_freq\": 1,\n",
    "    \"n_estimators\": 400,\n",
    "    \"learning_rate\": 0.21766241123453672,\n",
    "    \"num_leaves\": 616,\n",
    "    \"subsample\": 0.7226689489062432,\n",
    "    \"colsample_bytree\": 0.06955526958101232,\n",
    "    \"min_data_in_leaf\": 97,\n",
    "    \"random_state\": RANDOM_STATE'\n",
    "```\n",
    "LightGBM ROC-AUC: 0.8833869898706637 <br>\n",
    "LightGBM Accuracy: 0.890404777107296 <br>\n",
    "ROC-AUC на тестовой выборке: 0.8771507386746766 <br>\n",
    "Accuracy на тестовой выборке: 0.8782707622298066"
   ]
  }
 ],
 "metadata": {
  "ExecuteTimeLog": [
   {
    "duration": 1478,
    "start_time": "2023-07-18T06:31:23.586Z"
   },
   {
    "duration": 333,
    "start_time": "2023-07-18T06:33:21.923Z"
   },
   {
    "duration": 19,
    "start_time": "2023-07-18T06:33:44.073Z"
   },
   {
    "duration": 145,
    "start_time": "2023-07-18T06:36:00.885Z"
   },
   {
    "duration": 15,
    "start_time": "2023-07-18T06:36:36.632Z"
   },
   {
    "duration": 19,
    "start_time": "2023-07-18T06:38:14.047Z"
   },
   {
    "duration": 16,
    "start_time": "2023-07-18T06:38:58.551Z"
   },
   {
    "duration": 154,
    "start_time": "2023-07-18T06:39:09.943Z"
   },
   {
    "duration": 105,
    "start_time": "2023-07-18T06:39:10.326Z"
   },
   {
    "duration": 9,
    "start_time": "2023-07-18T06:39:16.871Z"
   },
   {
    "duration": 17,
    "start_time": "2023-07-18T06:39:30.640Z"
   },
   {
    "duration": 12,
    "start_time": "2023-07-18T06:39:39.879Z"
   },
   {
    "duration": 24,
    "start_time": "2023-07-18T06:41:30.805Z"
   },
   {
    "duration": 19,
    "start_time": "2023-07-18T06:41:56.318Z"
   },
   {
    "duration": 21,
    "start_time": "2023-07-18T06:44:16.677Z"
   },
   {
    "duration": 16,
    "start_time": "2023-07-18T06:45:32.469Z"
   },
   {
    "duration": 16,
    "start_time": "2023-07-18T06:45:51.083Z"
   },
   {
    "duration": 236,
    "start_time": "2023-07-18T06:47:28.844Z"
   },
   {
    "duration": 14,
    "start_time": "2023-07-18T06:47:40.323Z"
   },
   {
    "duration": 165,
    "start_time": "2023-07-18T06:48:23.578Z"
   },
   {
    "duration": 0,
    "start_time": "2023-07-18T06:49:53.451Z"
   },
   {
    "duration": 777,
    "start_time": "2023-07-18T06:50:19.994Z"
   },
   {
    "duration": 3908,
    "start_time": "2023-07-18T06:50:41.368Z"
   },
   {
    "duration": 78619,
    "start_time": "2023-07-18T06:50:49.241Z"
   },
   {
    "duration": 78267,
    "start_time": "2023-07-18T06:52:07.863Z"
   },
   {
    "duration": 399,
    "start_time": "2023-07-18T06:53:26.131Z"
   },
   {
    "duration": 165,
    "start_time": "2023-07-18T06:53:26.532Z"
   },
   {
    "duration": 327,
    "start_time": "2023-07-18T06:54:41.287Z"
   },
   {
    "duration": 173,
    "start_time": "2023-07-18T06:56:32.286Z"
   },
   {
    "duration": 79851,
    "start_time": "2023-07-18T06:58:03.135Z"
   },
   {
    "duration": 128,
    "start_time": "2023-07-18T06:59:22.988Z"
   },
   {
    "duration": 171,
    "start_time": "2023-07-18T07:00:04.453Z"
   },
   {
    "duration": 143,
    "start_time": "2023-07-18T07:00:23.957Z"
   },
   {
    "duration": 257,
    "start_time": "2023-07-18T07:01:52.108Z"
   },
   {
    "duration": 209,
    "start_time": "2023-07-18T07:03:10.581Z"
   },
   {
    "duration": 653,
    "start_time": "2023-07-18T07:03:22.131Z"
   },
   {
    "duration": 331,
    "start_time": "2023-07-18T07:04:22.658Z"
   },
   {
    "duration": 336,
    "start_time": "2023-07-18T07:04:48.587Z"
   },
   {
    "duration": 133,
    "start_time": "2023-07-18T07:05:47.058Z"
   },
   {
    "duration": 150,
    "start_time": "2023-07-18T07:06:33.913Z"
   },
   {
    "duration": 245,
    "start_time": "2023-07-18T07:06:37.489Z"
   },
   {
    "duration": 2318,
    "start_time": "2023-07-18T07:08:25.040Z"
   },
   {
    "duration": 102,
    "start_time": "2023-07-18T07:08:37.345Z"
   },
   {
    "duration": 107,
    "start_time": "2023-07-18T07:09:48.367Z"
   },
   {
    "duration": 351,
    "start_time": "2023-07-18T07:10:36.584Z"
   },
   {
    "duration": 202,
    "start_time": "2023-07-18T07:12:32.872Z"
   },
   {
    "duration": 309,
    "start_time": "2023-07-18T07:14:39.764Z"
   },
   {
    "duration": 51,
    "start_time": "2023-07-18T07:31:45.977Z"
   },
   {
    "duration": 100,
    "start_time": "2023-07-18T07:32:08.621Z"
   },
   {
    "duration": 28,
    "start_time": "2023-07-18T07:32:09.597Z"
   },
   {
    "duration": 316,
    "start_time": "2023-07-18T07:32:12.526Z"
   },
   {
    "duration": 78125,
    "start_time": "2023-07-18T07:32:15.957Z"
   },
   {
    "duration": 150,
    "start_time": "2023-07-18T07:33:34.085Z"
   },
   {
    "duration": 268,
    "start_time": "2023-07-18T07:33:34.236Z"
   },
   {
    "duration": 22,
    "start_time": "2023-07-18T07:33:34.508Z"
   },
   {
    "duration": 39,
    "start_time": "2023-07-18T07:33:45.548Z"
   },
   {
    "duration": 33,
    "start_time": "2023-07-18T07:34:00.533Z"
   },
   {
    "duration": 25,
    "start_time": "2023-07-18T07:34:14.406Z"
   },
   {
    "duration": 27,
    "start_time": "2023-07-18T07:34:23.564Z"
   },
   {
    "duration": 21,
    "start_time": "2023-07-18T07:34:59.551Z"
   },
   {
    "duration": 24,
    "start_time": "2023-07-18T07:35:17.389Z"
   },
   {
    "duration": 208,
    "start_time": "2023-07-18T07:35:33.411Z"
   },
   {
    "duration": 203,
    "start_time": "2023-07-18T07:35:34.737Z"
   },
   {
    "duration": 303,
    "start_time": "2023-07-18T07:35:36.013Z"
   },
   {
    "duration": 20,
    "start_time": "2023-07-18T07:35:39.811Z"
   },
   {
    "duration": 102,
    "start_time": "2023-07-18T07:35:48.132Z"
   },
   {
    "duration": 25,
    "start_time": "2023-07-18T07:48:37.550Z"
   },
   {
    "duration": 12,
    "start_time": "2023-07-18T07:48:45.693Z"
   },
   {
    "duration": 19,
    "start_time": "2023-07-18T07:49:26.125Z"
   },
   {
    "duration": 10,
    "start_time": "2023-07-18T07:49:28.292Z"
   },
   {
    "duration": 12,
    "start_time": "2023-07-18T07:49:46.205Z"
   },
   {
    "duration": 20,
    "start_time": "2023-07-18T07:49:46.989Z"
   },
   {
    "duration": 8,
    "start_time": "2023-07-18T07:50:03.061Z"
   },
   {
    "duration": 3543,
    "start_time": "2023-07-18T07:51:58.796Z"
   },
   {
    "duration": 1016,
    "start_time": "2023-07-18T07:54:11.003Z"
   },
   {
    "duration": 10,
    "start_time": "2023-07-18T08:02:12.127Z"
   },
   {
    "duration": 29,
    "start_time": "2023-07-18T08:04:05.655Z"
   },
   {
    "duration": 30,
    "start_time": "2023-07-18T08:04:16.700Z"
   },
   {
    "duration": 30,
    "start_time": "2023-07-18T08:08:41.755Z"
   },
   {
    "duration": 705,
    "start_time": "2023-07-19T03:31:41.707Z"
   },
   {
    "duration": 77473,
    "start_time": "2023-07-19T03:35:27.444Z"
   },
   {
    "duration": 19,
    "start_time": "2023-07-19T03:37:52.466Z"
   },
   {
    "duration": 13,
    "start_time": "2023-07-19T03:38:44.162Z"
   },
   {
    "duration": 19,
    "start_time": "2023-07-19T03:38:55.146Z"
   },
   {
    "duration": 19,
    "start_time": "2023-07-19T03:38:58.787Z"
   },
   {
    "duration": 27,
    "start_time": "2023-07-19T03:39:11.880Z"
   },
   {
    "duration": 20,
    "start_time": "2023-07-19T03:39:20.698Z"
   },
   {
    "duration": 190,
    "start_time": "2023-07-19T03:42:07.378Z"
   },
   {
    "duration": 141,
    "start_time": "2023-07-19T03:46:15.291Z"
   },
   {
    "duration": 258,
    "start_time": "2023-07-19T03:46:54.418Z"
   },
   {
    "duration": 167,
    "start_time": "2023-07-19T03:50:43.716Z"
   },
   {
    "duration": 3,
    "start_time": "2023-07-19T03:54:18.337Z"
   },
   {
    "duration": 1204,
    "start_time": "2023-07-19T03:55:27.179Z"
   },
   {
    "duration": 101,
    "start_time": "2023-07-19T03:55:48.275Z"
   },
   {
    "duration": 16,
    "start_time": "2023-07-19T03:55:49.704Z"
   },
   {
    "duration": 1018,
    "start_time": "2023-07-19T03:58:09.537Z"
   },
   {
    "duration": 156,
    "start_time": "2023-07-19T03:59:39.136Z"
   },
   {
    "duration": 164,
    "start_time": "2023-07-19T04:01:08.465Z"
   },
   {
    "duration": 999,
    "start_time": "2023-07-19T04:05:31.306Z"
   },
   {
    "duration": 148,
    "start_time": "2023-07-19T04:06:27.371Z"
   },
   {
    "duration": 348,
    "start_time": "2023-07-19T04:06:47.666Z"
   },
   {
    "duration": 160,
    "start_time": "2023-07-19T04:07:23.754Z"
   },
   {
    "duration": 101,
    "start_time": "2023-07-19T04:07:32.387Z"
   },
   {
    "duration": 3772,
    "start_time": "2023-07-19T04:07:38.377Z"
   },
   {
    "duration": 14,
    "start_time": "2023-07-19T04:09:05.558Z"
   },
   {
    "duration": 137,
    "start_time": "2023-07-19T04:09:13.781Z"
   },
   {
    "duration": 998,
    "start_time": "2023-07-19T04:10:20.073Z"
   },
   {
    "duration": 994,
    "start_time": "2023-07-19T04:10:31.071Z"
   },
   {
    "duration": 3,
    "start_time": "2023-07-19T04:10:45.884Z"
   },
   {
    "duration": 111,
    "start_time": "2023-07-19T04:10:45.889Z"
   },
   {
    "duration": 11,
    "start_time": "2023-07-19T04:10:46.002Z"
   },
   {
    "duration": 42,
    "start_time": "2023-07-19T04:10:46.015Z"
   },
   {
    "duration": 177,
    "start_time": "2023-07-19T04:10:46.059Z"
   },
   {
    "duration": 168,
    "start_time": "2023-07-19T04:10:46.237Z"
   },
   {
    "duration": 1030,
    "start_time": "2023-07-19T04:10:49.135Z"
   },
   {
    "duration": 24,
    "start_time": "2023-07-19T04:14:03.971Z"
   },
   {
    "duration": 4381,
    "start_time": "2023-07-19T04:14:37.171Z"
   },
   {
    "duration": 2621,
    "start_time": "2023-07-19T04:15:08.352Z"
   },
   {
    "duration": 3,
    "start_time": "2023-07-19T04:15:19.810Z"
   },
   {
    "duration": 111,
    "start_time": "2023-07-19T04:15:19.815Z"
   },
   {
    "duration": 11,
    "start_time": "2023-07-19T04:15:19.928Z"
   },
   {
    "duration": 143,
    "start_time": "2023-07-19T04:15:19.941Z"
   },
   {
    "duration": 182,
    "start_time": "2023-07-19T04:15:20.086Z"
   },
   {
    "duration": 165,
    "start_time": "2023-07-19T04:15:20.270Z"
   },
   {
    "duration": 4344,
    "start_time": "2023-07-19T04:15:20.437Z"
   },
   {
    "duration": 2,
    "start_time": "2023-07-19T04:38:41.819Z"
   },
   {
    "duration": 1288,
    "start_time": "2023-07-19T04:38:47.771Z"
   },
   {
    "duration": 102,
    "start_time": "2023-07-19T04:38:49.061Z"
   },
   {
    "duration": 16,
    "start_time": "2023-07-19T04:38:49.165Z"
   },
   {
    "duration": 28,
    "start_time": "2023-07-19T04:38:49.183Z"
   },
   {
    "duration": 193,
    "start_time": "2023-07-19T04:38:49.213Z"
   },
   {
    "duration": 173,
    "start_time": "2023-07-19T04:38:49.408Z"
   },
   {
    "duration": 3,
    "start_time": "2023-07-19T04:38:49.584Z"
   },
   {
    "duration": 166,
    "start_time": "2023-07-19T04:38:49.589Z"
   },
   {
    "duration": 267,
    "start_time": "2023-07-19T04:38:49.757Z"
   },
   {
    "duration": 10,
    "start_time": "2023-07-19T04:38:50.026Z"
   },
   {
    "duration": 37,
    "start_time": "2023-07-19T04:38:50.038Z"
   },
   {
    "duration": 342,
    "start_time": "2023-07-19T04:38:50.077Z"
   },
   {
    "duration": 12,
    "start_time": "2023-07-19T04:38:50.421Z"
   },
   {
    "duration": 42,
    "start_time": "2023-07-19T04:38:50.436Z"
   },
   {
    "duration": 239,
    "start_time": "2023-07-19T04:38:50.480Z"
   },
   {
    "duration": 310,
    "start_time": "2023-07-19T04:38:50.720Z"
   },
   {
    "duration": 312,
    "start_time": "2023-07-19T04:38:51.032Z"
   },
   {
    "duration": 7,
    "start_time": "2023-07-19T04:38:51.346Z"
   },
   {
    "duration": 39,
    "start_time": "2023-07-19T04:38:51.355Z"
   },
   {
    "duration": 115,
    "start_time": "2023-07-19T04:38:51.396Z"
   },
   {
    "duration": 2,
    "start_time": "2023-07-19T04:38:51.513Z"
   },
   {
    "duration": 51,
    "start_time": "2023-07-19T04:38:51.517Z"
   },
   {
    "duration": 23,
    "start_time": "2023-07-19T04:38:51.570Z"
   },
   {
    "duration": 16,
    "start_time": "2023-07-19T04:40:59.299Z"
   },
   {
    "duration": 16,
    "start_time": "2023-07-19T04:41:18.679Z"
   },
   {
    "duration": 9,
    "start_time": "2023-07-19T04:41:29.285Z"
   },
   {
    "duration": 14,
    "start_time": "2023-07-19T04:41:38.857Z"
   },
   {
    "duration": 16,
    "start_time": "2023-07-19T04:42:03.191Z"
   },
   {
    "duration": 3,
    "start_time": "2023-07-19T04:43:02.746Z"
   },
   {
    "duration": 92,
    "start_time": "2023-07-19T04:43:04.011Z"
   },
   {
    "duration": 11,
    "start_time": "2023-07-19T04:43:05.171Z"
   },
   {
    "duration": 1269,
    "start_time": "2023-07-19T04:44:45.315Z"
   },
   {
    "duration": 102,
    "start_time": "2023-07-19T04:44:46.586Z"
   },
   {
    "duration": 16,
    "start_time": "2023-07-19T04:44:46.690Z"
   },
   {
    "duration": 33,
    "start_time": "2023-07-19T04:44:46.708Z"
   },
   {
    "duration": 30,
    "start_time": "2023-07-19T04:44:46.743Z"
   },
   {
    "duration": 188,
    "start_time": "2023-07-19T04:44:46.775Z"
   },
   {
    "duration": 175,
    "start_time": "2023-07-19T04:44:46.965Z"
   },
   {
    "duration": 3,
    "start_time": "2023-07-19T04:44:47.142Z"
   },
   {
    "duration": 165,
    "start_time": "2023-07-19T04:44:47.146Z"
   },
   {
    "duration": 282,
    "start_time": "2023-07-19T04:44:47.314Z"
   },
   {
    "duration": 12,
    "start_time": "2023-07-19T04:44:47.598Z"
   },
   {
    "duration": 33,
    "start_time": "2023-07-19T04:44:47.611Z"
   },
   {
    "duration": 26,
    "start_time": "2023-07-19T04:44:47.646Z"
   },
   {
    "duration": 325,
    "start_time": "2023-07-19T04:44:47.673Z"
   },
   {
    "duration": 18,
    "start_time": "2023-07-19T04:44:48.000Z"
   },
   {
    "duration": 22,
    "start_time": "2023-07-19T04:44:48.020Z"
   },
   {
    "duration": 235,
    "start_time": "2023-07-19T04:44:48.044Z"
   },
   {
    "duration": 332,
    "start_time": "2023-07-19T04:44:48.280Z"
   },
   {
    "duration": 333,
    "start_time": "2023-07-19T04:44:48.614Z"
   },
   {
    "duration": 8,
    "start_time": "2023-07-19T04:44:48.949Z"
   },
   {
    "duration": 34,
    "start_time": "2023-07-19T04:44:48.959Z"
   },
   {
    "duration": 118,
    "start_time": "2023-07-19T04:44:48.995Z"
   },
   {
    "duration": 3,
    "start_time": "2023-07-19T04:44:49.115Z"
   },
   {
    "duration": 57,
    "start_time": "2023-07-19T04:44:49.120Z"
   },
   {
    "duration": 47,
    "start_time": "2023-07-19T04:44:49.180Z"
   },
   {
    "duration": 1471,
    "start_time": "2023-07-19T18:39:38.550Z"
   },
   {
    "duration": 548,
    "start_time": "2023-07-19T18:39:40.028Z"
   },
   {
    "duration": 13,
    "start_time": "2023-07-19T18:39:40.578Z"
   },
   {
    "duration": 33,
    "start_time": "2023-07-19T18:39:40.592Z"
   },
   {
    "duration": 54,
    "start_time": "2023-07-19T18:39:40.627Z"
   },
   {
    "duration": 196,
    "start_time": "2023-07-19T18:39:40.683Z"
   },
   {
    "duration": 154,
    "start_time": "2023-07-19T18:39:40.881Z"
   },
   {
    "duration": 5,
    "start_time": "2023-07-19T18:39:41.036Z"
   },
   {
    "duration": 149,
    "start_time": "2023-07-19T18:39:41.048Z"
   },
   {
    "duration": 254,
    "start_time": "2023-07-19T18:39:41.198Z"
   },
   {
    "duration": 8,
    "start_time": "2023-07-19T18:39:41.454Z"
   },
   {
    "duration": 11,
    "start_time": "2023-07-19T18:39:41.464Z"
   },
   {
    "duration": 38,
    "start_time": "2023-07-19T18:39:41.476Z"
   },
   {
    "duration": 363,
    "start_time": "2023-07-19T18:39:41.517Z"
   },
   {
    "duration": 9,
    "start_time": "2023-07-19T18:39:41.881Z"
   },
   {
    "duration": 88,
    "start_time": "2023-07-19T18:39:41.891Z"
   },
   {
    "duration": 284,
    "start_time": "2023-07-19T18:39:41.980Z"
   },
   {
    "duration": 281,
    "start_time": "2023-07-19T18:39:42.266Z"
   },
   {
    "duration": 322,
    "start_time": "2023-07-19T18:39:42.549Z"
   },
   {
    "duration": 6,
    "start_time": "2023-07-19T18:39:42.872Z"
   },
   {
    "duration": 14,
    "start_time": "2023-07-19T18:39:42.880Z"
   },
   {
    "duration": 150,
    "start_time": "2023-07-19T18:39:42.896Z"
   },
   {
    "duration": 4,
    "start_time": "2023-07-19T18:39:43.050Z"
   },
   {
    "duration": 26,
    "start_time": "2023-07-19T18:39:43.056Z"
   },
   {
    "duration": 14,
    "start_time": "2023-07-19T18:39:43.084Z"
   },
   {
    "duration": 24,
    "start_time": "2023-07-19T18:42:22.747Z"
   },
   {
    "duration": 85,
    "start_time": "2023-07-21T03:09:49.950Z"
   },
   {
    "duration": 41,
    "start_time": "2023-07-21T03:09:50.328Z"
   },
   {
    "duration": 1703,
    "start_time": "2023-07-21T03:10:02.289Z"
   },
   {
    "duration": 3235,
    "start_time": "2023-07-21T03:10:19.011Z"
   },
   {
    "duration": 61,
    "start_time": "2023-07-21T03:10:26.409Z"
   },
   {
    "duration": 505,
    "start_time": "2023-07-21T03:10:36.960Z"
   },
   {
    "duration": 19,
    "start_time": "2023-07-21T03:10:41.671Z"
   },
   {
    "duration": 14,
    "start_time": "2023-07-21T03:10:42.668Z"
   },
   {
    "duration": 23,
    "start_time": "2023-07-21T03:10:43.520Z"
   },
   {
    "duration": 161,
    "start_time": "2023-07-21T03:10:47.320Z"
   },
   {
    "duration": 133,
    "start_time": "2023-07-21T03:10:49.576Z"
   },
   {
    "duration": 2,
    "start_time": "2023-07-21T03:10:50.423Z"
   },
   {
    "duration": 210,
    "start_time": "2023-07-21T03:10:50.682Z"
   },
   {
    "duration": 219,
    "start_time": "2023-07-21T03:10:51.509Z"
   },
   {
    "duration": 8,
    "start_time": "2023-07-21T03:10:52.659Z"
   },
   {
    "duration": 11,
    "start_time": "2023-07-21T03:10:52.847Z"
   },
   {
    "duration": 15,
    "start_time": "2023-07-21T03:10:53.688Z"
   },
   {
    "duration": 268,
    "start_time": "2023-07-21T03:10:55.204Z"
   },
   {
    "duration": 10,
    "start_time": "2023-07-21T03:10:57.830Z"
   },
   {
    "duration": 17,
    "start_time": "2023-07-21T03:10:58.031Z"
   },
   {
    "duration": 192,
    "start_time": "2023-07-21T03:10:58.980Z"
   },
   {
    "duration": 189,
    "start_time": "2023-07-21T03:11:00.320Z"
   },
   {
    "duration": 285,
    "start_time": "2023-07-21T03:11:02.064Z"
   },
   {
    "duration": 9,
    "start_time": "2023-07-21T03:11:04.799Z"
   },
   {
    "duration": 14,
    "start_time": "2023-07-21T03:11:05.620Z"
   },
   {
    "duration": 93,
    "start_time": "2023-07-21T03:11:06.782Z"
   },
   {
    "duration": 21,
    "start_time": "2023-07-21T03:11:08.799Z"
   },
   {
    "duration": 17,
    "start_time": "2023-07-21T03:11:10.423Z"
   },
   {
    "duration": 15,
    "start_time": "2023-07-21T03:12:11.060Z"
   },
   {
    "duration": 5,
    "start_time": "2023-07-21T03:12:22.552Z"
   },
   {
    "duration": 9,
    "start_time": "2023-07-21T03:12:23.581Z"
   },
   {
    "duration": 5,
    "start_time": "2023-07-21T03:12:24.820Z"
   },
   {
    "duration": 22,
    "start_time": "2023-07-21T03:12:26.781Z"
   },
   {
    "duration": 11,
    "start_time": "2023-07-21T03:12:28.019Z"
   },
   {
    "duration": 6,
    "start_time": "2023-07-21T03:12:29.309Z"
   },
   {
    "duration": 2,
    "start_time": "2023-07-21T03:12:59.024Z"
   },
   {
    "duration": 10,
    "start_time": "2023-07-21T03:13:02.162Z"
   },
   {
    "duration": 11,
    "start_time": "2023-07-21T03:14:11.051Z"
   },
   {
    "duration": 5,
    "start_time": "2023-07-21T03:14:11.891Z"
   },
   {
    "duration": 99,
    "start_time": "2023-07-21T03:14:13.361Z"
   },
   {
    "duration": 10,
    "start_time": "2023-07-21T03:14:14.467Z"
   },
   {
    "duration": 289,
    "start_time": "2023-07-21T03:26:12.228Z"
   },
   {
    "duration": 1007,
    "start_time": "2023-07-21T03:27:30.260Z"
   },
   {
    "duration": 995,
    "start_time": "2023-07-21T03:27:52.237Z"
   },
   {
    "duration": 2,
    "start_time": "2023-07-21T03:30:13.167Z"
   },
   {
    "duration": 113,
    "start_time": "2023-07-21T03:30:13.957Z"
   },
   {
    "duration": 906,
    "start_time": "2023-07-21T03:32:10.701Z"
   },
   {
    "duration": 503,
    "start_time": "2023-07-21T03:32:16.480Z"
   },
   {
    "duration": 14,
    "start_time": "2023-07-21T03:33:48.340Z"
   },
   {
    "duration": 46,
    "start_time": "2023-07-21T03:34:07.172Z"
   },
   {
    "duration": 79,
    "start_time": "2023-07-21T03:34:38.892Z"
   },
   {
    "duration": 11,
    "start_time": "2023-07-21T03:43:58.969Z"
   },
   {
    "duration": 17,
    "start_time": "2023-07-21T03:44:05.462Z"
   },
   {
    "duration": 3465,
    "start_time": "2023-07-21T03:44:30.327Z"
   },
   {
    "duration": 1200,
    "start_time": "2023-07-21T03:44:41.280Z"
   },
   {
    "duration": 3520,
    "start_time": "2023-07-21T03:45:05.139Z"
   },
   {
    "duration": 2226,
    "start_time": "2023-07-21T03:46:31.761Z"
   },
   {
    "duration": 6,
    "start_time": "2023-07-21T03:46:33.991Z"
   },
   {
    "duration": 138,
    "start_time": "2023-07-21T03:46:33.999Z"
   },
   {
    "duration": 14,
    "start_time": "2023-07-21T03:46:34.140Z"
   },
   {
    "duration": 17,
    "start_time": "2023-07-21T03:46:34.157Z"
   },
   {
    "duration": 26,
    "start_time": "2023-07-21T03:46:34.176Z"
   },
   {
    "duration": 182,
    "start_time": "2023-07-21T03:46:34.204Z"
   },
   {
    "duration": 154,
    "start_time": "2023-07-21T03:46:34.387Z"
   },
   {
    "duration": 2,
    "start_time": "2023-07-21T03:46:34.543Z"
   },
   {
    "duration": 155,
    "start_time": "2023-07-21T03:46:34.548Z"
   },
   {
    "duration": 263,
    "start_time": "2023-07-21T03:46:34.705Z"
   },
   {
    "duration": 9,
    "start_time": "2023-07-21T03:46:34.970Z"
   },
   {
    "duration": 14,
    "start_time": "2023-07-21T03:46:34.980Z"
   },
   {
    "duration": 17,
    "start_time": "2023-07-21T03:46:34.996Z"
   },
   {
    "duration": 327,
    "start_time": "2023-07-21T03:46:35.015Z"
   },
   {
    "duration": 10,
    "start_time": "2023-07-21T03:46:35.344Z"
   },
   {
    "duration": 17,
    "start_time": "2023-07-21T03:46:35.367Z"
   },
   {
    "duration": 222,
    "start_time": "2023-07-21T03:46:35.385Z"
   },
   {
    "duration": 203,
    "start_time": "2023-07-21T03:46:35.608Z"
   },
   {
    "duration": 333,
    "start_time": "2023-07-21T03:46:35.813Z"
   },
   {
    "duration": 7,
    "start_time": "2023-07-21T03:46:36.147Z"
   },
   {
    "duration": 17,
    "start_time": "2023-07-21T03:46:36.168Z"
   },
   {
    "duration": 106,
    "start_time": "2023-07-21T03:46:36.187Z"
   },
   {
    "duration": 21,
    "start_time": "2023-07-21T03:46:36.294Z"
   },
   {
    "duration": 17,
    "start_time": "2023-07-21T03:46:36.317Z"
   },
   {
    "duration": 33,
    "start_time": "2023-07-21T03:46:36.336Z"
   },
   {
    "duration": 7,
    "start_time": "2023-07-21T03:46:36.370Z"
   },
   {
    "duration": 14,
    "start_time": "2023-07-21T03:46:36.380Z"
   },
   {
    "duration": 11,
    "start_time": "2023-07-21T03:46:36.396Z"
   },
   {
    "duration": 22,
    "start_time": "2023-07-21T03:46:36.408Z"
   },
   {
    "duration": 11,
    "start_time": "2023-07-21T03:46:36.431Z"
   },
   {
    "duration": 29,
    "start_time": "2023-07-21T03:46:36.444Z"
   },
   {
    "duration": 33,
    "start_time": "2023-07-21T03:46:36.475Z"
   },
   {
    "duration": 10,
    "start_time": "2023-07-21T03:46:36.509Z"
   },
   {
    "duration": 11,
    "start_time": "2023-07-21T03:46:36.521Z"
   },
   {
    "duration": 4,
    "start_time": "2023-07-21T03:46:36.534Z"
   },
   {
    "duration": 9,
    "start_time": "2023-07-21T03:46:36.539Z"
   },
   {
    "duration": 10,
    "start_time": "2023-07-21T03:46:36.550Z"
   },
   {
    "duration": 3,
    "start_time": "2023-07-21T03:46:36.562Z"
   },
   {
    "duration": 15,
    "start_time": "2023-07-21T03:46:36.567Z"
   },
   {
    "duration": 9,
    "start_time": "2023-07-21T03:46:36.584Z"
   },
   {
    "duration": 6,
    "start_time": "2023-07-21T03:46:36.594Z"
   },
   {
    "duration": 4,
    "start_time": "2023-07-21T03:46:36.601Z"
   },
   {
    "duration": 10,
    "start_time": "2023-07-21T03:46:36.607Z"
   },
   {
    "duration": 6,
    "start_time": "2023-07-21T03:46:36.618Z"
   },
   {
    "duration": 3740,
    "start_time": "2023-07-21T03:46:38.628Z"
   },
   {
    "duration": 12,
    "start_time": "2023-07-21T03:48:07.800Z"
   },
   {
    "duration": 2679,
    "start_time": "2023-07-21T03:48:14.499Z"
   },
   {
    "duration": 6684,
    "start_time": "2023-07-21T03:48:28.579Z"
   },
   {
    "duration": 167,
    "start_time": "2023-07-21T04:02:03.559Z"
   },
   {
    "duration": 25,
    "start_time": "2023-07-21T04:02:14.478Z"
   },
   {
    "duration": 10,
    "start_time": "2023-07-21T04:36:55.406Z"
   },
   {
    "duration": 5,
    "start_time": "2023-07-21T04:37:29.655Z"
   },
   {
    "duration": 4,
    "start_time": "2023-07-21T04:37:37.514Z"
   },
   {
    "duration": 6,
    "start_time": "2023-07-21T04:37:38.415Z"
   },
   {
    "duration": 9,
    "start_time": "2023-07-21T04:37:39.215Z"
   },
   {
    "duration": 13,
    "start_time": "2023-07-21T04:38:27.372Z"
   },
   {
    "duration": 5,
    "start_time": "2023-07-21T04:38:59.677Z"
   },
   {
    "duration": 11,
    "start_time": "2023-07-21T04:39:08.218Z"
   },
   {
    "duration": 27,
    "start_time": "2023-07-21T04:39:19.138Z"
   },
   {
    "duration": 3,
    "start_time": "2023-07-21T04:39:57.975Z"
   },
   {
    "duration": 14,
    "start_time": "2023-07-21T04:40:03.995Z"
   },
   {
    "duration": 31,
    "start_time": "2023-07-21T04:40:59.580Z"
   },
   {
    "duration": 101,
    "start_time": "2023-07-21T04:41:15.855Z"
   },
   {
    "duration": 2199,
    "start_time": "2023-07-21T04:41:25.807Z"
   },
   {
    "duration": 3795,
    "start_time": "2023-07-21T04:41:32.077Z"
   },
   {
    "duration": 210,
    "start_time": "2023-07-21T04:41:38.005Z"
   },
   {
    "duration": 3,
    "start_time": "2023-07-21T04:41:47.032Z"
   },
   {
    "duration": 40,
    "start_time": "2023-07-21T04:41:49.103Z"
   },
   {
    "duration": 10,
    "start_time": "2023-07-21T04:42:28.427Z"
   },
   {
    "duration": 13,
    "start_time": "2023-07-21T04:42:36.615Z"
   },
   {
    "duration": 112,
    "start_time": "2023-07-21T05:11:16.562Z"
   },
   {
    "duration": 44,
    "start_time": "2023-07-21T14:51:51.064Z"
   },
   {
    "duration": 2784,
    "start_time": "2023-07-21T14:55:18.539Z"
   },
   {
    "duration": 3368,
    "start_time": "2023-07-21T14:55:22.944Z"
   },
   {
    "duration": 1890,
    "start_time": "2023-07-21T14:55:27.410Z"
   },
   {
    "duration": 0,
    "start_time": "2023-07-21T14:55:29.301Z"
   },
   {
    "duration": 358,
    "start_time": "2023-07-21T14:55:29.838Z"
   },
   {
    "duration": 13,
    "start_time": "2023-07-21T14:55:39.530Z"
   },
   {
    "duration": 46,
    "start_time": "2023-07-21T14:55:49.058Z"
   },
   {
    "duration": 2,
    "start_time": "2023-07-21T14:55:50.337Z"
   },
   {
    "duration": 91,
    "start_time": "2023-07-21T14:55:51.370Z"
   },
   {
    "duration": 21,
    "start_time": "2023-07-21T14:55:52.597Z"
   },
   {
    "duration": 12,
    "start_time": "2023-07-21T14:55:53.101Z"
   },
   {
    "duration": 20,
    "start_time": "2023-07-21T14:55:53.521Z"
   },
   {
    "duration": 154,
    "start_time": "2023-07-21T14:55:54.300Z"
   },
   {
    "duration": 130,
    "start_time": "2023-07-21T14:55:55.087Z"
   },
   {
    "duration": 2,
    "start_time": "2023-07-21T14:55:55.670Z"
   },
   {
    "duration": 121,
    "start_time": "2023-07-21T14:55:55.840Z"
   },
   {
    "duration": 211,
    "start_time": "2023-07-21T14:55:56.247Z"
   },
   {
    "duration": 8,
    "start_time": "2023-07-21T14:55:57.032Z"
   },
   {
    "duration": 11,
    "start_time": "2023-07-21T14:55:57.286Z"
   },
   {
    "duration": 14,
    "start_time": "2023-07-21T14:55:57.446Z"
   },
   {
    "duration": 349,
    "start_time": "2023-07-21T14:55:57.871Z"
   },
   {
    "duration": 10,
    "start_time": "2023-07-21T14:55:58.485Z"
   },
   {
    "duration": 16,
    "start_time": "2023-07-21T14:55:58.657Z"
   },
   {
    "duration": 178,
    "start_time": "2023-07-21T14:55:59.067Z"
   },
   {
    "duration": 172,
    "start_time": "2023-07-21T14:55:59.439Z"
   },
   {
    "duration": 256,
    "start_time": "2023-07-21T14:55:59.875Z"
   },
   {
    "duration": 7,
    "start_time": "2023-07-21T14:56:00.637Z"
   },
   {
    "duration": 12,
    "start_time": "2023-07-21T14:56:00.837Z"
   },
   {
    "duration": 85,
    "start_time": "2023-07-21T14:56:01.246Z"
   },
   {
    "duration": 18,
    "start_time": "2023-07-21T14:56:01.885Z"
   },
   {
    "duration": 16,
    "start_time": "2023-07-21T14:56:03.124Z"
   },
   {
    "duration": 13,
    "start_time": "2023-07-21T14:56:06.538Z"
   },
   {
    "duration": 6,
    "start_time": "2023-07-21T14:56:08.176Z"
   },
   {
    "duration": 9,
    "start_time": "2023-07-21T14:56:08.865Z"
   },
   {
    "duration": 5,
    "start_time": "2023-07-21T14:56:09.085Z"
   },
   {
    "duration": 23,
    "start_time": "2023-07-21T14:56:09.905Z"
   },
   {
    "duration": 9,
    "start_time": "2023-07-21T14:56:10.417Z"
   },
   {
    "duration": 5,
    "start_time": "2023-07-21T14:56:10.978Z"
   },
   {
    "duration": 2,
    "start_time": "2023-07-21T14:56:12.258Z"
   },
   {
    "duration": 8,
    "start_time": "2023-07-21T14:56:12.874Z"
   },
   {
    "duration": 12,
    "start_time": "2023-07-21T14:56:14.005Z"
   },
   {
    "duration": 4,
    "start_time": "2023-07-21T14:56:15.681Z"
   },
   {
    "duration": 7,
    "start_time": "2023-07-21T14:56:16.905Z"
   },
   {
    "duration": 8,
    "start_time": "2023-07-21T14:56:17.677Z"
   },
   {
    "duration": 2,
    "start_time": "2023-07-21T14:56:18.313Z"
   },
   {
    "duration": 2,
    "start_time": "2023-07-21T14:56:18.978Z"
   },
   {
    "duration": 2,
    "start_time": "2023-07-21T14:56:19.455Z"
   },
   {
    "duration": 2,
    "start_time": "2023-07-21T14:56:19.987Z"
   },
   {
    "duration": 2,
    "start_time": "2023-07-21T14:56:20.476Z"
   },
   {
    "duration": 2,
    "start_time": "2023-07-21T14:56:23.358Z"
   },
   {
    "duration": 3,
    "start_time": "2023-07-21T14:56:23.766Z"
   },
   {
    "duration": 3,
    "start_time": "2023-07-21T14:56:24.978Z"
   },
   {
    "duration": 3312,
    "start_time": "2023-07-21T14:56:26.829Z"
   },
   {
    "duration": 48,
    "start_time": "2023-07-21T14:56:36.721Z"
   },
   {
    "duration": 9,
    "start_time": "2023-07-21T14:58:17.748Z"
   },
   {
    "duration": 3,
    "start_time": "2023-07-21T14:58:29.712Z"
   },
   {
    "duration": 6,
    "start_time": "2023-07-21T14:58:46.580Z"
   },
   {
    "duration": 3,
    "start_time": "2023-07-21T14:59:06.659Z"
   },
   {
    "duration": 26,
    "start_time": "2023-07-21T14:59:23.747Z"
   },
   {
    "duration": 3,
    "start_time": "2023-07-21T15:00:16.536Z"
   },
   {
    "duration": 14,
    "start_time": "2023-07-21T15:00:27.539Z"
   },
   {
    "duration": 12,
    "start_time": "2023-07-21T15:00:50.097Z"
   },
   {
    "duration": 3196,
    "start_time": "2023-07-22T04:13:41.883Z"
   },
   {
    "duration": 3696,
    "start_time": "2023-07-22T04:13:45.081Z"
   },
   {
    "duration": 2548,
    "start_time": "2023-07-22T04:13:48.779Z"
   },
   {
    "duration": 2,
    "start_time": "2023-07-22T04:13:51.330Z"
   },
   {
    "duration": 351,
    "start_time": "2023-07-22T04:13:56.567Z"
   },
   {
    "duration": 18,
    "start_time": "2023-07-22T04:13:58.209Z"
   },
   {
    "duration": 15,
    "start_time": "2023-07-22T04:13:58.962Z"
   },
   {
    "duration": 25,
    "start_time": "2023-07-22T04:14:00.031Z"
   },
   {
    "duration": 204,
    "start_time": "2023-07-22T04:14:02.090Z"
   },
   {
    "duration": 155,
    "start_time": "2023-07-22T04:14:04.405Z"
   },
   {
    "duration": 2,
    "start_time": "2023-07-22T04:14:05.231Z"
   },
   {
    "duration": 149,
    "start_time": "2023-07-22T04:14:05.474Z"
   },
   {
    "duration": 248,
    "start_time": "2023-07-22T04:14:05.832Z"
   },
   {
    "duration": 8,
    "start_time": "2023-07-22T04:14:06.763Z"
   },
   {
    "duration": 14,
    "start_time": "2023-07-22T04:14:06.961Z"
   },
   {
    "duration": 16,
    "start_time": "2023-07-22T04:14:07.151Z"
   },
   {
    "duration": 419,
    "start_time": "2023-07-22T04:14:07.564Z"
   },
   {
    "duration": 11,
    "start_time": "2023-07-22T04:14:08.311Z"
   },
   {
    "duration": 18,
    "start_time": "2023-07-22T04:14:08.643Z"
   },
   {
    "duration": 207,
    "start_time": "2023-07-22T04:14:09.084Z"
   },
   {
    "duration": 245,
    "start_time": "2023-07-22T04:14:09.625Z"
   },
   {
    "duration": 318,
    "start_time": "2023-07-22T04:14:09.955Z"
   },
   {
    "duration": 8,
    "start_time": "2023-07-22T04:14:10.963Z"
   },
   {
    "duration": 14,
    "start_time": "2023-07-22T04:14:11.194Z"
   },
   {
    "duration": 108,
    "start_time": "2023-07-22T04:14:11.610Z"
   },
   {
    "duration": 22,
    "start_time": "2023-07-22T04:14:12.322Z"
   },
   {
    "duration": 19,
    "start_time": "2023-07-22T04:14:14.431Z"
   },
   {
    "duration": 17,
    "start_time": "2023-07-22T04:14:23.351Z"
   },
   {
    "duration": 6,
    "start_time": "2023-07-22T04:14:26.353Z"
   },
   {
    "duration": 10,
    "start_time": "2023-07-22T04:14:28.519Z"
   },
   {
    "duration": 5,
    "start_time": "2023-07-22T04:14:29.199Z"
   },
   {
    "duration": 24,
    "start_time": "2023-07-22T04:14:30.632Z"
   },
   {
    "duration": 11,
    "start_time": "2023-07-22T04:14:31.562Z"
   },
   {
    "duration": 3,
    "start_time": "2023-07-22T04:14:35.442Z"
   },
   {
    "duration": 3,
    "start_time": "2023-07-22T04:14:37.850Z"
   },
   {
    "duration": 127,
    "start_time": "2023-07-22T04:14:38.750Z"
   },
   {
    "duration": 5,
    "start_time": "2023-07-22T04:14:44.791Z"
   },
   {
    "duration": 10,
    "start_time": "2023-07-22T04:14:45.648Z"
   },
   {
    "duration": 10,
    "start_time": "2023-07-22T04:14:46.431Z"
   },
   {
    "duration": 4,
    "start_time": "2023-07-22T04:14:56.451Z"
   },
   {
    "duration": 1147,
    "start_time": "2023-07-22T04:14:57.483Z"
   },
   {
    "duration": 1272,
    "start_time": "2023-07-22T04:15:36.568Z"
   },
   {
    "duration": 126,
    "start_time": "2023-07-22T04:15:55.883Z"
   },
   {
    "duration": 11,
    "start_time": "2023-07-22T04:16:03.042Z"
   },
   {
    "duration": 17,
    "start_time": "2023-07-22T04:17:43.715Z"
   },
   {
    "duration": 23,
    "start_time": "2023-07-22T04:17:58.831Z"
   },
   {
    "duration": 11,
    "start_time": "2023-07-22T04:20:41.592Z"
   },
   {
    "duration": 24,
    "start_time": "2023-07-22T04:20:49.402Z"
   },
   {
    "duration": 20,
    "start_time": "2023-07-22T04:21:01.551Z"
   },
   {
    "duration": 16,
    "start_time": "2023-07-22T04:21:08.391Z"
   },
   {
    "duration": 14,
    "start_time": "2023-07-22T04:21:38.040Z"
   },
   {
    "duration": 9,
    "start_time": "2023-07-22T04:22:46.470Z"
   },
   {
    "duration": 3,
    "start_time": "2023-07-22T04:22:47.203Z"
   },
   {
    "duration": 96,
    "start_time": "2023-07-22T04:22:48.403Z"
   },
   {
    "duration": 12,
    "start_time": "2023-07-22T04:22:49.836Z"
   },
   {
    "duration": 12,
    "start_time": "2023-07-22T04:22:50.427Z"
   },
   {
    "duration": 24,
    "start_time": "2023-07-22T04:22:51.266Z"
   },
   {
    "duration": 172,
    "start_time": "2023-07-22T04:22:53.355Z"
   },
   {
    "duration": 149,
    "start_time": "2023-07-22T04:22:54.827Z"
   },
   {
    "duration": 3,
    "start_time": "2023-07-22T04:22:55.356Z"
   },
   {
    "duration": 145,
    "start_time": "2023-07-22T04:22:55.483Z"
   },
   {
    "duration": 269,
    "start_time": "2023-07-22T04:22:55.828Z"
   },
   {
    "duration": 9,
    "start_time": "2023-07-22T04:22:56.594Z"
   },
   {
    "duration": 11,
    "start_time": "2023-07-22T04:22:56.755Z"
   },
   {
    "duration": 16,
    "start_time": "2023-07-22T04:22:56.924Z"
   },
   {
    "duration": 331,
    "start_time": "2023-07-22T04:22:57.828Z"
   },
   {
    "duration": 12,
    "start_time": "2023-07-22T04:22:59.162Z"
   },
   {
    "duration": 18,
    "start_time": "2023-07-22T04:22:59.346Z"
   },
   {
    "duration": 239,
    "start_time": "2023-07-22T04:23:00.676Z"
   },
   {
    "duration": 218,
    "start_time": "2023-07-22T04:23:01.034Z"
   },
   {
    "duration": 475,
    "start_time": "2023-07-22T04:23:01.779Z"
   },
   {
    "duration": 7,
    "start_time": "2023-07-22T04:23:03.796Z"
   },
   {
    "duration": 16,
    "start_time": "2023-07-22T04:23:04.179Z"
   },
   {
    "duration": 101,
    "start_time": "2023-07-22T04:23:05.190Z"
   },
   {
    "duration": 25,
    "start_time": "2023-07-22T04:23:06.926Z"
   },
   {
    "duration": 18,
    "start_time": "2023-07-22T04:23:20.891Z"
   },
   {
    "duration": 20,
    "start_time": "2023-07-22T04:23:25.371Z"
   },
   {
    "duration": 20,
    "start_time": "2023-07-22T04:23:29.731Z"
   },
   {
    "duration": 7,
    "start_time": "2023-07-22T04:23:31.268Z"
   },
   {
    "duration": 10,
    "start_time": "2023-07-22T04:23:31.532Z"
   },
   {
    "duration": 5,
    "start_time": "2023-07-22T04:23:32.211Z"
   },
   {
    "duration": 32,
    "start_time": "2023-07-22T04:23:33.907Z"
   },
   {
    "duration": 13,
    "start_time": "2023-07-22T04:23:34.730Z"
   },
   {
    "duration": 2,
    "start_time": "2023-07-22T04:23:35.812Z"
   },
   {
    "duration": 3,
    "start_time": "2023-07-22T04:23:41.612Z"
   },
   {
    "duration": 6,
    "start_time": "2023-07-22T04:23:42.428Z"
   },
   {
    "duration": 12,
    "start_time": "2023-07-22T04:23:42.983Z"
   },
   {
    "duration": 5,
    "start_time": "2023-07-22T04:23:43.411Z"
   },
   {
    "duration": 137,
    "start_time": "2023-07-22T04:23:43.852Z"
   },
   {
    "duration": 11,
    "start_time": "2023-07-22T04:26:13.251Z"
   },
   {
    "duration": 4,
    "start_time": "2023-07-22T04:26:18.171Z"
   },
   {
    "duration": 7,
    "start_time": "2023-07-22T04:27:33.014Z"
   },
   {
    "duration": 34731,
    "start_time": "2023-07-22T04:29:33.316Z"
   },
   {
    "duration": 123,
    "start_time": "2023-07-22T04:31:20.677Z"
   },
   {
    "duration": 18,
    "start_time": "2023-07-22T04:32:27.944Z"
   },
   {
    "duration": 14,
    "start_time": "2023-07-22T04:32:35.986Z"
   },
   {
    "duration": 3469,
    "start_time": "2023-07-22T04:33:01.930Z"
   },
   {
    "duration": 11,
    "start_time": "2023-07-22T04:34:01.002Z"
   },
   {
    "duration": 4,
    "start_time": "2023-07-22T04:34:01.712Z"
   },
   {
    "duration": 6,
    "start_time": "2023-07-22T04:34:11.794Z"
   },
   {
    "duration": 38,
    "start_time": "2023-07-22T04:34:13.192Z"
   },
   {
    "duration": 3,
    "start_time": "2023-07-22T04:34:14.353Z"
   },
   {
    "duration": 20,
    "start_time": "2023-07-22T04:34:15.490Z"
   },
   {
    "duration": 3,
    "start_time": "2023-07-22T04:35:53.761Z"
   },
   {
    "duration": 124,
    "start_time": "2023-07-22T04:35:54.489Z"
   },
   {
    "duration": 8,
    "start_time": "2023-07-22T04:36:14.304Z"
   },
   {
    "duration": 11,
    "start_time": "2023-07-22T04:36:16.841Z"
   },
   {
    "duration": 5,
    "start_time": "2023-07-22T04:36:17.513Z"
   },
   {
    "duration": 6,
    "start_time": "2023-07-22T04:36:17.760Z"
   },
   {
    "duration": 31,
    "start_time": "2023-07-22T04:36:18.281Z"
   },
   {
    "duration": 3,
    "start_time": "2023-07-22T04:36:19.184Z"
   },
   {
    "duration": 61,
    "start_time": "2023-07-22T04:36:20.241Z"
   },
   {
    "duration": 2,
    "start_time": "2023-07-22T04:36:26.786Z"
   },
   {
    "duration": 13,
    "start_time": "2023-07-22T04:36:27.440Z"
   },
   {
    "duration": 3,
    "start_time": "2023-07-22T04:36:32.321Z"
   },
   {
    "duration": 36,
    "start_time": "2023-07-22T04:36:32.962Z"
   },
   {
    "duration": 5,
    "start_time": "2023-07-22T04:36:33.754Z"
   },
   {
    "duration": 11,
    "start_time": "2023-07-22T04:36:53.104Z"
   },
   {
    "duration": 4,
    "start_time": "2023-07-22T04:38:17.521Z"
   },
   {
    "duration": 7,
    "start_time": "2023-07-22T04:38:18.346Z"
   },
   {
    "duration": 11,
    "start_time": "2023-07-22T04:38:19.040Z"
   },
   {
    "duration": 4,
    "start_time": "2023-07-22T04:39:44.476Z"
   },
   {
    "duration": 21,
    "start_time": "2023-07-22T04:40:33.536Z"
   },
   {
    "duration": 46917,
    "start_time": "2023-07-22T04:47:10.502Z"
   },
   {
    "duration": 76,
    "start_time": "2023-07-22T04:48:17.929Z"
   },
   {
    "duration": 14,
    "start_time": "2023-07-22T04:49:38.486Z"
   },
   {
    "duration": 2,
    "start_time": "2023-07-22T04:50:32.459Z"
   },
   {
    "duration": 1801,
    "start_time": "2023-07-22T04:50:33.494Z"
   },
   {
    "duration": 12,
    "start_time": "2023-07-22T04:50:42.314Z"
   },
   {
    "duration": 12,
    "start_time": "2023-07-22T04:51:50.020Z"
   },
   {
    "duration": 3,
    "start_time": "2023-07-22T04:56:02.655Z"
   },
   {
    "duration": 4,
    "start_time": "2023-07-22T04:56:09.954Z"
   },
   {
    "duration": 4820,
    "start_time": "2023-07-22T04:56:14.623Z"
   },
   {
    "duration": 4,
    "start_time": "2023-07-22T04:56:46.549Z"
   },
   {
    "duration": 59542,
    "start_time": "2023-07-22T04:57:27.030Z"
   },
   {
    "duration": 5,
    "start_time": "2023-07-22T04:58:26.574Z"
   },
   {
    "duration": 32,
    "start_time": "2023-07-22T05:00:29.218Z"
   },
   {
    "duration": 3,
    "start_time": "2023-07-22T05:01:07.826Z"
   },
   {
    "duration": 15790,
    "start_time": "2023-07-22T05:01:28.933Z"
   },
   {
    "duration": 5,
    "start_time": "2023-07-22T05:01:57.268Z"
   },
   {
    "duration": 14,
    "start_time": "2023-07-22T05:02:26.668Z"
   },
   {
    "duration": 6,
    "start_time": "2023-07-22T05:03:07.955Z"
   },
   {
    "duration": 13,
    "start_time": "2023-07-22T05:04:13.722Z"
   },
   {
    "duration": 14869,
    "start_time": "2023-07-22T05:04:33.722Z"
   },
   {
    "duration": 515,
    "start_time": "2023-07-22T05:05:06.625Z"
   },
   {
    "duration": 13,
    "start_time": "2023-07-22T05:05:24.457Z"
   },
   {
    "duration": 12,
    "start_time": "2023-07-22T05:05:46.562Z"
   },
   {
    "duration": 105,
    "start_time": "2023-07-22T05:08:01.707Z"
   },
   {
    "duration": 9,
    "start_time": "2023-07-22T05:08:26.071Z"
   },
   {
    "duration": 704,
    "start_time": "2023-07-22T05:11:37.307Z"
   },
   {
    "duration": 3,
    "start_time": "2023-07-22T05:14:44.367Z"
   },
   {
    "duration": 16,
    "start_time": "2023-07-22T05:15:32.074Z"
   },
   {
    "duration": 3,
    "start_time": "2023-07-22T05:16:58.703Z"
   },
   {
    "duration": 682,
    "start_time": "2023-07-22T05:18:34.621Z"
   },
   {
    "duration": 240795,
    "start_time": "2023-07-22T05:21:16.962Z"
   },
   {
    "duration": 4,
    "start_time": "2023-07-22T05:26:44.198Z"
   },
   {
    "duration": 47234,
    "start_time": "2023-07-22T05:26:48.159Z"
   },
   {
    "duration": 4,
    "start_time": "2023-07-22T05:27:35.395Z"
   },
   {
    "duration": 31,
    "start_time": "2023-07-22T05:28:30.470Z"
   },
   {
    "duration": 72,
    "start_time": "2023-07-22T05:31:57.661Z"
   },
   {
    "duration": 48,
    "start_time": "2023-07-22T05:32:39.103Z"
   },
   {
    "duration": 35,
    "start_time": "2023-07-22T05:33:46.898Z"
   },
   {
    "duration": 1072856,
    "start_time": "2023-07-22T05:34:00.875Z"
   },
   {
    "duration": 13233,
    "start_time": "2023-07-22T05:52:06.695Z"
   },
   {
    "duration": 348,
    "start_time": "2023-07-22T05:52:19.933Z"
   },
   {
    "duration": 2,
    "start_time": "2023-07-22T05:52:20.283Z"
   },
   {
    "duration": 4,
    "start_time": "2023-07-22T05:57:21.026Z"
   },
   {
    "duration": 111659,
    "start_time": "2023-07-22T05:57:21.864Z"
   },
   {
    "duration": 5,
    "start_time": "2023-07-22T05:59:13.524Z"
   },
   {
    "duration": 32,
    "start_time": "2023-07-22T05:59:13.531Z"
   },
   {
    "duration": 2251,
    "start_time": "2023-07-22T06:01:17.760Z"
   },
   {
    "duration": 2172,
    "start_time": "2023-07-22T06:01:20.013Z"
   },
   {
    "duration": 2071,
    "start_time": "2023-07-22T06:01:22.187Z"
   },
   {
    "duration": 3,
    "start_time": "2023-07-22T06:01:24.260Z"
   },
   {
    "duration": 131,
    "start_time": "2023-07-22T06:01:24.264Z"
   },
   {
    "duration": 17,
    "start_time": "2023-07-22T06:01:24.397Z"
   },
   {
    "duration": 18,
    "start_time": "2023-07-22T06:01:24.416Z"
   },
   {
    "duration": 28,
    "start_time": "2023-07-22T06:01:24.437Z"
   },
   {
    "duration": 215,
    "start_time": "2023-07-22T06:01:24.467Z"
   },
   {
    "duration": 171,
    "start_time": "2023-07-22T06:01:24.685Z"
   },
   {
    "duration": 2,
    "start_time": "2023-07-22T06:01:24.858Z"
   },
   {
    "duration": 176,
    "start_time": "2023-07-22T06:01:24.863Z"
   },
   {
    "duration": 274,
    "start_time": "2023-07-22T06:01:25.041Z"
   },
   {
    "duration": 9,
    "start_time": "2023-07-22T06:01:25.317Z"
   },
   {
    "duration": 21,
    "start_time": "2023-07-22T06:01:25.328Z"
   },
   {
    "duration": 18,
    "start_time": "2023-07-22T06:01:25.352Z"
   },
   {
    "duration": 446,
    "start_time": "2023-07-22T06:01:25.372Z"
   },
   {
    "duration": 11,
    "start_time": "2023-07-22T06:01:25.820Z"
   },
   {
    "duration": 22,
    "start_time": "2023-07-22T06:01:25.834Z"
   },
   {
    "duration": 244,
    "start_time": "2023-07-22T06:01:25.858Z"
   },
   {
    "duration": 218,
    "start_time": "2023-07-22T06:01:26.113Z"
   },
   {
    "duration": 329,
    "start_time": "2023-07-22T06:01:26.334Z"
   },
   {
    "duration": 7,
    "start_time": "2023-07-22T06:01:26.665Z"
   },
   {
    "duration": 20,
    "start_time": "2023-07-22T06:01:26.674Z"
   },
   {
    "duration": 109,
    "start_time": "2023-07-22T06:01:26.714Z"
   },
   {
    "duration": 26,
    "start_time": "2023-07-22T06:01:26.825Z"
   },
   {
    "duration": 16,
    "start_time": "2023-07-22T06:01:26.852Z"
   },
   {
    "duration": 41,
    "start_time": "2023-07-22T06:01:26.873Z"
   },
   {
    "duration": 40,
    "start_time": "2023-07-22T06:01:26.916Z"
   },
   {
    "duration": 8,
    "start_time": "2023-07-22T06:01:26.958Z"
   },
   {
    "duration": 19,
    "start_time": "2023-07-22T06:01:26.968Z"
   },
   {
    "duration": 32,
    "start_time": "2023-07-22T06:01:26.989Z"
   },
   {
    "duration": 41,
    "start_time": "2023-07-22T06:01:27.024Z"
   },
   {
    "duration": 34,
    "start_time": "2023-07-22T06:01:27.067Z"
   },
   {
    "duration": 3,
    "start_time": "2023-07-22T06:01:27.103Z"
   },
   {
    "duration": 6,
    "start_time": "2023-07-22T06:01:27.108Z"
   },
   {
    "duration": 23,
    "start_time": "2023-07-22T06:01:27.116Z"
   },
   {
    "duration": 33,
    "start_time": "2023-07-22T06:01:27.140Z"
   },
   {
    "duration": 15,
    "start_time": "2023-07-22T06:01:27.175Z"
   },
   {
    "duration": 140,
    "start_time": "2023-07-22T06:01:27.192Z"
   },
   {
    "duration": 12,
    "start_time": "2023-07-22T06:01:27.333Z"
   },
   {
    "duration": 7,
    "start_time": "2023-07-22T06:01:27.347Z"
   },
   {
    "duration": 29,
    "start_time": "2023-07-22T06:01:27.356Z"
   },
   {
    "duration": 7,
    "start_time": "2023-07-22T06:01:27.387Z"
   },
   {
    "duration": 9,
    "start_time": "2023-07-22T06:01:27.397Z"
   },
   {
    "duration": 12,
    "start_time": "2023-07-22T06:01:27.408Z"
   },
   {
    "duration": 7,
    "start_time": "2023-07-22T06:01:27.422Z"
   },
   {
    "duration": 17,
    "start_time": "2023-07-22T06:01:27.430Z"
   },
   {
    "duration": 3795,
    "start_time": "2023-07-22T06:01:27.448Z"
   },
   {
    "duration": 9,
    "start_time": "2023-07-22T06:01:31.245Z"
   },
   {
    "duration": 80,
    "start_time": "2023-07-22T06:01:31.256Z"
   },
   {
    "duration": 82,
    "start_time": "2023-07-22T06:01:31.338Z"
   },
   {
    "duration": 36,
    "start_time": "2023-07-22T06:01:31.422Z"
   },
   {
    "duration": 57,
    "start_time": "2023-07-22T06:01:31.460Z"
   },
   {
    "duration": 21,
    "start_time": "2023-07-22T06:01:31.519Z"
   },
   {
    "duration": 68,
    "start_time": "2023-07-22T06:01:31.542Z"
   },
   {
    "duration": 24,
    "start_time": "2023-07-22T06:01:31.612Z"
   },
   {
    "duration": 93,
    "start_time": "2023-07-22T06:01:31.638Z"
   },
   {
    "duration": 51,
    "start_time": "2023-07-22T06:01:31.733Z"
   },
   {
    "duration": 83,
    "start_time": "2023-07-22T06:01:31.785Z"
   },
   {
    "duration": 58272,
    "start_time": "2023-07-22T06:01:31.870Z"
   },
   {
    "duration": 3,
    "start_time": "2023-07-22T06:02:30.144Z"
   },
   {
    "duration": 2120,
    "start_time": "2023-07-22T06:02:30.149Z"
   },
   {
    "duration": 4,
    "start_time": "2023-07-22T06:02:32.271Z"
   },
   {
    "duration": 244426,
    "start_time": "2023-07-22T06:02:32.277Z"
   },
   {
    "duration": 4,
    "start_time": "2023-07-22T06:06:36.706Z"
   },
   {
    "duration": 49695,
    "start_time": "2023-07-22T06:06:36.711Z"
   },
   {
    "duration": 6,
    "start_time": "2023-07-22T06:07:26.408Z"
   },
   {
    "duration": 3338419,
    "start_time": "2023-07-22T06:07:26.416Z"
   },
   {
    "duration": 4,
    "start_time": "2023-07-22T07:03:04.837Z"
   },
   {
    "duration": 119904,
    "start_time": "2023-07-22T07:03:04.843Z"
   },
   {
    "duration": 0,
    "start_time": "2023-07-22T07:05:04.750Z"
   },
   {
    "duration": 0,
    "start_time": "2023-07-22T07:05:04.752Z"
   },
   {
    "duration": 0,
    "start_time": "2023-07-22T07:05:04.754Z"
   },
   {
    "duration": 0,
    "start_time": "2023-07-22T07:05:04.755Z"
   },
   {
    "duration": 0,
    "start_time": "2023-07-22T07:05:04.758Z"
   },
   {
    "duration": 2552330,
    "start_time": "2023-07-22T07:05:08.310Z"
   },
   {
    "duration": 0,
    "start_time": "2023-07-22T07:47:40.642Z"
   },
   {
    "duration": 0,
    "start_time": "2023-07-22T07:47:40.643Z"
   },
   {
    "duration": 0,
    "start_time": "2023-07-22T07:47:40.644Z"
   },
   {
    "duration": 0,
    "start_time": "2023-07-22T07:47:40.646Z"
   },
   {
    "duration": 0,
    "start_time": "2023-07-22T07:47:40.647Z"
   },
   {
    "duration": 0,
    "start_time": "2023-07-22T07:47:40.649Z"
   },
   {
    "duration": 0,
    "start_time": "2023-07-22T07:47:40.651Z"
   },
   {
    "duration": 16,
    "start_time": "2023-07-22T07:47:56.372Z"
   },
   {
    "duration": 20,
    "start_time": "2023-07-22T07:48:04.292Z"
   },
   {
    "duration": 464,
    "start_time": "2023-07-22T07:48:17.573Z"
   },
   {
    "duration": 14,
    "start_time": "2023-07-22T07:48:31.192Z"
   },
   {
    "duration": 280,
    "start_time": "2023-07-22T07:51:50.060Z"
   },
   {
    "duration": 249,
    "start_time": "2023-07-22T07:52:56.451Z"
   },
   {
    "duration": 264,
    "start_time": "2023-07-22T07:54:59.934Z"
   },
   {
    "duration": 59243,
    "start_time": "2023-07-22T07:58:55.557Z"
   },
   {
    "duration": 210,
    "start_time": "2023-07-22T08:01:08.677Z"
   },
   {
    "duration": 3,
    "start_time": "2023-07-22T08:04:47.466Z"
   },
   {
    "duration": 30759,
    "start_time": "2023-07-22T08:07:01.894Z"
   },
   {
    "duration": 15464,
    "start_time": "2023-07-22T08:07:38.149Z"
   },
   {
    "duration": 482,
    "start_time": "2023-07-22T08:07:53.616Z"
   },
   {
    "duration": 451,
    "start_time": "2023-07-22T08:07:54.101Z"
   },
   {
    "duration": 3642,
    "start_time": "2023-07-23T08:12:15.139Z"
   },
   {
    "duration": 4395,
    "start_time": "2023-07-23T08:12:18.783Z"
   },
   {
    "duration": 2164,
    "start_time": "2023-07-23T08:12:23.180Z"
   },
   {
    "duration": 2,
    "start_time": "2023-07-23T08:12:25.346Z"
   },
   {
    "duration": 386,
    "start_time": "2023-07-23T08:12:25.350Z"
   },
   {
    "duration": 14,
    "start_time": "2023-07-23T08:12:25.738Z"
   },
   {
    "duration": 82,
    "start_time": "2023-07-23T08:12:25.754Z"
   },
   {
    "duration": 51,
    "start_time": "2023-07-23T08:12:25.838Z"
   },
   {
    "duration": 175,
    "start_time": "2023-07-23T08:12:25.890Z"
   },
   {
    "duration": 165,
    "start_time": "2023-07-23T08:12:26.069Z"
   },
   {
    "duration": 2,
    "start_time": "2023-07-23T08:12:26.236Z"
   },
   {
    "duration": 148,
    "start_time": "2023-07-23T08:12:26.240Z"
   },
   {
    "duration": 244,
    "start_time": "2023-07-23T08:12:26.390Z"
   },
   {
    "duration": 9,
    "start_time": "2023-07-23T08:12:26.637Z"
   },
   {
    "duration": 37,
    "start_time": "2023-07-23T08:12:26.648Z"
   },
   {
    "duration": 43,
    "start_time": "2023-07-23T08:12:26.687Z"
   },
   {
    "duration": 392,
    "start_time": "2023-07-23T08:12:26.734Z"
   },
   {
    "duration": 13,
    "start_time": "2023-07-23T08:12:27.133Z"
   },
   {
    "duration": 59,
    "start_time": "2023-07-23T08:12:27.148Z"
   },
   {
    "duration": 242,
    "start_time": "2023-07-23T08:12:27.209Z"
   },
   {
    "duration": 276,
    "start_time": "2023-07-23T08:12:27.452Z"
   },
   {
    "duration": 306,
    "start_time": "2023-07-23T08:12:27.733Z"
   },
   {
    "duration": 7,
    "start_time": "2023-07-23T08:12:28.040Z"
   },
   {
    "duration": 34,
    "start_time": "2023-07-23T08:12:28.048Z"
   },
   {
    "duration": 114,
    "start_time": "2023-07-23T08:12:28.084Z"
   },
   {
    "duration": 36,
    "start_time": "2023-07-23T08:12:28.199Z"
   },
   {
    "duration": 36,
    "start_time": "2023-07-23T08:12:28.237Z"
   },
   {
    "duration": 22,
    "start_time": "2023-07-23T08:12:28.279Z"
   },
   {
    "duration": 78,
    "start_time": "2023-07-23T08:12:28.302Z"
   },
   {
    "duration": 7,
    "start_time": "2023-07-23T08:12:28.383Z"
   },
   {
    "duration": 18,
    "start_time": "2023-07-23T08:12:28.392Z"
   },
   {
    "duration": 42,
    "start_time": "2023-07-23T08:12:28.412Z"
   },
   {
    "duration": 30,
    "start_time": "2023-07-23T08:12:28.456Z"
   },
   {
    "duration": 22,
    "start_time": "2023-07-23T08:12:28.488Z"
   },
   {
    "duration": 24,
    "start_time": "2023-07-23T08:12:28.512Z"
   },
   {
    "duration": 20,
    "start_time": "2023-07-23T08:12:28.538Z"
   },
   {
    "duration": 30,
    "start_time": "2023-07-23T08:12:28.560Z"
   },
   {
    "duration": 24,
    "start_time": "2023-07-23T08:12:28.591Z"
   },
   {
    "duration": 25,
    "start_time": "2023-07-23T08:12:28.616Z"
   },
   {
    "duration": 127,
    "start_time": "2023-07-23T08:12:28.642Z"
   },
   {
    "duration": 10,
    "start_time": "2023-07-23T08:12:28.770Z"
   },
   {
    "duration": 8,
    "start_time": "2023-07-23T08:12:28.781Z"
   },
   {
    "duration": 14,
    "start_time": "2023-07-23T08:12:28.790Z"
   },
   {
    "duration": 17,
    "start_time": "2023-07-23T08:12:28.806Z"
   },
   {
    "duration": 24,
    "start_time": "2023-07-23T08:12:28.832Z"
   },
   {
    "duration": 9,
    "start_time": "2023-07-23T08:12:28.857Z"
   },
   {
    "duration": 10,
    "start_time": "2023-07-23T08:12:28.867Z"
   },
   {
    "duration": 153,
    "start_time": "2023-07-23T08:12:28.879Z"
   },
   {
    "duration": 180,
    "start_time": "2023-07-23T08:12:29.036Z"
   },
   {
    "duration": 166,
    "start_time": "2023-07-23T08:12:29.217Z"
   },
   {
    "duration": 251,
    "start_time": "2023-07-23T08:12:29.385Z"
   },
   {
    "duration": 3499,
    "start_time": "2023-07-23T08:12:29.638Z"
   },
   {
    "duration": 354,
    "start_time": "2023-07-23T08:12:33.139Z"
   },
   {
    "duration": 8,
    "start_time": "2023-07-23T08:12:33.495Z"
   },
   {
    "duration": 54,
    "start_time": "2023-07-23T08:12:33.504Z"
   },
   {
    "duration": 13,
    "start_time": "2023-07-23T08:12:33.559Z"
   },
   {
    "duration": 20,
    "start_time": "2023-07-23T08:12:33.573Z"
   },
   {
    "duration": 58,
    "start_time": "2023-07-23T08:12:33.595Z"
   },
   {
    "duration": 30,
    "start_time": "2023-07-23T08:12:33.655Z"
   },
   {
    "duration": 57,
    "start_time": "2023-07-23T08:12:33.686Z"
   },
   {
    "duration": 14,
    "start_time": "2023-07-23T08:12:33.745Z"
   },
   {
    "duration": 49,
    "start_time": "2023-07-23T08:12:33.760Z"
   },
   {
    "duration": 52,
    "start_time": "2023-07-23T08:12:33.811Z"
   },
   {
    "duration": 31,
    "start_time": "2023-07-23T08:12:33.864Z"
   },
   {
    "duration": 48791,
    "start_time": "2023-07-23T08:12:33.896Z"
   },
   {
    "duration": 3,
    "start_time": "2023-07-23T08:13:22.688Z"
   },
   {
    "duration": 1740,
    "start_time": "2023-07-23T08:13:22.692Z"
   },
   {
    "duration": 6,
    "start_time": "2023-07-23T08:13:24.433Z"
   },
   {
    "duration": 610852,
    "start_time": "2023-07-23T08:13:24.441Z"
   },
   {
    "duration": 3,
    "start_time": "2023-07-23T08:23:35.294Z"
   },
   {
    "duration": 52610,
    "start_time": "2023-07-23T08:23:35.299Z"
   },
   {
    "duration": 5,
    "start_time": "2023-07-23T08:24:27.911Z"
   },
   {
    "duration": 3400,
    "start_time": "2023-07-24T05:07:03.468Z"
   },
   {
    "duration": 4429,
    "start_time": "2023-07-24T05:07:06.871Z"
   },
   {
    "duration": 2732,
    "start_time": "2023-07-24T05:07:11.302Z"
   },
   {
    "duration": 4,
    "start_time": "2023-07-24T05:07:14.036Z"
   },
   {
    "duration": 408,
    "start_time": "2023-07-24T05:07:14.043Z"
   },
   {
    "duration": 18,
    "start_time": "2023-07-24T05:07:14.453Z"
   },
   {
    "duration": 17,
    "start_time": "2023-07-24T05:07:14.472Z"
   },
   {
    "duration": 42,
    "start_time": "2023-07-24T05:07:14.492Z"
   },
   {
    "duration": 283,
    "start_time": "2023-07-24T05:07:14.536Z"
   },
   {
    "duration": 180,
    "start_time": "2023-07-24T05:07:14.820Z"
   },
   {
    "duration": 3,
    "start_time": "2023-07-24T05:07:15.002Z"
   },
   {
    "duration": 204,
    "start_time": "2023-07-24T05:07:15.013Z"
   },
   {
    "duration": 283,
    "start_time": "2023-07-24T05:07:15.224Z"
   },
   {
    "duration": 15,
    "start_time": "2023-07-24T05:07:15.513Z"
   },
   {
    "duration": 39,
    "start_time": "2023-07-24T05:07:15.530Z"
   },
   {
    "duration": 29,
    "start_time": "2023-07-24T05:07:15.571Z"
   },
   {
    "duration": 457,
    "start_time": "2023-07-24T05:07:15.602Z"
   },
   {
    "duration": 12,
    "start_time": "2023-07-24T05:07:16.061Z"
   },
   {
    "duration": 46,
    "start_time": "2023-07-24T05:07:16.075Z"
   },
   {
    "duration": 248,
    "start_time": "2023-07-24T05:07:16.124Z"
   },
   {
    "duration": 261,
    "start_time": "2023-07-24T05:07:16.374Z"
   },
   {
    "duration": 357,
    "start_time": "2023-07-24T05:07:16.637Z"
   },
   {
    "duration": 7,
    "start_time": "2023-07-24T05:07:16.996Z"
   },
   {
    "duration": 35,
    "start_time": "2023-07-24T05:07:17.013Z"
   },
   {
    "duration": 115,
    "start_time": "2023-07-24T05:07:17.049Z"
   },
   {
    "duration": 25,
    "start_time": "2023-07-24T05:07:17.166Z"
   },
   {
    "duration": 37,
    "start_time": "2023-07-24T05:07:17.193Z"
   },
   {
    "duration": 21,
    "start_time": "2023-07-24T05:07:17.232Z"
   },
   {
    "duration": 33,
    "start_time": "2023-07-24T05:07:17.255Z"
   },
   {
    "duration": 8,
    "start_time": "2023-07-24T05:07:17.290Z"
   },
   {
    "duration": 27,
    "start_time": "2023-07-24T05:07:17.299Z"
   },
   {
    "duration": 18,
    "start_time": "2023-07-24T05:07:17.328Z"
   },
   {
    "duration": 27,
    "start_time": "2023-07-24T05:07:17.348Z"
   },
   {
    "duration": 14,
    "start_time": "2023-07-24T05:07:17.377Z"
   },
   {
    "duration": 11,
    "start_time": "2023-07-24T05:07:17.392Z"
   },
   {
    "duration": 27,
    "start_time": "2023-07-24T05:07:17.405Z"
   },
   {
    "duration": 19,
    "start_time": "2023-07-24T05:07:17.434Z"
   },
   {
    "duration": 33,
    "start_time": "2023-07-24T05:07:17.455Z"
   },
   {
    "duration": 18,
    "start_time": "2023-07-24T05:07:17.490Z"
   },
   {
    "duration": 148,
    "start_time": "2023-07-24T05:07:17.510Z"
   },
   {
    "duration": 10,
    "start_time": "2023-07-24T05:07:17.663Z"
   },
   {
    "duration": 26,
    "start_time": "2023-07-24T05:07:17.675Z"
   },
   {
    "duration": 30,
    "start_time": "2023-07-24T05:07:17.703Z"
   },
   {
    "duration": 14,
    "start_time": "2023-07-24T05:07:17.734Z"
   },
   {
    "duration": 13,
    "start_time": "2023-07-24T05:07:17.750Z"
   },
   {
    "duration": 22,
    "start_time": "2023-07-24T05:07:17.764Z"
   },
   {
    "duration": 20,
    "start_time": "2023-07-24T05:07:17.788Z"
   },
   {
    "duration": 174,
    "start_time": "2023-07-24T05:07:17.809Z"
   },
   {
    "duration": 191,
    "start_time": "2023-07-24T05:07:17.984Z"
   },
   {
    "duration": 181,
    "start_time": "2023-07-24T05:07:18.177Z"
   },
   {
    "duration": 276,
    "start_time": "2023-07-24T05:07:18.360Z"
   },
   {
    "duration": 3790,
    "start_time": "2023-07-24T05:07:18.638Z"
   },
   {
    "duration": 376,
    "start_time": "2023-07-24T05:07:22.431Z"
   },
   {
    "duration": 20,
    "start_time": "2023-07-24T05:07:22.809Z"
   },
   {
    "duration": 39,
    "start_time": "2023-07-24T05:07:22.833Z"
   },
   {
    "duration": 48,
    "start_time": "2023-07-24T05:07:22.874Z"
   },
   {
    "duration": 26,
    "start_time": "2023-07-24T05:07:22.927Z"
   },
   {
    "duration": 86,
    "start_time": "2023-07-24T05:07:22.955Z"
   },
   {
    "duration": 118,
    "start_time": "2023-07-24T05:07:23.043Z"
   },
   {
    "duration": 180,
    "start_time": "2023-07-24T05:07:23.163Z"
   },
   {
    "duration": 111,
    "start_time": "2023-07-24T05:07:23.344Z"
   },
   {
    "duration": 72,
    "start_time": "2023-07-24T05:07:23.456Z"
   },
   {
    "duration": 66,
    "start_time": "2023-07-24T05:07:23.531Z"
   },
   {
    "duration": 184,
    "start_time": "2023-07-24T05:07:23.599Z"
   },
   {
    "duration": 57457,
    "start_time": "2023-07-24T05:07:23.786Z"
   },
   {
    "duration": 3,
    "start_time": "2023-07-24T05:08:21.245Z"
   },
   {
    "duration": 2040,
    "start_time": "2023-07-24T05:08:21.250Z"
   },
   {
    "duration": 4,
    "start_time": "2023-07-24T05:08:23.292Z"
   },
   {
    "duration": 182538,
    "start_time": "2023-07-24T05:08:23.315Z"
   },
   {
    "duration": 3,
    "start_time": "2023-07-24T05:11:25.855Z"
   },
   {
    "duration": 58203,
    "start_time": "2023-07-24T05:11:25.859Z"
   },
   {
    "duration": 4,
    "start_time": "2023-07-24T05:12:24.064Z"
   },
   {
    "duration": 5,
    "start_time": "2023-07-24T05:14:57.363Z"
   },
   {
    "duration": 13529,
    "start_time": "2023-07-24T05:15:07.527Z"
   },
   {
    "duration": 72,
    "start_time": "2023-07-24T05:15:21.057Z"
   },
   {
    "duration": 150,
    "start_time": "2023-07-24T05:15:24.851Z"
   },
   {
    "duration": 28,
    "start_time": "2023-07-24T05:15:32.475Z"
   },
   {
    "duration": 444,
    "start_time": "2023-07-24T05:15:37.597Z"
   },
   {
    "duration": 104,
    "start_time": "2023-07-24T05:18:29.394Z"
   },
   {
    "duration": 6,
    "start_time": "2023-07-24T05:20:50.338Z"
   },
   {
    "duration": 15345,
    "start_time": "2023-07-24T05:20:54.070Z"
   },
   {
    "duration": 44,
    "start_time": "2023-07-24T05:21:09.417Z"
   },
   {
    "duration": 124,
    "start_time": "2023-07-24T05:21:09.513Z"
   },
   {
    "duration": 42,
    "start_time": "2023-07-24T05:21:33.759Z"
   },
   {
    "duration": 26,
    "start_time": "2023-07-24T05:22:21.411Z"
   },
   {
    "duration": 54,
    "start_time": "2023-07-24T05:22:52.096Z"
   },
   {
    "duration": 266,
    "start_time": "2023-07-24T05:25:37.892Z"
   },
   {
    "duration": 13908,
    "start_time": "2023-07-24T05:25:57.200Z"
   },
   {
    "duration": 34,
    "start_time": "2023-07-24T05:26:11.111Z"
   },
   {
    "duration": 487,
    "start_time": "2023-07-24T05:26:15.443Z"
   },
   {
    "duration": 262,
    "start_time": "2023-07-24T05:28:46.079Z"
   },
   {
    "duration": 556,
    "start_time": "2023-07-24T05:28:57.704Z"
   },
   {
    "duration": 504,
    "start_time": "2023-07-24T05:29:20.158Z"
   },
   {
    "duration": 501,
    "start_time": "2023-07-24T05:29:28.074Z"
   },
   {
    "duration": 41,
    "start_time": "2023-07-24T05:32:10.182Z"
   },
   {
    "duration": 9,
    "start_time": "2023-07-24T05:33:43.378Z"
   },
   {
    "duration": 3363,
    "start_time": "2023-07-25T09:54:44.968Z"
   },
   {
    "duration": 4316,
    "start_time": "2023-07-25T09:54:48.333Z"
   },
   {
    "duration": 2316,
    "start_time": "2023-07-25T09:54:52.651Z"
   },
   {
    "duration": 3,
    "start_time": "2023-07-25T09:54:54.969Z"
   },
   {
    "duration": 412,
    "start_time": "2023-07-25T09:54:54.974Z"
   },
   {
    "duration": 17,
    "start_time": "2023-07-25T09:54:55.387Z"
   },
   {
    "duration": 25,
    "start_time": "2023-07-25T09:54:55.405Z"
   },
   {
    "duration": 45,
    "start_time": "2023-07-25T09:54:55.432Z"
   },
   {
    "duration": 163,
    "start_time": "2023-07-25T09:54:55.478Z"
   },
   {
    "duration": 150,
    "start_time": "2023-07-25T09:54:55.643Z"
   },
   {
    "duration": 2,
    "start_time": "2023-07-25T09:54:55.795Z"
   },
   {
    "duration": 141,
    "start_time": "2023-07-25T09:54:55.799Z"
   },
   {
    "duration": 231,
    "start_time": "2023-07-25T09:54:55.942Z"
   },
   {
    "duration": 8,
    "start_time": "2023-07-25T09:54:56.177Z"
   },
   {
    "duration": 12,
    "start_time": "2023-07-25T09:54:56.187Z"
   },
   {
    "duration": 36,
    "start_time": "2023-07-25T09:54:56.201Z"
   },
   {
    "duration": 368,
    "start_time": "2023-07-25T09:54:56.239Z"
   },
   {
    "duration": 10,
    "start_time": "2023-07-25T09:54:56.609Z"
   },
   {
    "duration": 23,
    "start_time": "2023-07-25T09:54:56.631Z"
   },
   {
    "duration": 198,
    "start_time": "2023-07-25T09:54:56.656Z"
   },
   {
    "duration": 201,
    "start_time": "2023-07-25T09:54:56.856Z"
   },
   {
    "duration": 288,
    "start_time": "2023-07-25T09:54:57.059Z"
   },
   {
    "duration": 7,
    "start_time": "2023-07-25T09:54:57.349Z"
   },
   {
    "duration": 27,
    "start_time": "2023-07-25T09:54:57.357Z"
   },
   {
    "duration": 111,
    "start_time": "2023-07-25T09:54:57.385Z"
   },
   {
    "duration": 25,
    "start_time": "2023-07-25T09:54:57.498Z"
   },
   {
    "duration": 21,
    "start_time": "2023-07-25T09:54:57.524Z"
   },
   {
    "duration": 24,
    "start_time": "2023-07-25T09:54:57.546Z"
   },
   {
    "duration": 37,
    "start_time": "2023-07-25T09:54:57.572Z"
   },
   {
    "duration": 33,
    "start_time": "2023-07-25T09:54:57.611Z"
   },
   {
    "duration": 29,
    "start_time": "2023-07-25T09:54:57.646Z"
   },
   {
    "duration": 17,
    "start_time": "2023-07-25T09:54:57.677Z"
   },
   {
    "duration": 47,
    "start_time": "2023-07-25T09:54:57.696Z"
   },
   {
    "duration": 29,
    "start_time": "2023-07-25T09:54:57.744Z"
   },
   {
    "duration": 13,
    "start_time": "2023-07-25T09:54:57.775Z"
   },
   {
    "duration": 32,
    "start_time": "2023-07-25T09:54:57.789Z"
   },
   {
    "duration": 20,
    "start_time": "2023-07-25T09:54:57.824Z"
   },
   {
    "duration": 34,
    "start_time": "2023-07-25T09:54:57.846Z"
   },
   {
    "duration": 15,
    "start_time": "2023-07-25T09:54:57.882Z"
   },
   {
    "duration": 135,
    "start_time": "2023-07-25T09:54:57.898Z"
   },
   {
    "duration": 10,
    "start_time": "2023-07-25T09:54:58.036Z"
   },
   {
    "duration": 17,
    "start_time": "2023-07-25T09:54:58.047Z"
   },
   {
    "duration": 24,
    "start_time": "2023-07-25T09:54:58.065Z"
   },
   {
    "duration": 18,
    "start_time": "2023-07-25T09:54:58.091Z"
   },
   {
    "duration": 7,
    "start_time": "2023-07-25T09:54:58.111Z"
   },
   {
    "duration": 16,
    "start_time": "2023-07-25T09:54:58.119Z"
   },
   {
    "duration": 13,
    "start_time": "2023-07-25T09:54:58.136Z"
   },
   {
    "duration": 130,
    "start_time": "2023-07-25T09:54:58.151Z"
   },
   {
    "duration": 153,
    "start_time": "2023-07-25T09:54:58.283Z"
   },
   {
    "duration": 142,
    "start_time": "2023-07-25T09:54:58.438Z"
   },
   {
    "duration": 231,
    "start_time": "2023-07-25T09:54:58.581Z"
   },
   {
    "duration": 3116,
    "start_time": "2023-07-25T09:54:58.813Z"
   },
   {
    "duration": 361,
    "start_time": "2023-07-25T09:55:01.931Z"
   },
   {
    "duration": 9,
    "start_time": "2023-07-25T09:55:02.294Z"
   },
   {
    "duration": 298,
    "start_time": "2023-07-25T09:55:02.304Z"
   },
   {
    "duration": 26,
    "start_time": "2023-07-25T09:55:02.603Z"
   },
   {
    "duration": 34,
    "start_time": "2023-07-25T09:55:02.630Z"
   },
   {
    "duration": 54,
    "start_time": "2023-07-25T09:55:02.665Z"
   },
   {
    "duration": 16,
    "start_time": "2023-07-25T09:55:02.720Z"
   },
   {
    "duration": 76,
    "start_time": "2023-07-25T09:55:02.737Z"
   },
   {
    "duration": 3,
    "start_time": "2023-07-25T09:55:02.814Z"
   },
   {
    "duration": 43,
    "start_time": "2023-07-25T09:55:02.819Z"
   },
   {
    "duration": 98,
    "start_time": "2023-07-25T09:55:02.863Z"
   },
   {
    "duration": 54,
    "start_time": "2023-07-25T09:55:02.962Z"
   },
   {
    "duration": 47052,
    "start_time": "2023-07-25T09:55:03.017Z"
   },
   {
    "duration": 2,
    "start_time": "2023-07-25T09:55:50.071Z"
   },
   {
    "duration": 1720,
    "start_time": "2023-07-25T09:55:50.075Z"
   },
   {
    "duration": 4,
    "start_time": "2023-07-25T09:55:51.797Z"
   },
   {
    "duration": 18261,
    "start_time": "2023-07-25T09:56:22.157Z"
   },
   {
    "duration": 222705,
    "start_time": "2023-07-25T09:57:12.249Z"
   },
   {
    "duration": 26779,
    "start_time": "2023-07-25T10:02:26.252Z"
   },
   {
    "duration": 46953,
    "start_time": "2023-07-25T10:05:07.655Z"
   },
   {
    "duration": 12,
    "start_time": "2023-07-25T10:08:43.752Z"
   },
   {
    "duration": 15,
    "start_time": "2023-07-25T10:09:26.951Z"
   },
   {
    "duration": 15,
    "start_time": "2023-07-25T10:18:07.348Z"
   },
   {
    "duration": 46,
    "start_time": "2023-07-25T15:59:02.245Z"
   },
   {
    "duration": 2887,
    "start_time": "2023-07-25T15:59:38.192Z"
   },
   {
    "duration": 3849,
    "start_time": "2023-07-25T15:59:41.082Z"
   },
   {
    "duration": 1994,
    "start_time": "2023-07-25T15:59:44.933Z"
   },
   {
    "duration": 2,
    "start_time": "2023-07-25T15:59:46.930Z"
   },
   {
    "duration": 362,
    "start_time": "2023-07-25T15:59:46.934Z"
   },
   {
    "duration": 17,
    "start_time": "2023-07-25T15:59:47.297Z"
   },
   {
    "duration": 15,
    "start_time": "2023-07-25T15:59:47.316Z"
   },
   {
    "duration": 26,
    "start_time": "2023-07-25T15:59:47.333Z"
   },
   {
    "duration": 194,
    "start_time": "2023-07-25T15:59:47.360Z"
   },
   {
    "duration": 161,
    "start_time": "2023-07-25T15:59:47.556Z"
   },
   {
    "duration": 3,
    "start_time": "2023-07-25T15:59:47.718Z"
   },
   {
    "duration": 145,
    "start_time": "2023-07-25T15:59:47.722Z"
   },
   {
    "duration": 253,
    "start_time": "2023-07-25T15:59:47.869Z"
   },
   {
    "duration": 9,
    "start_time": "2023-07-25T15:59:48.124Z"
   },
   {
    "duration": 28,
    "start_time": "2023-07-25T15:59:48.135Z"
   },
   {
    "duration": 18,
    "start_time": "2023-07-25T15:59:48.335Z"
   },
   {
    "duration": 436,
    "start_time": "2023-07-25T15:59:49.385Z"
   },
   {
    "duration": 11,
    "start_time": "2023-07-25T15:59:50.033Z"
   },
   {
    "duration": 18,
    "start_time": "2023-07-25T15:59:50.230Z"
   },
   {
    "duration": 205,
    "start_time": "2023-07-25T15:59:50.629Z"
   },
   {
    "duration": 216,
    "start_time": "2023-07-25T15:59:51.052Z"
   },
   {
    "duration": 307,
    "start_time": "2023-07-25T15:59:51.522Z"
   },
   {
    "duration": 6,
    "start_time": "2023-07-25T15:59:52.764Z"
   },
   {
    "duration": 14,
    "start_time": "2023-07-25T15:59:52.939Z"
   },
   {
    "duration": 99,
    "start_time": "2023-07-25T15:59:53.335Z"
   },
   {
    "duration": 26,
    "start_time": "2023-07-25T15:59:53.946Z"
   },
   {
    "duration": 16,
    "start_time": "2023-07-25T15:59:54.190Z"
   },
   {
    "duration": 19,
    "start_time": "2023-07-25T15:59:55.027Z"
   },
   {
    "duration": 15,
    "start_time": "2023-07-25T15:59:58.655Z"
   },
   {
    "duration": 7,
    "start_time": "2023-07-25T15:59:59.067Z"
   },
   {
    "duration": 10,
    "start_time": "2023-07-25T15:59:59.337Z"
   },
   {
    "duration": 4,
    "start_time": "2023-07-25T15:59:59.627Z"
   },
   {
    "duration": 23,
    "start_time": "2023-07-25T16:00:00.056Z"
   },
   {
    "duration": 11,
    "start_time": "2023-07-25T16:00:00.266Z"
   },
   {
    "duration": 2,
    "start_time": "2023-07-25T16:00:00.527Z"
   },
   {
    "duration": 3,
    "start_time": "2023-07-25T16:00:01.633Z"
   },
   {
    "duration": 5,
    "start_time": "2023-07-25T16:00:01.828Z"
   },
   {
    "duration": 11,
    "start_time": "2023-07-25T16:00:02.026Z"
   },
   {
    "duration": 5,
    "start_time": "2023-07-25T16:00:02.254Z"
   },
   {
    "duration": 111,
    "start_time": "2023-07-25T16:00:02.517Z"
   },
   {
    "duration": 10,
    "start_time": "2023-07-25T16:00:03.478Z"
   },
   {
    "duration": 6,
    "start_time": "2023-07-25T16:00:03.933Z"
   },
   {
    "duration": 7,
    "start_time": "2023-07-25T16:00:05.127Z"
   },
   {
    "duration": 3,
    "start_time": "2023-07-25T16:00:06.026Z"
   },
   {
    "duration": 2,
    "start_time": "2023-07-25T16:00:06.356Z"
   },
   {
    "duration": 3,
    "start_time": "2023-07-25T16:00:06.636Z"
   },
   {
    "duration": 2,
    "start_time": "2023-07-25T16:00:06.834Z"
   },
   {
    "duration": 138,
    "start_time": "2023-07-25T16:00:09.349Z"
   },
   {
    "duration": 151,
    "start_time": "2023-07-25T16:00:10.432Z"
   },
   {
    "duration": 142,
    "start_time": "2023-07-25T16:00:10.861Z"
   },
   {
    "duration": 135,
    "start_time": "2023-07-25T16:00:11.732Z"
   },
   {
    "duration": 3380,
    "start_time": "2023-07-25T16:00:12.781Z"
   },
   {
    "duration": 355,
    "start_time": "2023-07-25T16:00:16.163Z"
   },
   {
    "duration": 9,
    "start_time": "2023-07-25T16:05:12.500Z"
   },
   {
    "duration": 11,
    "start_time": "2023-07-25T16:05:15.280Z"
   },
   {
    "duration": 4,
    "start_time": "2023-07-25T16:05:16.458Z"
   },
   {
    "duration": 7,
    "start_time": "2023-07-25T16:05:16.921Z"
   },
   {
    "duration": 29,
    "start_time": "2023-07-25T16:05:18.429Z"
   },
   {
    "duration": 3,
    "start_time": "2023-07-25T16:05:19.117Z"
   },
   {
    "duration": 44,
    "start_time": "2023-07-25T16:05:20.442Z"
   },
   {
    "duration": 4,
    "start_time": "2023-07-25T16:05:21.109Z"
   },
   {
    "duration": 7,
    "start_time": "2023-07-25T16:05:21.641Z"
   },
   {
    "duration": 5,
    "start_time": "2023-07-25T16:05:22.337Z"
   },
   {
    "duration": 2,
    "start_time": "2023-07-25T16:05:27.029Z"
   },
   {
    "duration": 55345,
    "start_time": "2023-07-25T16:05:28.913Z"
   },
   {
    "duration": 3,
    "start_time": "2023-07-25T16:06:24.260Z"
   },
   {
    "duration": 1809,
    "start_time": "2023-07-25T16:06:24.265Z"
   },
   {
    "duration": 3,
    "start_time": "2023-07-25T16:06:26.076Z"
   },
   {
    "duration": 96,
    "start_time": "2023-07-25T16:08:26.977Z"
   },
   {
    "duration": 17,
    "start_time": "2023-07-25T16:09:03.959Z"
   },
   {
    "duration": 567940,
    "start_time": "2023-07-25T16:11:07.837Z"
   },
   {
    "duration": 0,
    "start_time": "2023-07-25T16:20:35.779Z"
   },
   {
    "duration": 0,
    "start_time": "2023-07-25T16:20:35.780Z"
   },
   {
    "duration": 0,
    "start_time": "2023-07-25T16:20:35.781Z"
   },
   {
    "duration": 0,
    "start_time": "2023-07-25T16:20:35.782Z"
   },
   {
    "duration": 27970,
    "start_time": "2023-07-25T16:20:39.964Z"
   },
   {
    "duration": 27146,
    "start_time": "2023-07-25T16:24:59.508Z"
   },
   {
    "duration": 25971,
    "start_time": "2023-07-25T16:27:39.578Z"
   },
   {
    "duration": 1988554,
    "start_time": "2023-07-25T16:36:20.941Z"
   },
   {
    "duration": 0,
    "start_time": "2023-07-25T17:09:29.497Z"
   },
   {
    "duration": 68029,
    "start_time": "2023-07-25T17:10:39.248Z"
   },
   {
    "duration": 54,
    "start_time": "2023-07-25T17:12:09.130Z"
   },
   {
    "duration": 26,
    "start_time": "2023-07-25T17:14:54.523Z"
   },
   {
    "duration": 8,
    "start_time": "2023-07-25T17:15:38.202Z"
   },
   {
    "duration": 7,
    "start_time": "2023-07-25T17:15:53.622Z"
   },
   {
    "duration": 30,
    "start_time": "2023-07-25T17:16:17.243Z"
   },
   {
    "duration": 282818,
    "start_time": "2023-07-25T17:16:53.875Z"
   },
   {
    "duration": 0,
    "start_time": "2023-07-25T17:21:36.695Z"
   },
   {
    "duration": 0,
    "start_time": "2023-07-25T17:21:36.696Z"
   },
   {
    "duration": 0,
    "start_time": "2023-07-25T17:21:36.697Z"
   },
   {
    "duration": 3679,
    "start_time": "2023-07-25T17:21:43.080Z"
   },
   {
    "duration": 11,
    "start_time": "2023-07-25T17:21:59.422Z"
   },
   {
    "duration": 5,
    "start_time": "2023-07-25T17:22:56.910Z"
   },
   {
    "duration": 3485,
    "start_time": "2023-07-26T03:19:42.175Z"
   },
   {
    "duration": 3944,
    "start_time": "2023-07-26T03:19:45.662Z"
   },
   {
    "duration": 3367,
    "start_time": "2023-07-26T03:19:49.609Z"
   },
   {
    "duration": 3,
    "start_time": "2023-07-26T03:19:52.978Z"
   },
   {
    "duration": 362,
    "start_time": "2023-07-26T03:19:52.982Z"
   },
   {
    "duration": 15,
    "start_time": "2023-07-26T03:19:53.345Z"
   },
   {
    "duration": 50,
    "start_time": "2023-07-26T03:19:53.361Z"
   },
   {
    "duration": 68,
    "start_time": "2023-07-26T03:19:53.412Z"
   },
   {
    "duration": 188,
    "start_time": "2023-07-26T03:19:53.482Z"
   },
   {
    "duration": 151,
    "start_time": "2023-07-26T03:19:53.673Z"
   },
   {
    "duration": 2,
    "start_time": "2023-07-26T03:19:53.826Z"
   },
   {
    "duration": 182,
    "start_time": "2023-07-26T03:19:53.830Z"
   },
   {
    "duration": 255,
    "start_time": "2023-07-26T03:19:54.013Z"
   },
   {
    "duration": 8,
    "start_time": "2023-07-26T03:19:54.270Z"
   },
   {
    "duration": 12,
    "start_time": "2023-07-26T03:19:54.287Z"
   },
   {
    "duration": 46,
    "start_time": "2023-07-26T03:19:54.301Z"
   },
   {
    "duration": 410,
    "start_time": "2023-07-26T03:19:54.348Z"
   },
   {
    "duration": 17,
    "start_time": "2023-07-26T03:19:54.760Z"
   },
   {
    "duration": 119,
    "start_time": "2023-07-26T03:19:54.787Z"
   },
   {
    "duration": 236,
    "start_time": "2023-07-26T03:19:54.908Z"
   },
   {
    "duration": 206,
    "start_time": "2023-07-26T03:19:55.145Z"
   },
   {
    "duration": 315,
    "start_time": "2023-07-26T03:19:55.352Z"
   },
   {
    "duration": 6,
    "start_time": "2023-07-26T03:19:55.669Z"
   },
   {
    "duration": 55,
    "start_time": "2023-07-26T03:19:55.687Z"
   },
   {
    "duration": 115,
    "start_time": "2023-07-26T03:19:55.744Z"
   },
   {
    "duration": 29,
    "start_time": "2023-07-26T03:19:55.861Z"
   },
   {
    "duration": 26,
    "start_time": "2023-07-26T03:19:55.892Z"
   },
   {
    "duration": 31,
    "start_time": "2023-07-26T03:19:55.922Z"
   },
   {
    "duration": 37,
    "start_time": "2023-07-26T03:19:55.955Z"
   },
   {
    "duration": 6,
    "start_time": "2023-07-26T03:19:55.994Z"
   },
   {
    "duration": 14,
    "start_time": "2023-07-26T03:19:56.002Z"
   },
   {
    "duration": 17,
    "start_time": "2023-07-26T03:19:56.018Z"
   },
   {
    "duration": 40,
    "start_time": "2023-07-26T03:19:56.036Z"
   },
   {
    "duration": 40,
    "start_time": "2023-07-26T03:19:56.078Z"
   },
   {
    "duration": 14,
    "start_time": "2023-07-26T03:19:56.119Z"
   },
   {
    "duration": 6,
    "start_time": "2023-07-26T03:19:56.135Z"
   },
   {
    "duration": 17,
    "start_time": "2023-07-26T03:19:56.143Z"
   },
   {
    "duration": 23,
    "start_time": "2023-07-26T03:19:56.161Z"
   },
   {
    "duration": 23,
    "start_time": "2023-07-26T03:19:56.185Z"
   },
   {
    "duration": 132,
    "start_time": "2023-07-26T03:19:56.210Z"
   },
   {
    "duration": 10,
    "start_time": "2023-07-26T03:19:56.343Z"
   },
   {
    "duration": 19,
    "start_time": "2023-07-26T03:19:56.354Z"
   },
   {
    "duration": 11,
    "start_time": "2023-07-26T03:19:56.374Z"
   },
   {
    "duration": 14,
    "start_time": "2023-07-26T03:19:56.387Z"
   },
   {
    "duration": 6,
    "start_time": "2023-07-26T03:19:56.403Z"
   },
   {
    "duration": 25,
    "start_time": "2023-07-26T03:19:56.410Z"
   },
   {
    "duration": 14,
    "start_time": "2023-07-26T03:19:56.436Z"
   },
   {
    "duration": 164,
    "start_time": "2023-07-26T03:19:56.452Z"
   },
   {
    "duration": 184,
    "start_time": "2023-07-26T03:19:56.618Z"
   },
   {
    "duration": 155,
    "start_time": "2023-07-26T03:19:56.803Z"
   },
   {
    "duration": 233,
    "start_time": "2023-07-26T03:19:56.960Z"
   },
   {
    "duration": 3335,
    "start_time": "2023-07-26T03:19:57.195Z"
   },
   {
    "duration": 362,
    "start_time": "2023-07-26T03:20:00.532Z"
   },
   {
    "duration": 7,
    "start_time": "2023-07-26T03:20:00.896Z"
   },
   {
    "duration": 78,
    "start_time": "2023-07-26T03:20:00.905Z"
   },
   {
    "duration": 44,
    "start_time": "2023-07-26T03:20:00.984Z"
   },
   {
    "duration": 51,
    "start_time": "2023-07-26T03:20:01.030Z"
   },
   {
    "duration": 58,
    "start_time": "2023-07-26T03:20:01.082Z"
   },
   {
    "duration": 3,
    "start_time": "2023-07-26T03:20:01.142Z"
   },
   {
    "duration": 63,
    "start_time": "2023-07-26T03:20:01.146Z"
   },
   {
    "duration": 4,
    "start_time": "2023-07-26T03:20:01.210Z"
   },
   {
    "duration": 35,
    "start_time": "2023-07-26T03:20:01.215Z"
   },
   {
    "duration": 39,
    "start_time": "2023-07-26T03:20:01.252Z"
   },
   {
    "duration": 30,
    "start_time": "2023-07-26T03:20:01.293Z"
   },
   {
    "duration": 46142,
    "start_time": "2023-07-26T03:20:01.325Z"
   },
   {
    "duration": 3,
    "start_time": "2023-07-26T03:20:47.469Z"
   },
   {
    "duration": 1804,
    "start_time": "2023-07-26T03:20:47.474Z"
   },
   {
    "duration": 8,
    "start_time": "2023-07-26T03:20:49.279Z"
   },
   {
    "duration": 109,
    "start_time": "2023-07-26T03:20:49.289Z"
   },
   {
    "duration": 0,
    "start_time": "2023-07-26T03:20:49.400Z"
   },
   {
    "duration": 0,
    "start_time": "2023-07-26T03:20:49.401Z"
   },
   {
    "duration": 5554,
    "start_time": "2023-07-26T03:21:23.264Z"
   },
   {
    "duration": 4341,
    "start_time": "2023-07-26T03:21:51.362Z"
   },
   {
    "duration": 5,
    "start_time": "2023-07-26T03:21:56.160Z"
   },
   {
    "duration": 5556,
    "start_time": "2023-07-26T03:22:44.413Z"
   },
   {
    "duration": 7,
    "start_time": "2023-07-26T03:22:49.972Z"
   },
   {
    "duration": 5,
    "start_time": "2023-07-26T03:22:53.982Z"
   },
   {
    "duration": 5,
    "start_time": "2023-07-26T03:24:58.448Z"
   },
   {
    "duration": 200,
    "start_time": "2023-07-26T03:25:22.831Z"
   },
   {
    "duration": 387,
    "start_time": "2023-07-26T03:25:35.714Z"
   },
   {
    "duration": 632301,
    "start_time": "2023-07-26T03:26:18.796Z"
   },
   {
    "duration": 124,
    "start_time": "2023-07-26T03:46:04.521Z"
   },
   {
    "duration": 16,
    "start_time": "2023-07-26T03:46:14.594Z"
   },
   {
    "duration": 38,
    "start_time": "2023-07-26T03:46:35.488Z"
   },
   {
    "duration": 43,
    "start_time": "2023-07-26T03:47:14.822Z"
   },
   {
    "duration": 39,
    "start_time": "2023-07-26T03:47:42.071Z"
   },
   {
    "duration": 33,
    "start_time": "2023-07-26T03:48:15.487Z"
   },
   {
    "duration": 9,
    "start_time": "2023-07-26T03:48:27.802Z"
   },
   {
    "duration": 10,
    "start_time": "2023-07-26T03:48:51.437Z"
   },
   {
    "duration": 6,
    "start_time": "2023-07-26T03:48:59.368Z"
   },
   {
    "duration": 10,
    "start_time": "2023-07-26T03:49:13.854Z"
   },
   {
    "duration": 44,
    "start_time": "2023-07-26T03:51:46.205Z"
   },
   {
    "duration": 51,
    "start_time": "2023-07-26T03:53:29.455Z"
   },
   {
    "duration": 49,
    "start_time": "2023-07-26T03:53:53.506Z"
   },
   {
    "duration": 50,
    "start_time": "2023-07-26T03:54:03.675Z"
   },
   {
    "duration": 52,
    "start_time": "2023-07-26T03:54:12.422Z"
   },
   {
    "duration": 53,
    "start_time": "2023-07-26T03:54:35.355Z"
   },
   {
    "duration": 3,
    "start_time": "2023-07-26T03:57:35.241Z"
   },
   {
    "duration": 589098,
    "start_time": "2023-07-26T03:57:36.304Z"
   },
   {
    "duration": 0,
    "start_time": "2023-07-26T04:07:25.410Z"
   },
   {
    "duration": 0,
    "start_time": "2023-07-26T04:07:25.411Z"
   },
   {
    "duration": 5,
    "start_time": "2023-07-26T04:08:11.557Z"
   },
   {
    "duration": 6,
    "start_time": "2023-07-26T04:08:12.424Z"
   },
   {
    "duration": 2444,
    "start_time": "2023-07-26T04:10:28.754Z"
   },
   {
    "duration": 2347,
    "start_time": "2023-07-26T04:10:31.200Z"
   },
   {
    "duration": 1812,
    "start_time": "2023-07-26T04:10:33.549Z"
   },
   {
    "duration": 2,
    "start_time": "2023-07-26T04:10:35.363Z"
   },
   {
    "duration": 114,
    "start_time": "2023-07-26T04:10:35.367Z"
   },
   {
    "duration": 20,
    "start_time": "2023-07-26T04:10:35.484Z"
   },
   {
    "duration": 24,
    "start_time": "2023-07-26T04:10:35.506Z"
   },
   {
    "duration": 24,
    "start_time": "2023-07-26T04:10:35.532Z"
   },
   {
    "duration": 190,
    "start_time": "2023-07-26T04:10:35.558Z"
   },
   {
    "duration": 157,
    "start_time": "2023-07-26T04:10:35.750Z"
   },
   {
    "duration": 2,
    "start_time": "2023-07-26T04:10:35.909Z"
   },
   {
    "duration": 161,
    "start_time": "2023-07-26T04:10:35.912Z"
   },
   {
    "duration": 258,
    "start_time": "2023-07-26T04:10:36.075Z"
   },
   {
    "duration": 9,
    "start_time": "2023-07-26T04:10:36.334Z"
   },
   {
    "duration": 23,
    "start_time": "2023-07-26T04:10:36.344Z"
   },
   {
    "duration": 31,
    "start_time": "2023-07-26T04:10:36.369Z"
   },
   {
    "duration": 402,
    "start_time": "2023-07-26T04:10:36.402Z"
   },
   {
    "duration": 11,
    "start_time": "2023-07-26T04:10:36.806Z"
   },
   {
    "duration": 17,
    "start_time": "2023-07-26T04:10:36.818Z"
   },
   {
    "duration": 218,
    "start_time": "2023-07-26T04:10:36.837Z"
   },
   {
    "duration": 209,
    "start_time": "2023-07-26T04:10:37.056Z"
   },
   {
    "duration": 325,
    "start_time": "2023-07-26T04:10:37.267Z"
   },
   {
    "duration": 10,
    "start_time": "2023-07-26T04:10:37.598Z"
   },
   {
    "duration": 18,
    "start_time": "2023-07-26T04:10:37.610Z"
   },
   {
    "duration": 134,
    "start_time": "2023-07-26T04:10:37.631Z"
   },
   {
    "duration": 42,
    "start_time": "2023-07-26T04:10:37.767Z"
   },
   {
    "duration": 18,
    "start_time": "2023-07-26T04:10:37.811Z"
   },
   {
    "duration": 17,
    "start_time": "2023-07-26T04:10:37.833Z"
   },
   {
    "duration": 18,
    "start_time": "2023-07-26T04:10:37.852Z"
   },
   {
    "duration": 26,
    "start_time": "2023-07-26T04:10:37.872Z"
   },
   {
    "duration": 10,
    "start_time": "2023-07-26T04:10:37.899Z"
   },
   {
    "duration": 20,
    "start_time": "2023-07-26T04:10:37.910Z"
   },
   {
    "duration": 23,
    "start_time": "2023-07-26T04:10:37.931Z"
   },
   {
    "duration": 13,
    "start_time": "2023-07-26T04:10:37.956Z"
   },
   {
    "duration": 3,
    "start_time": "2023-07-26T04:10:37.971Z"
   },
   {
    "duration": 18,
    "start_time": "2023-07-26T04:10:37.975Z"
   },
   {
    "duration": 10,
    "start_time": "2023-07-26T04:10:37.995Z"
   },
   {
    "duration": 15,
    "start_time": "2023-07-26T04:10:38.006Z"
   },
   {
    "duration": 5,
    "start_time": "2023-07-26T04:10:38.023Z"
   },
   {
    "duration": 121,
    "start_time": "2023-07-26T04:10:38.029Z"
   },
   {
    "duration": 10,
    "start_time": "2023-07-26T04:10:38.152Z"
   },
   {
    "duration": 4,
    "start_time": "2023-07-26T04:10:38.163Z"
   },
   {
    "duration": 30,
    "start_time": "2023-07-26T04:10:38.169Z"
   },
   {
    "duration": 2,
    "start_time": "2023-07-26T04:10:38.201Z"
   },
   {
    "duration": 4,
    "start_time": "2023-07-26T04:10:38.207Z"
   },
   {
    "duration": 12,
    "start_time": "2023-07-26T04:10:38.212Z"
   },
   {
    "duration": 4,
    "start_time": "2023-07-26T04:10:38.226Z"
   },
   {
    "duration": 140,
    "start_time": "2023-07-26T04:10:38.232Z"
   },
   {
    "duration": 178,
    "start_time": "2023-07-26T04:10:38.373Z"
   },
   {
    "duration": 164,
    "start_time": "2023-07-26T04:10:38.552Z"
   },
   {
    "duration": 147,
    "start_time": "2023-07-26T04:10:38.718Z"
   },
   {
    "duration": 3595,
    "start_time": "2023-07-26T04:10:38.867Z"
   },
   {
    "duration": 412,
    "start_time": "2023-07-26T04:10:42.464Z"
   },
   {
    "duration": 22,
    "start_time": "2023-07-26T04:10:42.878Z"
   },
   {
    "duration": 23,
    "start_time": "2023-07-26T04:10:42.901Z"
   },
   {
    "duration": 10,
    "start_time": "2023-07-26T04:10:42.926Z"
   },
   {
    "duration": 15,
    "start_time": "2023-07-26T04:10:42.938Z"
   },
   {
    "duration": 26,
    "start_time": "2023-07-26T04:10:42.954Z"
   },
   {
    "duration": 3,
    "start_time": "2023-07-26T04:10:42.981Z"
   },
   {
    "duration": 48,
    "start_time": "2023-07-26T04:10:42.985Z"
   },
   {
    "duration": 3,
    "start_time": "2023-07-26T04:10:43.035Z"
   },
   {
    "duration": 7,
    "start_time": "2023-07-26T04:10:43.040Z"
   },
   {
    "duration": 26,
    "start_time": "2023-07-26T04:10:43.049Z"
   },
   {
    "duration": 23,
    "start_time": "2023-07-26T04:10:43.077Z"
   },
   {
    "duration": 61952,
    "start_time": "2023-07-26T04:10:43.102Z"
   },
   {
    "duration": 3,
    "start_time": "2023-07-26T04:11:45.055Z"
   },
   {
    "duration": 1964,
    "start_time": "2023-07-26T04:11:45.059Z"
   },
   {
    "duration": 4,
    "start_time": "2023-07-26T04:11:47.025Z"
   },
   {
    "duration": 29,
    "start_time": "2023-07-26T04:11:47.031Z"
   },
   {
    "duration": 37,
    "start_time": "2023-07-26T04:11:47.061Z"
   },
   {
    "duration": 31,
    "start_time": "2023-07-26T04:11:47.100Z"
   },
   {
    "duration": 194,
    "start_time": "2023-07-26T04:11:47.133Z"
   },
   {
    "duration": 0,
    "start_time": "2023-07-26T04:11:47.329Z"
   },
   {
    "duration": 0,
    "start_time": "2023-07-26T04:11:47.330Z"
   },
   {
    "duration": 0,
    "start_time": "2023-07-26T04:11:47.331Z"
   },
   {
    "duration": 0,
    "start_time": "2023-07-26T04:11:47.332Z"
   },
   {
    "duration": 0,
    "start_time": "2023-07-26T04:11:47.334Z"
   },
   {
    "duration": 0,
    "start_time": "2023-07-26T04:11:47.335Z"
   },
   {
    "duration": 0,
    "start_time": "2023-07-26T04:11:47.336Z"
   },
   {
    "duration": 0,
    "start_time": "2023-07-26T04:11:47.337Z"
   },
   {
    "duration": 0,
    "start_time": "2023-07-26T04:11:47.338Z"
   },
   {
    "duration": 0,
    "start_time": "2023-07-26T04:11:47.339Z"
   },
   {
    "duration": 0,
    "start_time": "2023-07-26T04:11:47.341Z"
   },
   {
    "duration": 3,
    "start_time": "2023-07-26T04:19:22.511Z"
   },
   {
    "duration": 11153,
    "start_time": "2023-07-26T04:19:28.174Z"
   },
   {
    "duration": 0,
    "start_time": "2023-07-26T04:19:39.328Z"
   },
   {
    "duration": 1052502,
    "start_time": "2023-07-26T04:19:55.298Z"
   },
   {
    "duration": 3,
    "start_time": "2023-07-26T04:40:01.565Z"
   },
   {
    "duration": 4,
    "start_time": "2023-07-26T04:40:07.134Z"
   },
   {
    "duration": 10,
    "start_time": "2023-07-26T04:40:11.526Z"
   },
   {
    "duration": 251,
    "start_time": "2023-07-26T04:40:32.797Z"
   },
   {
    "duration": 126822,
    "start_time": "2023-07-26T04:40:46.069Z"
   },
   {
    "duration": 4,
    "start_time": "2023-07-26T04:42:52.893Z"
   },
   {
    "duration": 7,
    "start_time": "2023-07-26T04:43:21.051Z"
   },
   {
    "duration": 9,
    "start_time": "2023-07-26T04:46:25.772Z"
   },
   {
    "duration": 12,
    "start_time": "2023-07-26T04:51:14.281Z"
   },
   {
    "duration": 160352,
    "start_time": "2023-07-26T04:51:57.458Z"
   },
   {
    "duration": 11,
    "start_time": "2023-07-26T05:01:20.283Z"
   },
   {
    "duration": 10,
    "start_time": "2023-07-26T05:04:56.516Z"
   },
   {
    "duration": 10,
    "start_time": "2023-07-26T05:05:20.796Z"
   },
   {
    "duration": 9,
    "start_time": "2023-07-26T05:05:29.943Z"
   },
   {
    "duration": 50,
    "start_time": "2023-07-27T01:32:38.743Z"
   },
   {
    "duration": 3737,
    "start_time": "2023-07-27T01:32:48.618Z"
   },
   {
    "duration": 4186,
    "start_time": "2023-07-27T01:32:52.357Z"
   },
   {
    "duration": 2194,
    "start_time": "2023-07-27T01:32:56.545Z"
   },
   {
    "duration": 2,
    "start_time": "2023-07-27T01:32:58.742Z"
   },
   {
    "duration": 321,
    "start_time": "2023-07-27T01:32:58.746Z"
   },
   {
    "duration": 15,
    "start_time": "2023-07-27T01:32:59.069Z"
   },
   {
    "duration": 14,
    "start_time": "2023-07-27T01:32:59.085Z"
   },
   {
    "duration": 23,
    "start_time": "2023-07-27T01:32:59.100Z"
   },
   {
    "duration": 198,
    "start_time": "2023-07-27T01:32:59.125Z"
   },
   {
    "duration": 148,
    "start_time": "2023-07-27T01:32:59.326Z"
   },
   {
    "duration": 3,
    "start_time": "2023-07-27T01:32:59.476Z"
   },
   {
    "duration": 149,
    "start_time": "2023-07-27T01:32:59.487Z"
   },
   {
    "duration": 274,
    "start_time": "2023-07-27T01:32:59.638Z"
   },
   {
    "duration": 9,
    "start_time": "2023-07-27T01:32:59.913Z"
   },
   {
    "duration": 18,
    "start_time": "2023-07-27T01:32:59.923Z"
   },
   {
    "duration": 17,
    "start_time": "2023-07-27T01:32:59.942Z"
   },
   {
    "duration": 417,
    "start_time": "2023-07-27T01:32:59.961Z"
   },
   {
    "duration": 11,
    "start_time": "2023-07-27T01:33:00.380Z"
   },
   {
    "duration": 48,
    "start_time": "2023-07-27T01:33:00.392Z"
   },
   {
    "duration": 226,
    "start_time": "2023-07-27T01:33:00.442Z"
   },
   {
    "duration": 236,
    "start_time": "2023-07-27T01:33:00.671Z"
   },
   {
    "duration": 351,
    "start_time": "2023-07-27T01:33:00.909Z"
   },
   {
    "duration": 7,
    "start_time": "2023-07-27T01:33:01.262Z"
   },
   {
    "duration": 65,
    "start_time": "2023-07-27T01:33:01.270Z"
   },
   {
    "duration": 129,
    "start_time": "2023-07-27T01:33:01.337Z"
   },
   {
    "duration": 27,
    "start_time": "2023-07-27T01:33:01.467Z"
   },
   {
    "duration": 15,
    "start_time": "2023-07-27T01:33:01.496Z"
   },
   {
    "duration": 35,
    "start_time": "2023-07-27T01:33:01.515Z"
   },
   {
    "duration": 41,
    "start_time": "2023-07-27T01:33:01.551Z"
   },
   {
    "duration": 16,
    "start_time": "2023-07-27T01:33:01.594Z"
   },
   {
    "duration": 40,
    "start_time": "2023-07-27T01:33:01.611Z"
   },
   {
    "duration": 85,
    "start_time": "2023-07-27T01:33:01.653Z"
   },
   {
    "duration": 89,
    "start_time": "2023-07-27T01:33:01.739Z"
   },
   {
    "duration": 12,
    "start_time": "2023-07-27T01:33:01.830Z"
   },
   {
    "duration": 23,
    "start_time": "2023-07-27T01:33:01.843Z"
   },
   {
    "duration": 27,
    "start_time": "2023-07-27T01:33:01.868Z"
   },
   {
    "duration": 10,
    "start_time": "2023-07-27T01:33:01.897Z"
   },
   {
    "duration": 17,
    "start_time": "2023-07-27T01:33:01.908Z"
   },
   {
    "duration": 35,
    "start_time": "2023-07-27T01:33:01.926Z"
   },
   {
    "duration": 132,
    "start_time": "2023-07-27T01:33:01.963Z"
   },
   {
    "duration": 11,
    "start_time": "2023-07-27T01:33:02.096Z"
   },
   {
    "duration": 19,
    "start_time": "2023-07-27T01:33:02.109Z"
   },
   {
    "duration": 25,
    "start_time": "2023-07-27T01:33:02.130Z"
   },
   {
    "duration": 23,
    "start_time": "2023-07-27T01:33:02.157Z"
   },
   {
    "duration": 17,
    "start_time": "2023-07-27T01:33:02.182Z"
   },
   {
    "duration": 5,
    "start_time": "2023-07-27T01:33:02.201Z"
   },
   {
    "duration": 17,
    "start_time": "2023-07-27T01:33:02.208Z"
   },
   {
    "duration": 152,
    "start_time": "2023-07-27T01:33:02.227Z"
   },
   {
    "duration": 173,
    "start_time": "2023-07-27T01:33:02.381Z"
   },
   {
    "duration": 159,
    "start_time": "2023-07-27T01:33:02.555Z"
   },
   {
    "duration": 257,
    "start_time": "2023-07-27T01:33:02.715Z"
   },
   {
    "duration": 3350,
    "start_time": "2023-07-27T01:33:02.973Z"
   },
   {
    "duration": 353,
    "start_time": "2023-07-27T01:33:06.324Z"
   },
   {
    "duration": 11,
    "start_time": "2023-07-27T01:33:06.679Z"
   },
   {
    "duration": 13,
    "start_time": "2023-07-27T01:33:06.691Z"
   },
   {
    "duration": 5,
    "start_time": "2023-07-27T01:33:06.706Z"
   },
   {
    "duration": 14,
    "start_time": "2023-07-27T01:33:06.713Z"
   },
   {
    "duration": 27,
    "start_time": "2023-07-27T01:33:06.729Z"
   },
   {
    "duration": 2,
    "start_time": "2023-07-27T01:33:06.758Z"
   },
   {
    "duration": 45,
    "start_time": "2023-07-27T01:33:06.762Z"
   },
   {
    "duration": 4,
    "start_time": "2023-07-27T01:33:06.808Z"
   },
   {
    "duration": 7,
    "start_time": "2023-07-27T01:33:06.814Z"
   },
   {
    "duration": 6,
    "start_time": "2023-07-27T01:33:06.822Z"
   },
   {
    "duration": 5,
    "start_time": "2023-07-27T01:33:06.829Z"
   },
   {
    "duration": 62480,
    "start_time": "2023-07-27T01:33:06.835Z"
   },
   {
    "duration": 3,
    "start_time": "2023-07-27T01:34:09.317Z"
   },
   {
    "duration": 1803,
    "start_time": "2023-07-27T01:34:09.321Z"
   },
   {
    "duration": 4,
    "start_time": "2023-07-27T01:34:11.126Z"
   },
   {
    "duration": 48,
    "start_time": "2023-07-27T01:34:11.132Z"
   },
   {
    "duration": 62,
    "start_time": "2023-07-27T01:34:11.182Z"
   },
   {
    "duration": 52,
    "start_time": "2023-07-27T01:34:11.246Z"
   },
   {
    "duration": 51,
    "start_time": "2023-07-27T01:34:11.299Z"
   },
   {
    "duration": 927336,
    "start_time": "2023-07-27T01:34:11.351Z"
   },
   {
    "duration": 4,
    "start_time": "2023-07-27T01:49:38.690Z"
   },
   {
    "duration": 176510,
    "start_time": "2023-07-27T01:49:38.696Z"
   },
   {
    "duration": 4,
    "start_time": "2023-07-27T01:52:35.209Z"
   },
   {
    "duration": 77,
    "start_time": "2023-07-27T01:52:35.215Z"
   },
   {
    "duration": 109,
    "start_time": "2023-07-27T01:52:49.657Z"
   },
   {
    "duration": 43989,
    "start_time": "2023-07-27T01:55:10.511Z"
   },
   {
    "duration": 11701,
    "start_time": "2023-07-27T01:56:23.511Z"
   },
   {
    "duration": 20798,
    "start_time": "2023-07-27T01:56:38.403Z"
   },
   {
    "duration": 36316,
    "start_time": "2023-07-27T01:57:01.274Z"
   },
   {
    "duration": 13,
    "start_time": "2023-07-27T01:57:41.918Z"
   },
   {
    "duration": 252,
    "start_time": "2023-07-27T01:57:51.221Z"
   },
   {
    "duration": 12,
    "start_time": "2023-07-27T01:58:58.656Z"
   },
   {
    "duration": 447,
    "start_time": "2023-07-27T02:00:24.640Z"
   },
   {
    "duration": 16,
    "start_time": "2023-07-27T02:02:19.462Z"
   },
   {
    "duration": 15,
    "start_time": "2023-07-27T02:04:16.431Z"
   },
   {
    "duration": 13,
    "start_time": "2023-07-27T02:05:13.436Z"
   },
   {
    "duration": 12,
    "start_time": "2023-07-27T02:06:33.805Z"
   },
   {
    "duration": 16,
    "start_time": "2023-07-27T02:06:40.692Z"
   },
   {
    "duration": 37868,
    "start_time": "2023-07-27T02:07:17.523Z"
   },
   {
    "duration": 19,
    "start_time": "2023-07-27T02:08:12.402Z"
   },
   {
    "duration": 50,
    "start_time": "2023-07-27T02:08:24.849Z"
   },
   {
    "duration": 258,
    "start_time": "2023-07-27T02:08:27.600Z"
   },
   {
    "duration": 372,
    "start_time": "2023-07-27T02:09:13.850Z"
   },
   {
    "duration": 560,
    "start_time": "2023-07-27T02:09:21.445Z"
   },
   {
    "duration": 2338,
    "start_time": "2023-07-27T02:10:47.386Z"
   },
   {
    "duration": 2407,
    "start_time": "2023-07-27T02:10:49.727Z"
   },
   {
    "duration": 1837,
    "start_time": "2023-07-27T02:10:52.136Z"
   },
   {
    "duration": 2,
    "start_time": "2023-07-27T02:10:53.975Z"
   },
   {
    "duration": 105,
    "start_time": "2023-07-27T02:10:53.979Z"
   },
   {
    "duration": 18,
    "start_time": "2023-07-27T02:10:54.086Z"
   },
   {
    "duration": 15,
    "start_time": "2023-07-27T02:10:54.106Z"
   },
   {
    "duration": 24,
    "start_time": "2023-07-27T02:10:54.122Z"
   },
   {
    "duration": 206,
    "start_time": "2023-07-27T02:10:54.148Z"
   },
   {
    "duration": 174,
    "start_time": "2023-07-27T02:10:54.356Z"
   },
   {
    "duration": 2,
    "start_time": "2023-07-27T02:10:54.532Z"
   },
   {
    "duration": 167,
    "start_time": "2023-07-27T02:10:54.536Z"
   },
   {
    "duration": 334,
    "start_time": "2023-07-27T02:10:54.706Z"
   },
   {
    "duration": 11,
    "start_time": "2023-07-27T02:10:55.044Z"
   },
   {
    "duration": 16,
    "start_time": "2023-07-27T02:10:55.056Z"
   },
   {
    "duration": 44,
    "start_time": "2023-07-27T02:10:55.074Z"
   },
   {
    "duration": 453,
    "start_time": "2023-07-27T02:10:55.119Z"
   },
   {
    "duration": 20,
    "start_time": "2023-07-27T02:10:55.574Z"
   },
   {
    "duration": 66,
    "start_time": "2023-07-27T02:10:55.597Z"
   },
   {
    "duration": 226,
    "start_time": "2023-07-27T02:10:55.665Z"
   },
   {
    "duration": 248,
    "start_time": "2023-07-27T02:10:55.893Z"
   },
   {
    "duration": 327,
    "start_time": "2023-07-27T02:10:56.143Z"
   },
   {
    "duration": 6,
    "start_time": "2023-07-27T02:10:56.472Z"
   },
   {
    "duration": 20,
    "start_time": "2023-07-27T02:10:56.480Z"
   },
   {
    "duration": 119,
    "start_time": "2023-07-27T02:10:56.502Z"
   },
   {
    "duration": 26,
    "start_time": "2023-07-27T02:10:56.622Z"
   },
   {
    "duration": 17,
    "start_time": "2023-07-27T02:10:56.649Z"
   },
   {
    "duration": 38,
    "start_time": "2023-07-27T02:10:56.667Z"
   },
   {
    "duration": 16,
    "start_time": "2023-07-27T02:10:56.707Z"
   },
   {
    "duration": 6,
    "start_time": "2023-07-27T02:10:56.724Z"
   },
   {
    "duration": 12,
    "start_time": "2023-07-27T02:10:56.731Z"
   },
   {
    "duration": 5,
    "start_time": "2023-07-27T02:10:56.745Z"
   },
   {
    "duration": 58,
    "start_time": "2023-07-27T02:10:56.751Z"
   },
   {
    "duration": 13,
    "start_time": "2023-07-27T02:10:56.811Z"
   },
   {
    "duration": 2,
    "start_time": "2023-07-27T02:10:56.826Z"
   },
   {
    "duration": 5,
    "start_time": "2023-07-27T02:10:56.830Z"
   },
   {
    "duration": 6,
    "start_time": "2023-07-27T02:10:56.836Z"
   },
   {
    "duration": 12,
    "start_time": "2023-07-27T02:10:56.843Z"
   },
   {
    "duration": 33,
    "start_time": "2023-07-27T02:10:56.856Z"
   },
   {
    "duration": 143,
    "start_time": "2023-07-27T02:10:56.891Z"
   },
   {
    "duration": 10,
    "start_time": "2023-07-27T02:10:57.039Z"
   },
   {
    "duration": 4,
    "start_time": "2023-07-27T02:10:57.050Z"
   },
   {
    "duration": 10,
    "start_time": "2023-07-27T02:10:57.056Z"
   },
   {
    "duration": 3,
    "start_time": "2023-07-27T02:10:57.067Z"
   },
   {
    "duration": 3,
    "start_time": "2023-07-27T02:10:57.088Z"
   },
   {
    "duration": 5,
    "start_time": "2023-07-27T02:10:57.092Z"
   },
   {
    "duration": 5,
    "start_time": "2023-07-27T02:10:57.098Z"
   },
   {
    "duration": 171,
    "start_time": "2023-07-27T02:10:57.105Z"
   },
   {
    "duration": 204,
    "start_time": "2023-07-27T02:10:57.278Z"
   },
   {
    "duration": 180,
    "start_time": "2023-07-27T02:10:57.484Z"
   },
   {
    "duration": 159,
    "start_time": "2023-07-27T02:10:57.665Z"
   },
   {
    "duration": 3693,
    "start_time": "2023-07-27T02:10:57.826Z"
   },
   {
    "duration": 351,
    "start_time": "2023-07-27T02:11:01.520Z"
   },
   {
    "duration": 22,
    "start_time": "2023-07-27T02:11:01.873Z"
   },
   {
    "duration": 31,
    "start_time": "2023-07-27T02:11:01.897Z"
   },
   {
    "duration": 4,
    "start_time": "2023-07-27T02:11:01.930Z"
   },
   {
    "duration": 16,
    "start_time": "2023-07-27T02:11:01.936Z"
   },
   {
    "duration": 43,
    "start_time": "2023-07-27T02:11:01.954Z"
   },
   {
    "duration": 6,
    "start_time": "2023-07-27T02:11:01.999Z"
   },
   {
    "duration": 39,
    "start_time": "2023-07-27T02:11:02.007Z"
   },
   {
    "duration": 4,
    "start_time": "2023-07-27T02:11:02.048Z"
   },
   {
    "duration": 20,
    "start_time": "2023-07-27T02:11:02.053Z"
   },
   {
    "duration": 16,
    "start_time": "2023-07-27T02:11:02.075Z"
   },
   {
    "duration": 5,
    "start_time": "2023-07-27T02:11:02.093Z"
   },
   {
    "duration": 43244,
    "start_time": "2023-07-27T02:11:02.100Z"
   },
   {
    "duration": 3,
    "start_time": "2023-07-27T02:11:45.345Z"
   },
   {
    "duration": 1980,
    "start_time": "2023-07-27T02:11:45.350Z"
   },
   {
    "duration": 4,
    "start_time": "2023-07-27T02:11:47.331Z"
   },
   {
    "duration": 14,
    "start_time": "2023-07-27T02:11:47.337Z"
   },
   {
    "duration": 20,
    "start_time": "2023-07-27T02:11:47.353Z"
   },
   {
    "duration": 14,
    "start_time": "2023-07-27T02:11:47.375Z"
   },
   {
    "duration": 19,
    "start_time": "2023-07-27T02:11:47.391Z"
   },
   {
    "duration": 1450928,
    "start_time": "2023-07-27T02:11:47.411Z"
   },
   {
    "duration": 0,
    "start_time": "2023-07-27T02:35:58.341Z"
   },
   {
    "duration": 0,
    "start_time": "2023-07-27T02:35:58.343Z"
   },
   {
    "duration": 0,
    "start_time": "2023-07-27T02:35:58.344Z"
   },
   {
    "duration": 0,
    "start_time": "2023-07-27T02:35:58.345Z"
   },
   {
    "duration": 0,
    "start_time": "2023-07-27T02:35:58.347Z"
   },
   {
    "duration": 0,
    "start_time": "2023-07-27T02:35:58.348Z"
   },
   {
    "duration": 0,
    "start_time": "2023-07-27T02:35:58.349Z"
   },
   {
    "duration": 0,
    "start_time": "2023-07-27T02:35:58.350Z"
   },
   {
    "duration": 4,
    "start_time": "2023-07-27T02:36:04.012Z"
   },
   {
    "duration": 278961,
    "start_time": "2023-07-27T02:36:07.661Z"
   },
   {
    "duration": 0,
    "start_time": "2023-07-27T02:40:46.625Z"
   },
   {
    "duration": 0,
    "start_time": "2023-07-27T02:40:46.627Z"
   },
   {
    "duration": 2331,
    "start_time": "2023-07-27T02:46:32.367Z"
   },
   {
    "duration": 2284,
    "start_time": "2023-07-27T02:46:34.701Z"
   },
   {
    "duration": 1957,
    "start_time": "2023-07-27T02:46:36.987Z"
   },
   {
    "duration": 2,
    "start_time": "2023-07-27T02:46:38.946Z"
   },
   {
    "duration": 119,
    "start_time": "2023-07-27T02:46:38.950Z"
   },
   {
    "duration": 15,
    "start_time": "2023-07-27T02:46:39.071Z"
   },
   {
    "duration": 29,
    "start_time": "2023-07-27T02:46:39.088Z"
   },
   {
    "duration": 24,
    "start_time": "2023-07-27T02:46:39.119Z"
   },
   {
    "duration": 201,
    "start_time": "2023-07-27T02:46:39.146Z"
   },
   {
    "duration": 173,
    "start_time": "2023-07-27T02:46:39.349Z"
   },
   {
    "duration": 2,
    "start_time": "2023-07-27T02:46:48.234Z"
   },
   {
    "duration": 143,
    "start_time": "2023-07-27T02:46:48.427Z"
   },
   {
    "duration": 260,
    "start_time": "2023-07-27T02:46:48.769Z"
   },
   {
    "duration": 8,
    "start_time": "2023-07-27T02:46:49.269Z"
   },
   {
    "duration": 12,
    "start_time": "2023-07-27T02:46:49.425Z"
   },
   {
    "duration": 26,
    "start_time": "2023-07-27T02:46:49.591Z"
   },
   {
    "duration": 445,
    "start_time": "2023-07-27T02:46:49.946Z"
   },
   {
    "duration": 12,
    "start_time": "2023-07-27T02:46:50.521Z"
   },
   {
    "duration": 18,
    "start_time": "2023-07-27T02:46:50.668Z"
   },
   {
    "duration": 247,
    "start_time": "2023-07-27T02:46:51.043Z"
   },
   {
    "duration": 218,
    "start_time": "2023-07-27T02:46:51.391Z"
   },
   {
    "duration": 344,
    "start_time": "2023-07-27T02:46:51.762Z"
   },
   {
    "duration": 8,
    "start_time": "2023-07-27T02:46:52.662Z"
   },
   {
    "duration": 14,
    "start_time": "2023-07-27T02:46:52.839Z"
   },
   {
    "duration": 105,
    "start_time": "2023-07-27T02:46:53.222Z"
   },
   {
    "duration": 31,
    "start_time": "2023-07-27T02:46:54.388Z"
   },
   {
    "duration": 17,
    "start_time": "2023-07-27T02:46:54.421Z"
   },
   {
    "duration": 25,
    "start_time": "2023-07-27T02:46:54.779Z"
   },
   {
    "duration": 16,
    "start_time": "2023-07-27T02:46:57.863Z"
   },
   {
    "duration": 6,
    "start_time": "2023-07-27T02:46:58.227Z"
   },
   {
    "duration": 10,
    "start_time": "2023-07-27T02:46:58.456Z"
   },
   {
    "duration": 6,
    "start_time": "2023-07-27T02:46:58.868Z"
   },
   {
    "duration": 23,
    "start_time": "2023-07-27T02:46:59.244Z"
   },
   {
    "duration": 12,
    "start_time": "2023-07-27T02:46:59.759Z"
   },
   {
    "duration": 3,
    "start_time": "2023-07-27T02:47:00.015Z"
   },
   {
    "duration": 3,
    "start_time": "2023-07-27T02:47:01.258Z"
   },
   {
    "duration": 5,
    "start_time": "2023-07-27T02:47:01.461Z"
   },
   {
    "duration": 11,
    "start_time": "2023-07-27T02:47:02.648Z"
   },
   {
    "duration": 4,
    "start_time": "2023-07-27T02:47:03.074Z"
   },
   {
    "duration": 127,
    "start_time": "2023-07-27T02:47:03.519Z"
   },
   {
    "duration": 11,
    "start_time": "2023-07-27T02:47:05.646Z"
   },
   {
    "duration": 5,
    "start_time": "2023-07-27T02:47:07.354Z"
   },
   {
    "duration": 7,
    "start_time": "2023-07-27T02:47:09.744Z"
   },
   {
    "duration": 3,
    "start_time": "2023-07-27T02:47:11.169Z"
   },
   {
    "duration": 2,
    "start_time": "2023-07-27T02:47:12.119Z"
   },
   {
    "duration": 2,
    "start_time": "2023-07-27T02:47:12.969Z"
   },
   {
    "duration": 2,
    "start_time": "2023-07-27T02:47:13.604Z"
   },
   {
    "duration": 159,
    "start_time": "2023-07-27T02:47:21.254Z"
   },
   {
    "duration": 177,
    "start_time": "2023-07-27T02:47:23.074Z"
   },
   {
    "duration": 167,
    "start_time": "2023-07-27T02:47:23.794Z"
   },
   {
    "duration": 210,
    "start_time": "2023-07-27T02:47:24.744Z"
   },
   {
    "duration": 3871,
    "start_time": "2023-07-27T02:47:27.255Z"
   },
   {
    "duration": 391,
    "start_time": "2023-07-27T02:47:31.128Z"
   },
   {
    "duration": 8,
    "start_time": "2023-07-27T02:47:31.749Z"
   },
   {
    "duration": 13,
    "start_time": "2023-07-27T02:47:35.969Z"
   },
   {
    "duration": 4,
    "start_time": "2023-07-27T02:47:46.863Z"
   },
   {
    "duration": 7,
    "start_time": "2023-07-27T02:47:47.685Z"
   },
   {
    "duration": 37,
    "start_time": "2023-07-27T02:47:49.604Z"
   },
   {
    "duration": 2,
    "start_time": "2023-07-27T02:47:50.442Z"
   },
   {
    "duration": 37,
    "start_time": "2023-07-27T02:47:51.244Z"
   },
   {
    "duration": 4,
    "start_time": "2023-07-27T02:47:51.981Z"
   },
   {
    "duration": 7,
    "start_time": "2023-07-27T02:47:52.849Z"
   },
   {
    "duration": 5,
    "start_time": "2023-07-27T02:47:53.936Z"
   },
   {
    "duration": 3,
    "start_time": "2023-07-27T02:47:58.526Z"
   },
   {
    "duration": 73583,
    "start_time": "2023-07-27T02:48:00.168Z"
   },
   {
    "duration": 2,
    "start_time": "2023-07-27T02:49:13.753Z"
   },
   {
    "duration": 2401,
    "start_time": "2023-07-27T02:49:13.758Z"
   },
   {
    "duration": 4,
    "start_time": "2023-07-27T02:49:16.161Z"
   },
   {
    "duration": 3,
    "start_time": "2023-07-27T02:49:29.839Z"
   },
   {
    "duration": 499602,
    "start_time": "2023-07-27T02:49:31.186Z"
   },
   {
    "duration": 4,
    "start_time": "2023-07-27T02:57:50.790Z"
   },
   {
    "duration": 20,
    "start_time": "2023-07-27T02:57:50.796Z"
   },
   {
    "duration": 125,
    "start_time": "2023-07-27T02:58:09.824Z"
   },
   {
    "duration": 92320,
    "start_time": "2023-07-27T02:58:24.571Z"
   },
   {
    "duration": 231,
    "start_time": "2023-07-27T03:00:10.321Z"
   },
   {
    "duration": 321,
    "start_time": "2023-07-27T03:00:14.024Z"
   },
   {
    "duration": 391,
    "start_time": "2023-07-27T03:00:16.577Z"
   },
   {
    "duration": 1575,
    "start_time": "2023-07-27T03:00:58.715Z"
   },
   {
    "duration": 247,
    "start_time": "2023-07-27T03:01:07.396Z"
   },
   {
    "duration": 1734,
    "start_time": "2023-07-27T03:01:21.460Z"
   },
   {
    "duration": 5661,
    "start_time": "2023-07-27T03:01:35.846Z"
   },
   {
    "duration": 315,
    "start_time": "2023-07-27T03:01:41.509Z"
   },
   {
    "duration": 49,
    "start_time": "2023-07-28T02:22:45.448Z"
   },
   {
    "duration": 6,
    "start_time": "2023-07-28T02:30:49.958Z"
   },
   {
    "duration": 1717,
    "start_time": "2023-07-28T02:30:59.876Z"
   },
   {
    "duration": 0,
    "start_time": "2023-07-28T02:31:01.595Z"
   },
   {
    "duration": 3275,
    "start_time": "2023-07-28T02:31:07.468Z"
   },
   {
    "duration": 4159,
    "start_time": "2023-07-28T02:31:10.745Z"
   },
   {
    "duration": 471,
    "start_time": "2023-07-28T02:31:14.906Z"
   },
   {
    "duration": 2,
    "start_time": "2023-07-28T02:31:15.379Z"
   },
   {
    "duration": 338,
    "start_time": "2023-07-28T02:31:15.383Z"
   },
   {
    "duration": 17,
    "start_time": "2023-07-28T02:31:15.723Z"
   },
   {
    "duration": 12,
    "start_time": "2023-07-28T02:31:15.742Z"
   },
   {
    "duration": 23,
    "start_time": "2023-07-28T02:31:15.756Z"
   },
   {
    "duration": 176,
    "start_time": "2023-07-28T02:31:15.781Z"
   },
   {
    "duration": 152,
    "start_time": "2023-07-28T02:31:15.959Z"
   },
   {
    "duration": 2,
    "start_time": "2023-07-28T02:31:16.113Z"
   },
   {
    "duration": 191,
    "start_time": "2023-07-28T02:31:16.117Z"
   },
   {
    "duration": 270,
    "start_time": "2023-07-28T02:31:16.311Z"
   },
   {
    "duration": 9,
    "start_time": "2023-07-28T02:31:16.584Z"
   },
   {
    "duration": 18,
    "start_time": "2023-07-28T02:31:16.595Z"
   },
   {
    "duration": 17,
    "start_time": "2023-07-28T02:31:16.615Z"
   },
   {
    "duration": 400,
    "start_time": "2023-07-28T02:31:16.793Z"
   },
   {
    "duration": 10,
    "start_time": "2023-07-28T02:31:17.401Z"
   },
   {
    "duration": 18,
    "start_time": "2023-07-28T02:31:17.600Z"
   },
   {
    "duration": 201,
    "start_time": "2023-07-28T02:31:18.037Z"
   },
   {
    "duration": 217,
    "start_time": "2023-07-28T02:31:18.762Z"
   },
   {
    "duration": 305,
    "start_time": "2023-07-28T02:31:19.153Z"
   },
   {
    "duration": 7,
    "start_time": "2023-07-28T02:31:20.229Z"
   },
   {
    "duration": 14,
    "start_time": "2023-07-28T02:31:20.501Z"
   },
   {
    "duration": 95,
    "start_time": "2023-07-28T02:31:21.029Z"
   },
   {
    "duration": 24,
    "start_time": "2023-07-28T02:31:21.872Z"
   },
   {
    "duration": 17,
    "start_time": "2023-07-28T02:31:22.096Z"
   },
   {
    "duration": 18,
    "start_time": "2023-07-28T02:31:23.837Z"
   },
   {
    "duration": 15,
    "start_time": "2023-07-28T02:31:29.445Z"
   },
   {
    "duration": 6,
    "start_time": "2023-07-28T02:31:30.039Z"
   },
   {
    "duration": 9,
    "start_time": "2023-07-28T02:31:30.324Z"
   },
   {
    "duration": 5,
    "start_time": "2023-07-28T02:31:30.612Z"
   },
   {
    "duration": 23,
    "start_time": "2023-07-28T02:31:31.542Z"
   },
   {
    "duration": 12,
    "start_time": "2023-07-28T02:31:31.727Z"
   },
   {
    "duration": 2,
    "start_time": "2023-07-28T02:31:31.927Z"
   },
   {
    "duration": 3,
    "start_time": "2023-07-28T02:31:33.539Z"
   },
   {
    "duration": 4,
    "start_time": "2023-07-28T02:31:33.756Z"
   },
   {
    "duration": 11,
    "start_time": "2023-07-28T02:31:34.016Z"
   },
   {
    "duration": 4,
    "start_time": "2023-07-28T02:31:34.641Z"
   },
   {
    "duration": 112,
    "start_time": "2023-07-28T02:31:34.853Z"
   },
   {
    "duration": 10,
    "start_time": "2023-07-28T02:31:36.345Z"
   },
   {
    "duration": 4,
    "start_time": "2023-07-28T02:31:37.171Z"
   },
   {
    "duration": 6,
    "start_time": "2023-07-28T02:31:38.497Z"
   },
   {
    "duration": 2,
    "start_time": "2023-07-28T02:31:40.186Z"
   },
   {
    "duration": 2,
    "start_time": "2023-07-28T02:31:40.595Z"
   },
   {
    "duration": 3,
    "start_time": "2023-07-28T02:31:41.180Z"
   },
   {
    "duration": 2,
    "start_time": "2023-07-28T02:31:41.372Z"
   },
   {
    "duration": 132,
    "start_time": "2023-07-28T02:31:45.263Z"
   },
   {
    "duration": 162,
    "start_time": "2023-07-28T02:31:46.397Z"
   },
   {
    "duration": 146,
    "start_time": "2023-07-28T02:31:46.877Z"
   },
   {
    "duration": 133,
    "start_time": "2023-07-28T02:31:47.898Z"
   },
   {
    "duration": 3409,
    "start_time": "2023-07-28T02:31:50.102Z"
   },
   {
    "duration": 336,
    "start_time": "2023-07-28T02:31:53.513Z"
   },
   {
    "duration": 8,
    "start_time": "2023-07-28T02:31:56.005Z"
   },
   {
    "duration": 9,
    "start_time": "2023-07-28T02:32:02.684Z"
   },
   {
    "duration": 4,
    "start_time": "2023-07-28T02:32:03.680Z"
   },
   {
    "duration": 6,
    "start_time": "2023-07-28T02:32:03.888Z"
   },
   {
    "duration": 27,
    "start_time": "2023-07-28T02:32:07.903Z"
   },
   {
    "duration": 3,
    "start_time": "2023-07-28T02:32:08.436Z"
   },
   {
    "duration": 38,
    "start_time": "2023-07-28T02:32:09.100Z"
   },
   {
    "duration": 4,
    "start_time": "2023-07-28T02:32:10.375Z"
   },
   {
    "duration": 6,
    "start_time": "2023-07-28T02:32:11.516Z"
   },
   {
    "duration": 6,
    "start_time": "2023-07-28T02:32:13.053Z"
   },
   {
    "duration": 2,
    "start_time": "2023-07-28T02:32:19.018Z"
   },
   {
    "duration": 6226,
    "start_time": "2023-07-28T02:32:28.592Z"
   },
   {
    "duration": 3,
    "start_time": "2023-07-28T02:32:37.831Z"
   },
   {
    "duration": 9275,
    "start_time": "2023-07-28T02:32:43.503Z"
   },
   {
    "duration": 4,
    "start_time": "2023-07-28T02:32:56.408Z"
   },
   {
    "duration": 5,
    "start_time": "2023-07-28T02:32:57.864Z"
   },
   {
    "duration": 1813,
    "start_time": "2023-07-28T02:33:09.978Z"
   },
   {
    "duration": 230,
    "start_time": "2023-07-28T02:33:13.690Z"
   },
   {
    "duration": 28,
    "start_time": "2023-07-28T02:33:15.540Z"
   },
   {
    "duration": 3026,
    "start_time": "2023-07-28T19:30:44.681Z"
   },
   {
    "duration": 3676,
    "start_time": "2023-07-28T19:30:47.709Z"
   },
   {
    "duration": 2515,
    "start_time": "2023-07-28T19:30:51.388Z"
   },
   {
    "duration": 3,
    "start_time": "2023-07-28T19:30:53.904Z"
   },
   {
    "duration": 324,
    "start_time": "2023-07-28T19:30:53.908Z"
   },
   {
    "duration": 13,
    "start_time": "2023-07-28T19:30:54.233Z"
   },
   {
    "duration": 11,
    "start_time": "2023-07-28T19:30:54.248Z"
   },
   {
    "duration": 22,
    "start_time": "2023-07-28T19:30:54.261Z"
   },
   {
    "duration": 167,
    "start_time": "2023-07-28T19:30:54.284Z"
   },
   {
    "duration": 134,
    "start_time": "2023-07-28T19:30:54.454Z"
   },
   {
    "duration": 2,
    "start_time": "2023-07-28T19:30:54.590Z"
   },
   {
    "duration": 141,
    "start_time": "2023-07-28T19:30:54.594Z"
   },
   {
    "duration": 225,
    "start_time": "2023-07-28T19:30:54.736Z"
   },
   {
    "duration": 8,
    "start_time": "2023-07-28T19:30:54.963Z"
   },
   {
    "duration": 22,
    "start_time": "2023-07-28T19:30:54.972Z"
   },
   {
    "duration": 26,
    "start_time": "2023-07-28T19:30:54.995Z"
   },
   {
    "duration": 401,
    "start_time": "2023-07-28T19:30:55.023Z"
   },
   {
    "duration": 11,
    "start_time": "2023-07-28T19:30:55.426Z"
   },
   {
    "duration": 21,
    "start_time": "2023-07-28T19:30:55.438Z"
   },
   {
    "duration": 194,
    "start_time": "2023-07-28T19:30:55.460Z"
   },
   {
    "duration": 187,
    "start_time": "2023-07-28T19:30:55.656Z"
   },
   {
    "duration": 276,
    "start_time": "2023-07-28T19:30:55.845Z"
   },
   {
    "duration": 7,
    "start_time": "2023-07-28T19:30:56.124Z"
   },
   {
    "duration": 21,
    "start_time": "2023-07-28T19:30:56.132Z"
   },
   {
    "duration": 96,
    "start_time": "2023-07-28T19:30:56.155Z"
   },
   {
    "duration": 22,
    "start_time": "2023-07-28T19:30:56.253Z"
   },
   {
    "duration": 14,
    "start_time": "2023-07-28T19:30:56.277Z"
   },
   {
    "duration": 16,
    "start_time": "2023-07-28T19:30:57.010Z"
   },
   {
    "duration": 14,
    "start_time": "2023-07-28T19:31:00.212Z"
   },
   {
    "duration": 6,
    "start_time": "2023-07-28T19:31:00.628Z"
   },
   {
    "duration": 9,
    "start_time": "2023-07-28T19:31:00.821Z"
   },
   {
    "duration": 5,
    "start_time": "2023-07-28T19:31:01.035Z"
   },
   {
    "duration": 20,
    "start_time": "2023-07-28T19:31:01.448Z"
   },
   {
    "duration": 9,
    "start_time": "2023-07-28T19:31:01.855Z"
   },
   {
    "duration": 2,
    "start_time": "2023-07-28T19:31:02.094Z"
   },
   {
    "duration": 2,
    "start_time": "2023-07-28T19:31:03.456Z"
   },
   {
    "duration": 4,
    "start_time": "2023-07-28T19:31:03.693Z"
   },
   {
    "duration": 12,
    "start_time": "2023-07-28T19:31:03.995Z"
   },
   {
    "duration": 3,
    "start_time": "2023-07-28T19:31:04.219Z"
   },
   {
    "duration": 134,
    "start_time": "2023-07-28T19:31:04.459Z"
   },
   {
    "duration": 9,
    "start_time": "2023-07-28T19:31:05.525Z"
   },
   {
    "duration": 5,
    "start_time": "2023-07-28T19:31:06.303Z"
   },
   {
    "duration": 6,
    "start_time": "2023-07-28T19:31:07.265Z"
   },
   {
    "duration": 2,
    "start_time": "2023-07-28T19:31:08.581Z"
   },
   {
    "duration": 3,
    "start_time": "2023-07-28T19:31:08.998Z"
   },
   {
    "duration": 3,
    "start_time": "2023-07-28T19:31:09.297Z"
   },
   {
    "duration": 2,
    "start_time": "2023-07-28T19:31:09.653Z"
   },
   {
    "duration": 130,
    "start_time": "2023-07-28T19:31:13.996Z"
   },
   {
    "duration": 140,
    "start_time": "2023-07-28T19:31:14.548Z"
   },
   {
    "duration": 123,
    "start_time": "2023-07-28T19:31:14.869Z"
   },
   {
    "duration": 156,
    "start_time": "2023-07-28T19:31:15.205Z"
   },
   {
    "duration": 2919,
    "start_time": "2023-07-28T19:31:16.020Z"
   },
   {
    "duration": 331,
    "start_time": "2023-07-28T19:31:18.941Z"
   },
   {
    "duration": 7,
    "start_time": "2023-07-28T19:31:19.274Z"
   },
   {
    "duration": 9,
    "start_time": "2023-07-28T19:31:21.373Z"
   },
   {
    "duration": 3,
    "start_time": "2023-07-28T19:31:22.121Z"
   },
   {
    "duration": 5,
    "start_time": "2023-07-28T19:31:22.441Z"
   },
   {
    "duration": 23,
    "start_time": "2023-07-28T19:31:31.312Z"
   },
   {
    "duration": 2,
    "start_time": "2023-07-28T19:31:34.538Z"
   },
   {
    "duration": 32,
    "start_time": "2023-07-28T19:31:36.126Z"
   },
   {
    "duration": 4,
    "start_time": "2023-07-28T19:31:36.680Z"
   },
   {
    "duration": 6,
    "start_time": "2023-07-28T19:31:37.832Z"
   },
   {
    "duration": 4,
    "start_time": "2023-07-28T19:31:38.663Z"
   },
   {
    "duration": 2,
    "start_time": "2023-07-28T19:31:40.362Z"
   },
   {
    "duration": 57382,
    "start_time": "2023-07-28T19:31:42.755Z"
   },
   {
    "duration": 2,
    "start_time": "2023-07-28T19:32:40.139Z"
   },
   {
    "duration": 1707,
    "start_time": "2023-07-28T19:32:40.143Z"
   },
   {
    "duration": 4,
    "start_time": "2023-07-28T19:32:41.852Z"
   },
   {
    "duration": 10,
    "start_time": "2023-07-28T19:32:41.857Z"
   },
   {
    "duration": 7,
    "start_time": "2023-07-28T19:32:41.868Z"
   },
   {
    "duration": 9,
    "start_time": "2023-07-28T19:32:41.876Z"
   },
   {
    "duration": 5,
    "start_time": "2023-07-28T19:32:41.887Z"
   },
   {
    "duration": 7,
    "start_time": "2023-07-28T19:32:41.893Z"
   },
   {
    "duration": 162785,
    "start_time": "2023-07-28T19:32:51.942Z"
   },
   {
    "duration": 4,
    "start_time": "2023-07-28T19:43:00.004Z"
   },
   {
    "duration": 5,
    "start_time": "2023-07-28T19:43:00.602Z"
   },
   {
    "duration": 28351,
    "start_time": "2023-07-28T19:43:15.394Z"
   },
   {
    "duration": 247,
    "start_time": "2023-07-28T19:44:31.037Z"
   },
   {
    "duration": 175,
    "start_time": "2023-07-28T19:44:43.346Z"
   },
   {
    "duration": 362,
    "start_time": "2023-07-28T19:45:05.894Z"
   },
   {
    "duration": 332,
    "start_time": "2023-07-28T19:45:09.524Z"
   }
  ],
  "kernelspec": {
   "display_name": "Python 3 (ipykernel)",
   "language": "python",
   "name": "python3"
  },
  "language_info": {
   "codemirror_mode": {
    "name": "ipython",
    "version": 3
   },
   "file_extension": ".py",
   "mimetype": "text/x-python",
   "name": "python",
   "nbconvert_exporter": "python",
   "pygments_lexer": "ipython3",
   "version": "3.10.9"
  },
  "toc": {
   "base_numbering": 1,
   "nav_menu": {},
   "number_sections": true,
   "sideBar": true,
   "skip_h1_title": true,
   "title_cell": "Table of Contents",
   "title_sidebar": "Contents",
   "toc_cell": false,
   "toc_position": {
    "height": "calc(100% - 180px)",
    "left": "10px",
    "top": "150px",
    "width": "275px"
   },
   "toc_section_display": true,
   "toc_window_display": false
  }
 },
 "nbformat": 4,
 "nbformat_minor": 2
}
