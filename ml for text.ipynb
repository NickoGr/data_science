{
 "cells": [
  {
   "cell_type": "markdown",
   "metadata": {},
   "source": [
    "# Проект для «Викишоп»"
   ]
  },
  {
   "cell_type": "markdown",
   "metadata": {},
   "source": [
    "Интернет-магазин «Викишоп» запускает новый сервис. Теперь пользователи могут редактировать и дополнять описания товаров, как в вики-сообществах. То есть клиенты предлагают свои правки и комментируют изменения других. Магазину нужен инструмент, который будет искать токсичные комментарии и отправлять их на модерацию. \n",
    "\n",
    "Обучите модель классифицировать комментарии на позитивные и негативные. В вашем распоряжении набор данных с разметкой о токсичности правок.\n",
    "\n",
    "Постройте модель со значением метрики качества *F1* не меньше 0.75. \n",
    "\n",
    "**Инструкция по выполнению проекта**\n",
    "\n",
    "1. Загрузите и подготовьте данные.\n",
    "2. Обучите разные модели. \n",
    "3. Сделайте выводы.\n",
    "\n",
    "Для выполнения проекта применять *BERT* необязательно, но вы можете попробовать.\n",
    "\n",
    "**Описание данных**\n",
    "\n",
    "Данные находятся в файле `toxic_comments.csv`. Столбец *text* в нём содержит текст комментария, а *toxic* — целевой признак."
   ]
  },
  {
   "cell_type": "markdown",
   "metadata": {},
   "source": [
    "## Подготовка"
   ]
  },
  {
   "cell_type": "code",
   "execution_count": 1,
   "metadata": {},
   "outputs": [],
   "source": [
    "import pandas as pd \n",
    "import numpy as np \n",
    "from tqdm import tqdm\n",
    "import nltk \n",
    "from nltk.stem import WordNetLemmatizer \n",
    "from nltk.corpus import stopwords \n",
    "from sklearn.feature_extraction.text import TfidfVectorizer \n",
    "import spacy\n",
    "import re\n",
    "%matplotlib inline\n",
    "import matplotlib.pyplot as plt \n",
    "import seaborn as sns \n",
    "from sklearn.model_selection import train_test_split, cross_val_score, GridSearchCV\n",
    "import catboost as cb\n",
    "from sklearn.linear_model import LogisticRegression\n",
    "from sklearn.metrics import f1_score\n",
    "from catboost import CatBoostRegressor\n",
    "from sklearn.ensemble import RandomForestClassifier"
   ]
  },
  {
   "cell_type": "code",
   "execution_count": 2,
   "metadata": {},
   "outputs": [],
   "source": [
    "#загружаем данные\n",
    "data=pd.read_csv('/datasets/toxic_comments.csv', index_col=0)\n"
   ]
  },
  {
   "cell_type": "code",
   "execution_count": 3,
   "metadata": {},
   "outputs": [
    {
     "name": "stdout",
     "output_type": "stream",
     "text": [
      "<class 'pandas.core.frame.DataFrame'>\n",
      "Int64Index: 159292 entries, 0 to 159450\n",
      "Data columns (total 2 columns):\n",
      " #   Column  Non-Null Count   Dtype \n",
      "---  ------  --------------   ----- \n",
      " 0   text    159292 non-null  object\n",
      " 1   toxic   159292 non-null  int64 \n",
      "dtypes: int64(1), object(1)\n",
      "memory usage: 3.6+ MB\n"
     ]
    }
   ],
   "source": [
    "#посмотрим, что у нас с данными\n",
    "data.shape\n",
    "data.info()\n"
   ]
  },
  {
   "cell_type": "code",
   "execution_count": 4,
   "metadata": {},
   "outputs": [
    {
     "data": {
      "text/html": [
       "<div>\n",
       "<style scoped>\n",
       "    .dataframe tbody tr th:only-of-type {\n",
       "        vertical-align: middle;\n",
       "    }\n",
       "\n",
       "    .dataframe tbody tr th {\n",
       "        vertical-align: top;\n",
       "    }\n",
       "\n",
       "    .dataframe thead th {\n",
       "        text-align: right;\n",
       "    }\n",
       "</style>\n",
       "<table border=\"1\" class=\"dataframe\">\n",
       "  <thead>\n",
       "    <tr style=\"text-align: right;\">\n",
       "      <th></th>\n",
       "      <th>text</th>\n",
       "      <th>toxic</th>\n",
       "    </tr>\n",
       "  </thead>\n",
       "  <tbody>\n",
       "    <tr>\n",
       "      <th>0</th>\n",
       "      <td>Explanation\\nWhy the edits made under my usern...</td>\n",
       "      <td>0</td>\n",
       "    </tr>\n",
       "    <tr>\n",
       "      <th>1</th>\n",
       "      <td>D'aww! He matches this background colour I'm s...</td>\n",
       "      <td>0</td>\n",
       "    </tr>\n",
       "    <tr>\n",
       "      <th>2</th>\n",
       "      <td>Hey man, I'm really not trying to edit war. It...</td>\n",
       "      <td>0</td>\n",
       "    </tr>\n",
       "    <tr>\n",
       "      <th>3</th>\n",
       "      <td>\"\\nMore\\nI can't make any real suggestions on ...</td>\n",
       "      <td>0</td>\n",
       "    </tr>\n",
       "    <tr>\n",
       "      <th>4</th>\n",
       "      <td>You, sir, are my hero. Any chance you remember...</td>\n",
       "      <td>0</td>\n",
       "    </tr>\n",
       "  </tbody>\n",
       "</table>\n",
       "</div>"
      ],
      "text/plain": [
       "                                                text  toxic\n",
       "0  Explanation\\nWhy the edits made under my usern...      0\n",
       "1  D'aww! He matches this background colour I'm s...      0\n",
       "2  Hey man, I'm really not trying to edit war. It...      0\n",
       "3  \"\\nMore\\nI can't make any real suggestions on ...      0\n",
       "4  You, sir, are my hero. Any chance you remember...      0"
      ]
     },
     "execution_count": 4,
     "metadata": {},
     "output_type": "execute_result"
    }
   ],
   "source": [
    "data.head()"
   ]
  },
  {
   "cell_type": "code",
   "execution_count": 5,
   "metadata": {},
   "outputs": [
    {
     "name": "stdout",
     "output_type": "stream",
     "text": [
      "Explanation\n",
      "Why the edits made under my username Hardcore Metallica Fan were reverted? They weren't vandalisms, just closure on some GAs after I voted at New York Dolls FAC. And please don't remove the template from the talk page since I'm retired now.89.205.38.27\n"
     ]
    }
   ],
   "source": [
    "#объявим корпус\n",
    "corpus = data['text'].values\n",
    "print(corpus[0])"
   ]
  },
  {
   "cell_type": "code",
   "execution_count": 6,
   "metadata": {},
   "outputs": [],
   "source": [
    "nlp = spacy.load('en_core_web_sm')\n",
    "regex = re.compile(r'[^a-zA-Z]')\n",
    "\n",
    "def lemmatize_and_clear_text(text):\n",
    "    doc = nlp(text)\n",
    "    lem_text = [token.lemma_.lower() for token in doc if token.is_alpha]\n",
    "    text_out = ' '.join(lem_text)\n",
    "    text_out = regex.sub(' ', text_out)\n",
    "    return text_out"
   ]
  },
  {
   "cell_type": "code",
   "execution_count": 7,
   "metadata": {},
   "outputs": [
    {
     "name": "stderr",
     "output_type": "stream",
     "text": [
      "[nltk_data] Downloading package wordnet to /home/jovyan/nltk_data...\n",
      "[nltk_data]   Package wordnet is already up-to-date!\n",
      "[nltk_data] Downloading package stopwords to /home/jovyan/nltk_data...\n",
      "[nltk_data]   Package stopwords is already up-to-date!\n"
     ]
    }
   ],
   "source": [
    "\n",
    "nltk.download('wordnet')\n",
    "nltk.download('stopwords')\n",
    "\n",
    "# подключаем английский лемматизатор\n",
    "lemmatizer = WordNetLemmatizer()\n",
    "\n",
    "# подключаем стоп-слова из библиотеки NLTK\n",
    "nltk_stopwords = set(stopwords.words('english'))\n",
    "\n",
    "# подключаем английский модуль SpaCy\n",
    "nlp = spacy.load('en_core_web_sm', disable=['parser', 'ner'])\n",
    "\n",
    "# создаем функцию для лемматизации и очистки текста от стоп-слов\n",
    "def preprocess(text):\n",
    "    # разбиваем текст на токены с помощью SpaCy\n",
    "    doc = nlp(text.lower())\n",
    "    # лемматизируем каждый токен с помощью NLTK лемматизатора\n",
    "    tokens = [lemmatizer.lemmatize(token.text) for token in doc]\n",
    "    # удаляем стоп-слова\n",
    "    tokens = [token for token in tokens if token not in nltk_stopwords]\n",
    "    # объединяем токены обратно в текст\n",
    "    return ' '.join(tokens)\n"
   ]
  },
  {
   "cell_type": "code",
   "execution_count": 10,
   "metadata": {},
   "outputs": [
    {
     "name": "stderr",
     "output_type": "stream",
     "text": [
      "100%|██████████| 159292/159292 [23:57<00:00, 110.84it/s] \n"
     ]
    }
   ],
   "source": [
    "for i in tqdm(range(len(corpus))):\n",
    "    corpus[i] = preprocess(corpus[i])"
   ]
  },
  {
   "cell_type": "code",
   "execution_count": 13,
   "metadata": {},
   "outputs": [
    {
     "name": "stdout",
     "output_type": "stream",
     "text": [
      "0    143106\n",
      "1     16186\n",
      "Name: toxic, dtype: int64\n"
     ]
    },
    {
     "data": {
      "text/plain": [
       "<AxesSubplot:xlabel='toxic', ylabel='count'>"
      ]
     },
     "execution_count": 13,
     "metadata": {},
     "output_type": "execute_result"
    },
    {
     "data": {
      "image/png": "[encoded data removed]",
      "text/plain": [
       "<Figure size 1080x432 with 1 Axes>"
      ]
     },
     "metadata": {
      "needs_background": "light"
     },
     "output_type": "display_data"
    }
   ],
   "source": [
    "#посмотрим как классы выглядят на графике\n",
    "print(data['toxic'].value_counts())\n",
    "zeroes = data['toxic'].value_counts()[0]\n",
    "ones = data['toxic'].value_counts()[1]\n",
    "\n",
    "plt.figure(figsize=(15, 6))\n",
    "sns.countplot(x='toxic', data=data)"
   ]
  },
  {
   "cell_type": "code",
   "execution_count": 27,
   "metadata": {},
   "outputs": [
    {
     "ename": "KeyError",
     "evalue": "'lemm_text'",
     "output_type": "error",
     "traceback": [
      "\u001b[0;31m---------------------------------------------------------------------------\u001b[0m",
      "\u001b[0;31mKeyError\u001b[0m                                  Traceback (most recent call last)",
      "\u001b[0;32m/opt/conda/lib/python3.9/site-packages/pandas/core/indexes/base.py\u001b[0m in \u001b[0;36mget_loc\u001b[0;34m(self, key, method, tolerance)\u001b[0m\n\u001b[1;32m   3079\u001b[0m             \u001b[0;32mtry\u001b[0m\u001b[0;34m:\u001b[0m\u001b[0;34m\u001b[0m\u001b[0;34m\u001b[0m\u001b[0m\n\u001b[0;32m-> 3080\u001b[0;31m                 \u001b[0;32mreturn\u001b[0m \u001b[0mself\u001b[0m\u001b[0;34m.\u001b[0m\u001b[0m_engine\u001b[0m\u001b[0;34m.\u001b[0m\u001b[0mget_loc\u001b[0m\u001b[0;34m(\u001b[0m\u001b[0mcasted_key\u001b[0m\u001b[0;34m)\u001b[0m\u001b[0;34m\u001b[0m\u001b[0;34m\u001b[0m\u001b[0m\n\u001b[0m\u001b[1;32m   3081\u001b[0m             \u001b[0;32mexcept\u001b[0m \u001b[0mKeyError\u001b[0m \u001b[0;32mas\u001b[0m \u001b[0merr\u001b[0m\u001b[0;34m:\u001b[0m\u001b[0;34m\u001b[0m\u001b[0;34m\u001b[0m\u001b[0m\n",
      "\u001b[0;32mpandas/_libs/index.pyx\u001b[0m in \u001b[0;36mpandas._libs.index.IndexEngine.get_loc\u001b[0;34m()\u001b[0m\n",
      "\u001b[0;32mpandas/_libs/index.pyx\u001b[0m in \u001b[0;36mpandas._libs.index.IndexEngine.get_loc\u001b[0;34m()\u001b[0m\n",
      "\u001b[0;32mpandas/_libs/hashtable_class_helper.pxi\u001b[0m in \u001b[0;36mpandas._libs.hashtable.PyObjectHashTable.get_item\u001b[0;34m()\u001b[0m\n",
      "\u001b[0;32mpandas/_libs/hashtable_class_helper.pxi\u001b[0m in \u001b[0;36mpandas._libs.hashtable.PyObjectHashTable.get_item\u001b[0;34m()\u001b[0m\n",
      "\u001b[0;31mKeyError\u001b[0m: 'lemm_text'",
      "\nThe above exception was the direct cause of the following exception:\n",
      "\u001b[0;31mKeyError\u001b[0m                                  Traceback (most recent call last)",
      "\u001b[0;32m/tmp/ipykernel_72/3656863662.py\u001b[0m in \u001b[0;36m<module>\u001b[0;34m\u001b[0m\n\u001b[1;32m      1\u001b[0m \u001b[0;31m#проверим как выглядит лемматизированный текст\u001b[0m\u001b[0;34m\u001b[0m\u001b[0;34m\u001b[0m\u001b[0;34m\u001b[0m\u001b[0m\n\u001b[0;32m----> 2\u001b[0;31m \u001b[0mdata\u001b[0m\u001b[0;34m[\u001b[0m\u001b[0;34m'lemm_text'\u001b[0m\u001b[0;34m]\u001b[0m\u001b[0;34m.\u001b[0m\u001b[0mtail\u001b[0m\u001b[0;34m(\u001b[0m\u001b[0;36m20\u001b[0m\u001b[0;34m)\u001b[0m\u001b[0;34m\u001b[0m\u001b[0;34m\u001b[0m\u001b[0m\n\u001b[0m",
      "\u001b[0;32m/opt/conda/lib/python3.9/site-packages/pandas/core/frame.py\u001b[0m in \u001b[0;36m__getitem__\u001b[0;34m(self, key)\u001b[0m\n\u001b[1;32m   3022\u001b[0m             \u001b[0;32mif\u001b[0m \u001b[0mself\u001b[0m\u001b[0;34m.\u001b[0m\u001b[0mcolumns\u001b[0m\u001b[0;34m.\u001b[0m\u001b[0mnlevels\u001b[0m \u001b[0;34m>\u001b[0m \u001b[0;36m1\u001b[0m\u001b[0;34m:\u001b[0m\u001b[0;34m\u001b[0m\u001b[0;34m\u001b[0m\u001b[0m\n\u001b[1;32m   3023\u001b[0m                 \u001b[0;32mreturn\u001b[0m \u001b[0mself\u001b[0m\u001b[0;34m.\u001b[0m\u001b[0m_getitem_multilevel\u001b[0m\u001b[0;34m(\u001b[0m\u001b[0mkey\u001b[0m\u001b[0;34m)\u001b[0m\u001b[0;34m\u001b[0m\u001b[0;34m\u001b[0m\u001b[0m\n\u001b[0;32m-> 3024\u001b[0;31m             \u001b[0mindexer\u001b[0m \u001b[0;34m=\u001b[0m \u001b[0mself\u001b[0m\u001b[0;34m.\u001b[0m\u001b[0mcolumns\u001b[0m\u001b[0;34m.\u001b[0m\u001b[0mget_loc\u001b[0m\u001b[0;34m(\u001b[0m\u001b[0mkey\u001b[0m\u001b[0;34m)\u001b[0m\u001b[0;34m\u001b[0m\u001b[0;34m\u001b[0m\u001b[0m\n\u001b[0m\u001b[1;32m   3025\u001b[0m             \u001b[0;32mif\u001b[0m \u001b[0mis_integer\u001b[0m\u001b[0;34m(\u001b[0m\u001b[0mindexer\u001b[0m\u001b[0;34m)\u001b[0m\u001b[0;34m:\u001b[0m\u001b[0;34m\u001b[0m\u001b[0;34m\u001b[0m\u001b[0m\n\u001b[1;32m   3026\u001b[0m                 \u001b[0mindexer\u001b[0m \u001b[0;34m=\u001b[0m \u001b[0;34m[\u001b[0m\u001b[0mindexer\u001b[0m\u001b[0;34m]\u001b[0m\u001b[0;34m\u001b[0m\u001b[0;34m\u001b[0m\u001b[0m\n",
      "\u001b[0;32m/opt/conda/lib/python3.9/site-packages/pandas/core/indexes/base.py\u001b[0m in \u001b[0;36mget_loc\u001b[0;34m(self, key, method, tolerance)\u001b[0m\n\u001b[1;32m   3080\u001b[0m                 \u001b[0;32mreturn\u001b[0m \u001b[0mself\u001b[0m\u001b[0;34m.\u001b[0m\u001b[0m_engine\u001b[0m\u001b[0;34m.\u001b[0m\u001b[0mget_loc\u001b[0m\u001b[0;34m(\u001b[0m\u001b[0mcasted_key\u001b[0m\u001b[0;34m)\u001b[0m\u001b[0;34m\u001b[0m\u001b[0;34m\u001b[0m\u001b[0m\n\u001b[1;32m   3081\u001b[0m             \u001b[0;32mexcept\u001b[0m \u001b[0mKeyError\u001b[0m \u001b[0;32mas\u001b[0m \u001b[0merr\u001b[0m\u001b[0;34m:\u001b[0m\u001b[0;34m\u001b[0m\u001b[0;34m\u001b[0m\u001b[0m\n\u001b[0;32m-> 3082\u001b[0;31m                 \u001b[0;32mraise\u001b[0m \u001b[0mKeyError\u001b[0m\u001b[0;34m(\u001b[0m\u001b[0mkey\u001b[0m\u001b[0;34m)\u001b[0m \u001b[0;32mfrom\u001b[0m \u001b[0merr\u001b[0m\u001b[0;34m\u001b[0m\u001b[0;34m\u001b[0m\u001b[0m\n\u001b[0m\u001b[1;32m   3083\u001b[0m \u001b[0;34m\u001b[0m\u001b[0m\n\u001b[1;32m   3084\u001b[0m         \u001b[0;32mif\u001b[0m \u001b[0mtolerance\u001b[0m \u001b[0;32mis\u001b[0m \u001b[0;32mnot\u001b[0m \u001b[0;32mNone\u001b[0m\u001b[0;34m:\u001b[0m\u001b[0;34m\u001b[0m\u001b[0;34m\u001b[0m\u001b[0m\n",
      "\u001b[0;31mKeyError\u001b[0m: 'lemm_text'"
     ]
    }
   ],
   "source": [
    "\n",
    "#проверим как выглядит лемматизированный текст\n",
    "data['lemm_text'].tail(20)"
   ]
  },
  {
   "cell_type": "code",
   "execution_count": 15,
   "metadata": {},
   "outputs": [],
   "source": [
    "#Определяем признаки, делим на выборки\n",
    "features = data['text']\n",
    "target = data['toxic']\n",
    "\n",
    "features_train_1, features_test_1, target_train, target_test = train_test_split(\n",
    "    features, target, test_size=0.25, random_state=42, stratify = target)"
   ]
  },
  {
   "cell_type": "code",
   "execution_count": 16,
   "metadata": {},
   "outputs": [],
   "source": [
    "#try:\n",
    "#    nltk.download('stopwords')\n",
    "#except:\n",
    "#    pass\n",
    "#Объявляем набор стоп-слов \n",
    "#try:\n",
    "#    stopwords = set(stopwords.words('english'))\n",
    "#except:\n",
    "#    pass\n",
    "#TFIDF-векторизатор\n",
    "count_tf_idf = TfidfVectorizer() \n",
    "#Векторизация текстов\n",
    "features_train = count_tf_idf.fit_transform(features_train_1)\n",
    "features_test = count_tf_idf.transform(features_test_1)"
   ]
  },
  {
   "cell_type": "code",
   "execution_count": 17,
   "metadata": {},
   "outputs": [
    {
     "name": "stdout",
     "output_type": "stream",
     "text": [
      "(119469, 150672)\n",
      "(39823, 150672)\n",
      "(119469,)\n",
      "(39823,)\n"
     ]
    }
   ],
   "source": [
    "print(features_train.shape)\n",
    "print(features_test.shape)\n",
    "print(target_train.shape)\n",
    "print(target_test.shape)"
   ]
  },
  {
   "cell_type": "markdown",
   "metadata": {},
   "source": [
    "На первом этапе произведена загрузка данных и их подготовка для обучения моделей. Для анализа данных и построения модели предоставлен датасет с размеченными данными, содержащий комментарии пользователей к товарам, доступным для приобретения в интернет-магазине «Викишоп». Датасет состоит из 2 столбцов с данными и 159291 строки. \n",
    "Столбцы:\n",
    "text — текст комментария;\n",
    "toxic — является ли комментарий токсичным.\n",
    "\n",
    "Пропуски в данных отсутствуют, ими мы не занимались, дубликаты тоже не смотрели.\n",
    "\n",
    "Далее мы объявили корпус текстов и перевели в тип юникод. Тексты  очищены и лемматизированы. \n",
    "Для векторизации текстов был использован TfidfVectorizer(). Датасет разделили на обучающую и тестовые выборки в соотношении 4:1. "
   ]
  },
  {
   "cell_type": "markdown",
   "metadata": {},
   "source": [
    "## Обучение"
   ]
  },
  {
   "cell_type": "markdown",
   "metadata": {},
   "source": [
    "В качестве моделей будем использовать Логистическую регрессию и Случайный лес \n",
    "CatBoost классификатор оставим на сладкое, пока он закомментирован\n"
   ]
  },
  {
   "cell_type": "code",
   "execution_count": 18,
   "metadata": {},
   "outputs": [
    {
     "name": "stdout",
     "output_type": "stream",
     "text": [
      "0.18445827349609065\n"
     ]
    }
   ],
   "source": [
    "#cоздадим константную модель для проверки\n",
    "const_model = [1 for i in range(len(target_test))]\n",
    "const_f1 = f1_score(target_test.reset_index(drop=True), const_model)\n",
    "print(const_f1)"
   ]
  },
  {
   "cell_type": "code",
   "execution_count": 19,
   "metadata": {},
   "outputs": [
    {
     "name": "stdout",
     "output_type": "stream",
     "text": [
      "CPU times: user 54.6 s, sys: 1min 38s, total: 2min 32s\n",
      "Wall time: 2min 32s\n"
     ]
    },
    {
     "data": {
      "text/plain": [
       "0.7626255016234743"
      ]
     },
     "execution_count": 19,
     "metadata": {},
     "output_type": "execute_result"
    }
   ],
   "source": [
    "%%time\n",
    "#Обучаем Логистическую регрессию\n",
    "regression = LogisticRegression(fit_intercept=True, \n",
    "                                class_weight='balanced', \n",
    "                                random_state=42,\n",
    "                                solver='liblinear'\n",
    "                               )\n",
    "#Определяем словарь с набором гиперпараметров\n",
    "regression_parametrs = {'C': [10, 12]}\n",
    "\n",
    "#GridSearchCV \n",
    "\n",
    "regression_grid = GridSearchCV(regression, regression_parametrs, scoring='f1', cv=3)\n",
    "regression_grid.fit(features_train, target_train)\n",
    "\n",
    "regression_grid.best_score_"
   ]
  },
  {
   "cell_type": "code",
   "execution_count": 20,
   "metadata": {},
   "outputs": [
    {
     "name": "stdout",
     "output_type": "stream",
     "text": [
      "{'C': 10}\n",
      "0.9164328505346174\n",
      "_______________\n"
     ]
    }
   ],
   "source": [
    "#определяем гиперпараметры\n",
    "\n",
    "regression_params = regression_grid.best_params_\n",
    "regression_score = regression_grid.score(features_train, target_train)\n",
    "print(regression_params)\n",
    "print(regression_score)\n",
    "print('_______________')"
   ]
  },
  {
   "cell_type": "markdown",
   "metadata": {},
   "source": [
    "Переходим к модели Случайный лес"
   ]
  },
  {
   "cell_type": "code",
   "execution_count": 25,
   "metadata": {},
   "outputs": [
    {
     "name": "stdout",
     "output_type": "stream",
     "text": [
      "CPU times: user 12.9 s, sys: 102 ms, total: 13 s\n",
      "Wall time: 13 s\n"
     ]
    },
    {
     "data": {
      "text/plain": [
       "0.3116000328981014"
      ]
     },
     "execution_count": 25,
     "metadata": {},
     "output_type": "execute_result"
    }
   ],
   "source": [
    "%%time\n",
    "#Подбираем  гиперпараметры \n",
    "forest = RandomForestClassifier(class_weight='balanced', random_state=42, n_jobs=-1)\n",
    "#Определяем словарь \n",
    "forest_parametrs = { 'n_estimators': range(38, 40, 5),\n",
    "                     'max_depth': range(6, 8, 2)}\n",
    "\n",
    "#GridSearchCV\n",
    "forest_grid = GridSearchCV(forest, forest_parametrs, scoring='f1', cv=3)\n",
    "forest_grid.fit(features_train, target_train)\n",
    "\n",
    "forest_grid.best_score_"
   ]
  },
  {
   "cell_type": "markdown",
   "metadata": {},
   "source": [
    "Теперь пройдемся CatBoost - по Кошачьему Бусту не пойдем. Все падает, а локально пока нет возможноси выполнить. В чатике рекомендуют уменьшить выборку.\n",
    "\n",
    "К тому же, нет требований по конкретным моделям.\n",
    "Вообще, есть ли ресурсы, где расписана хорошая таблица рекомендаций по применимости разных моделей в конкретных условиях?"
   ]
  },
  {
   "cell_type": "code",
   "execution_count": 23,
   "metadata": {},
   "outputs": [],
   "source": [
    "\n",
    "#пройдемся по тестовой выборке в лучшей модели\n",
    "regression_model = LogisticRegression(fit_intercept=True,\n",
    "                                class_weight='balanced',\n",
    "                                random_state=42,\n",
    "                                solver='liblinear',\n",
    "                                C=10)\n",
    "regression_model.fit(features_train, target_train)\n",
    "\n",
    "\n",
    "regression_model_predictions = regression_model.predict(features_test)\n",
    "#смотрим, что у нас с f1\n",
    "\n",
    "#42 - это ответ на главный вопрос о жизни"
   ]
  },
  {
   "cell_type": "code",
   "execution_count": 24,
   "metadata": {},
   "outputs": [
    {
     "name": "stdout",
     "output_type": "stream",
     "text": [
      "0.76\n"
     ]
    }
   ],
   "source": [
    "regression_predictions = regression_model.predict(features_test)\n",
    "regression_f1 = round(f1_score(target_test, regression_predictions), 3) \n",
    "print(regression_f1)"
   ]
  },
  {
   "cell_type": "markdown",
   "metadata": {},
   "source": [
    "## Выводы"
   ]
  },
  {
   "cell_type": "markdown",
   "metadata": {},
   "source": [
    "На первом этапе произведена загрузка, анализ и подготовка данных для обучения моделей. \n",
    "\n",
    "На этапе обучения в качестве моделей использованы Логистическая регрессия, Случайный лес \n",
    "По результатам подбора гиперпараметров и обучения моделей лучший результат у Логистической регресиия, худший - Случайный лес. Все выбранные модели прошли проверку в сравнении с константной моделью. Полученные результаты сведены в таблицу. \n",
    "Можно рекомендовать использование модели Логистической регрессии для решения поставленной задачи, так как результат 0,76 отвечает поставленным требованиям, и, следовательно, модель Логистической регрессии способна классифицировать комментарии на позитивные и негативные и ее можно использовать в работе интернет-магазина «Викишоп» \n",
    "\n",
    "\n",
    "\n",
    "PS Для ревьювера, не заказчика\n",
    "До BERT я не дошел, хочется отдохнуть, как-то слишком плотно идет обучения, но я вернусь к нему. Думаю, можно получить гораздо более интересные результаты. Но есть и вопрос дополнительный: если есть показатель, при котором заказ должны принать, например\n",
    "0.75. В результате работы я получаю 0.76, стоит ли искать еще лучший вариант?) По опыту, лучшее - враг хорошего?\n"
   ]
  }
 ],
 "metadata": {
  "ExecuteTimeLog": [
   {
    "duration": 2299,
    "start_time": "2023-05-23T13:22:23.301Z"
   },
   {
    "duration": 0,
    "start_time": "2023-05-23T13:22:25.603Z"
   },
   {
    "duration": 359,
    "start_time": "2023-05-23T13:22:56.492Z"
   },
   {
    "duration": 5043,
    "start_time": "2023-05-23T13:22:57.966Z"
   },
   {
    "duration": 45,
    "start_time": "2023-05-23T13:23:03.011Z"
   },
   {
    "duration": 43,
    "start_time": "2023-05-23T13:23:17.214Z"
   },
   {
    "duration": 333,
    "start_time": "2023-05-23T13:23:22.109Z"
   },
   {
    "duration": 591,
    "start_time": "2023-05-23T13:23:31.367Z"
   },
   {
    "duration": 3,
    "start_time": "2023-05-23T13:23:40.102Z"
   },
   {
    "duration": 3,
    "start_time": "2023-05-23T13:23:48.405Z"
   },
   {
    "duration": 6,
    "start_time": "2023-05-23T13:24:01.582Z"
   },
   {
    "duration": 1754,
    "start_time": "2023-05-23T13:24:15.701Z"
   },
   {
    "duration": 9,
    "start_time": "2023-05-23T13:25:14.378Z"
   },
   {
    "duration": 940,
    "start_time": "2023-05-23T13:25:37.879Z"
   },
   {
    "duration": 39,
    "start_time": "2023-05-23T13:25:39.292Z"
   },
   {
    "duration": 9,
    "start_time": "2023-05-23T13:25:55.360Z"
   },
   {
    "duration": 96,
    "start_time": "2023-05-23T13:26:12.421Z"
   },
   {
    "duration": 3258,
    "start_time": "2023-05-23T13:26:25.926Z"
   },
   {
    "duration": 4,
    "start_time": "2023-05-23T13:26:39.173Z"
   },
   {
    "duration": 4,
    "start_time": "2023-05-23T13:27:43.101Z"
   },
   {
    "duration": 53530,
    "start_time": "2023-05-23T13:27:43.107Z"
   },
   {
    "duration": 50,
    "start_time": "2023-05-23T13:28:36.646Z"
   },
   {
    "duration": 0,
    "start_time": "2023-05-23T13:28:36.698Z"
   },
   {
    "duration": 0,
    "start_time": "2023-05-23T13:28:36.700Z"
   },
   {
    "duration": 0,
    "start_time": "2023-05-23T13:28:36.702Z"
   },
   {
    "duration": 159,
    "start_time": "2023-05-23T13:29:22.261Z"
   },
   {
    "duration": 993,
    "start_time": "2023-05-23T13:29:25.091Z"
   },
   {
    "duration": 17,
    "start_time": "2023-05-23T13:29:26.161Z"
   },
   {
    "duration": 2431,
    "start_time": "2023-05-24T07:47:59.774Z"
   },
   {
    "duration": 3577,
    "start_time": "2023-05-24T07:48:02.208Z"
   },
   {
    "duration": 55,
    "start_time": "2023-05-24T07:48:05.787Z"
   },
   {
    "duration": 14,
    "start_time": "2023-05-24T07:48:05.850Z"
   },
   {
    "duration": 6737,
    "start_time": "2023-05-24T07:48:05.866Z"
   },
   {
    "duration": 97,
    "start_time": "2023-05-24T07:48:12.606Z"
   },
   {
    "duration": 1863,
    "start_time": "2023-05-27T07:42:25.306Z"
   },
   {
    "duration": 2680,
    "start_time": "2023-05-27T07:42:27.172Z"
   },
   {
    "duration": 36,
    "start_time": "2023-05-27T07:42:29.854Z"
   },
   {
    "duration": 13,
    "start_time": "2023-05-27T07:42:30.896Z"
   },
   {
    "duration": 137,
    "start_time": "2023-05-27T07:43:44.432Z"
   },
   {
    "duration": 1940,
    "start_time": "2023-05-27T07:43:57.322Z"
   },
   {
    "duration": 22,
    "start_time": "2023-05-27T07:43:59.264Z"
   },
   {
    "duration": 42251,
    "start_time": "2023-05-27T07:43:59.368Z"
   },
   {
    "duration": 740,
    "start_time": "2023-05-27T07:44:41.621Z"
   },
   {
    "duration": 0,
    "start_time": "2023-05-27T07:44:42.363Z"
   },
   {
    "duration": 0,
    "start_time": "2023-05-27T07:44:42.364Z"
   },
   {
    "duration": 0,
    "start_time": "2023-05-27T07:44:42.365Z"
   },
   {
    "duration": 818,
    "start_time": "2023-05-27T07:44:50.365Z"
   },
   {
    "duration": 172,
    "start_time": "2023-05-27T07:44:55.990Z"
   },
   {
    "duration": 9,
    "start_time": "2023-05-27T07:45:01.417Z"
   },
   {
    "duration": 62,
    "start_time": "2023-05-27T07:45:02.516Z"
   },
   {
    "duration": 64,
    "start_time": "2023-05-27T07:45:10.345Z"
   },
   {
    "duration": 7150,
    "start_time": "2023-05-27T07:45:12.108Z"
   },
   {
    "duration": 5,
    "start_time": "2023-05-27T07:45:19.260Z"
   },
   {
    "duration": 27,
    "start_time": "2023-05-27T07:45:50.596Z"
   },
   {
    "duration": 195374,
    "start_time": "2023-05-27T07:46:06.489Z"
   },
   {
    "duration": 50,
    "start_time": "2023-05-27T07:49:21.866Z"
   },
   {
    "duration": 26456,
    "start_time": "2023-05-27T07:49:21.918Z"
   },
   {
    "duration": 21,
    "start_time": "2023-05-27T07:49:48.377Z"
   },
   {
    "duration": 113,
    "start_time": "2023-05-27T07:49:48.402Z"
   },
   {
    "duration": 40,
    "start_time": "2023-05-27T07:49:48.516Z"
   },
   {
    "duration": 0,
    "start_time": "2023-05-27T07:49:48.557Z"
   },
   {
    "duration": 91,
    "start_time": "2023-05-27T07:50:50.805Z"
   },
   {
    "duration": 89,
    "start_time": "2023-05-27T07:51:46.657Z"
   },
   {
    "duration": 914,
    "start_time": "2023-05-27T07:52:47.582Z"
   },
   {
    "duration": 1897,
    "start_time": "2023-05-27T07:59:14.270Z"
   },
   {
    "duration": 2579,
    "start_time": "2023-05-27T07:59:16.170Z"
   },
   {
    "duration": 40,
    "start_time": "2023-05-27T07:59:18.751Z"
   },
   {
    "duration": 12,
    "start_time": "2023-05-27T07:59:18.794Z"
   },
   {
    "duration": 2074,
    "start_time": "2023-05-27T07:59:18.808Z"
   },
   {
    "duration": 10,
    "start_time": "2023-05-27T07:59:20.885Z"
   },
   {
    "duration": 44892,
    "start_time": "2023-05-27T07:59:20.897Z"
   },
   {
    "duration": 811,
    "start_time": "2023-05-27T08:00:05.791Z"
   },
   {
    "duration": 199,
    "start_time": "2023-05-27T08:00:06.604Z"
   },
   {
    "duration": 6,
    "start_time": "2023-05-27T08:00:06.805Z"
   },
   {
    "duration": 88,
    "start_time": "2023-05-27T08:00:06.813Z"
   },
   {
    "duration": 7561,
    "start_time": "2023-05-27T08:00:06.903Z"
   },
   {
    "duration": 4,
    "start_time": "2023-05-27T08:00:14.466Z"
   },
   {
    "duration": 43,
    "start_time": "2023-05-27T08:00:14.474Z"
   },
   {
    "duration": 186149,
    "start_time": "2023-05-27T08:00:14.520Z"
   },
   {
    "duration": 78,
    "start_time": "2023-05-27T08:03:20.672Z"
   },
   {
    "duration": 27722,
    "start_time": "2023-05-27T08:03:20.753Z"
   },
   {
    "duration": 20,
    "start_time": "2023-05-27T08:03:48.477Z"
   },
   {
    "duration": 1848,
    "start_time": "2023-05-27T08:06:03.943Z"
   },
   {
    "duration": 2423,
    "start_time": "2023-05-27T08:06:05.794Z"
   },
   {
    "duration": 43,
    "start_time": "2023-05-27T08:06:08.220Z"
   },
   {
    "duration": 20,
    "start_time": "2023-05-27T08:06:08.266Z"
   },
   {
    "duration": 2043,
    "start_time": "2023-05-27T08:06:08.289Z"
   },
   {
    "duration": 8,
    "start_time": "2023-05-27T08:06:10.334Z"
   },
   {
    "duration": 41103,
    "start_time": "2023-05-27T08:06:10.344Z"
   },
   {
    "duration": 769,
    "start_time": "2023-05-27T08:06:51.448Z"
   },
   {
    "duration": 180,
    "start_time": "2023-05-27T08:06:52.220Z"
   },
   {
    "duration": 6,
    "start_time": "2023-05-27T08:06:52.402Z"
   },
   {
    "duration": 83,
    "start_time": "2023-05-27T08:06:52.410Z"
   },
   {
    "duration": 7035,
    "start_time": "2023-05-27T08:06:52.495Z"
   },
   {
    "duration": 4,
    "start_time": "2023-05-27T08:06:59.531Z"
   },
   {
    "duration": 27,
    "start_time": "2023-05-27T08:06:59.541Z"
   },
   {
    "duration": 193690,
    "start_time": "2023-05-27T08:06:59.570Z"
   },
   {
    "duration": 49,
    "start_time": "2023-05-27T08:10:13.262Z"
   },
   {
    "duration": 26651,
    "start_time": "2023-05-27T08:10:13.313Z"
   },
   {
    "duration": 19,
    "start_time": "2023-05-27T08:10:39.967Z"
   },
   {
    "duration": 3,
    "start_time": "2023-05-27T08:10:39.988Z"
   },
   {
    "duration": 9,
    "start_time": "2023-05-27T08:10:39.992Z"
   },
   {
    "duration": 51,
    "start_time": "2023-05-27T08:11:38.750Z"
   },
   {
    "duration": 1739,
    "start_time": "2023-05-27T08:18:44.396Z"
   },
   {
    "duration": 8,
    "start_time": "2023-05-27T08:18:53.547Z"
   },
   {
    "duration": 2401,
    "start_time": "2023-05-27T08:18:54.127Z"
   },
   {
    "duration": 32,
    "start_time": "2023-05-27T08:18:56.530Z"
   },
   {
    "duration": 14,
    "start_time": "2023-05-27T08:18:56.565Z"
   },
   {
    "duration": 1988,
    "start_time": "2023-05-27T08:18:56.581Z"
   },
   {
    "duration": 5,
    "start_time": "2023-05-27T08:18:58.572Z"
   },
   {
    "duration": 42138,
    "start_time": "2023-05-27T08:18:58.578Z"
   },
   {
    "duration": 793,
    "start_time": "2023-05-27T08:19:40.720Z"
   },
   {
    "duration": 173,
    "start_time": "2023-05-27T08:19:41.514Z"
   },
   {
    "duration": 6,
    "start_time": "2023-05-27T08:19:41.689Z"
   },
   {
    "duration": 80,
    "start_time": "2023-05-27T08:19:41.696Z"
   },
   {
    "duration": 7256,
    "start_time": "2023-05-27T08:19:41.779Z"
   },
   {
    "duration": 4,
    "start_time": "2023-05-27T08:19:49.037Z"
   },
   {
    "duration": 30,
    "start_time": "2023-05-27T08:19:49.043Z"
   },
   {
    "duration": 194689,
    "start_time": "2023-05-27T08:19:49.074Z"
   },
   {
    "duration": 50,
    "start_time": "2023-05-27T08:23:03.764Z"
   },
   {
    "duration": 26457,
    "start_time": "2023-05-27T08:23:03.816Z"
   },
   {
    "duration": 19,
    "start_time": "2023-05-27T08:23:30.275Z"
   },
   {
    "duration": 200,
    "start_time": "2023-05-27T08:23:30.296Z"
   },
   {
    "duration": 123,
    "start_time": "2023-05-27T08:24:52.993Z"
   },
   {
    "duration": 1749,
    "start_time": "2023-05-27T08:35:35.754Z"
   },
   {
    "duration": 2397,
    "start_time": "2023-05-27T08:35:37.506Z"
   },
   {
    "duration": 38,
    "start_time": "2023-05-27T08:35:39.905Z"
   },
   {
    "duration": 11,
    "start_time": "2023-05-27T08:35:39.946Z"
   },
   {
    "duration": 1919,
    "start_time": "2023-05-27T08:35:39.959Z"
   },
   {
    "duration": 7,
    "start_time": "2023-05-27T08:35:41.880Z"
   },
   {
    "duration": 39936,
    "start_time": "2023-05-27T08:35:41.888Z"
   },
   {
    "duration": 782,
    "start_time": "2023-05-27T08:36:21.825Z"
   },
   {
    "duration": 181,
    "start_time": "2023-05-27T08:36:22.611Z"
   },
   {
    "duration": 6,
    "start_time": "2023-05-27T08:36:22.794Z"
   },
   {
    "duration": 85,
    "start_time": "2023-05-27T08:36:22.802Z"
   },
   {
    "duration": 7306,
    "start_time": "2023-05-27T08:36:22.889Z"
   },
   {
    "duration": 5,
    "start_time": "2023-05-27T08:36:30.197Z"
   },
   {
    "duration": 483,
    "start_time": "2023-05-27T08:42:59.888Z"
   },
   {
    "duration": 30,
    "start_time": "2023-05-27T08:43:28.727Z"
   },
   {
    "duration": 829,
    "start_time": "2023-05-27T08:43:29.531Z"
   },
   {
    "duration": 38,
    "start_time": "2023-05-27T08:43:30.636Z"
   },
   {
    "duration": 8,
    "start_time": "2023-05-27T08:43:30.982Z"
   },
   {
    "duration": 51,
    "start_time": "2023-05-27T08:43:33.936Z"
   },
   {
    "duration": 0,
    "start_time": "2023-05-27T08:43:33.989Z"
   },
   {
    "duration": 0,
    "start_time": "2023-05-27T08:43:33.992Z"
   },
   {
    "duration": 0,
    "start_time": "2023-05-27T08:43:33.993Z"
   },
   {
    "duration": 0,
    "start_time": "2023-05-27T08:43:33.995Z"
   },
   {
    "duration": 0,
    "start_time": "2023-05-27T08:43:33.996Z"
   },
   {
    "duration": 1724,
    "start_time": "2023-05-27T08:43:40.582Z"
   },
   {
    "duration": 2411,
    "start_time": "2023-05-27T08:43:42.308Z"
   },
   {
    "duration": 34,
    "start_time": "2023-05-27T08:43:44.721Z"
   },
   {
    "duration": 14,
    "start_time": "2023-05-27T08:43:44.756Z"
   },
   {
    "duration": 1947,
    "start_time": "2023-05-27T08:43:44.771Z"
   },
   {
    "duration": 6,
    "start_time": "2023-05-27T08:43:46.720Z"
   },
   {
    "duration": 40450,
    "start_time": "2023-05-27T08:43:46.727Z"
   },
   {
    "duration": 807,
    "start_time": "2023-05-27T08:44:27.180Z"
   },
   {
    "duration": 178,
    "start_time": "2023-05-27T08:44:27.988Z"
   },
   {
    "duration": 7,
    "start_time": "2023-05-27T08:44:28.168Z"
   },
   {
    "duration": 106,
    "start_time": "2023-05-27T08:44:28.176Z"
   },
   {
    "duration": 7008,
    "start_time": "2023-05-27T08:44:28.285Z"
   },
   {
    "duration": 5,
    "start_time": "2023-05-27T08:44:35.295Z"
   },
   {
    "duration": 43,
    "start_time": "2023-05-27T08:44:35.302Z"
   },
   {
    "duration": 201317,
    "start_time": "2023-05-27T08:44:35.347Z"
   },
   {
    "duration": 46,
    "start_time": "2023-05-27T08:47:56.666Z"
   },
   {
    "duration": 26459,
    "start_time": "2023-05-27T08:47:56.714Z"
   },
   {
    "duration": 18,
    "start_time": "2023-05-27T08:48:23.174Z"
   },
   {
    "duration": 204482,
    "start_time": "2023-05-27T08:48:23.194Z"
   },
   {
    "duration": 721,
    "start_time": "2023-05-27T08:51:47.679Z"
   },
   {
    "duration": 951,
    "start_time": "2023-05-27T08:51:48.403Z"
   },
   {
    "duration": 198,
    "start_time": "2023-05-27T08:51:49.356Z"
   },
   {
    "duration": 96,
    "start_time": "2023-05-27T08:51:49.557Z"
   },
   {
    "duration": 15,
    "start_time": "2023-05-27T08:53:19.033Z"
   },
   {
    "duration": 1799,
    "start_time": "2023-05-27T08:55:25.756Z"
   },
   {
    "duration": 876,
    "start_time": "2023-05-27T08:55:27.558Z"
   },
   {
    "duration": 43,
    "start_time": "2023-05-27T08:55:28.436Z"
   },
   {
    "duration": 12,
    "start_time": "2023-05-27T08:55:28.481Z"
   },
   {
    "duration": 2061,
    "start_time": "2023-05-27T08:55:28.495Z"
   },
   {
    "duration": 33,
    "start_time": "2023-05-27T08:55:30.558Z"
   },
   {
    "duration": 44141,
    "start_time": "2023-05-27T08:55:30.593Z"
   },
   {
    "duration": 841,
    "start_time": "2023-05-27T08:56:14.743Z"
   },
   {
    "duration": 281,
    "start_time": "2023-05-27T08:56:15.587Z"
   },
   {
    "duration": 8,
    "start_time": "2023-05-27T08:56:15.872Z"
   },
   {
    "duration": 138,
    "start_time": "2023-05-27T08:56:15.882Z"
   },
   {
    "duration": 7805,
    "start_time": "2023-05-27T08:56:16.021Z"
   },
   {
    "duration": 4,
    "start_time": "2023-05-27T08:56:23.828Z"
   },
   {
    "duration": 53,
    "start_time": "2023-05-27T08:56:23.841Z"
   },
   {
    "duration": 190377,
    "start_time": "2023-05-27T08:56:23.896Z"
   },
   {
    "duration": 51,
    "start_time": "2023-05-27T08:59:34.275Z"
   },
   {
    "duration": 26567,
    "start_time": "2023-05-27T08:59:34.328Z"
   },
   {
    "duration": 18,
    "start_time": "2023-05-27T09:00:00.897Z"
   },
   {
    "duration": 206377,
    "start_time": "2023-05-27T09:00:00.917Z"
   },
   {
    "duration": 868,
    "start_time": "2023-05-27T09:03:27.296Z"
   },
   {
    "duration": 1290,
    "start_time": "2023-05-27T09:03:28.167Z"
   },
   {
    "duration": 275,
    "start_time": "2023-05-27T09:03:29.458Z"
   },
   {
    "duration": 7,
    "start_time": "2023-05-27T09:03:29.735Z"
   },
   {
    "duration": 6,
    "start_time": "2023-05-27T09:03:29.745Z"
   },
   {
    "duration": 21,
    "start_time": "2023-05-27T09:03:29.754Z"
   },
   {
    "duration": 32,
    "start_time": "2023-05-27T09:03:29.778Z"
   },
   {
    "duration": 1753,
    "start_time": "2023-05-27T09:10:52.650Z"
   },
   {
    "duration": 800,
    "start_time": "2023-05-27T09:10:54.405Z"
   },
   {
    "duration": 38,
    "start_time": "2023-05-27T09:10:55.207Z"
   },
   {
    "duration": 10,
    "start_time": "2023-05-27T09:10:55.247Z"
   },
   {
    "duration": 1965,
    "start_time": "2023-05-27T09:10:55.258Z"
   },
   {
    "duration": 9,
    "start_time": "2023-05-27T09:10:57.225Z"
   },
   {
    "duration": 40475,
    "start_time": "2023-05-27T09:10:57.235Z"
   },
   {
    "duration": 819,
    "start_time": "2023-05-27T09:11:37.712Z"
   },
   {
    "duration": 174,
    "start_time": "2023-05-27T09:11:38.532Z"
   },
   {
    "duration": 6,
    "start_time": "2023-05-27T09:11:38.709Z"
   },
   {
    "duration": 87,
    "start_time": "2023-05-27T09:11:38.717Z"
   },
   {
    "duration": 7060,
    "start_time": "2023-05-27T09:11:38.806Z"
   },
   {
    "duration": 4,
    "start_time": "2023-05-27T09:11:45.867Z"
   },
   {
    "duration": 34,
    "start_time": "2023-05-27T09:11:45.873Z"
   },
   {
    "duration": 201265,
    "start_time": "2023-05-27T09:11:45.909Z"
   },
   {
    "duration": 50,
    "start_time": "2023-05-27T09:15:07.176Z"
   },
   {
    "duration": 16,
    "start_time": "2023-05-27T09:15:07.228Z"
   },
   {
    "duration": 0,
    "start_time": "2023-05-27T09:15:07.246Z"
   },
   {
    "duration": 0,
    "start_time": "2023-05-27T09:15:07.247Z"
   },
   {
    "duration": 0,
    "start_time": "2023-05-27T09:15:07.249Z"
   },
   {
    "duration": 0,
    "start_time": "2023-05-27T09:15:07.251Z"
   },
   {
    "duration": 0,
    "start_time": "2023-05-27T09:15:07.252Z"
   },
   {
    "duration": 0,
    "start_time": "2023-05-27T09:15:07.254Z"
   },
   {
    "duration": 0,
    "start_time": "2023-05-27T09:15:07.255Z"
   },
   {
    "duration": 0,
    "start_time": "2023-05-27T09:15:07.257Z"
   },
   {
    "duration": 0,
    "start_time": "2023-05-27T09:15:07.258Z"
   },
   {
    "duration": 5,
    "start_time": "2023-05-27T09:15:26.350Z"
   },
   {
    "duration": 26309,
    "start_time": "2023-05-27T09:15:57.470Z"
   },
   {
    "duration": 19,
    "start_time": "2023-05-27T09:16:23.781Z"
   },
   {
    "duration": 1766,
    "start_time": "2023-05-27T09:17:31.035Z"
   },
   {
    "duration": 813,
    "start_time": "2023-05-27T09:17:32.803Z"
   },
   {
    "duration": 38,
    "start_time": "2023-05-27T09:17:33.618Z"
   },
   {
    "duration": 11,
    "start_time": "2023-05-27T09:17:33.659Z"
   },
   {
    "duration": 2005,
    "start_time": "2023-05-27T09:17:33.672Z"
   },
   {
    "duration": 9,
    "start_time": "2023-05-27T09:17:35.679Z"
   },
   {
    "duration": 39715,
    "start_time": "2023-05-27T09:17:35.690Z"
   },
   {
    "duration": 797,
    "start_time": "2023-05-27T09:18:15.407Z"
   },
   {
    "duration": 165,
    "start_time": "2023-05-27T09:18:16.206Z"
   },
   {
    "duration": 5,
    "start_time": "2023-05-27T09:18:16.373Z"
   },
   {
    "duration": 76,
    "start_time": "2023-05-27T09:18:16.380Z"
   },
   {
    "duration": 6990,
    "start_time": "2023-05-27T09:18:16.458Z"
   },
   {
    "duration": 3,
    "start_time": "2023-05-27T09:18:23.450Z"
   },
   {
    "duration": 30,
    "start_time": "2023-05-27T09:18:23.455Z"
   },
   {
    "duration": 199386,
    "start_time": "2023-05-27T09:18:23.487Z"
   },
   {
    "duration": 66,
    "start_time": "2023-05-27T09:21:42.875Z"
   },
   {
    "duration": 26325,
    "start_time": "2023-05-27T09:21:42.943Z"
   },
   {
    "duration": 20,
    "start_time": "2023-05-27T09:22:09.270Z"
   },
   {
    "duration": 198702,
    "start_time": "2023-05-27T09:22:09.292Z"
   },
   {
    "duration": 714,
    "start_time": "2023-05-27T09:25:27.995Z"
   },
   {
    "duration": 963,
    "start_time": "2023-05-27T09:25:28.710Z"
   },
   {
    "duration": 198,
    "start_time": "2023-05-27T09:25:29.675Z"
   },
   {
    "duration": 3,
    "start_time": "2023-05-27T09:25:29.875Z"
   },
   {
    "duration": 8,
    "start_time": "2023-05-27T09:25:29.880Z"
   },
   {
    "duration": 6,
    "start_time": "2023-05-27T09:25:29.890Z"
   },
   {
    "duration": 16,
    "start_time": "2023-05-27T09:25:29.898Z"
   },
   {
    "duration": 49,
    "start_time": "2023-05-27T17:45:54.039Z"
   },
   {
    "duration": 2549,
    "start_time": "2023-05-27T17:45:59.517Z"
   },
   {
    "duration": 3364,
    "start_time": "2023-05-27T17:46:02.068Z"
   },
   {
    "duration": 666,
    "start_time": "2023-05-27T17:46:16.842Z"
   },
   {
    "duration": 29,
    "start_time": "2023-05-27T17:46:20.526Z"
   },
   {
    "duration": 9,
    "start_time": "2023-05-27T17:46:20.789Z"
   },
   {
    "duration": 6,
    "start_time": "2023-05-27T17:46:25.323Z"
   },
   {
    "duration": 6,
    "start_time": "2023-05-27T17:46:37.628Z"
   },
   {
    "duration": 89,
    "start_time": "2023-05-27T17:46:47.881Z"
   },
   {
    "duration": 3,
    "start_time": "2023-05-27T17:52:04.547Z"
   },
   {
    "duration": 4,
    "start_time": "2023-05-27T17:52:28.381Z"
   },
   {
    "duration": 37424,
    "start_time": "2023-05-27T17:52:35.389Z"
   },
   {
    "duration": 4,
    "start_time": "2023-05-27T18:03:11.491Z"
   },
   {
    "duration": 47075,
    "start_time": "2023-05-27T18:03:41.321Z"
   },
   {
    "duration": 4,
    "start_time": "2023-05-27T18:05:06.477Z"
   },
   {
    "duration": 36791,
    "start_time": "2023-05-27T18:05:07.439Z"
   },
   {
    "duration": 66,
    "start_time": "2023-05-27T18:05:44.232Z"
   },
   {
    "duration": 12394,
    "start_time": "2023-05-27T18:27:40.086Z"
   },
   {
    "duration": 2157249,
    "start_time": "2023-05-27T18:28:40.127Z"
   },
   {
    "duration": 2823,
    "start_time": "2023-05-27T19:04:54.981Z"
   },
   {
    "duration": 211,
    "start_time": "2023-05-27T19:05:01.785Z"
   },
   {
    "duration": 18,
    "start_time": "2023-05-27T19:05:16.590Z"
   },
   {
    "duration": 24127,
    "start_time": "2023-05-27T19:05:24.110Z"
   },
   {
    "duration": 0,
    "start_time": "2023-05-27T19:05:48.238Z"
   },
   {
    "duration": 0,
    "start_time": "2023-05-27T19:05:48.239Z"
   },
   {
    "duration": 73,
    "start_time": "2023-05-27T19:05:54.066Z"
   },
   {
    "duration": 142,
    "start_time": "2023-05-27T19:05:59.711Z"
   },
   {
    "duration": 5,
    "start_time": "2023-05-27T19:06:03.390Z"
   },
   {
    "duration": 53,
    "start_time": "2023-05-27T19:06:04.276Z"
   },
   {
    "duration": 287,
    "start_time": "2023-05-27T19:06:06.053Z"
   },
   {
    "duration": 18,
    "start_time": "2023-05-27T19:06:22.589Z"
   },
   {
    "duration": 59,
    "start_time": "2023-05-27T19:07:40.200Z"
   },
   {
    "duration": 19,
    "start_time": "2023-05-27T19:10:19.602Z"
   },
   {
    "duration": 68,
    "start_time": "2023-05-27T19:11:44.865Z"
   },
   {
    "duration": 84,
    "start_time": "2023-05-27T19:12:57.374Z"
   },
   {
    "duration": 70,
    "start_time": "2023-05-27T19:13:57.752Z"
   },
   {
    "duration": 73,
    "start_time": "2023-05-27T19:14:05.302Z"
   },
   {
    "duration": 67,
    "start_time": "2023-05-27T19:14:22.372Z"
   },
   {
    "duration": 51,
    "start_time": "2023-05-27T19:14:53.112Z"
   },
   {
    "duration": 5065,
    "start_time": "2023-05-27T19:15:15.912Z"
   },
   {
    "duration": 103,
    "start_time": "2023-05-27T19:15:24.814Z"
   },
   {
    "duration": 1744,
    "start_time": "2023-05-27T19:15:39.385Z"
   },
   {
    "duration": 730,
    "start_time": "2023-05-27T19:15:41.131Z"
   },
   {
    "duration": 27,
    "start_time": "2023-05-27T19:15:41.863Z"
   },
   {
    "duration": 8,
    "start_time": "2023-05-27T19:15:41.892Z"
   },
   {
    "duration": 3,
    "start_time": "2023-05-27T19:15:41.901Z"
   },
   {
    "duration": 4,
    "start_time": "2023-05-27T19:15:41.906Z"
   },
   {
    "duration": 6,
    "start_time": "2023-05-27T19:15:41.911Z"
   },
   {
    "duration": 2844,
    "start_time": "2023-05-27T19:15:41.918Z"
   },
   {
    "duration": 2506118,
    "start_time": "2023-05-27T19:15:44.764Z"
   },
   {
    "duration": 2226,
    "start_time": "2023-05-27T19:57:30.884Z"
   },
   {
    "duration": 95,
    "start_time": "2023-05-27T19:57:33.113Z"
   },
   {
    "duration": 2291,
    "start_time": "2023-05-27T19:57:33.209Z"
   },
   {
    "duration": 96,
    "start_time": "2023-05-27T19:57:35.502Z"
   },
   {
    "duration": 181,
    "start_time": "2023-05-27T19:57:35.600Z"
   },
   {
    "duration": 1010,
    "start_time": "2023-05-27T19:57:35.783Z"
   },
   {
    "duration": 0,
    "start_time": "2023-05-27T19:57:36.796Z"
   },
   {
    "duration": 0,
    "start_time": "2023-05-27T19:57:36.797Z"
   },
   {
    "duration": 0,
    "start_time": "2023-05-27T19:57:36.798Z"
   },
   {
    "duration": 0,
    "start_time": "2023-05-27T19:57:36.799Z"
   },
   {
    "duration": 0,
    "start_time": "2023-05-27T19:57:36.800Z"
   },
   {
    "duration": 0,
    "start_time": "2023-05-27T19:57:36.801Z"
   },
   {
    "duration": 0,
    "start_time": "2023-05-27T19:57:36.802Z"
   },
   {
    "duration": 0,
    "start_time": "2023-05-27T19:57:36.803Z"
   },
   {
    "duration": 0,
    "start_time": "2023-05-27T19:57:36.804Z"
   },
   {
    "duration": 0,
    "start_time": "2023-05-27T19:57:36.805Z"
   },
   {
    "duration": 0,
    "start_time": "2023-05-27T19:57:36.806Z"
   },
   {
    "duration": 0,
    "start_time": "2023-05-27T19:57:36.808Z"
   },
   {
    "duration": 0,
    "start_time": "2023-05-27T19:57:36.809Z"
   },
   {
    "duration": 0,
    "start_time": "2023-05-27T19:57:36.809Z"
   },
   {
    "duration": 0,
    "start_time": "2023-05-27T19:57:36.810Z"
   },
   {
    "duration": 0,
    "start_time": "2023-05-27T19:57:36.811Z"
   },
   {
    "duration": 0,
    "start_time": "2023-05-27T19:57:36.812Z"
   },
   {
    "duration": 75,
    "start_time": "2023-05-27T19:58:18.618Z"
   },
   {
    "duration": 158,
    "start_time": "2023-05-27T19:58:25.547Z"
   },
   {
    "duration": 6,
    "start_time": "2023-05-27T19:58:29.010Z"
   },
   {
    "duration": 84,
    "start_time": "2023-05-27T19:58:37.217Z"
   },
   {
    "duration": 324,
    "start_time": "2023-05-27T19:58:55.290Z"
   },
   {
    "duration": 5,
    "start_time": "2023-05-27T20:00:20.729Z"
   },
   {
    "duration": 25,
    "start_time": "2023-05-27T20:00:44.187Z"
   },
   {
    "duration": 46,
    "start_time": "2023-05-27T20:00:51.898Z"
   },
   {
    "duration": 6,
    "start_time": "2023-05-27T20:00:59.026Z"
   },
   {
    "duration": 67,
    "start_time": "2023-05-27T20:04:06.219Z"
   },
   {
    "duration": 70,
    "start_time": "2023-05-27T20:04:11.106Z"
   },
   {
    "duration": 5969,
    "start_time": "2023-05-27T20:04:12.738Z"
   },
   {
    "duration": 4,
    "start_time": "2023-05-27T20:04:18.708Z"
   },
   {
    "duration": 26,
    "start_time": "2023-05-27T20:04:21.730Z"
   },
   {
    "duration": 253999,
    "start_time": "2023-05-27T20:04:22.813Z"
   },
   {
    "duration": 85,
    "start_time": "2023-05-27T20:08:36.814Z"
   },
   {
    "duration": 172828,
    "start_time": "2023-05-27T20:08:36.901Z"
   },
   {
    "duration": 451,
    "start_time": "2023-05-27T20:11:29.732Z"
   },
   {
    "duration": 584,
    "start_time": "2023-05-27T20:11:30.185Z"
   },
   {
    "duration": 129,
    "start_time": "2023-05-27T20:11:30.771Z"
   },
   {
    "duration": 3,
    "start_time": "2023-05-27T20:11:30.902Z"
   },
   {
    "duration": 39,
    "start_time": "2023-05-27T20:11:30.906Z"
   },
   {
    "duration": 31,
    "start_time": "2023-05-27T20:11:30.947Z"
   },
   {
    "duration": 64,
    "start_time": "2023-05-27T20:11:30.980Z"
   },
   {
    "duration": 0,
    "start_time": "2023-05-27T20:11:31.046Z"
   },
   {
    "duration": 9303,
    "start_time": "2023-05-27T20:12:16.408Z"
   },
   {
    "duration": 11,
    "start_time": "2023-05-27T20:12:25.713Z"
   },
   {
    "duration": 3,
    "start_time": "2023-05-27T20:25:18.092Z"
   },
   {
    "duration": 70,
    "start_time": "2023-05-27T20:25:26.244Z"
   },
   {
    "duration": 73,
    "start_time": "2023-05-27T20:25:35.125Z"
   },
   {
    "duration": 71,
    "start_time": "2023-05-27T20:26:10.511Z"
   },
   {
    "duration": 69,
    "start_time": "2023-05-27T20:26:29.709Z"
   },
   {
    "duration": 1326,
    "start_time": "2023-05-27T20:27:09.516Z"
   },
   {
    "duration": 237276,
    "start_time": "2023-05-27T20:31:17.560Z"
   },
   {
    "duration": 10,
    "start_time": "2023-05-27T20:35:14.838Z"
   },
   {
    "duration": 87,
    "start_time": "2023-05-27T20:38:57.723Z"
   },
   {
    "duration": 131,
    "start_time": "2023-05-27T20:39:18.030Z"
   },
   {
    "duration": 80,
    "start_time": "2023-05-27T20:39:22.250Z"
   },
   {
    "duration": 5876,
    "start_time": "2023-05-27T20:39:36.436Z"
   },
   {
    "duration": 3,
    "start_time": "2023-05-27T20:39:42.314Z"
   },
   {
    "duration": 27,
    "start_time": "2023-05-27T20:39:48.241Z"
   },
   {
    "duration": 64,
    "start_time": "2023-05-27T20:43:07.094Z"
   },
   {
    "duration": 48,
    "start_time": "2023-05-27T20:43:31.280Z"
   },
   {
    "duration": 2440,
    "start_time": "2023-05-27T20:43:42.209Z"
   },
   {
    "duration": 39,
    "start_time": "2023-05-27T20:43:52.122Z"
   },
   {
    "duration": 77,
    "start_time": "2023-05-27T20:43:56.282Z"
   },
   {
    "duration": 87,
    "start_time": "2023-05-27T20:44:58.308Z"
   },
   {
    "duration": 1682,
    "start_time": "2023-05-27T20:45:07.282Z"
   },
   {
    "duration": 727,
    "start_time": "2023-05-27T20:45:08.966Z"
   },
   {
    "duration": 27,
    "start_time": "2023-05-27T20:45:09.695Z"
   },
   {
    "duration": 19,
    "start_time": "2023-05-27T20:45:09.724Z"
   },
   {
    "duration": 17,
    "start_time": "2023-05-27T20:45:09.745Z"
   },
   {
    "duration": 10,
    "start_time": "2023-05-27T20:45:09.764Z"
   },
   {
    "duration": 29,
    "start_time": "2023-05-27T20:45:09.775Z"
   },
   {
    "duration": 2977,
    "start_time": "2023-05-27T20:45:09.806Z"
   },
   {
    "duration": 2457949,
    "start_time": "2023-05-27T20:45:12.785Z"
   },
   {
    "duration": 2,
    "start_time": "2023-05-27T21:26:10.738Z"
   },
   {
    "duration": 91,
    "start_time": "2023-05-27T21:26:10.742Z"
   },
   {
    "duration": 165,
    "start_time": "2023-05-27T21:26:10.835Z"
   },
   {
    "duration": 82,
    "start_time": "2023-05-27T21:26:11.001Z"
   },
   {
    "duration": 59,
    "start_time": "2023-05-27T21:26:11.085Z"
   },
   {
    "duration": 6098,
    "start_time": "2023-05-27T21:26:11.146Z"
   },
   {
    "duration": 4,
    "start_time": "2023-05-27T21:26:17.245Z"
   },
   {
    "duration": 48,
    "start_time": "2023-05-27T21:26:17.250Z"
   },
   {
    "duration": 256300,
    "start_time": "2023-05-27T21:26:17.300Z"
   },
   {
    "duration": 2056,
    "start_time": "2023-05-27T21:30:33.602Z"
   },
   {
    "duration": 375,
    "start_time": "2023-05-27T21:30:35.660Z"
   },
   {
    "duration": 44,
    "start_time": "2023-05-27T21:30:36.037Z"
   },
   {
    "duration": 2,
    "start_time": "2023-05-27T21:30:36.082Z"
   },
   {
    "duration": 5,
    "start_time": "2023-05-27T21:30:36.085Z"
   },
   {
    "duration": 235242,
    "start_time": "2023-05-27T21:30:36.092Z"
   },
   {
    "duration": 323,
    "start_time": "2023-05-27T21:34:31.336Z"
   },
   {
    "duration": 418,
    "start_time": "2023-05-27T21:34:31.661Z"
   },
   {
    "duration": 73,
    "start_time": "2023-05-27T21:34:32.081Z"
   },
   {
    "duration": 3,
    "start_time": "2023-05-27T21:34:32.157Z"
   },
   {
    "duration": 3,
    "start_time": "2023-05-27T21:34:32.177Z"
   },
   {
    "duration": 12,
    "start_time": "2023-05-27T21:34:32.181Z"
   },
   {
    "duration": 9718,
    "start_time": "2023-05-27T21:34:32.195Z"
   },
   {
    "duration": 11,
    "start_time": "2023-05-27T21:34:41.915Z"
   },
   {
    "duration": 4,
    "start_time": "2023-05-27T21:38:12.995Z"
   },
   {
    "duration": 64,
    "start_time": "2023-05-27T21:38:15.850Z"
   },
   {
    "duration": 3,
    "start_time": "2023-05-27T21:39:01.405Z"
   },
   {
    "duration": 66,
    "start_time": "2023-05-27T21:39:04.168Z"
   },
   {
    "duration": 2,
    "start_time": "2023-05-27T21:39:28.816Z"
   },
   {
    "duration": 919,
    "start_time": "2023-05-27T21:39:29.516Z"
   },
   {
    "duration": 900,
    "start_time": "2023-05-27T21:56:40.409Z"
   },
   {
    "duration": 21,
    "start_time": "2023-05-28T00:01:48.916Z"
   },
   {
    "duration": 3,
    "start_time": "2023-05-28T00:02:15.151Z"
   },
   {
    "duration": 74,
    "start_time": "2023-05-28T00:02:15.808Z"
   },
   {
    "duration": 63,
    "start_time": "2023-05-28T00:02:24.712Z"
   },
   {
    "duration": 10688,
    "start_time": "2023-05-28T00:02:50.081Z"
   },
   {
    "duration": 16,
    "start_time": "2023-05-28T00:03:15.560Z"
   },
   {
    "duration": 3406,
    "start_time": "2023-05-28T00:03:27.743Z"
   },
   {
    "duration": 0,
    "start_time": "2023-05-28T00:04:49.342Z"
   },
   {
    "duration": 10645,
    "start_time": "2023-05-28T00:05:29.601Z"
   },
   {
    "duration": 15,
    "start_time": "2023-05-28T00:05:58.920Z"
   },
   {
    "duration": 3,
    "start_time": "2023-05-28T00:06:14.820Z"
   },
   {
    "duration": 62,
    "start_time": "2023-05-28T00:06:15.401Z"
   },
   {
    "duration": 18420,
    "start_time": "2023-05-28T00:06:16.299Z"
   },
   {
    "duration": 17,
    "start_time": "2023-05-28T00:06:38.095Z"
   },
   {
    "duration": 4,
    "start_time": "2023-05-28T00:06:58.882Z"
   },
   {
    "duration": 77,
    "start_time": "2023-05-28T00:06:59.394Z"
   },
   {
    "duration": 21442,
    "start_time": "2023-05-28T00:07:00.010Z"
   },
   {
    "duration": 18,
    "start_time": "2023-05-28T00:07:27.860Z"
   },
   {
    "duration": 955,
    "start_time": "2023-05-28T00:07:32.295Z"
   },
   {
    "duration": 22385,
    "start_time": "2023-05-28T00:07:45.178Z"
   },
   {
    "duration": 18,
    "start_time": "2023-05-28T00:08:07.566Z"
   },
   {
    "duration": 1520,
    "start_time": "2023-05-28T00:08:07.585Z"
   },
   {
    "duration": 47,
    "start_time": "2023-05-28T05:12:46.859Z"
   },
   {
    "duration": 3,
    "start_time": "2023-05-28T05:12:51.120Z"
   },
   {
    "duration": 1979,
    "start_time": "2023-05-28T08:14:52.847Z"
   },
   {
    "duration": 3443,
    "start_time": "2023-05-28T08:14:54.829Z"
   },
   {
    "duration": 34,
    "start_time": "2023-05-28T08:14:58.274Z"
   },
   {
    "duration": 11,
    "start_time": "2023-05-28T08:14:58.309Z"
   },
   {
    "duration": 3,
    "start_time": "2023-05-28T08:14:58.322Z"
   },
   {
    "duration": 133,
    "start_time": "2023-05-28T08:15:23.291Z"
   },
   {
    "duration": 3587,
    "start_time": "2023-05-28T08:15:32.519Z"
   },
   {
    "duration": 727,
    "start_time": "2023-05-28T08:15:39.162Z"
   },
   {
    "duration": 225,
    "start_time": "2023-05-28T08:15:44.404Z"
   },
   {
    "duration": 2803744,
    "start_time": "2023-05-28T08:16:03.091Z"
   },
   {
    "duration": 0,
    "start_time": "2023-05-28T09:02:46.838Z"
   },
   {
    "duration": 0,
    "start_time": "2023-05-28T09:02:46.839Z"
   },
   {
    "duration": 0,
    "start_time": "2023-05-28T09:02:46.841Z"
   },
   {
    "duration": 0,
    "start_time": "2023-05-28T09:02:46.842Z"
   },
   {
    "duration": 0,
    "start_time": "2023-05-28T09:02:46.843Z"
   },
   {
    "duration": 0,
    "start_time": "2023-05-28T09:02:46.844Z"
   },
   {
    "duration": 2855113,
    "start_time": "2023-05-28T09:02:56.292Z"
   },
   {
    "duration": 74,
    "start_time": "2023-05-28T09:50:34.402Z"
   },
   {
    "duration": 205,
    "start_time": "2023-05-28T09:50:41.803Z"
   },
   {
    "duration": 102,
    "start_time": "2023-05-28T09:50:48.514Z"
   },
   {
    "duration": 77,
    "start_time": "2023-05-28T09:50:52.859Z"
   },
   {
    "duration": 9078,
    "start_time": "2023-05-28T09:50:57.458Z"
   },
   {
    "duration": 4,
    "start_time": "2023-05-28T09:51:06.538Z"
   },
   {
    "duration": 64,
    "start_time": "2023-05-28T09:51:06.545Z"
   },
   {
    "duration": 188512,
    "start_time": "2023-05-28T09:51:11.504Z"
   },
   {
    "duration": 59,
    "start_time": "2023-05-28T09:54:26.672Z"
   },
   {
    "duration": 343886,
    "start_time": "2023-05-28T09:54:32.464Z"
   },
   {
    "duration": 487,
    "start_time": "2023-05-28T10:00:16.352Z"
   },
   {
    "duration": 268442,
    "start_time": "2023-05-28T10:00:37.899Z"
   },
   {
    "duration": 66,
    "start_time": "2023-05-28T10:05:06.344Z"
   },
   {
    "duration": 294664,
    "start_time": "2023-05-28T10:05:34.125Z"
   },
   {
    "duration": 102,
    "start_time": "2023-05-28T10:10:28.797Z"
   },
   {
    "duration": 62169,
    "start_time": "2023-05-28T10:11:04.286Z"
   },
   {
    "duration": 311711,
    "start_time": "2023-05-28T10:15:44.532Z"
   },
   {
    "duration": 130,
    "start_time": "2023-05-28T10:20:56.245Z"
   },
   {
    "duration": 353410,
    "start_time": "2023-05-28T10:38:34.098Z"
   },
   {
    "duration": 83,
    "start_time": "2023-05-28T10:44:27.510Z"
   },
   {
    "duration": 60929,
    "start_time": "2023-05-28T10:44:27.595Z"
   },
   {
    "duration": 33,
    "start_time": "2023-05-28T10:49:57.574Z"
   },
   {
    "duration": 28,
    "start_time": "2023-05-28T10:50:03.212Z"
   },
   {
    "duration": 25,
    "start_time": "2023-05-28T10:50:29.509Z"
   },
   {
    "duration": 23,
    "start_time": "2023-05-28T10:50:39.096Z"
   },
   {
    "duration": 37,
    "start_time": "2023-05-28T10:50:46.122Z"
   },
   {
    "duration": 49,
    "start_time": "2023-05-28T10:51:11.053Z"
   },
   {
    "duration": 27,
    "start_time": "2023-05-28T10:51:44.824Z"
   },
   {
    "duration": 62,
    "start_time": "2023-05-28T10:52:35.960Z"
   },
   {
    "duration": 0,
    "start_time": "2023-05-28T10:53:58.826Z"
   },
   {
    "duration": 51385,
    "start_time": "2023-05-28T10:54:08.720Z"
   },
   {
    "duration": 57259,
    "start_time": "2023-05-28T10:55:25.035Z"
   },
   {
    "duration": 80,
    "start_time": "2023-05-28T10:56:22.300Z"
   },
   {
    "duration": 49788,
    "start_time": "2023-05-28T10:57:34.361Z"
   },
   {
    "duration": 2,
    "start_time": "2023-05-28T11:03:17.544Z"
   },
   {
    "duration": 391885,
    "start_time": "2023-05-28T11:07:06.607Z"
   },
   {
    "duration": 55,
    "start_time": "2023-05-28T11:13:38.495Z"
   },
   {
    "duration": 464343,
    "start_time": "2023-05-28T11:20:04.654Z"
   },
   {
    "duration": 51,
    "start_time": "2023-05-28T11:27:48.999Z"
   },
   {
    "duration": 284350,
    "start_time": "2023-05-28T11:28:12.342Z"
   },
   {
    "duration": 48,
    "start_time": "2023-05-28T11:32:56.695Z"
   },
   {
    "duration": 50765,
    "start_time": "2023-05-28T11:32:56.745Z"
   },
   {
    "duration": 20,
    "start_time": "2023-05-28T11:33:47.512Z"
   },
   {
    "duration": 49,
    "start_time": "2023-05-28T17:38:25.293Z"
   },
   {
    "duration": 2,
    "start_time": "2023-05-28T17:42:12.945Z"
   },
   {
    "duration": 82,
    "start_time": "2023-05-28T18:24:03.204Z"
   },
   {
    "duration": 2088,
    "start_time": "2023-05-28T18:24:14.361Z"
   },
   {
    "duration": 189793,
    "start_time": "2023-05-28T18:24:23.669Z"
   },
   {
    "duration": 902,
    "start_time": "2023-05-28T18:28:43.680Z"
   },
   {
    "duration": 29,
    "start_time": "2023-05-28T18:28:47.695Z"
   },
   {
    "duration": 9,
    "start_time": "2023-05-28T18:28:52.105Z"
   },
   {
    "duration": 3,
    "start_time": "2023-05-28T18:28:54.984Z"
   },
   {
    "duration": 9091,
    "start_time": "2023-05-28T18:29:14.097Z"
   },
   {
    "duration": 4603,
    "start_time": "2023-05-28T18:31:41.525Z"
   },
   {
    "duration": 894,
    "start_time": "2023-05-28T18:32:06.047Z"
   },
   {
    "duration": 47,
    "start_time": "2023-05-28T18:32:09.307Z"
   },
   {
    "duration": 11,
    "start_time": "2023-05-28T18:32:13.068Z"
   },
   {
    "duration": 8,
    "start_time": "2023-05-28T18:32:16.030Z"
   },
   {
    "duration": 622,
    "start_time": "2023-05-28T18:32:26.962Z"
   },
   {
    "duration": 515,
    "start_time": "2023-05-28T18:32:37.662Z"
   },
   {
    "duration": 46814,
    "start_time": "2023-05-28T18:37:00.769Z"
   },
   {
    "duration": 0,
    "start_time": "2023-05-28T18:37:47.585Z"
   },
   {
    "duration": 0,
    "start_time": "2023-05-28T18:37:47.587Z"
   },
   {
    "duration": 550,
    "start_time": "2023-05-28T18:38:35.246Z"
   },
   {
    "duration": 63,
    "start_time": "2023-05-28T18:38:38.616Z"
   },
   {
    "duration": 675,
    "start_time": "2023-05-28T18:38:57.293Z"
   },
   {
    "duration": 3241568,
    "start_time": "2023-05-28T18:39:00.692Z"
   },
   {
    "duration": 812,
    "start_time": "2023-05-28T19:33:10.316Z"
   },
   {
    "duration": 1113,
    "start_time": "2023-05-28T19:33:12.395Z"
   },
   {
    "duration": 2496880,
    "start_time": "2023-05-28T19:35:36.615Z"
   },
   {
    "duration": 80,
    "start_time": "2023-05-28T20:17:16.491Z"
   },
   {
    "duration": 154,
    "start_time": "2023-05-28T20:17:23.473Z"
   },
   {
    "duration": 95,
    "start_time": "2023-05-28T20:17:24.920Z"
   },
   {
    "duration": 85,
    "start_time": "2023-05-28T20:17:26.308Z"
   },
   {
    "duration": 7808,
    "start_time": "2023-05-28T20:17:27.780Z"
   },
   {
    "duration": 4,
    "start_time": "2023-05-28T20:17:35.591Z"
   },
   {
    "duration": 51,
    "start_time": "2023-05-28T20:17:35.596Z"
   },
   {
    "duration": 286402,
    "start_time": "2023-05-28T20:17:35.649Z"
   },
   {
    "duration": 45,
    "start_time": "2023-05-28T20:22:22.053Z"
   },
   {
    "duration": 297890,
    "start_time": "2023-05-28T20:22:22.100Z"
   },
   {
    "duration": 387,
    "start_time": "2023-05-28T20:27:19.992Z"
   },
   {
    "duration": 50369,
    "start_time": "2023-05-28T20:27:20.381Z"
   },
   {
    "duration": 18,
    "start_time": "2023-05-28T20:28:10.752Z"
   },
   {
    "duration": 2139359,
    "start_time": "2023-05-28T20:29:59.191Z"
   },
   {
    "duration": 17,
    "start_time": "2023-05-28T21:05:38.558Z"
   },
   {
    "duration": 49,
    "start_time": "2023-05-28T21:06:24.497Z"
   },
   {
    "duration": 291664,
    "start_time": "2023-05-28T21:06:25.192Z"
   },
   {
    "duration": 289280,
    "start_time": "2023-05-28T21:11:16.858Z"
   },
   {
    "duration": 49508,
    "start_time": "2023-05-28T21:16:06.139Z"
   },
   {
    "duration": 21,
    "start_time": "2023-05-28T21:16:55.649Z"
   },
   {
    "duration": 4779,
    "start_time": "2023-05-29T07:55:08.054Z"
   },
   {
    "duration": 3398,
    "start_time": "2023-05-29T07:55:12.835Z"
   },
   {
    "duration": 38,
    "start_time": "2023-05-29T07:55:16.234Z"
   },
   {
    "duration": 21,
    "start_time": "2023-05-29T07:55:16.274Z"
   },
   {
    "duration": 9,
    "start_time": "2023-05-29T07:55:16.296Z"
   },
   {
    "duration": 509,
    "start_time": "2023-05-29T07:57:12.274Z"
   },
   {
    "duration": 3,
    "start_time": "2023-05-29T07:57:12.801Z"
   },
   {
    "duration": 768594,
    "start_time": "2023-05-29T07:57:22.093Z"
   },
   {
    "duration": 35,
    "start_time": "2023-05-29T08:10:19.477Z"
   },
   {
    "duration": 35,
    "start_time": "2023-05-29T08:10:30.073Z"
   },
   {
    "duration": 26,
    "start_time": "2023-05-29T08:10:49.814Z"
   },
   {
    "duration": 4,
    "start_time": "2023-05-29T08:11:17.884Z"
   },
   {
    "duration": 42,
    "start_time": "2023-05-29T08:11:41.950Z"
   },
   {
    "duration": 9,
    "start_time": "2023-05-29T08:12:25.864Z"
   },
   {
    "duration": 30,
    "start_time": "2023-05-29T08:12:50.662Z"
   },
   {
    "duration": 4,
    "start_time": "2023-05-29T08:13:54.988Z"
   },
   {
    "duration": 894,
    "start_time": "2023-05-29T08:15:16.725Z"
   },
   {
    "duration": 1297131,
    "start_time": "2023-05-29T08:15:30.462Z"
   },
   {
    "duration": 93,
    "start_time": "2023-05-29T08:37:07.595Z"
   },
   {
    "duration": 211,
    "start_time": "2023-05-29T08:37:07.690Z"
   },
   {
    "duration": 186,
    "start_time": "2023-05-29T08:37:15.108Z"
   },
   {
    "duration": 130,
    "start_time": "2023-05-29T08:37:19.206Z"
   },
   {
    "duration": 72,
    "start_time": "2023-05-29T08:37:26.645Z"
   },
   {
    "duration": 6804,
    "start_time": "2023-05-29T08:37:27.717Z"
   },
   {
    "duration": 3,
    "start_time": "2023-05-29T08:37:42.041Z"
   },
   {
    "duration": 57,
    "start_time": "2023-05-29T08:37:44.221Z"
   },
   {
    "duration": 285689,
    "start_time": "2023-05-29T08:37:45.284Z"
   },
   {
    "duration": 59,
    "start_time": "2023-05-29T08:42:30.975Z"
   },
   {
    "duration": 310695,
    "start_time": "2023-05-29T08:42:31.036Z"
   },
   {
    "duration": 48561,
    "start_time": "2023-05-29T08:47:41.733Z"
   },
   {
    "duration": 20,
    "start_time": "2023-05-29T08:48:30.296Z"
   },
   {
    "duration": 22,
    "start_time": "2023-05-29T08:48:36.910Z"
   },
   {
    "duration": 240482,
    "start_time": "2023-05-29T08:48:57.621Z"
   },
   {
    "duration": 84,
    "start_time": "2023-05-29T09:05:56.702Z"
   },
   {
    "duration": 79,
    "start_time": "2023-05-29T09:06:26.684Z"
   },
   {
    "duration": 22,
    "start_time": "2023-05-29T09:07:58.654Z"
   },
   {
    "duration": 208,
    "start_time": "2023-05-29T09:07:58.702Z"
   },
   {
    "duration": 22,
    "start_time": "2023-05-29T09:08:04.906Z"
   },
   {
    "duration": 24,
    "start_time": "2023-05-29T09:09:27.878Z"
   },
   {
    "duration": 5038,
    "start_time": "2023-05-29T09:38:03.441Z"
   },
   {
    "duration": 836,
    "start_time": "2023-05-29T09:38:08.481Z"
   },
   {
    "duration": 43,
    "start_time": "2023-05-29T09:38:09.319Z"
   },
   {
    "duration": 11,
    "start_time": "2023-05-29T09:38:09.364Z"
   },
   {
    "duration": 8,
    "start_time": "2023-05-29T09:38:09.377Z"
   },
   {
    "duration": 520,
    "start_time": "2023-05-29T09:38:09.387Z"
   },
   {
    "duration": 716,
    "start_time": "2023-05-29T09:38:09.909Z"
   },
   {
    "duration": 4,
    "start_time": "2023-05-29T09:38:10.627Z"
   },
   {
    "duration": 38,
    "start_time": "2023-05-29T09:38:10.632Z"
   },
   {
    "duration": 1437156,
    "start_time": "2023-05-29T09:38:10.673Z"
   },
   {
    "duration": 2,
    "start_time": "2023-05-29T10:02:07.831Z"
   },
   {
    "duration": 390,
    "start_time": "2023-05-29T10:02:07.834Z"
   },
   {
    "duration": 0,
    "start_time": "2023-05-29T10:02:08.226Z"
   },
   {
    "duration": 0,
    "start_time": "2023-05-29T10:02:08.228Z"
   },
   {
    "duration": 0,
    "start_time": "2023-05-29T10:02:08.229Z"
   },
   {
    "duration": 0,
    "start_time": "2023-05-29T10:02:08.230Z"
   },
   {
    "duration": 0,
    "start_time": "2023-05-29T10:02:08.231Z"
   },
   {
    "duration": 0,
    "start_time": "2023-05-29T10:02:08.232Z"
   },
   {
    "duration": 0,
    "start_time": "2023-05-29T10:02:08.234Z"
   },
   {
    "duration": 0,
    "start_time": "2023-05-29T10:02:08.259Z"
   },
   {
    "duration": 0,
    "start_time": "2023-05-29T10:02:08.260Z"
   },
   {
    "duration": 0,
    "start_time": "2023-05-29T10:02:08.261Z"
   },
   {
    "duration": 0,
    "start_time": "2023-05-29T10:02:08.262Z"
   },
   {
    "duration": 0,
    "start_time": "2023-05-29T10:02:08.262Z"
   },
   {
    "duration": 0,
    "start_time": "2023-05-29T10:02:08.266Z"
   },
   {
    "duration": 0,
    "start_time": "2023-05-29T10:02:08.268Z"
   },
   {
    "duration": 186,
    "start_time": "2023-05-29T10:34:46.380Z"
   },
   {
    "duration": 4,
    "start_time": "2023-05-29T10:34:48.236Z"
   },
   {
    "duration": 77,
    "start_time": "2023-05-29T10:34:48.693Z"
   },
   {
    "duration": 6612,
    "start_time": "2023-05-29T10:34:49.781Z"
   },
   {
    "duration": 4,
    "start_time": "2023-05-29T10:34:56.396Z"
   },
   {
    "duration": 31,
    "start_time": "2023-05-29T10:35:07.262Z"
   },
   {
    "duration": 152827,
    "start_time": "2023-05-29T10:35:07.862Z"
   },
   {
    "duration": 61,
    "start_time": "2023-05-29T10:38:18.507Z"
   },
   {
    "duration": 5937,
    "start_time": "2023-05-29T10:38:20.050Z"
   },
   {
    "duration": 2204433,
    "start_time": "2023-05-29T10:38:25.989Z"
   },
   {
    "duration": 0,
    "start_time": "2023-05-29T11:15:10.427Z"
   },
   {
    "duration": 0,
    "start_time": "2023-05-29T11:15:10.428Z"
   },
   {
    "duration": 0,
    "start_time": "2023-05-29T11:15:10.429Z"
   },
   {
    "duration": 25370,
    "start_time": "2023-05-29T11:15:14.922Z"
   },
   {
    "duration": 19,
    "start_time": "2023-05-29T11:15:40.294Z"
   },
   {
    "duration": 13001,
    "start_time": "2023-05-29T11:16:19.137Z"
   },
   {
    "duration": 2,
    "start_time": "2023-05-29T12:20:26.177Z"
   },
   {
    "duration": 1188,
    "start_time": "2023-05-29T12:20:29.921Z"
   }
  ],
  "kernelspec": {
   "display_name": "Python 3 (ipykernel)",
   "language": "python",
   "name": "python3"
  },
  "language_info": {
   "codemirror_mode": {
    "name": "ipython",
    "version": 3
   },
   "file_extension": ".py",
   "mimetype": "text/x-python",
   "name": "python",
   "nbconvert_exporter": "python",
   "pygments_lexer": "ipython3",
   "version": "3.10.9"
  },
  "toc": {
   "base_numbering": 1,
   "nav_menu": {},
   "number_sections": true,
   "sideBar": true,
   "skip_h1_title": true,
   "title_cell": "Содержание",
   "title_sidebar": "Contents",
   "toc_cell": true,
   "toc_position": {
    "height": "calc(100% - 180px)",
    "left": "10px",
    "top": "150px",
    "width": "302.391px"
   },
   "toc_section_display": true,
   "toc_window_display": false
  }
 },
 "nbformat": 4,
 "nbformat_minor": 2
}
